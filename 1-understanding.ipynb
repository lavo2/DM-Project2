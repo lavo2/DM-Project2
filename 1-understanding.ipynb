{
 "cells": [
  {
   "cell_type": "markdown",
   "metadata": {},
   "source": [
    "Data Understaninbg"
   ]
  },
  {
   "cell_type": "markdown",
   "metadata": {},
   "source": [
    "# Dataset Loading"
   ]
  },
  {
   "cell_type": "code",
   "execution_count": 86,
   "metadata": {},
   "outputs": [],
   "source": [
    "import pandas as pd\n",
    "crashes = pd.read_csv('dataset/crashes.csv', low_memory=False)\n",
    "people = pd.read_csv('dataset/people.csv', low_memory=False)\n",
    "vehicles = pd.read_csv('dataset/vehicles.csv', low_memory=False)"
   ]
  },
  {
   "cell_type": "markdown",
   "metadata": {},
   "source": [
    "# Dataset Analisys"
   ]
  },
  {
   "cell_type": "markdown",
   "metadata": {},
   "source": [
    "first of all we want analyse the dataset columns, fix the types and keep only the relevant one."
   ]
  },
  {
   "cell_type": "code",
   "execution_count": 87,
   "metadata": {},
   "outputs": [
    {
     "name": "stdout",
     "output_type": "stream",
     "text": [
      "<class 'pandas.core.frame.DataFrame'>\n",
      "RangeIndex: 912164 entries, 0 to 912163\n",
      "Data columns (total 48 columns):\n",
      " #   Column                         Non-Null Count   Dtype  \n",
      "---  ------                         --------------   -----  \n",
      " 0   CRASH_RECORD_ID                912164 non-null  object \n",
      " 1   CRASH_DATE_EST_I               67271 non-null   object \n",
      " 2   CRASH_DATE                     912164 non-null  object \n",
      " 3   POSTED_SPEED_LIMIT             912164 non-null  int64  \n",
      " 4   TRAFFIC_CONTROL_DEVICE         912164 non-null  object \n",
      " 5   DEVICE_CONDITION               912164 non-null  object \n",
      " 6   WEATHER_CONDITION              912164 non-null  object \n",
      " 7   LIGHTING_CONDITION             912164 non-null  object \n",
      " 8   FIRST_CRASH_TYPE               912164 non-null  object \n",
      " 9   TRAFFICWAY_TYPE                912164 non-null  object \n",
      " 10  LANE_CNT                       199023 non-null  float64\n",
      " 11  ALIGNMENT                      912164 non-null  object \n",
      " 12  ROADWAY_SURFACE_COND           912164 non-null  object \n",
      " 13  ROAD_DEFECT                    912164 non-null  object \n",
      " 14  REPORT_TYPE                    883567 non-null  object \n",
      " 15  CRASH_TYPE                     912164 non-null  object \n",
      " 16  INTERSECTION_RELATED_I         209688 non-null  object \n",
      " 17  NOT_RIGHT_OF_WAY_I             41472 non-null   object \n",
      " 18  HIT_AND_RUN_I                  286050 non-null  object \n",
      " 19  DAMAGE                         912164 non-null  object \n",
      " 20  DATE_POLICE_NOTIFIED           912164 non-null  object \n",
      " 21  PRIM_CONTRIBUTORY_CAUSE        912164 non-null  object \n",
      " 22  SEC_CONTRIBUTORY_CAUSE         912164 non-null  object \n",
      " 23  STREET_NO                      912164 non-null  int64  \n",
      " 24  STREET_DIRECTION               912160 non-null  object \n",
      " 25  STREET_NAME                    912163 non-null  object \n",
      " 26  BEAT_OF_OCCURRENCE             912159 non-null  float64\n",
      " 27  PHOTOS_TAKEN_I                 12532 non-null   object \n",
      " 28  STATEMENTS_TAKEN_I             21119 non-null   object \n",
      " 29  DOORING_I                      2870 non-null    object \n",
      " 30  WORK_ZONE_I                    5060 non-null    object \n",
      " 31  WORK_ZONE_TYPE                 3902 non-null    object \n",
      " 32  WORKERS_PRESENT_I              1302 non-null    object \n",
      " 33  NUM_UNITS                      912164 non-null  int64  \n",
      " 34  MOST_SEVERE_INJURY             910154 non-null  object \n",
      " 35  INJURIES_TOTAL                 910168 non-null  float64\n",
      " 36  INJURIES_FATAL                 910168 non-null  float64\n",
      " 37  INJURIES_INCAPACITATING        910168 non-null  float64\n",
      " 38  INJURIES_NON_INCAPACITATING    910168 non-null  float64\n",
      " 39  INJURIES_REPORTED_NOT_EVIDENT  910168 non-null  float64\n",
      " 40  INJURIES_NO_INDICATION         910168 non-null  float64\n",
      " 41  INJURIES_UNKNOWN               910168 non-null  float64\n",
      " 42  CRASH_HOUR                     912164 non-null  int64  \n",
      " 43  CRASH_DAY_OF_WEEK              912164 non-null  int64  \n",
      " 44  CRASH_MONTH                    912164 non-null  int64  \n",
      " 45  LATITUDE                       905503 non-null  float64\n",
      " 46  LONGITUDE                      905503 non-null  float64\n",
      " 47  LOCATION                       905503 non-null  object \n",
      "dtypes: float64(11), int64(6), object(31)\n",
      "memory usage: 334.0+ MB\n"
     ]
    }
   ],
   "source": [
    "crashes.info()"
   ]
  },
  {
   "cell_type": "markdown",
   "metadata": {},
   "source": [
    "| **Column Name**               | **Type**           | **Description**                                                                                                                                   |\n",
    "|-------------------------------|---------------------|---------------------------------------------------------------------------------------------------------------------------------------------------|\n",
    "| CRASH_RECORD_ID               | String             | Unique identifier for the crash in the Crash dataset.                                                                                             |\n",
    "| RD_NO                         | String             | Chicago Police Department Records Division Number (may be blank if no corresponding record).                                                      |\n",
    "| CRASH_DATE                    | DateTime           | Date and time (MM/DD/YYYY HH:MM:SS) when the crash occurred.                                                                                      |\n",
    "| POSTED_SPEED_LIMIT            | Integer            | The posted speed limit where the crash occurred.                                                                                                  |\n",
    "| TRAFFIC_CONTROL_DEVICE        | String             | Type of traffic control device present (e.g., signal, stop sign, etc.).                                                                           |\n",
    "| DEVICE_CONDITION              | String             | Condition of the traffic control device (e.g., functioning, malfunctioning).                                                                      |\n",
    "| WEATHER_CONDITION             | String             | Weather conditions at the time of the crash (e.g., clear, rain, snow).                                                                            |\n",
    "| LIGHTING_CONDITION            | String             | Lighting condition at the time (e.g., daylight, dark, dusk).                                                                                      |\n",
    "| FIRST_CRASH_TYPE              | String             | The first harmful event or action in the crash (e.g., rear-end, sideswipe).                                                                       |\n",
    "| TRAFFICWAY_TYPE               | String             | Type of trafficway (e.g., one-way, two-way).                                                                                                      |\n",
    "| LANE_CNT                      | Integer/Float      | Number of lanes on the roadway.                                                                                                                   |\n",
    "| ALIGNMENT                     | String             | Alignment of the roadway (e.g., straight, curved).                                                                                                |\n",
    "| ROADWAY_SURFACE_COND          | String             | Roadway surface condition (e.g., dry, wet, icy).                                                                                                 |\n",
    "| ROAD_DEFECT                   | String             | Presence of any road defects (e.g., potholes).                                                                                                    |\n",
    "| REPORT_TYPE                   | String             | Type of police report filed (e.g., On Site, Supplement).                                                                                         |\n",
    "| CRASH_TYPE                    | String             | High-level category (e.g., pedestrian crash, bicycle crash, other).                                                                               |\n",
    "| INTERSECTION_RELATED_I        | String (Y/N)       | Indicates if the crash was intersection-related (Y/N).                                                                                            |\n",
    "| NOT_RIGHT_OF_WAY              | String (Y/N)       | Indicates if the crash involved failure to yield right-of-way.                                                                                    |\n",
    "| HIT_AND_RUN_I                 | String (Y/N)       | Indicates if the crash was a hit-and-run (Y/N).                                                                                                   |\n",
    "| DAMAGE                        | String             | Estimated extent of damage (e.g., over $1,500).                                                                                                   |\n",
    "| DATE_POLICE_NOTIFIED          | DateTime           | Date and time (MM/DD/YYYY HH:MM:SS) when the police were notified.                                                                                |\n",
    "| PRIM_CONTRIBUTORY_CAUSE       | String             | Primary cause of the crash as determined by the report (e.g., speeding).                                                                          |\n",
    "| SEC_CONTRIBUTORY_CAUSE        | String             | Secondary cause contributing to the crash.                                                                                                        |\n",
    "| STREET_NO                     | Integer            | Street number where the crash occurred.                                                                                                           |\n",
    "| STREET_DIRECTION              | String             | Street directional (N, S, E, W).                                                                                                                  |\n",
    "| STREET_NAME                   | String             | Street name where the crash occurred.                                                                                                             |\n",
    "| BEAT_OF_OCCURRENCE            | Integer            | Police district beat number where the crash occurred.                                                                                             |\n",
    "| PHOTOS_TAKEN_I                | String (Y/N)       | Indicates if photos were taken at the scene (Y/N).                                                                                                |\n",
    "| STATEMENTS_TAKEN_I            | String (Y/N)       | Indicates if statements were taken (Y/N).                                                                                                         |\n",
    "| DOORING_I                     | String (Y/N)       | Indicates if a bicyclist was “doored” by a vehicle occupant (Y/N).                                                                                 |\n",
    "| WORK_ZONE_I                   | String (Y/N)       | Indicates if the crash occurred in a work zone (Y/N).                                                                                             |\n",
    "| WORK_ZONE_TYPE                | String             | Type of work zone (if applicable).                                                                                                                |\n",
    "| WORKERS_PRESENT_I             | String (Y/N)       | Indicates if workers were present in the work zone (Y/N).                                                                                         |\n",
    "| NUM_UNITS                     | Integer            | Number of vehicles and/or pedestrians involved in the crash.                                                                                      |\n",
    "| MOST_SEVERE_INJURY            | String             | Most severe injury reported (e.g., Fatal, Serious, etc.).                                                                                        |\n",
    "| INJURIES_TOTAL                | Integer            | Total number of reported injuries in the crash.                                                                                                   |\n",
    "| INJURIES_FATAL                | Integer            | Number of fatal injuries.                                                                                                                         |\n",
    "| INJURIES_INCAPACITATING       | Integer            | Number of incapacitating injuries.                                                                                                                |\n",
    "| INJURIES_NON_INCAPACITATING   | Integer            | Number of non-incapacitating injuries.                                                                                                            |\n",
    "| INJURIES_REPORTED_NOT_EVIDENT | Integer            | Number of reported injuries that were not evident.                                                                                                |\n",
    "| INJURIES_NO_INDICATION        | Integer            | Number of individuals with no indication of injury.                                                                                              |\n",
    "| INJURIES_UNKNOWN              | Integer            | Number of individuals with unknown injury status.                                                                                                 |\n",
    "| CRASH_HOUR                    | Integer            | Hour of the day (0–23) when the crash occurred.                                                                                                   |\n",
    "| CRASH_DAY_OF_WEEK             | Integer            | Day of the week (1=Sunday, 7=Saturday) when the crash occurred.                                                                                   |\n",
    "| CRASH_MONTH                   | Integer            | Month (1–12) when the crash occurred.                                                                                                             |\n",
    "| LATITUDE                      | Float              | Latitude of the crash location.                                                                                                                   |\n",
    "| LONGITUDE                     | Float              | Longitude of the crash location.                                                                                                                  |\n",
    "| LOCATION                      | Geolocation (Point) | Combined latitude/longitude location point.                                                                                                        |\n"
   ]
  },
  {
   "cell_type": "code",
   "execution_count": 88,
   "metadata": {},
   "outputs": [],
   "source": [
    "# casting dates\n",
    "crashes['DATE_POLICE_NOTIFIED'] = pd.to_datetime(crashes['DATE_POLICE_NOTIFIED'])\n",
    "crashes['CRASH_DATE'] = pd.to_datetime(crashes['CRASH_DATE'])\n",
    "# casting Y/N to boolean\n",
    "yn_cols = [\n",
    "    \"CRASH_DATE_EST_I\",        # \"Y\" if date is estimated, else NaN\n",
    "    \"INTERSECTION_RELATED_I\",  # \"Y\" or \"N\"\n",
    "    \"NOT_RIGHT_OF_WAY_I\",\n",
    "    \"HIT_AND_RUN_I\",\n",
    "    \"DOORING_I\",\n",
    "    \"WORK_ZONE_I\",\n",
    "    \"WORKERS_PRESENT_I\"\n",
    "]\n",
    "for col in yn_cols:\n",
    "    # Map \"Y\" -> True, \"N\" -> False, anything else (NaN included) stays NaN\n",
    "    crashes[col] = crashes[col].map({\"Y\": True, \"N\": False})"
   ]
  },
  {
   "cell_type": "code",
   "execution_count": 89,
   "metadata": {},
   "outputs": [],
   "source": [
    "pd.set_option('display.max_columns', None)"
   ]
  },
  {
   "cell_type": "code",
   "execution_count": 90,
   "metadata": {},
   "outputs": [
    {
     "data": {
      "text/html": [
       "<div>\n",
       "<style scoped>\n",
       "    .dataframe tbody tr th:only-of-type {\n",
       "        vertical-align: middle;\n",
       "    }\n",
       "\n",
       "    .dataframe tbody tr th {\n",
       "        vertical-align: top;\n",
       "    }\n",
       "\n",
       "    .dataframe thead th {\n",
       "        text-align: right;\n",
       "    }\n",
       "</style>\n",
       "<table border=\"1\" class=\"dataframe\">\n",
       "  <thead>\n",
       "    <tr style=\"text-align: right;\">\n",
       "      <th></th>\n",
       "      <th>CRASH_RECORD_ID</th>\n",
       "      <th>CRASH_DATE_EST_I</th>\n",
       "      <th>CRASH_DATE</th>\n",
       "      <th>POSTED_SPEED_LIMIT</th>\n",
       "      <th>TRAFFIC_CONTROL_DEVICE</th>\n",
       "      <th>DEVICE_CONDITION</th>\n",
       "      <th>WEATHER_CONDITION</th>\n",
       "      <th>LIGHTING_CONDITION</th>\n",
       "      <th>FIRST_CRASH_TYPE</th>\n",
       "      <th>TRAFFICWAY_TYPE</th>\n",
       "      <th>LANE_CNT</th>\n",
       "      <th>ALIGNMENT</th>\n",
       "      <th>ROADWAY_SURFACE_COND</th>\n",
       "      <th>ROAD_DEFECT</th>\n",
       "      <th>REPORT_TYPE</th>\n",
       "      <th>CRASH_TYPE</th>\n",
       "      <th>INTERSECTION_RELATED_I</th>\n",
       "      <th>NOT_RIGHT_OF_WAY_I</th>\n",
       "      <th>HIT_AND_RUN_I</th>\n",
       "      <th>DAMAGE</th>\n",
       "      <th>DATE_POLICE_NOTIFIED</th>\n",
       "      <th>PRIM_CONTRIBUTORY_CAUSE</th>\n",
       "      <th>SEC_CONTRIBUTORY_CAUSE</th>\n",
       "      <th>STREET_NO</th>\n",
       "      <th>STREET_DIRECTION</th>\n",
       "      <th>STREET_NAME</th>\n",
       "      <th>BEAT_OF_OCCURRENCE</th>\n",
       "      <th>PHOTOS_TAKEN_I</th>\n",
       "      <th>STATEMENTS_TAKEN_I</th>\n",
       "      <th>DOORING_I</th>\n",
       "      <th>WORK_ZONE_I</th>\n",
       "      <th>WORK_ZONE_TYPE</th>\n",
       "      <th>WORKERS_PRESENT_I</th>\n",
       "      <th>NUM_UNITS</th>\n",
       "      <th>MOST_SEVERE_INJURY</th>\n",
       "      <th>INJURIES_TOTAL</th>\n",
       "      <th>INJURIES_FATAL</th>\n",
       "      <th>INJURIES_INCAPACITATING</th>\n",
       "      <th>INJURIES_NON_INCAPACITATING</th>\n",
       "      <th>INJURIES_REPORTED_NOT_EVIDENT</th>\n",
       "      <th>INJURIES_NO_INDICATION</th>\n",
       "      <th>INJURIES_UNKNOWN</th>\n",
       "      <th>CRASH_HOUR</th>\n",
       "      <th>CRASH_DAY_OF_WEEK</th>\n",
       "      <th>CRASH_MONTH</th>\n",
       "      <th>LATITUDE</th>\n",
       "      <th>LONGITUDE</th>\n",
       "      <th>LOCATION</th>\n",
       "    </tr>\n",
       "  </thead>\n",
       "  <tbody>\n",
       "    <tr>\n",
       "      <th>0</th>\n",
       "      <td>6c1659069e9c6285a650e70d6f9b574ed5f64c12888479...</td>\n",
       "      <td>NaN</td>\n",
       "      <td>2023-08-18 12:50:00</td>\n",
       "      <td>15</td>\n",
       "      <td>OTHER</td>\n",
       "      <td>FUNCTIONING PROPERLY</td>\n",
       "      <td>CLEAR</td>\n",
       "      <td>DAYLIGHT</td>\n",
       "      <td>REAR END</td>\n",
       "      <td>OTHER</td>\n",
       "      <td>NaN</td>\n",
       "      <td>STRAIGHT AND LEVEL</td>\n",
       "      <td>DRY</td>\n",
       "      <td>NO DEFECTS</td>\n",
       "      <td>ON SCENE</td>\n",
       "      <td>INJURY AND / OR TOW DUE TO CRASH</td>\n",
       "      <td>NaN</td>\n",
       "      <td>NaN</td>\n",
       "      <td>NaN</td>\n",
       "      <td>OVER $1,500</td>\n",
       "      <td>2023-08-18 12:55:00</td>\n",
       "      <td>FOLLOWING TOO CLOSELY</td>\n",
       "      <td>DISTRACTION - FROM INSIDE VEHICLE</td>\n",
       "      <td>700</td>\n",
       "      <td>W</td>\n",
       "      <td>OHARE ST</td>\n",
       "      <td>1654.0</td>\n",
       "      <td>NaN</td>\n",
       "      <td>NaN</td>\n",
       "      <td>NaN</td>\n",
       "      <td>NaN</td>\n",
       "      <td>NaN</td>\n",
       "      <td>NaN</td>\n",
       "      <td>2</td>\n",
       "      <td>NONINCAPACITATING INJURY</td>\n",
       "      <td>1.0</td>\n",
       "      <td>0.0</td>\n",
       "      <td>0.0</td>\n",
       "      <td>1.0</td>\n",
       "      <td>0.0</td>\n",
       "      <td>1.0</td>\n",
       "      <td>0.0</td>\n",
       "      <td>12</td>\n",
       "      <td>6</td>\n",
       "      <td>8</td>\n",
       "      <td>NaN</td>\n",
       "      <td>NaN</td>\n",
       "      <td>NaN</td>\n",
       "    </tr>\n",
       "    <tr>\n",
       "      <th>1</th>\n",
       "      <td>5f54a59fcb087b12ae5b1acff96a3caf4f2d37e79f8db4...</td>\n",
       "      <td>NaN</td>\n",
       "      <td>2023-07-29 14:45:00</td>\n",
       "      <td>30</td>\n",
       "      <td>TRAFFIC SIGNAL</td>\n",
       "      <td>FUNCTIONING PROPERLY</td>\n",
       "      <td>CLEAR</td>\n",
       "      <td>DAYLIGHT</td>\n",
       "      <td>PARKED MOTOR VEHICLE</td>\n",
       "      <td>DIVIDED - W/MEDIAN (NOT RAISED)</td>\n",
       "      <td>NaN</td>\n",
       "      <td>STRAIGHT AND LEVEL</td>\n",
       "      <td>DRY</td>\n",
       "      <td>NO DEFECTS</td>\n",
       "      <td>ON SCENE</td>\n",
       "      <td>NO INJURY / DRIVE AWAY</td>\n",
       "      <td>NaN</td>\n",
       "      <td>NaN</td>\n",
       "      <td>True</td>\n",
       "      <td>OVER $1,500</td>\n",
       "      <td>2023-07-29 14:45:00</td>\n",
       "      <td>FAILING TO REDUCE SPEED TO AVOID CRASH</td>\n",
       "      <td>OPERATING VEHICLE IN ERRATIC, RECKLESS, CARELE...</td>\n",
       "      <td>2101</td>\n",
       "      <td>S</td>\n",
       "      <td>ASHLAND AVE</td>\n",
       "      <td>1235.0</td>\n",
       "      <td>NaN</td>\n",
       "      <td>NaN</td>\n",
       "      <td>NaN</td>\n",
       "      <td>NaN</td>\n",
       "      <td>NaN</td>\n",
       "      <td>NaN</td>\n",
       "      <td>4</td>\n",
       "      <td>NO INDICATION OF INJURY</td>\n",
       "      <td>0.0</td>\n",
       "      <td>0.0</td>\n",
       "      <td>0.0</td>\n",
       "      <td>0.0</td>\n",
       "      <td>0.0</td>\n",
       "      <td>1.0</td>\n",
       "      <td>0.0</td>\n",
       "      <td>14</td>\n",
       "      <td>7</td>\n",
       "      <td>7</td>\n",
       "      <td>41.854120</td>\n",
       "      <td>-87.665902</td>\n",
       "      <td>POINT (-87.665902342962 41.854120262952)</td>\n",
       "    </tr>\n",
       "    <tr>\n",
       "      <th>2</th>\n",
       "      <td>61fcb8c1eb522a6469b460e2134df3d15f82e81fd93e9c...</td>\n",
       "      <td>NaN</td>\n",
       "      <td>2023-08-18 17:58:00</td>\n",
       "      <td>30</td>\n",
       "      <td>NO CONTROLS</td>\n",
       "      <td>NO CONTROLS</td>\n",
       "      <td>CLEAR</td>\n",
       "      <td>DAYLIGHT</td>\n",
       "      <td>PEDALCYCLIST</td>\n",
       "      <td>NOT DIVIDED</td>\n",
       "      <td>NaN</td>\n",
       "      <td>STRAIGHT AND LEVEL</td>\n",
       "      <td>DRY</td>\n",
       "      <td>NO DEFECTS</td>\n",
       "      <td>ON SCENE</td>\n",
       "      <td>INJURY AND / OR TOW DUE TO CRASH</td>\n",
       "      <td>NaN</td>\n",
       "      <td>NaN</td>\n",
       "      <td>NaN</td>\n",
       "      <td>$501 - $1,500</td>\n",
       "      <td>2023-08-18 18:01:00</td>\n",
       "      <td>FAILING TO REDUCE SPEED TO AVOID CRASH</td>\n",
       "      <td>UNABLE TO DETERMINE</td>\n",
       "      <td>3422</td>\n",
       "      <td>N</td>\n",
       "      <td>LONG AVE</td>\n",
       "      <td>1633.0</td>\n",
       "      <td>NaN</td>\n",
       "      <td>NaN</td>\n",
       "      <td>NaN</td>\n",
       "      <td>NaN</td>\n",
       "      <td>NaN</td>\n",
       "      <td>NaN</td>\n",
       "      <td>2</td>\n",
       "      <td>NONINCAPACITATING INJURY</td>\n",
       "      <td>1.0</td>\n",
       "      <td>0.0</td>\n",
       "      <td>0.0</td>\n",
       "      <td>1.0</td>\n",
       "      <td>0.0</td>\n",
       "      <td>1.0</td>\n",
       "      <td>0.0</td>\n",
       "      <td>17</td>\n",
       "      <td>6</td>\n",
       "      <td>8</td>\n",
       "      <td>41.942976</td>\n",
       "      <td>-87.761883</td>\n",
       "      <td>POINT (-87.761883496974 41.942975745006)</td>\n",
       "    </tr>\n",
       "    <tr>\n",
       "      <th>3</th>\n",
       "      <td>004cd14d0303a9163aad69a2d7f341b7da2a8572b2ab33...</td>\n",
       "      <td>NaN</td>\n",
       "      <td>2019-11-26 08:38:00</td>\n",
       "      <td>25</td>\n",
       "      <td>NO CONTROLS</td>\n",
       "      <td>NO CONTROLS</td>\n",
       "      <td>CLEAR</td>\n",
       "      <td>DAYLIGHT</td>\n",
       "      <td>PEDESTRIAN</td>\n",
       "      <td>ONE-WAY</td>\n",
       "      <td>NaN</td>\n",
       "      <td>CURVE ON GRADE</td>\n",
       "      <td>DRY</td>\n",
       "      <td>NO DEFECTS</td>\n",
       "      <td>ON SCENE</td>\n",
       "      <td>INJURY AND / OR TOW DUE TO CRASH</td>\n",
       "      <td>NaN</td>\n",
       "      <td>NaN</td>\n",
       "      <td>NaN</td>\n",
       "      <td>OVER $1,500</td>\n",
       "      <td>2019-11-26 08:38:00</td>\n",
       "      <td>UNABLE TO DETERMINE</td>\n",
       "      <td>NOT APPLICABLE</td>\n",
       "      <td>5</td>\n",
       "      <td>W</td>\n",
       "      <td>TERMINAL ST</td>\n",
       "      <td>1655.0</td>\n",
       "      <td>Y</td>\n",
       "      <td>Y</td>\n",
       "      <td>NaN</td>\n",
       "      <td>NaN</td>\n",
       "      <td>NaN</td>\n",
       "      <td>NaN</td>\n",
       "      <td>2</td>\n",
       "      <td>FATAL</td>\n",
       "      <td>1.0</td>\n",
       "      <td>1.0</td>\n",
       "      <td>0.0</td>\n",
       "      <td>0.0</td>\n",
       "      <td>0.0</td>\n",
       "      <td>1.0</td>\n",
       "      <td>0.0</td>\n",
       "      <td>8</td>\n",
       "      <td>3</td>\n",
       "      <td>11</td>\n",
       "      <td>NaN</td>\n",
       "      <td>NaN</td>\n",
       "      <td>NaN</td>\n",
       "    </tr>\n",
       "    <tr>\n",
       "      <th>4</th>\n",
       "      <td>a1d5f0ea90897745365a4cbb06cc60329a120d89753fac...</td>\n",
       "      <td>NaN</td>\n",
       "      <td>2023-08-18 10:45:00</td>\n",
       "      <td>20</td>\n",
       "      <td>NO CONTROLS</td>\n",
       "      <td>NO CONTROLS</td>\n",
       "      <td>CLEAR</td>\n",
       "      <td>DAYLIGHT</td>\n",
       "      <td>FIXED OBJECT</td>\n",
       "      <td>OTHER</td>\n",
       "      <td>NaN</td>\n",
       "      <td>STRAIGHT AND LEVEL</td>\n",
       "      <td>DRY</td>\n",
       "      <td>NO DEFECTS</td>\n",
       "      <td>ON SCENE</td>\n",
       "      <td>NO INJURY / DRIVE AWAY</td>\n",
       "      <td>NaN</td>\n",
       "      <td>NaN</td>\n",
       "      <td>NaN</td>\n",
       "      <td>OVER $1,500</td>\n",
       "      <td>2023-08-18 10:48:00</td>\n",
       "      <td>FOLLOWING TOO CLOSELY</td>\n",
       "      <td>DRIVING SKILLS/KNOWLEDGE/EXPERIENCE</td>\n",
       "      <td>3</td>\n",
       "      <td>W</td>\n",
       "      <td>TERMINAL ST</td>\n",
       "      <td>1653.0</td>\n",
       "      <td>NaN</td>\n",
       "      <td>NaN</td>\n",
       "      <td>NaN</td>\n",
       "      <td>NaN</td>\n",
       "      <td>NaN</td>\n",
       "      <td>NaN</td>\n",
       "      <td>1</td>\n",
       "      <td>NO INDICATION OF INJURY</td>\n",
       "      <td>0.0</td>\n",
       "      <td>0.0</td>\n",
       "      <td>0.0</td>\n",
       "      <td>0.0</td>\n",
       "      <td>0.0</td>\n",
       "      <td>1.0</td>\n",
       "      <td>0.0</td>\n",
       "      <td>10</td>\n",
       "      <td>6</td>\n",
       "      <td>8</td>\n",
       "      <td>NaN</td>\n",
       "      <td>NaN</td>\n",
       "      <td>NaN</td>\n",
       "    </tr>\n",
       "  </tbody>\n",
       "</table>\n",
       "</div>"
      ],
      "text/plain": [
       "                                     CRASH_RECORD_ID CRASH_DATE_EST_I  \\\n",
       "0  6c1659069e9c6285a650e70d6f9b574ed5f64c12888479...              NaN   \n",
       "1  5f54a59fcb087b12ae5b1acff96a3caf4f2d37e79f8db4...              NaN   \n",
       "2  61fcb8c1eb522a6469b460e2134df3d15f82e81fd93e9c...              NaN   \n",
       "3  004cd14d0303a9163aad69a2d7f341b7da2a8572b2ab33...              NaN   \n",
       "4  a1d5f0ea90897745365a4cbb06cc60329a120d89753fac...              NaN   \n",
       "\n",
       "           CRASH_DATE  POSTED_SPEED_LIMIT TRAFFIC_CONTROL_DEVICE  \\\n",
       "0 2023-08-18 12:50:00                  15                  OTHER   \n",
       "1 2023-07-29 14:45:00                  30         TRAFFIC SIGNAL   \n",
       "2 2023-08-18 17:58:00                  30            NO CONTROLS   \n",
       "3 2019-11-26 08:38:00                  25            NO CONTROLS   \n",
       "4 2023-08-18 10:45:00                  20            NO CONTROLS   \n",
       "\n",
       "       DEVICE_CONDITION WEATHER_CONDITION LIGHTING_CONDITION  \\\n",
       "0  FUNCTIONING PROPERLY             CLEAR           DAYLIGHT   \n",
       "1  FUNCTIONING PROPERLY             CLEAR           DAYLIGHT   \n",
       "2           NO CONTROLS             CLEAR           DAYLIGHT   \n",
       "3           NO CONTROLS             CLEAR           DAYLIGHT   \n",
       "4           NO CONTROLS             CLEAR           DAYLIGHT   \n",
       "\n",
       "       FIRST_CRASH_TYPE                  TRAFFICWAY_TYPE  LANE_CNT  \\\n",
       "0              REAR END                            OTHER       NaN   \n",
       "1  PARKED MOTOR VEHICLE  DIVIDED - W/MEDIAN (NOT RAISED)       NaN   \n",
       "2          PEDALCYCLIST                      NOT DIVIDED       NaN   \n",
       "3            PEDESTRIAN                          ONE-WAY       NaN   \n",
       "4          FIXED OBJECT                            OTHER       NaN   \n",
       "\n",
       "            ALIGNMENT ROADWAY_SURFACE_COND ROAD_DEFECT REPORT_TYPE  \\\n",
       "0  STRAIGHT AND LEVEL                  DRY  NO DEFECTS    ON SCENE   \n",
       "1  STRAIGHT AND LEVEL                  DRY  NO DEFECTS    ON SCENE   \n",
       "2  STRAIGHT AND LEVEL                  DRY  NO DEFECTS    ON SCENE   \n",
       "3      CURVE ON GRADE                  DRY  NO DEFECTS    ON SCENE   \n",
       "4  STRAIGHT AND LEVEL                  DRY  NO DEFECTS    ON SCENE   \n",
       "\n",
       "                         CRASH_TYPE INTERSECTION_RELATED_I NOT_RIGHT_OF_WAY_I  \\\n",
       "0  INJURY AND / OR TOW DUE TO CRASH                    NaN                NaN   \n",
       "1            NO INJURY / DRIVE AWAY                    NaN                NaN   \n",
       "2  INJURY AND / OR TOW DUE TO CRASH                    NaN                NaN   \n",
       "3  INJURY AND / OR TOW DUE TO CRASH                    NaN                NaN   \n",
       "4            NO INJURY / DRIVE AWAY                    NaN                NaN   \n",
       "\n",
       "  HIT_AND_RUN_I         DAMAGE DATE_POLICE_NOTIFIED  \\\n",
       "0           NaN    OVER $1,500  2023-08-18 12:55:00   \n",
       "1          True    OVER $1,500  2023-07-29 14:45:00   \n",
       "2           NaN  $501 - $1,500  2023-08-18 18:01:00   \n",
       "3           NaN    OVER $1,500  2019-11-26 08:38:00   \n",
       "4           NaN    OVER $1,500  2023-08-18 10:48:00   \n",
       "\n",
       "                  PRIM_CONTRIBUTORY_CAUSE  \\\n",
       "0                   FOLLOWING TOO CLOSELY   \n",
       "1  FAILING TO REDUCE SPEED TO AVOID CRASH   \n",
       "2  FAILING TO REDUCE SPEED TO AVOID CRASH   \n",
       "3                     UNABLE TO DETERMINE   \n",
       "4                   FOLLOWING TOO CLOSELY   \n",
       "\n",
       "                              SEC_CONTRIBUTORY_CAUSE  STREET_NO  \\\n",
       "0                  DISTRACTION - FROM INSIDE VEHICLE        700   \n",
       "1  OPERATING VEHICLE IN ERRATIC, RECKLESS, CARELE...       2101   \n",
       "2                                UNABLE TO DETERMINE       3422   \n",
       "3                                     NOT APPLICABLE          5   \n",
       "4                DRIVING SKILLS/KNOWLEDGE/EXPERIENCE          3   \n",
       "\n",
       "  STREET_DIRECTION  STREET_NAME  BEAT_OF_OCCURRENCE PHOTOS_TAKEN_I  \\\n",
       "0                W     OHARE ST              1654.0            NaN   \n",
       "1                S  ASHLAND AVE              1235.0            NaN   \n",
       "2                N     LONG AVE              1633.0            NaN   \n",
       "3                W  TERMINAL ST              1655.0              Y   \n",
       "4                W  TERMINAL ST              1653.0            NaN   \n",
       "\n",
       "  STATEMENTS_TAKEN_I DOORING_I WORK_ZONE_I WORK_ZONE_TYPE WORKERS_PRESENT_I  \\\n",
       "0                NaN       NaN         NaN            NaN               NaN   \n",
       "1                NaN       NaN         NaN            NaN               NaN   \n",
       "2                NaN       NaN         NaN            NaN               NaN   \n",
       "3                  Y       NaN         NaN            NaN               NaN   \n",
       "4                NaN       NaN         NaN            NaN               NaN   \n",
       "\n",
       "   NUM_UNITS        MOST_SEVERE_INJURY  INJURIES_TOTAL  INJURIES_FATAL  \\\n",
       "0          2  NONINCAPACITATING INJURY             1.0             0.0   \n",
       "1          4   NO INDICATION OF INJURY             0.0             0.0   \n",
       "2          2  NONINCAPACITATING INJURY             1.0             0.0   \n",
       "3          2                     FATAL             1.0             1.0   \n",
       "4          1   NO INDICATION OF INJURY             0.0             0.0   \n",
       "\n",
       "   INJURIES_INCAPACITATING  INJURIES_NON_INCAPACITATING  \\\n",
       "0                      0.0                          1.0   \n",
       "1                      0.0                          0.0   \n",
       "2                      0.0                          1.0   \n",
       "3                      0.0                          0.0   \n",
       "4                      0.0                          0.0   \n",
       "\n",
       "   INJURIES_REPORTED_NOT_EVIDENT  INJURIES_NO_INDICATION  INJURIES_UNKNOWN  \\\n",
       "0                            0.0                     1.0               0.0   \n",
       "1                            0.0                     1.0               0.0   \n",
       "2                            0.0                     1.0               0.0   \n",
       "3                            0.0                     1.0               0.0   \n",
       "4                            0.0                     1.0               0.0   \n",
       "\n",
       "   CRASH_HOUR  CRASH_DAY_OF_WEEK  CRASH_MONTH   LATITUDE  LONGITUDE  \\\n",
       "0          12                  6            8        NaN        NaN   \n",
       "1          14                  7            7  41.854120 -87.665902   \n",
       "2          17                  6            8  41.942976 -87.761883   \n",
       "3           8                  3           11        NaN        NaN   \n",
       "4          10                  6            8        NaN        NaN   \n",
       "\n",
       "                                   LOCATION  \n",
       "0                                       NaN  \n",
       "1  POINT (-87.665902342962 41.854120262952)  \n",
       "2  POINT (-87.761883496974 41.942975745006)  \n",
       "3                                       NaN  \n",
       "4                                       NaN  "
      ]
     },
     "execution_count": 90,
     "metadata": {},
     "output_type": "execute_result"
    }
   ],
   "source": [
    "crashes.head()"
   ]
  },
  {
   "cell_type": "code",
   "execution_count": 91,
   "metadata": {},
   "outputs": [],
   "source": [
    "columns_to_drop = ['TRAFFIC_CONTROL_DEVICE', 'DEVICE_CONDITION', 'REPORT_TYPE', 'PHOTOS_TAKEN_I', 'STATEMENTS_TAKEN_I']\n",
    "crashes = crashes.drop(columns=columns_to_drop)"
   ]
  },
  {
   "cell_type": "code",
   "execution_count": 92,
   "metadata": {},
   "outputs": [
    {
     "name": "stdout",
     "output_type": "stream",
     "text": [
      "CRASH_RECORD_ID                   0.000000\n",
      "CRASH_DATE_EST_I                 92.625120\n",
      "CRASH_DATE                        0.000000\n",
      "POSTED_SPEED_LIMIT                0.000000\n",
      "WEATHER_CONDITION                 0.000000\n",
      "LIGHTING_CONDITION                0.000000\n",
      "FIRST_CRASH_TYPE                  0.000000\n",
      "TRAFFICWAY_TYPE                   0.000000\n",
      "LANE_CNT                         78.181226\n",
      "ALIGNMENT                         0.000000\n",
      "ROADWAY_SURFACE_COND              0.000000\n",
      "ROAD_DEFECT                       0.000000\n",
      "CRASH_TYPE                        0.000000\n",
      "INTERSECTION_RELATED_I           77.012029\n",
      "NOT_RIGHT_OF_WAY_I               95.453449\n",
      "HIT_AND_RUN_I                    68.640508\n",
      "DAMAGE                            0.000000\n",
      "DATE_POLICE_NOTIFIED              0.000000\n",
      "PRIM_CONTRIBUTORY_CAUSE           0.000000\n",
      "SEC_CONTRIBUTORY_CAUSE            0.000000\n",
      "STREET_NO                         0.000000\n",
      "STREET_DIRECTION                  0.000439\n",
      "STREET_NAME                       0.000110\n",
      "BEAT_OF_OCCURRENCE                0.000548\n",
      "DOORING_I                        99.685364\n",
      "WORK_ZONE_I                      99.445275\n",
      "WORK_ZONE_TYPE                   99.572226\n",
      "WORKERS_PRESENT_I                99.857263\n",
      "NUM_UNITS                         0.000000\n",
      "MOST_SEVERE_INJURY                0.220355\n",
      "INJURIES_TOTAL                    0.218820\n",
      "INJURIES_FATAL                    0.218820\n",
      "INJURIES_INCAPACITATING           0.218820\n",
      "INJURIES_NON_INCAPACITATING       0.218820\n",
      "INJURIES_REPORTED_NOT_EVIDENT     0.218820\n",
      "INJURIES_NO_INDICATION            0.218820\n",
      "INJURIES_UNKNOWN                  0.218820\n",
      "CRASH_HOUR                        0.000000\n",
      "CRASH_DAY_OF_WEEK                 0.000000\n",
      "CRASH_MONTH                       0.000000\n",
      "LATITUDE                          0.730241\n",
      "LONGITUDE                         0.730241\n",
      "LOCATION                          0.730241\n",
      "dtype: float64\n"
     ]
    }
   ],
   "source": [
    "print(crashes.isnull().mean() * 100)"
   ]
  },
  {
   "cell_type": "markdown",
   "metadata": {},
   "source": [
    "DOORING_I, WORK_ZONE_I, WORK_ZONE_TYPE, WORKERS_PRESENT_I have more than 99% of missing values, so we can drop them"
   ]
  },
  {
   "cell_type": "code",
   "execution_count": 170,
   "metadata": {},
   "outputs": [],
   "source": [
    "# DOORING_I, WORK_ZONE_I, WORK_ZONE_TYPE, WORKERS_PRESENT_I have more than 90% of missing values, so we can drop them\n",
    "columns_to_drop = ['DOORING_I', 'WORK_ZONE_I', 'WORK_ZONE_TYPE', 'WORKERS_PRESENT_I']\n",
    "crashes = crashes.drop(columns=columns_to_drop)"
   ]
  },
  {
   "cell_type": "markdown",
   "metadata": {},
   "source": [
    "---"
   ]
  },
  {
   "cell_type": "markdown",
   "metadata": {},
   "source": [
    "## Dropping NaN rows for important features\n",
    "\n",
    "first of all we want to drop NaN values for LATITUDE, LONGITUDE, LOCATION, BEAT_OF_OCCURRENCE since they will be used to create the crash profiles."
   ]
  },
  {
   "cell_type": "code",
   "execution_count": 93,
   "metadata": {},
   "outputs": [
    {
     "name": "stdout",
     "output_type": "stream",
     "text": [
      "CRASH_RECORD_ID                   0.000000\n",
      "CRASH_DATE_EST_I                 92.615792\n",
      "CRASH_DATE                        0.000000\n",
      "POSTED_SPEED_LIMIT                0.000000\n",
      "WEATHER_CONDITION                 0.000000\n",
      "LIGHTING_CONDITION                0.000000\n",
      "FIRST_CRASH_TYPE                  0.000000\n",
      "TRAFFICWAY_TYPE                   0.000000\n",
      "LANE_CNT                         78.120265\n",
      "ALIGNMENT                         0.000000\n",
      "ROADWAY_SURFACE_COND              0.000000\n",
      "ROAD_DEFECT                       0.000000\n",
      "CRASH_TYPE                        0.000000\n",
      "INTERSECTION_RELATED_I           76.966427\n",
      "NOT_RIGHT_OF_WAY_I               95.448702\n",
      "HIT_AND_RUN_I                    68.552181\n",
      "DAMAGE                            0.000000\n",
      "DATE_POLICE_NOTIFIED              0.000000\n",
      "PRIM_CONTRIBUTORY_CAUSE           0.000000\n",
      "SEC_CONTRIBUTORY_CAUSE            0.000000\n",
      "STREET_NO                         0.000000\n",
      "STREET_DIRECTION                  0.000110\n",
      "STREET_NAME                       0.000000\n",
      "BEAT_OF_OCCURRENCE                0.000000\n",
      "DOORING_I                        99.683379\n",
      "WORK_ZONE_I                      99.447377\n",
      "WORK_ZONE_TYPE                   99.574268\n",
      "WORKERS_PRESENT_I                99.858089\n",
      "NUM_UNITS                         0.000000\n",
      "MOST_SEVERE_INJURY                0.220320\n",
      "INJURIES_TOTAL                    0.218774\n",
      "INJURIES_FATAL                    0.218774\n",
      "INJURIES_INCAPACITATING           0.218774\n",
      "INJURIES_NON_INCAPACITATING       0.218774\n",
      "INJURIES_REPORTED_NOT_EVIDENT     0.218774\n",
      "INJURIES_NO_INDICATION            0.218774\n",
      "INJURIES_UNKNOWN                  0.218774\n",
      "CRASH_HOUR                        0.000000\n",
      "CRASH_DAY_OF_WEEK                 0.000000\n",
      "CRASH_MONTH                       0.000000\n",
      "LATITUDE                          0.000000\n",
      "LONGITUDE                         0.000000\n",
      "LOCATION                          0.000000\n",
      "dtype: float64\n"
     ]
    }
   ],
   "source": [
    "crashes = crashes.dropna(subset=['LATITUDE', 'LONGITUDE', 'LOCATION', 'BEAT_OF_OCCURRENCE'])\n",
    "\n",
    "print(crashes.isnull().mean() * 100)"
   ]
  },
  {
   "cell_type": "markdown",
   "metadata": {},
   "source": [
    "---"
   ]
  },
  {
   "cell_type": "markdown",
   "metadata": {},
   "source": [
    "## date check"
   ]
  },
  {
   "cell_type": "markdown",
   "metadata": {},
   "source": [
    "first of all we want to check if the date is correct, for example we want to check if the column 'DATE_POLICE_NOTIFIED' is problematic or not."
   ]
  },
  {
   "cell_type": "code",
   "execution_count": 94,
   "metadata": {},
   "outputs": [
    {
     "data": {
      "text/plain": [
       "np.int64(1)"
      ]
     },
     "execution_count": 94,
     "metadata": {},
     "output_type": "execute_result"
    }
   ],
   "source": [
    "crashes['CRASH_DATE'].gt(crashes['DATE_POLICE_NOTIFIED']).sum()"
   ]
  },
  {
   "cell_type": "code",
   "execution_count": 95,
   "metadata": {},
   "outputs": [
    {
     "data": {
      "text/html": [
       "<div>\n",
       "<style scoped>\n",
       "    .dataframe tbody tr th:only-of-type {\n",
       "        vertical-align: middle;\n",
       "    }\n",
       "\n",
       "    .dataframe tbody tr th {\n",
       "        vertical-align: top;\n",
       "    }\n",
       "\n",
       "    .dataframe thead th {\n",
       "        text-align: right;\n",
       "    }\n",
       "</style>\n",
       "<table border=\"1\" class=\"dataframe\">\n",
       "  <thead>\n",
       "    <tr style=\"text-align: right;\">\n",
       "      <th></th>\n",
       "      <th>CRASH_RECORD_ID</th>\n",
       "      <th>CRASH_DATE_EST_I</th>\n",
       "      <th>CRASH_DATE</th>\n",
       "      <th>POSTED_SPEED_LIMIT</th>\n",
       "      <th>WEATHER_CONDITION</th>\n",
       "      <th>LIGHTING_CONDITION</th>\n",
       "      <th>FIRST_CRASH_TYPE</th>\n",
       "      <th>TRAFFICWAY_TYPE</th>\n",
       "      <th>LANE_CNT</th>\n",
       "      <th>ALIGNMENT</th>\n",
       "      <th>ROADWAY_SURFACE_COND</th>\n",
       "      <th>ROAD_DEFECT</th>\n",
       "      <th>CRASH_TYPE</th>\n",
       "      <th>INTERSECTION_RELATED_I</th>\n",
       "      <th>NOT_RIGHT_OF_WAY_I</th>\n",
       "      <th>HIT_AND_RUN_I</th>\n",
       "      <th>DAMAGE</th>\n",
       "      <th>DATE_POLICE_NOTIFIED</th>\n",
       "      <th>PRIM_CONTRIBUTORY_CAUSE</th>\n",
       "      <th>SEC_CONTRIBUTORY_CAUSE</th>\n",
       "      <th>STREET_NO</th>\n",
       "      <th>STREET_DIRECTION</th>\n",
       "      <th>STREET_NAME</th>\n",
       "      <th>BEAT_OF_OCCURRENCE</th>\n",
       "      <th>DOORING_I</th>\n",
       "      <th>WORK_ZONE_I</th>\n",
       "      <th>WORK_ZONE_TYPE</th>\n",
       "      <th>WORKERS_PRESENT_I</th>\n",
       "      <th>NUM_UNITS</th>\n",
       "      <th>MOST_SEVERE_INJURY</th>\n",
       "      <th>INJURIES_TOTAL</th>\n",
       "      <th>INJURIES_FATAL</th>\n",
       "      <th>INJURIES_INCAPACITATING</th>\n",
       "      <th>INJURIES_NON_INCAPACITATING</th>\n",
       "      <th>INJURIES_REPORTED_NOT_EVIDENT</th>\n",
       "      <th>INJURIES_NO_INDICATION</th>\n",
       "      <th>INJURIES_UNKNOWN</th>\n",
       "      <th>CRASH_HOUR</th>\n",
       "      <th>CRASH_DAY_OF_WEEK</th>\n",
       "      <th>CRASH_MONTH</th>\n",
       "      <th>LATITUDE</th>\n",
       "      <th>LONGITUDE</th>\n",
       "      <th>LOCATION</th>\n",
       "    </tr>\n",
       "  </thead>\n",
       "  <tbody>\n",
       "    <tr>\n",
       "      <th>472058</th>\n",
       "      <td>89bcc8907886375b0df9aa83d87f3a686f11090b588a08...</td>\n",
       "      <td>NaN</td>\n",
       "      <td>2018-03-11 03:58:00</td>\n",
       "      <td>30</td>\n",
       "      <td>CLEAR</td>\n",
       "      <td>DARKNESS, LIGHTED ROAD</td>\n",
       "      <td>TURNING</td>\n",
       "      <td>DIVIDED - W/MEDIAN (NOT RAISED)</td>\n",
       "      <td>2.0</td>\n",
       "      <td>STRAIGHT AND LEVEL</td>\n",
       "      <td>UNKNOWN</td>\n",
       "      <td>UNKNOWN</td>\n",
       "      <td>INJURY AND / OR TOW DUE TO CRASH</td>\n",
       "      <td>True</td>\n",
       "      <td>NaN</td>\n",
       "      <td>NaN</td>\n",
       "      <td>OVER $1,500</td>\n",
       "      <td>2018-03-11 03:01:00</td>\n",
       "      <td>IMPROPER TURNING/NO SIGNAL</td>\n",
       "      <td>NOT APPLICABLE</td>\n",
       "      <td>6400</td>\n",
       "      <td>N</td>\n",
       "      <td>BELL AVE</td>\n",
       "      <td>2412.0</td>\n",
       "      <td>NaN</td>\n",
       "      <td>NaN</td>\n",
       "      <td>NaN</td>\n",
       "      <td>NaN</td>\n",
       "      <td>2</td>\n",
       "      <td>NO INDICATION OF INJURY</td>\n",
       "      <td>0.0</td>\n",
       "      <td>0.0</td>\n",
       "      <td>0.0</td>\n",
       "      <td>0.0</td>\n",
       "      <td>0.0</td>\n",
       "      <td>3.0</td>\n",
       "      <td>0.0</td>\n",
       "      <td>3</td>\n",
       "      <td>1</td>\n",
       "      <td>3</td>\n",
       "      <td>41.997882</td>\n",
       "      <td>-87.686379</td>\n",
       "      <td>POINT (-87.686378920661 41.997882381564)</td>\n",
       "    </tr>\n",
       "  </tbody>\n",
       "</table>\n",
       "</div>"
      ],
      "text/plain": [
       "                                          CRASH_RECORD_ID CRASH_DATE_EST_I  \\\n",
       "472058  89bcc8907886375b0df9aa83d87f3a686f11090b588a08...              NaN   \n",
       "\n",
       "                CRASH_DATE  POSTED_SPEED_LIMIT WEATHER_CONDITION  \\\n",
       "472058 2018-03-11 03:58:00                  30             CLEAR   \n",
       "\n",
       "            LIGHTING_CONDITION FIRST_CRASH_TYPE  \\\n",
       "472058  DARKNESS, LIGHTED ROAD          TURNING   \n",
       "\n",
       "                        TRAFFICWAY_TYPE  LANE_CNT           ALIGNMENT  \\\n",
       "472058  DIVIDED - W/MEDIAN (NOT RAISED)       2.0  STRAIGHT AND LEVEL   \n",
       "\n",
       "       ROADWAY_SURFACE_COND ROAD_DEFECT                        CRASH_TYPE  \\\n",
       "472058              UNKNOWN     UNKNOWN  INJURY AND / OR TOW DUE TO CRASH   \n",
       "\n",
       "       INTERSECTION_RELATED_I NOT_RIGHT_OF_WAY_I HIT_AND_RUN_I       DAMAGE  \\\n",
       "472058                   True                NaN           NaN  OVER $1,500   \n",
       "\n",
       "       DATE_POLICE_NOTIFIED     PRIM_CONTRIBUTORY_CAUSE  \\\n",
       "472058  2018-03-11 03:01:00  IMPROPER TURNING/NO SIGNAL   \n",
       "\n",
       "       SEC_CONTRIBUTORY_CAUSE  STREET_NO STREET_DIRECTION STREET_NAME  \\\n",
       "472058         NOT APPLICABLE       6400                N    BELL AVE   \n",
       "\n",
       "        BEAT_OF_OCCURRENCE DOORING_I WORK_ZONE_I WORK_ZONE_TYPE  \\\n",
       "472058              2412.0       NaN         NaN            NaN   \n",
       "\n",
       "       WORKERS_PRESENT_I  NUM_UNITS       MOST_SEVERE_INJURY  INJURIES_TOTAL  \\\n",
       "472058               NaN          2  NO INDICATION OF INJURY             0.0   \n",
       "\n",
       "        INJURIES_FATAL  INJURIES_INCAPACITATING  INJURIES_NON_INCAPACITATING  \\\n",
       "472058             0.0                      0.0                          0.0   \n",
       "\n",
       "        INJURIES_REPORTED_NOT_EVIDENT  INJURIES_NO_INDICATION  \\\n",
       "472058                            0.0                     3.0   \n",
       "\n",
       "        INJURIES_UNKNOWN  CRASH_HOUR  CRASH_DAY_OF_WEEK  CRASH_MONTH  \\\n",
       "472058               0.0           3                  1            3   \n",
       "\n",
       "         LATITUDE  LONGITUDE                                  LOCATION  \n",
       "472058  41.997882 -87.686379  POINT (-87.686378920661 41.997882381564)  "
      ]
     },
     "execution_count": 95,
     "metadata": {},
     "output_type": "execute_result"
    }
   ],
   "source": [
    "crashes[crashes['CRASH_DATE'].gt(crashes['DATE_POLICE_NOTIFIED'])]"
   ]
  },
  {
   "cell_type": "markdown",
   "metadata": {},
   "source": [
    "only one entry is not correct but it could simply be a typo se we will keep it, we can now drop both DATE_POLICE_NOTIFIED and CRASH_DATE_EST_I since they won't be usefull for future analisys."
   ]
  },
  {
   "cell_type": "code",
   "execution_count": 96,
   "metadata": {},
   "outputs": [],
   "source": [
    "columns_to_drop = ['CRASH_DATE_EST_I', 'DATE_POLICE_NOTIFIED']\n",
    "crashes = crashes.drop(columns=columns_to_drop)"
   ]
  },
  {
   "cell_type": "markdown",
   "metadata": {},
   "source": [
    "### dates, CRASH_MONTH, CRASH_DAY_OF_WEEK, CRASH_HOUR, CRASH_DATE check"
   ]
  },
  {
   "cell_type": "code",
   "execution_count": 97,
   "metadata": {},
   "outputs": [
    {
     "name": "stdout",
     "output_type": "stream",
     "text": [
      "2013-03-03 16:48:00\n",
      "2025-01-22 23:55:00\n"
     ]
    }
   ],
   "source": [
    "print(crashes['CRASH_DATE'].min())\n",
    "print(crashes['CRASH_DATE'].max())"
   ]
  },
  {
   "cell_type": "code",
   "execution_count": 98,
   "metadata": {},
   "outputs": [
    {
     "data": {
      "image/png": "[encoded data removed]",
      "text/plain": [
       "<Figure size 640x480 with 1 Axes>"
      ]
     },
     "metadata": {},
     "output_type": "display_data"
    }
   ],
   "source": [
    "# plot the year distribution\n",
    "import matplotlib.pyplot as plt\n",
    "import seaborn as sns\n",
    "\n",
    "crashes['CRASH_DATE'].dt.year.value_counts().sort_index().plot(kind='bar')\n",
    "plt.xlabel('Year')\n",
    "plt.ylabel('Number of crashes')\n",
    "plt.title('Number of crashes per year')\n",
    "\n",
    "plt.show()\n",
    "\n"
   ]
  },
  {
   "cell_type": "markdown",
   "metadata": {},
   "source": [
    "Note that from the site https://data.cityofchicago.org/ we can read how the data is from 2015 to present (All police districts September 2017 - present). Maybe is it worth keeping only data from 2018 onward."
   ]
  },
  {
   "cell_type": "code",
   "execution_count": 99,
   "metadata": {},
   "outputs": [
    {
     "data": {
      "text/plain": [
       "8"
      ]
     },
     "execution_count": 99,
     "metadata": {},
     "output_type": "execute_result"
    }
   ],
   "source": [
    "# TODO decide if 2015 is a good starting point or we want 2018.\n",
    "crashes_subset = crashes[crashes['CRASH_DATE'].dt.year.lt(2015)]\n",
    "len(crashes_subset)"
   ]
  },
  {
   "cell_type": "markdown",
   "metadata": {},
   "source": [
    "only 8 entries are before 2015, and as reported in https://data.cityofchicago.org/Transportation/Traffic-Crashes-Crashes/85ca-t3if/about_data the data should be from 2015 onward, so we are dropping this entries."
   ]
  },
  {
   "cell_type": "code",
   "execution_count": 100,
   "metadata": {},
   "outputs": [],
   "source": [
    "crashes = crashes[crashes['CRASH_DATE'].dt.year.ge(2015)]"
   ]
  },
  {
   "cell_type": "markdown",
   "metadata": {},
   "source": [
    "we now want to check if the CRASH_MONTH, CRASH_DAY_OF_WEEK, CRASH_HOUR are consisten with the CRASH_DATE"
   ]
  },
  {
   "cell_type": "code",
   "execution_count": 101,
   "metadata": {},
   "outputs": [
    {
     "data": {
      "text/plain": [
       "np.int64(0)"
      ]
     },
     "execution_count": 101,
     "metadata": {},
     "output_type": "execute_result"
    }
   ],
   "source": [
    "(crashes['CRASH_DATE'].dt.month != crashes['CRASH_MONTH']).sum()"
   ]
  },
  {
   "cell_type": "code",
   "execution_count": 102,
   "metadata": {},
   "outputs": [
    {
     "data": {
      "text/plain": [
       "np.int64(0)"
      ]
     },
     "execution_count": 102,
     "metadata": {},
     "output_type": "execute_result"
    }
   ],
   "source": [
    "(crashes['CRASH_DATE'].dt.hour != crashes['CRASH_HOUR']).sum()"
   ]
  },
  {
   "cell_type": "markdown",
   "metadata": {},
   "source": [
    "----"
   ]
  },
  {
   "cell_type": "markdown",
   "metadata": {},
   "source": [
    "## POSTED_SPEED_LIMIT analisys"
   ]
  },
  {
   "cell_type": "code",
   "execution_count": 103,
   "metadata": {},
   "outputs": [
    {
     "name": "stdout",
     "output_type": "stream",
     "text": [
      "0\n",
      "99\n"
     ]
    }
   ],
   "source": [
    "print(crashes['POSTED_SPEED_LIMIT'].min())\n",
    "print(crashes['POSTED_SPEED_LIMIT'].max())"
   ]
  },
  {
   "cell_type": "code",
   "execution_count": 104,
   "metadata": {},
   "outputs": [
    {
     "data": {
      "text/plain": [
       "POSTED_SPEED_LIMIT\n",
       "0       7566\n",
       "1         41\n",
       "2         30\n",
       "3        224\n",
       "4          2\n",
       "5       4922\n",
       "6          7\n",
       "7          6\n",
       "8          2\n",
       "9         96\n",
       "10     20947\n",
       "11        11\n",
       "12         4\n",
       "14         4\n",
       "15     31855\n",
       "16         2\n",
       "18         4\n",
       "20     37170\n",
       "22         3\n",
       "23         3\n",
       "24        38\n",
       "25     57879\n",
       "26        11\n",
       "29         3\n",
       "30    669239\n",
       "31         3\n",
       "32        20\n",
       "33        14\n",
       "34        16\n",
       "35     59705\n",
       "36         8\n",
       "38         2\n",
       "39        97\n",
       "40      8669\n",
       "44         1\n",
       "45      5782\n",
       "46         1\n",
       "49         1\n",
       "50       261\n",
       "55       709\n",
       "60        45\n",
       "62         1\n",
       "63         1\n",
       "65        15\n",
       "70         6\n",
       "99        66\n",
       "Name: count, dtype: int64"
      ]
     },
     "execution_count": 104,
     "metadata": {},
     "output_type": "execute_result"
    }
   ],
   "source": [
    "crashes['POSTED_SPEED_LIMIT'].value_counts().sort_index()"
   ]
  },
  {
   "cell_type": "markdown",
   "metadata": {},
   "source": [
    "all the weird speed limit, and in particular 0 and 99, are surely invalid data "
   ]
  },
  {
   "cell_type": "markdown",
   "metadata": {},
   "source": [
    "---"
   ]
  },
  {
   "cell_type": "markdown",
   "metadata": {},
   "source": [
    "## WEATHER_CONDITION check"
   ]
  },
  {
   "cell_type": "code",
   "execution_count": 105,
   "metadata": {},
   "outputs": [
    {
     "data": {
      "text/plain": [
       "WEATHER_CONDITION\n",
       "CLEAR                       711060\n",
       "RAIN                         78261\n",
       "UNKNOWN                      52420\n",
       "SNOW                         29630\n",
       "CLOUDY/OVERCAST              26418\n",
       "OTHER                         2842\n",
       "FREEZING RAIN/DRIZZLE         1846\n",
       "FOG/SMOKE/HAZE                1368\n",
       "SLEET/HAIL                    1032\n",
       "BLOWING SNOW                   455\n",
       "SEVERE CROSS WIND GATE         152\n",
       "BLOWING SAND, SOIL, DIRT         8\n",
       "Name: count, dtype: int64"
      ]
     },
     "execution_count": 105,
     "metadata": {},
     "output_type": "execute_result"
    }
   ],
   "source": [
    "crashes['WEATHER_CONDITION'].value_counts()"
   ]
  },
  {
   "cell_type": "markdown",
   "metadata": {},
   "source": [
    "we want to define a severity level and change the values to a severity scale. -1 will be treated as NaN"
   ]
  },
  {
   "cell_type": "code",
   "execution_count": 106,
   "metadata": {},
   "outputs": [],
   "source": [
    "weather_severity = {\n",
    "    'CLEAR': 0,\n",
    "    'CLOUDY/OVERCAST': 1,\n",
    "    'RAIN': 2,\n",
    "    'FREEZING RAIN/DRIZZLE': 2,\n",
    "    'FOG/SMOKE/HAZE': 3,\n",
    "    'SNOW': 3,\n",
    "    'SLEET/HAIL': 3,\n",
    "    'BLOWING SNOW': 3,\n",
    "    'SEVERE CROSS WIND GATE': 3,\n",
    "    'BLOWING SAND, SOIL, DIRT': 4,\n",
    "    'OTHER': -1, \n",
    "    'UNKNOWN': -1\n",
    "}\n",
    "\n",
    "# Map the column\n",
    "crashes['WEATHER_SEVERITY'] = crashes['WEATHER_CONDITION'].map(weather_severity)"
   ]
  },
  {
   "cell_type": "code",
   "execution_count": 107,
   "metadata": {},
   "outputs": [
    {
     "data": {
      "text/plain": [
       "WEATHER_SEVERITY\n",
       " 0    711060\n",
       " 2     80107\n",
       "-1     55262\n",
       " 3     32637\n",
       " 1     26418\n",
       " 4         8\n",
       "Name: count, dtype: int64"
      ]
     },
     "execution_count": 107,
     "metadata": {},
     "output_type": "execute_result"
    }
   ],
   "source": [
    "crashes['WEATHER_SEVERITY'].value_counts()"
   ]
  },
  {
   "cell_type": "markdown",
   "metadata": {},
   "source": [
    "---"
   ]
  },
  {
   "cell_type": "code",
   "execution_count": 108,
   "metadata": {},
   "outputs": [
    {
     "data": {
      "text/plain": [
       "LIGHTING_CONDITION\n",
       "DAYLIGHT                  579644\n",
       "DARKNESS, LIGHTED ROAD    198732\n",
       "UNKNOWN                    43182\n",
       "DARKNESS                   42938\n",
       "DUSK                       25898\n",
       "DAWN                       15098\n",
       "Name: count, dtype: int64"
      ]
     },
     "execution_count": 108,
     "metadata": {},
     "output_type": "execute_result"
    }
   ],
   "source": [
    "crashes['LIGHTING_CONDITION'].value_counts()"
   ]
  },
  {
   "cell_type": "code",
   "execution_count": 109,
   "metadata": {},
   "outputs": [],
   "source": [
    "lighting_severity = {\n",
    "    'DAYLIGHT': 0,\n",
    "    'DARKNESS, LIGHTED ROAD': 1,\n",
    "    'DARKNESS': 2,\n",
    "    'DUSK': 2,\n",
    "    'DAWN': 2,\n",
    "    'UNKNOWN': -1\n",
    "}\n",
    "\n",
    "# Map the column\n",
    "crashes['LIGHTING_SEVERITY'] = crashes['LIGHTING_CONDITION'].map(lighting_severity)"
   ]
  },
  {
   "cell_type": "code",
   "execution_count": 110,
   "metadata": {},
   "outputs": [
    {
     "data": {
      "text/plain": [
       "LIGHTING_SEVERITY\n",
       " 0    579644\n",
       " 1    198732\n",
       " 2     83934\n",
       "-1     43182\n",
       "Name: count, dtype: int64"
      ]
     },
     "execution_count": 110,
     "metadata": {},
     "output_type": "execute_result"
    }
   ],
   "source": [
    "crashes['LIGHTING_SEVERITY'].value_counts()"
   ]
  },
  {
   "cell_type": "markdown",
   "metadata": {},
   "source": [
    "---"
   ]
  },
  {
   "cell_type": "markdown",
   "metadata": {},
   "source": [
    "## type of road and crash, maybe usefull later on"
   ]
  },
  {
   "cell_type": "code",
   "execution_count": 111,
   "metadata": {},
   "outputs": [
    {
     "data": {
      "text/plain": [
       "FIRST_CRASH_TYPE\n",
       "PARKED MOTOR VEHICLE            210035\n",
       "REAR END                        200078\n",
       "SIDESWIPE SAME DIRECTION        138154\n",
       "TURNING                         130521\n",
       "ANGLE                            98887\n",
       "FIXED OBJECT                     41886\n",
       "PEDESTRIAN                       21488\n",
       "PEDALCYCLIST                     14395\n",
       "SIDESWIPE OPPOSITE DIRECTION     12558\n",
       "REAR TO FRONT                     9283\n",
       "OTHER OBJECT                      8997\n",
       "HEAD ON                           7703\n",
       "REAR TO SIDE                      5586\n",
       "OTHER NONCOLLISION                2736\n",
       "REAR TO REAR                      1935\n",
       "ANIMAL                             661\n",
       "OVERTURNED                         543\n",
       "TRAIN                               46\n",
       "Name: count, dtype: int64"
      ]
     },
     "execution_count": 111,
     "metadata": {},
     "output_type": "execute_result"
    }
   ],
   "source": [
    "crashes['FIRST_CRASH_TYPE'].value_counts()  "
   ]
  },
  {
   "cell_type": "code",
   "execution_count": 112,
   "metadata": {},
   "outputs": [
    {
     "data": {
      "text/plain": [
       "TRAFFICWAY_TYPE\n",
       "NOT DIVIDED                        391201\n",
       "DIVIDED - W/MEDIAN (NOT RAISED)    143447\n",
       "ONE-WAY                            113545\n",
       "FOUR WAY                            63647\n",
       "PARKING LOT                         60814\n",
       "DIVIDED - W/MEDIAN BARRIER          50766\n",
       "OTHER                               23953\n",
       "ALLEY                               14975\n",
       "T-INTERSECTION                      12558\n",
       "UNKNOWN                             10683\n",
       "CENTER TURN LANE                     6398\n",
       "DRIVEWAY                             2889\n",
       "UNKNOWN INTERSECTION TYPE            2761\n",
       "RAMP                                 2710\n",
       "FIVE POINT, OR MORE                  1399\n",
       "Y-INTERSECTION                       1362\n",
       "TRAFFIC ROUTE                        1191\n",
       "NOT REPORTED                          696\n",
       "ROUNDABOUT                            313\n",
       "L-INTERSECTION                        184\n",
       "Name: count, dtype: int64"
      ]
     },
     "execution_count": 112,
     "metadata": {},
     "output_type": "execute_result"
    }
   ],
   "source": [
    "crashes['TRAFFICWAY_TYPE'].value_counts()"
   ]
  },
  {
   "cell_type": "code",
   "execution_count": 113,
   "metadata": {},
   "outputs": [
    {
     "data": {
      "text/plain": [
       "ALIGNMENT\n",
       "STRAIGHT AND LEVEL       884523\n",
       "STRAIGHT ON GRADE         11048\n",
       "CURVE, LEVEL               6098\n",
       "STRAIGHT ON HILLCREST      2236\n",
       "CURVE ON GRADE             1204\n",
       "CURVE ON HILLCREST          383\n",
       "Name: count, dtype: int64"
      ]
     },
     "execution_count": 113,
     "metadata": {},
     "output_type": "execute_result"
    }
   ],
   "source": [
    "crashes['ALIGNMENT'].value_counts()"
   ]
  },
  {
   "cell_type": "markdown",
   "metadata": {},
   "source": [
    "---"
   ]
  },
  {
   "cell_type": "markdown",
   "metadata": {},
   "source": [
    "## road condition\n",
    "\n",
    "we want to assigna road severity considering both the ROADWAY_SURFACE_COND and ROAD_DEFECT, we will assign -1 (null) to the instances where at least one of the two feature is -1 "
   ]
  },
  {
   "cell_type": "code",
   "execution_count": 114,
   "metadata": {},
   "outputs": [
    {
     "data": {
      "text/plain": [
       "ROADWAY_SURFACE_COND\n",
       "DRY                668050\n",
       "WET                118248\n",
       "UNKNOWN             81518\n",
       "SNOW OR SLUSH       29168\n",
       "ICE                  5862\n",
       "OTHER                2322\n",
       "SAND, MUD, DIRT       324\n",
       "Name: count, dtype: int64"
      ]
     },
     "execution_count": 114,
     "metadata": {},
     "output_type": "execute_result"
    }
   ],
   "source": [
    "crashes['ROADWAY_SURFACE_COND'].value_counts()"
   ]
  },
  {
   "cell_type": "code",
   "execution_count": 115,
   "metadata": {},
   "outputs": [],
   "source": [
    "road_surface_severity = {\n",
    "    'DRY': 0,\n",
    "    'WET': 1,\n",
    "    'SNOW OR SLUSH': 2,\n",
    "    'ICE': 3,\n",
    "    'SAND, MUD, DIRT': 2,\n",
    "    'OTHER': 2,\n",
    "    'UNKNOWN': -1 \n",
    "}"
   ]
  },
  {
   "cell_type": "code",
   "execution_count": 116,
   "metadata": {},
   "outputs": [],
   "source": [
    "crashes['surface_cond'] = crashes['ROADWAY_SURFACE_COND'].map(road_surface_severity)"
   ]
  },
  {
   "cell_type": "code",
   "execution_count": 117,
   "metadata": {},
   "outputs": [
    {
     "data": {
      "text/plain": [
       "surface_cond\n",
       " 0    668050\n",
       " 1    118248\n",
       "-1     81518\n",
       " 2     31814\n",
       " 3      5862\n",
       "Name: count, dtype: int64"
      ]
     },
     "execution_count": 117,
     "metadata": {},
     "output_type": "execute_result"
    }
   ],
   "source": [
    "crashes['surface_cond'].value_counts()"
   ]
  },
  {
   "cell_type": "code",
   "execution_count": 118,
   "metadata": {},
   "outputs": [
    {
     "data": {
      "text/plain": [
       "ROAD_DEFECT\n",
       "NO DEFECTS           719630\n",
       "UNKNOWN              168627\n",
       "RUT, HOLES             6358\n",
       "OTHER                  4908\n",
       "WORN SURFACE           3763\n",
       "SHOULDER DEFECT        1549\n",
       "DEBRIS ON ROADWAY       657\n",
       "Name: count, dtype: int64"
      ]
     },
     "execution_count": 118,
     "metadata": {},
     "output_type": "execute_result"
    }
   ],
   "source": [
    "crashes['ROAD_DEFECT'].value_counts()"
   ]
  },
  {
   "cell_type": "code",
   "execution_count": 119,
   "metadata": {},
   "outputs": [],
   "source": [
    "road_defect_severity = {\n",
    "    'NO DEFECTS': 0,\n",
    "    'RUT, HOLES': 3,\n",
    "    'WORN SURFACE': 1,\n",
    "    'SHOULDER DEFECT': 2,\n",
    "    'DEBRIS ON ROADWAY': 2,\n",
    "    'OTHER': 2,\n",
    "    'UNKNOWN': -1  # Handle missing values separately\n",
    "}"
   ]
  },
  {
   "cell_type": "code",
   "execution_count": 120,
   "metadata": {},
   "outputs": [],
   "source": [
    "crashes['road_cond'] = crashes['ROAD_DEFECT'].map(road_defect_severity)"
   ]
  },
  {
   "cell_type": "code",
   "execution_count": 121,
   "metadata": {},
   "outputs": [
    {
     "data": {
      "text/plain": [
       "road_cond\n",
       " 0    719630\n",
       "-1    168627\n",
       " 2      7114\n",
       " 3      6358\n",
       " 1      3763\n",
       "Name: count, dtype: int64"
      ]
     },
     "execution_count": 121,
     "metadata": {},
     "output_type": "execute_result"
    }
   ],
   "source": [
    "crashes['road_cond'].value_counts()"
   ]
  },
  {
   "cell_type": "code",
   "execution_count": 122,
   "metadata": {},
   "outputs": [],
   "source": [
    "crashes['ROADWAY_SEVERITY'] = crashes.apply(lambda row: -1 if row['surface_cond'] == -1 or row['road_cond'] == -1 else row['surface_cond'] + row['road_cond'], axis=1)"
   ]
  },
  {
   "cell_type": "code",
   "execution_count": 123,
   "metadata": {},
   "outputs": [
    {
     "data": {
      "text/plain": [
       "ROADWAY_SEVERITY\n",
       " 0    583478\n",
       "-1    182708\n",
       " 1     98095\n",
       " 2     28289\n",
       " 3     10047\n",
       " 4      2160\n",
       " 5       635\n",
       " 6        80\n",
       "Name: count, dtype: int64"
      ]
     },
     "execution_count": 123,
     "metadata": {},
     "output_type": "execute_result"
    }
   ],
   "source": [
    "crashes['ROADWAY_SEVERITY'].value_counts()"
   ]
  },
  {
   "cell_type": "markdown",
   "metadata": {},
   "source": [
    "---"
   ]
  },
  {
   "cell_type": "markdown",
   "metadata": {},
   "source": [
    "## CRASH_TYPE - INTERSECTION_RELATED_I - NOT_RIGHT_OF_WAY_I - HIT_AND_RUN_I\n",
    "\n",
    "note that the last 3 are boolean and almost all true, hence we can assume false when NaN"
   ]
  },
  {
   "cell_type": "code",
   "execution_count": 124,
   "metadata": {},
   "outputs": [
    {
     "data": {
      "text/plain": [
       "CRASH_TYPE\n",
       "NO INJURY / DRIVE AWAY              661279\n",
       "INJURY AND / OR TOW DUE TO CRASH    244213\n",
       "Name: count, dtype: int64"
      ]
     },
     "execution_count": 124,
     "metadata": {},
     "output_type": "execute_result"
    }
   ],
   "source": [
    "crashes['CRASH_TYPE'].value_counts()"
   ]
  },
  {
   "cell_type": "code",
   "execution_count": 125,
   "metadata": {},
   "outputs": [
    {
     "data": {
      "text/plain": [
       "INTERSECTION_RELATED_I\n",
       "True     198605\n",
       "False      9962\n",
       "Name: count, dtype: int64"
      ]
     },
     "execution_count": 125,
     "metadata": {},
     "output_type": "execute_result"
    }
   ],
   "source": [
    "crashes['INTERSECTION_RELATED_I'].value_counts()"
   ]
  },
  {
   "cell_type": "code",
   "execution_count": 126,
   "metadata": {},
   "outputs": [
    {
     "data": {
      "text/plain": [
       "NOT_RIGHT_OF_WAY_I\n",
       "True     37453\n",
       "False     3759\n",
       "Name: count, dtype: int64"
      ]
     },
     "execution_count": 126,
     "metadata": {},
     "output_type": "execute_result"
    }
   ],
   "source": [
    "crashes['NOT_RIGHT_OF_WAY_I'].value_counts()"
   ]
  },
  {
   "cell_type": "code",
   "execution_count": 127,
   "metadata": {},
   "outputs": [
    {
     "data": {
      "text/plain": [
       "HIT_AND_RUN_I\n",
       "True     272579\n",
       "False     12179\n",
       "Name: count, dtype: int64"
      ]
     },
     "execution_count": 127,
     "metadata": {},
     "output_type": "execute_result"
    }
   ],
   "source": [
    "crashes['HIT_AND_RUN_I'].value_counts()"
   ]
  },
  {
   "cell_type": "markdown",
   "metadata": {},
   "source": [
    "---"
   ]
  },
  {
   "cell_type": "markdown",
   "metadata": {},
   "source": [
    "## DAMAGE severity"
   ]
  },
  {
   "cell_type": "code",
   "execution_count": 128,
   "metadata": {},
   "outputs": [
    {
     "data": {
      "text/plain": [
       "DAMAGE\n",
       "OVER $1,500      571382\n",
       "$501 - $1,500    232884\n",
       "$500 OR LESS     101226\n",
       "Name: count, dtype: int64"
      ]
     },
     "execution_count": 128,
     "metadata": {},
     "output_type": "execute_result"
    }
   ],
   "source": [
    "crashes['DAMAGE'].value_counts()"
   ]
  },
  {
   "cell_type": "code",
   "execution_count": 129,
   "metadata": {},
   "outputs": [],
   "source": [
    "# Mapping the damage\n",
    "damage_severity = {\n",
    "    'OVER $1,500': 2,\n",
    "    '$501 - $1,500': 1,\n",
    "    '$500 OR LESS': 0\n",
    "}\n",
    "\n",
    "crashes['DAMAGE_SEVERITY'] = crashes['DAMAGE'].map(damage_severity)\n"
   ]
  },
  {
   "cell_type": "code",
   "execution_count": 130,
   "metadata": {},
   "outputs": [
    {
     "data": {
      "text/plain": [
       "DAMAGE_SEVERITY\n",
       "2    571382\n",
       "1    232884\n",
       "0    101226\n",
       "Name: count, dtype: int64"
      ]
     },
     "execution_count": 130,
     "metadata": {},
     "output_type": "execute_result"
    }
   ],
   "source": [
    "crashes['DAMAGE_SEVERITY'].value_counts()"
   ]
  },
  {
   "cell_type": "markdown",
   "metadata": {},
   "source": [
    "## CRAHS CAUSES, maybe usefull later when validating clusters? idk"
   ]
  },
  {
   "cell_type": "code",
   "execution_count": 131,
   "metadata": {},
   "outputs": [
    {
     "data": {
      "text/plain": [
       "PRIM_CONTRIBUTORY_CAUSE\n",
       "UNABLE TO DETERMINE                                                                 354742\n",
       "FAILING TO YIELD RIGHT-OF-WAY                                                       100116\n",
       "FOLLOWING TOO CLOSELY                                                                87127\n",
       "NOT APPLICABLE                                                                       47728\n",
       "IMPROPER OVERTAKING/PASSING                                                          45158\n",
       "FAILING TO REDUCE SPEED TO AVOID CRASH                                               38179\n",
       "IMPROPER BACKING                                                                     34863\n",
       "IMPROPER LANE USAGE                                                                  31984\n",
       "DRIVING SKILLS/KNOWLEDGE/EXPERIENCE                                                  30746\n",
       "IMPROPER TURNING/NO SIGNAL                                                           30352\n",
       "DISREGARDING TRAFFIC SIGNALS                                                         17705\n",
       "WEATHER                                                                              13121\n",
       "OPERATING VEHICLE IN ERRATIC, RECKLESS, CARELESS, NEGLIGENT OR AGGRESSIVE MANNER     11374\n",
       "DISREGARDING STOP SIGN                                                                9671\n",
       "DISTRACTION - FROM INSIDE VEHICLE                                                     6111\n",
       "EQUIPMENT - VEHICLE CONDITION                                                         5586\n",
       "PHYSICAL CONDITION OF DRIVER                                                          5325\n",
       "VISION OBSCURED (SIGNS, TREE LIMBS, BUILDINGS, ETC.)                                  5110\n",
       "DRIVING ON WRONG SIDE/WRONG WAY                                                       4922\n",
       "UNDER THE INFLUENCE OF ALCOHOL/DRUGS (USE WHEN ARREST IS EFFECTED)                    4219\n",
       "DISTRACTION - FROM OUTSIDE VEHICLE                                                    3614\n",
       "ROAD ENGINEERING/SURFACE/MARKING DEFECTS                                              2129\n",
       "EXCEEDING AUTHORIZED SPEED LIMIT                                                      1967\n",
       "DISREGARDING OTHER TRAFFIC SIGNS                                                      1923\n",
       "ROAD CONSTRUCTION/MAINTENANCE                                                         1885\n",
       "EXCEEDING SAFE SPEED FOR CONDITIONS                                                   1674\n",
       "EVASIVE ACTION DUE TO ANIMAL, OBJECT, NONMOTORIST                                     1630\n",
       "CELL PHONE USE OTHER THAN TEXTING                                                     1196\n",
       "DISREGARDING ROAD MARKINGS                                                            1106\n",
       "HAD BEEN DRINKING (USE WHEN ARREST IS NOT MADE)                                        905\n",
       "ANIMAL                                                                                 771\n",
       "TURNING RIGHT ON RED                                                                   690\n",
       "RELATED TO BUS STOP                                                                    488\n",
       "DISTRACTION - OTHER ELECTRONIC DEVICE (NAVIGATION DEVICE, DVD PLAYER, ETC.)            431\n",
       "TEXTING                                                                                344\n",
       "DISREGARDING YIELD SIGN                                                                281\n",
       "PASSING STOPPED SCHOOL BUS                                                             110\n",
       "OBSTRUCTED CROSSWALKS                                                                  100\n",
       "BICYCLE ADVANCING LEGALLY ON RED LIGHT                                                  86\n",
       "MOTORCYCLE ADVANCING LEGALLY ON RED LIGHT                                               23\n",
       "Name: count, dtype: int64"
      ]
     },
     "execution_count": 131,
     "metadata": {},
     "output_type": "execute_result"
    }
   ],
   "source": [
    "crashes['PRIM_CONTRIBUTORY_CAUSE'].value_counts()"
   ]
  },
  {
   "cell_type": "code",
   "execution_count": 132,
   "metadata": {},
   "outputs": [
    {
     "data": {
      "text/plain": [
       "SEC_CONTRIBUTORY_CAUSE\n",
       "NOT APPLICABLE                                                                      373474\n",
       "UNABLE TO DETERMINE                                                                 326400\n",
       "FAILING TO REDUCE SPEED TO AVOID CRASH                                               33353\n",
       "FAILING TO YIELD RIGHT-OF-WAY                                                        29099\n",
       "DRIVING SKILLS/KNOWLEDGE/EXPERIENCE                                                  27891\n",
       "FOLLOWING TOO CLOSELY                                                                23863\n",
       "IMPROPER OVERTAKING/PASSING                                                          14080\n",
       "IMPROPER LANE USAGE                                                                  12722\n",
       "WEATHER                                                                              10031\n",
       "IMPROPER TURNING/NO SIGNAL                                                            9451\n",
       "IMPROPER BACKING                                                                      7244\n",
       "OPERATING VEHICLE IN ERRATIC, RECKLESS, CARELESS, NEGLIGENT OR AGGRESSIVE MANNER      5568\n",
       "DISREGARDING TRAFFIC SIGNALS                                                          3678\n",
       "VISION OBSCURED (SIGNS, TREE LIMBS, BUILDINGS, ETC.)                                  2805\n",
       "PHYSICAL CONDITION OF DRIVER                                                          2733\n",
       "DISTRACTION - FROM INSIDE VEHICLE                                                     2682\n",
       "DISREGARDING STOP SIGN                                                                2619\n",
       "DRIVING ON WRONG SIDE/WRONG WAY                                                       1914\n",
       "EQUIPMENT - VEHICLE CONDITION                                                         1841\n",
       "UNDER THE INFLUENCE OF ALCOHOL/DRUGS (USE WHEN ARREST IS EFFECTED)                    1469\n",
       "DISTRACTION - FROM OUTSIDE VEHICLE                                                    1463\n",
       "EXCEEDING AUTHORIZED SPEED LIMIT                                                      1460\n",
       "EXCEEDING SAFE SPEED FOR CONDITIONS                                                   1435\n",
       "HAD BEEN DRINKING (USE WHEN ARREST IS NOT MADE)                                       1055\n",
       "ROAD CONSTRUCTION/MAINTENANCE                                                         1031\n",
       "DISREGARDING OTHER TRAFFIC SIGNS                                                       920\n",
       "DISREGARDING ROAD MARKINGS                                                             874\n",
       "ROAD ENGINEERING/SURFACE/MARKING DEFECTS                                               839\n",
       "CELL PHONE USE OTHER THAN TEXTING                                                      677\n",
       "EVASIVE ACTION DUE TO ANIMAL, OBJECT, NONMOTORIST                                      475\n",
       "RELATED TO BUS STOP                                                                    441\n",
       "ANIMAL                                                                                 431\n",
       "TURNING RIGHT ON RED                                                                   354\n",
       "DISTRACTION - OTHER ELECTRONIC DEVICE (NAVIGATION DEVICE, DVD PLAYER, ETC.)            258\n",
       "BICYCLE ADVANCING LEGALLY ON RED LIGHT                                                 227\n",
       "DISREGARDING YIELD SIGN                                                                226\n",
       "TEXTING                                                                                160\n",
       "OBSTRUCTED CROSSWALKS                                                                   98\n",
       "PASSING STOPPED SCHOOL BUS                                                              93\n",
       "MOTORCYCLE ADVANCING LEGALLY ON RED LIGHT                                               58\n",
       "Name: count, dtype: int64"
      ]
     },
     "execution_count": 132,
     "metadata": {},
     "output_type": "execute_result"
    }
   ],
   "source": [
    "crashes['SEC_CONTRIBUTORY_CAUSE'].value_counts()"
   ]
  },
  {
   "cell_type": "markdown",
   "metadata": {},
   "source": [
    "---"
   ]
  },
  {
   "cell_type": "markdown",
   "metadata": {},
   "source": [
    "## BEAT_OF_OCCURRENCE \n",
    "very important feature used later for creating out crashes profile"
   ]
  },
  {
   "cell_type": "code",
   "execution_count": 133,
   "metadata": {},
   "outputs": [
    {
     "data": {
      "text/plain": [
       "BEAT_OF_OCCURRENCE\n",
       "1834.0    10921\n",
       "114.0      9335\n",
       "813.0      9121\n",
       "815.0      8677\n",
       "1831.0     8320\n",
       "          ...  \n",
       "221.0      1217\n",
       "2431.0     1127\n",
       "422.0       975\n",
       "1654.0      905\n",
       "1125.0      871\n",
       "Name: count, Length: 271, dtype: int64"
      ]
     },
     "execution_count": 133,
     "metadata": {},
     "output_type": "execute_result"
    }
   ],
   "source": [
    "crashes['BEAT_OF_OCCURRENCE'].value_counts()"
   ]
  },
  {
   "cell_type": "markdown",
   "metadata": {},
   "source": [
    "---"
   ]
  },
  {
   "cell_type": "markdown",
   "metadata": {},
   "source": [
    "## STREET_NO, STREET_DIRECTION, STREET_NAME                                                             \n",
    "\n",
    "just checking this with latitute and longitude for some analisys later"
   ]
  },
  {
   "cell_type": "code",
   "execution_count": 134,
   "metadata": {},
   "outputs": [
    {
     "data": {
      "text/plain": [
       "STREET_NO\n",
       "1600     5798\n",
       "100      5317\n",
       "800      5234\n",
       "200      4975\n",
       "300      4445\n",
       "         ... \n",
       "12621       1\n",
       "13422       1\n",
       "11646       1\n",
       "11586       1\n",
       "11699       1\n",
       "Name: count, Length: 11839, dtype: int64"
      ]
     },
     "execution_count": 134,
     "metadata": {},
     "output_type": "execute_result"
    }
   ],
   "source": [
    "crashes['STREET_NO'].value_counts()"
   ]
  },
  {
   "cell_type": "code",
   "execution_count": 135,
   "metadata": {},
   "outputs": [
    {
     "data": {
      "text/plain": [
       "STREET_DIRECTION\n",
       "W    322990\n",
       "S    302577\n",
       "N    218587\n",
       "E     61337\n",
       "Name: count, dtype: int64"
      ]
     },
     "execution_count": 135,
     "metadata": {},
     "output_type": "execute_result"
    }
   ],
   "source": [
    "crashes['STREET_DIRECTION'].value_counts()"
   ]
  },
  {
   "cell_type": "code",
   "execution_count": 136,
   "metadata": {},
   "outputs": [
    {
     "data": {
      "text/plain": [
       "STREET_NAME\n",
       "WESTERN AVE        24940\n",
       "PULASKI RD         21987\n",
       "CICERO AVE         20525\n",
       "ASHLAND AVE        19811\n",
       "HALSTED ST         17599\n",
       "                   ...  \n",
       "DOUGLAS DR             1\n",
       "BROADWAY ST            1\n",
       "55TH STREET            1\n",
       "LEAVENWORTH AVE        1\n",
       "BOWEN DR               1\n",
       "Name: count, Length: 1584, dtype: int64"
      ]
     },
     "execution_count": 136,
     "metadata": {},
     "output_type": "execute_result"
    }
   ],
   "source": [
    "crashes['STREET_NAME'].value_counts()"
   ]
  },
  {
   "cell_type": "code",
   "execution_count": 137,
   "metadata": {},
   "outputs": [
    {
     "data": {
      "text/plain": [
       "LOCATION\n",
       "POINT (-87.905309125103 41.976201139024)    1458\n",
       "POINT (-87.619928173678 41.900958919109)     836\n",
       "POINT (-87.580147768689 41.791420282098)     631\n",
       "POINT (-87.585971992965 41.751460603167)     622\n",
       "POINT (-87.585275565077 41.722257273006)     493\n",
       "                                            ... \n",
       "POINT (-87.707564025245 41.852509987222)       1\n",
       "POINT (-87.702609899631 41.762412128452)       1\n",
       "POINT (-87.613666720123 41.722009827082)       1\n",
       "POINT (-87.702823840451 41.979337975803)       1\n",
       "POINT (-87.594817112645 41.781700186011)       1\n",
       "Name: count, Length: 321970, dtype: int64"
      ]
     },
     "execution_count": 137,
     "metadata": {},
     "output_type": "execute_result"
    }
   ],
   "source": [
    "crashes['LOCATION'].value_counts()"
   ]
  },
  {
   "cell_type": "code",
   "execution_count": 138,
   "metadata": {},
   "outputs": [
    {
     "data": {
      "text/plain": [
       "LATITUDE\n",
       "41.976201    1458\n",
       "41.900959     836\n",
       "41.791420     631\n",
       "41.751461     622\n",
       "41.722257     493\n",
       "             ... \n",
       "41.923913       1\n",
       "41.756217       1\n",
       "41.776184       1\n",
       "41.727744       1\n",
       "41.988111       1\n",
       "Name: count, Length: 321765, dtype: int64"
      ]
     },
     "execution_count": 138,
     "metadata": {},
     "output_type": "execute_result"
    }
   ],
   "source": [
    "crashes['LATITUDE'].value_counts()"
   ]
  },
  {
   "cell_type": "code",
   "execution_count": 139,
   "metadata": {},
   "outputs": [
    {
     "data": {
      "text/plain": [
       "LONGITUDE\n",
       "-87.905309    1458\n",
       "-87.619928     836\n",
       "-87.580148     631\n",
       "-87.585972     622\n",
       "-87.585276     493\n",
       "              ... \n",
       "-87.639853       1\n",
       "-87.678589       1\n",
       "-87.701708       1\n",
       "-87.690776       1\n",
       "-87.784404       1\n",
       "Name: count, Length: 321729, dtype: int64"
      ]
     },
     "execution_count": 139,
     "metadata": {},
     "output_type": "execute_result"
    }
   ],
   "source": [
    "crashes['LONGITUDE'].value_counts()"
   ]
  },
  {
   "cell_type": "markdown",
   "metadata": {},
   "source": [
    "now a quick check to see if the values are consistent"
   ]
  },
  {
   "cell_type": "code",
   "execution_count": 140,
   "metadata": {},
   "outputs": [
    {
     "name": "stdout",
     "output_type": "stream",
     "text": [
      "     LATITUDE  LONGITUDE  EXTRACTED_LATITUDE  EXTRACTED_LONGITUDE\n",
      "1   41.854120 -87.665902           41.854120           -87.665902\n",
      "2   41.942976 -87.761883           41.942976           -87.761883\n",
      "13  41.809781 -87.594213           41.809781           -87.594213\n",
      "14  41.899225 -87.696642           41.899225           -87.696642\n",
      "20  41.744152 -87.585945           41.744152           -87.585945\n"
     ]
    }
   ],
   "source": [
    "import numpy as np\n",
    "\n",
    "crashes['LOCATION'] = crashes['LOCATION'].astype(str)\n",
    "\n",
    "# Extract longitude and latitude\n",
    "def extract_coordinates(location):\n",
    "    try:\n",
    "        parts = location.replace(\"POINT (\", \"\").replace(\")\", \"\").split()\n",
    "        longitude = float(parts[0])\n",
    "        latitude = float(parts[1])\n",
    "        return longitude, latitude\n",
    "    except:\n",
    "        return np.nan, np.nan  # Return NaN if the format is incorrect\n",
    "\n",
    "# Apply function\n",
    "crashes[['EXTRACTED_LONGITUDE', 'EXTRACTED_LATITUDE']] = crashes['LOCATION'].apply(lambda x: pd.Series(extract_coordinates(x)))\n",
    "\n",
    "print(crashes[['LATITUDE', 'LONGITUDE', 'EXTRACTED_LATITUDE', 'EXTRACTED_LONGITUDE']].head())"
   ]
  },
  {
   "cell_type": "code",
   "execution_count": 141,
   "metadata": {},
   "outputs": [
    {
     "data": {
      "text/plain": [
       "1    -87.665902\n",
       "2    -87.761883\n",
       "13   -87.594213\n",
       "14   -87.696642\n",
       "20   -87.585945\n",
       "Name: EXTRACTED_LONGITUDE, dtype: float64"
      ]
     },
     "execution_count": 141,
     "metadata": {},
     "output_type": "execute_result"
    }
   ],
   "source": [
    "crashes['EXTRACTED_LONGITUDE'].head()"
   ]
  },
  {
   "cell_type": "code",
   "execution_count": 142,
   "metadata": {},
   "outputs": [
    {
     "data": {
      "text/plain": [
       "1    -87.665902\n",
       "2    -87.761883\n",
       "13   -87.594213\n",
       "14   -87.696642\n",
       "20   -87.585945\n",
       "Name: LONGITUDE, dtype: float64"
      ]
     },
     "execution_count": 142,
     "metadata": {},
     "output_type": "execute_result"
    }
   ],
   "source": [
    "crashes['LONGITUDE'].head()"
   ]
  },
  {
   "cell_type": "code",
   "execution_count": 167,
   "metadata": {},
   "outputs": [
    {
     "data": {
      "text/plain": [
       "np.float64(-87.665902342962)"
      ]
     },
     "execution_count": 167,
     "metadata": {},
     "output_type": "execute_result"
    }
   ],
   "source": [
    "crashes['EXTRACTED_LONGITUDE'][1]"
   ]
  },
  {
   "cell_type": "code",
   "execution_count": 160,
   "metadata": {},
   "outputs": [
    {
     "data": {
      "text/plain": [
       "np.float64(-87.665902343)"
      ]
     },
     "execution_count": 160,
     "metadata": {},
     "output_type": "execute_result"
    }
   ],
   "source": [
    "crashes['LONGITUDE'][1]"
   ]
  },
  {
   "cell_type": "code",
   "execution_count": 168,
   "metadata": {},
   "outputs": [
    {
     "data": {
      "text/plain": [
       "np.float64(-87.665902343)"
      ]
     },
     "execution_count": 168,
     "metadata": {},
     "output_type": "execute_result"
    }
   ],
   "source": [
    "crashes['EXTRACTED_LONGITUDE'][1].round(9)"
   ]
  },
  {
   "cell_type": "markdown",
   "metadata": {},
   "source": [
    "the coordinate in the LOCATION are more precise, while for the LATITURE anf LONGITUDE we have an 9 digit precision"
   ]
  },
  {
   "cell_type": "code",
   "execution_count": 145,
   "metadata": {},
   "outputs": [
    {
     "data": {
      "text/plain": [
       "np.True_"
      ]
     },
     "execution_count": 145,
     "metadata": {},
     "output_type": "execute_result"
    }
   ],
   "source": [
    "crashes['EXTRACTED_LONGITUDE'][1].round(9) == crashes['LONGITUDE'][1]"
   ]
  },
  {
   "cell_type": "code",
   "execution_count": null,
   "metadata": {},
   "outputs": [
    {
     "name": "stdout",
     "output_type": "stream",
     "text": [
      "Number of inconsistent rows: 1130\n",
      "        LATITUDE  LONGITUDE  EXTRACTED_LATITUDE  EXTRACTED_LONGITUDE  \\\n",
      "16880  41.997446 -87.699952           41.997446           -87.699952   \n",
      "16982  41.947280 -87.657713           41.947280           -87.657713   \n",
      "17481  41.735797 -87.670812           41.735797           -87.670812   \n",
      "17536  41.828110 -87.704402           41.828110           -87.704402   \n",
      "17777  41.886432 -87.701211           41.886432           -87.701211   \n",
      "\n",
      "                                     LOCATION  \n",
      "16880   POINT (-87.69995249778 41.9974456075)  \n",
      "16982  POINT (-87.6577127425 41.947280376907)  \n",
      "17481  POINT (-87.6708122735 41.735797435784)  \n",
      "17536  POINT (-87.704402189965 41.8281099935)  \n",
      "17777  POINT (-87.7012111225 41.886431603013)  \n"
     ]
    }
   ],
   "source": [
    "# Find inconsistent rows\n",
    "inconsistent_rows = crashes[\n",
    "    (crashes['LONGITUDE'] != crashes['EXTRACTED_LONGITUDE'].round(9)) |\n",
    "    (crashes['LATITUDE'] != crashes['EXTRACTED_LATITUDE'].round(9))\n",
    "]\n",
    "\n",
    "print(\"Number of inconsistent rows:\", inconsistent_rows.shape[0])\n",
    "print(inconsistent_rows[['LATITUDE', 'LONGITUDE', 'EXTRACTED_LATITUDE', 'EXTRACTED_LONGITUDE', 'LOCATION']].head())\n"
   ]
  },
  {
   "cell_type": "code",
   "execution_count": 148,
   "metadata": {},
   "outputs": [
    {
     "data": {
      "text/plain": [
       "1130"
      ]
     },
     "execution_count": 148,
     "metadata": {},
     "output_type": "execute_result"
    }
   ],
   "source": [
    "len(inconsistent_rows)"
   ]
  },
  {
   "cell_type": "code",
   "execution_count": 164,
   "metadata": {},
   "outputs": [
    {
     "name": "stdout",
     "output_type": "stream",
     "text": [
      "        LATITUDE  EXTRACTED_LATITUDE\n",
      "16880  41.997446           41.997446\n",
      "16982  41.947280           41.947280\n",
      "17481  41.735797           41.735797\n",
      "17536  41.828110           41.828110\n",
      "17777  41.886432           41.886432\n"
     ]
    }
   ],
   "source": [
    "print(inconsistent_rows[['LATITUDE', 'EXTRACTED_LATITUDE']].head())\n"
   ]
  },
  {
   "cell_type": "code",
   "execution_count": 165,
   "metadata": {},
   "outputs": [
    {
     "data": {
      "text/plain": [
       "np.float64(41.997445607)"
      ]
     },
     "execution_count": 165,
     "metadata": {},
     "output_type": "execute_result"
    }
   ],
   "source": [
    "inconsistent_rows['LATITUDE'][16880]"
   ]
  },
  {
   "cell_type": "code",
   "execution_count": 166,
   "metadata": {},
   "outputs": [
    {
     "data": {
      "text/plain": [
       "np.float64(41.997445608)"
      ]
     },
     "execution_count": 166,
     "metadata": {},
     "output_type": "execute_result"
    }
   ],
   "source": [
    "inconsistent_rows['EXTRACTED_LATITUDE'][16880].round(9)"
   ]
  },
  {
   "cell_type": "markdown",
   "metadata": {},
   "source": [
    "we can see how the 'wrong entries' are in reality corret but it is just a rounding problem. What we want to do now i check any discrepancy given an error margin"
   ]
  },
  {
   "cell_type": "code",
   "execution_count": 169,
   "metadata": {},
   "outputs": [
    {
     "name": "stdout",
     "output_type": "stream",
     "text": [
      "Number of inconsistent rows: 0\n",
      "Empty DataFrame\n",
      "Columns: [LATITUDE, LONGITUDE, EXTRACTED_LATITUDE, EXTRACTED_LONGITUDE, LOCATION]\n",
      "Index: []\n"
     ]
    }
   ],
   "source": [
    "margin_of_error = 1e-9\n",
    "\n",
    "# Find inconsistent rows with a margin of error\n",
    "inconsistent_rows = crashes[\n",
    "    ~np.isclose(crashes['LONGITUDE'], crashes['EXTRACTED_LONGITUDE'], atol=margin_of_error) |\n",
    "    ~np.isclose(crashes['LATITUDE'], crashes['EXTRACTED_LATITUDE'], atol=margin_of_error)\n",
    "]\n",
    "\n",
    "# Display inconsistencies\n",
    "print(\"Number of inconsistent rows:\", inconsistent_rows.shape[0])\n",
    "print(inconsistent_rows[['LATITUDE', 'LONGITUDE', 'EXTRACTED_LATITUDE', 'EXTRACTED_LONGITUDE', 'LOCATION']].head())\n"
   ]
  },
  {
   "cell_type": "markdown",
   "metadata": {},
   "source": [
    "---"
   ]
  },
  {
   "cell_type": "markdown",
   "metadata": {},
   "source": [
    "## NUM_UNITS and INJURIES"
   ]
  },
  {
   "cell_type": "code",
   "execution_count": 171,
   "metadata": {},
   "outputs": [
    {
     "data": {
      "text/plain": [
       "NUM_UNITS\n",
       "2     792930\n",
       "3      50076\n",
       "1      49368\n",
       "4       9676\n",
       "5       2359\n",
       "6        669\n",
       "7        229\n",
       "8        100\n",
       "9         41\n",
       "10        19\n",
       "11         9\n",
       "12         5\n",
       "18         5\n",
       "14         2\n",
       "16         2\n",
       "13         1\n",
       "15         1\n",
       "Name: count, dtype: int64"
      ]
     },
     "execution_count": 171,
     "metadata": {},
     "output_type": "execute_result"
    }
   ],
   "source": [
    "crashes['NUM_UNITS'].value_counts()"
   ]
  },
  {
   "cell_type": "code",
   "execution_count": 172,
   "metadata": {},
   "outputs": [
    {
     "data": {
      "text/plain": [
       "MOST_SEVERE_INJURY\n",
       "NO INDICATION OF INJURY     776024\n",
       "NONINCAPACITATING INJURY     71573\n",
       "REPORTED, NOT EVIDENT        39818\n",
       "INCAPACITATING INJURY        15095\n",
       "FATAL                          987\n",
       "Name: count, dtype: int64"
      ]
     },
     "execution_count": 172,
     "metadata": {},
     "output_type": "execute_result"
    }
   ],
   "source": [
    "crashes['MOST_SEVERE_INJURY'].value_counts()"
   ]
  },
  {
   "cell_type": "code",
   "execution_count": 173,
   "metadata": {},
   "outputs": [
    {
     "data": {
      "text/plain": [
       "INJURIES_TOTAL\n",
       "0.0     776038\n",
       "1.0      95772\n",
       "2.0      21434\n",
       "3.0       6531\n",
       "4.0       2322\n",
       "5.0        825\n",
       "6.0        324\n",
       "7.0        136\n",
       "8.0         53\n",
       "9.0         27\n",
       "10.0        16\n",
       "11.0         9\n",
       "15.0         7\n",
       "12.0         6\n",
       "21.0         4\n",
       "13.0         3\n",
       "17.0         1\n",
       "14.0         1\n",
       "19.0         1\n",
       "16.0         1\n",
       "Name: count, dtype: int64"
      ]
     },
     "execution_count": 173,
     "metadata": {},
     "output_type": "execute_result"
    }
   ],
   "source": [
    "crashes['INJURIES_TOTAL'].value_counts()"
   ]
  },
  {
   "cell_type": "code",
   "execution_count": 174,
   "metadata": {},
   "outputs": [
    {
     "data": {
      "text/plain": [
       "INJURIES_FATAL\n",
       "0.0    902524\n",
       "1.0       913\n",
       "2.0        65\n",
       "3.0         8\n",
       "4.0         1\n",
       "Name: count, dtype: int64"
      ]
     },
     "execution_count": 174,
     "metadata": {},
     "output_type": "execute_result"
    }
   ],
   "source": [
    "crashes['INJURIES_FATAL'].value_counts()"
   ]
  },
  {
   "cell_type": "code",
   "execution_count": 175,
   "metadata": {},
   "outputs": [
    {
     "data": {
      "text/plain": [
       "INJURIES_INCAPACITATING\n",
       "0.0     888266\n",
       "1.0      13396\n",
       "2.0       1393\n",
       "3.0        310\n",
       "4.0        107\n",
       "5.0         28\n",
       "6.0          7\n",
       "7.0          2\n",
       "10.0         1\n",
       "8.0          1\n",
       "Name: count, dtype: int64"
      ]
     },
     "execution_count": 175,
     "metadata": {},
     "output_type": "execute_result"
    }
   ],
   "source": [
    "crashes['INJURIES_INCAPACITATING'].value_counts()"
   ]
  },
  {
   "cell_type": "code",
   "execution_count": 176,
   "metadata": {},
   "outputs": [
    {
     "data": {
      "text/plain": [
       "INJURIES_NON_INCAPACITATING\n",
       "0.0     829178\n",
       "1.0      58246\n",
       "2.0      11082\n",
       "3.0       3238\n",
       "4.0       1113\n",
       "5.0        384\n",
       "6.0        157\n",
       "7.0         56\n",
       "8.0         22\n",
       "10.0         9\n",
       "9.0          8\n",
       "11.0         6\n",
       "12.0         4\n",
       "21.0         2\n",
       "14.0         1\n",
       "19.0         1\n",
       "18.0         1\n",
       "15.0         1\n",
       "16.0         1\n",
       "13.0         1\n",
       "Name: count, dtype: int64"
      ]
     },
     "execution_count": 176,
     "metadata": {},
     "output_type": "execute_result"
    }
   ],
   "source": [
    "crashes['INJURIES_NON_INCAPACITATING'].value_counts()"
   ]
  },
  {
   "cell_type": "code",
   "execution_count": 177,
   "metadata": {},
   "outputs": [
    {
     "data": {
      "text/plain": [
       "INJURIES_REPORTED_NOT_EVIDENT\n",
       "0.0     859077\n",
       "1.0      34507\n",
       "2.0       7169\n",
       "3.0       1853\n",
       "4.0        589\n",
       "5.0        200\n",
       "6.0         55\n",
       "7.0         28\n",
       "8.0         14\n",
       "9.0         10\n",
       "10.0         5\n",
       "11.0         2\n",
       "15.0         2\n",
       "Name: count, dtype: int64"
      ]
     },
     "execution_count": 177,
     "metadata": {},
     "output_type": "execute_result"
    }
   ],
   "source": [
    "crashes['INJURIES_REPORTED_NOT_EVIDENT'].value_counts()"
   ]
  },
  {
   "cell_type": "code",
   "execution_count": 178,
   "metadata": {},
   "outputs": [
    {
     "data": {
      "text/plain": [
       "INJURIES_NO_INDICATION\n",
       "2.0     419771\n",
       "1.0     277210\n",
       "3.0     113963\n",
       "4.0      42516\n",
       "0.0      19452\n",
       "5.0      17816\n",
       "6.0       7396\n",
       "7.0       2864\n",
       "8.0       1272\n",
       "9.0        530\n",
       "10.0       258\n",
       "11.0       122\n",
       "12.0        78\n",
       "13.0        44\n",
       "14.0        41\n",
       "15.0        23\n",
       "16.0        23\n",
       "17.0        18\n",
       "20.0        12\n",
       "19.0         9\n",
       "21.0         7\n",
       "29.0         7\n",
       "37.0         6\n",
       "26.0         6\n",
       "22.0         6\n",
       "27.0         5\n",
       "36.0         5\n",
       "30.0         5\n",
       "24.0         5\n",
       "31.0         4\n",
       "42.0         4\n",
       "25.0         4\n",
       "18.0         4\n",
       "28.0         3\n",
       "32.0         2\n",
       "33.0         2\n",
       "40.0         2\n",
       "34.0         2\n",
       "35.0         2\n",
       "45.0         2\n",
       "46.0         1\n",
       "50.0         1\n",
       "38.0         1\n",
       "61.0         1\n",
       "43.0         1\n",
       "48.0         1\n",
       "41.0         1\n",
       "23.0         1\n",
       "39.0         1\n",
       "49.0         1\n",
       "Name: count, dtype: int64"
      ]
     },
     "execution_count": 178,
     "metadata": {},
     "output_type": "execute_result"
    }
   ],
   "source": [
    "crashes['INJURIES_NO_INDICATION'].value_counts()"
   ]
  },
  {
   "cell_type": "code",
   "execution_count": 179,
   "metadata": {},
   "outputs": [
    {
     "data": {
      "text/plain": [
       "INJURIES_UNKNOWN\n",
       "0.0    903511\n",
       "Name: count, dtype: int64"
      ]
     },
     "execution_count": 179,
     "metadata": {},
     "output_type": "execute_result"
    }
   ],
   "source": [
    "crashes['INJURIES_UNKNOWN'].value_counts()"
   ]
  },
  {
   "cell_type": "markdown",
   "metadata": {},
   "source": [
    "surely we can drop INJURIES_UNKNOWN"
   ]
  },
  {
   "cell_type": "code",
   "execution_count": 180,
   "metadata": {},
   "outputs": [],
   "source": [
    "crashes = crashes.drop(columns=['INJURIES_UNKNOWN'])"
   ]
  },
  {
   "cell_type": "markdown",
   "metadata": {},
   "source": [
    "---"
   ]
  },
  {
   "cell_type": "code",
   "execution_count": 149,
   "metadata": {},
   "outputs": [
    {
     "name": "stdout",
     "output_type": "stream",
     "text": [
      "<class 'pandas.core.frame.DataFrame'>\n",
      "RangeIndex: 2003340 entries, 0 to 2003339\n",
      "Data columns (total 29 columns):\n",
      " #   Column                 Non-Null Count    Dtype  \n",
      "---  ------                 --------------    -----  \n",
      " 0   PERSON_ID              2003340 non-null  object \n",
      " 1   PERSON_TYPE            2003340 non-null  object \n",
      " 2   CRASH_RECORD_ID        2003340 non-null  object \n",
      " 3   VEHICLE_ID             1962246 non-null  float64\n",
      " 4   CRASH_DATE             2003340 non-null  object \n",
      " 5   SEAT_NO                404959 non-null   float64\n",
      " 6   CITY                   1458050 non-null  object \n",
      " 7   STATE                  1480279 non-null  object \n",
      " 8   ZIPCODE                1341900 non-null  object \n",
      " 9   SEX                    1969502 non-null  object \n",
      " 10  AGE                    1420517 non-null  float64\n",
      " 11  DRIVERS_LICENSE_STATE  1172976 non-null  object \n",
      " 12  DRIVERS_LICENSE_CLASS  974527 non-null   object \n",
      " 13  SAFETY_EQUIPMENT       1997745 non-null  object \n",
      " 14  AIRBAG_DEPLOYED        1963791 non-null  object \n",
      " 15  EJECTION               1978115 non-null  object \n",
      " 16  INJURY_CLASSIFICATION  2002584 non-null  object \n",
      " 17  HOSPITAL               323379 non-null   object \n",
      " 18  EMS_AGENCY             199529 non-null   object \n",
      " 19  EMS_RUN_NO             33361 non-null    object \n",
      " 20  DRIVER_ACTION          1594795 non-null  object \n",
      " 21  DRIVER_VISION          1594162 non-null  object \n",
      " 22  PHYSICAL_CONDITION     1595892 non-null  object \n",
      " 23  PEDPEDAL_ACTION        39281 non-null    object \n",
      " 24  PEDPEDAL_VISIBILITY    39211 non-null    object \n",
      " 25  PEDPEDAL_LOCATION      39282 non-null    object \n",
      " 26  BAC_RESULT             1595718 non-null  object \n",
      " 27  BAC_RESULT VALUE       2213 non-null     float64\n",
      " 28  CELL_PHONE_USE         1160 non-null     object \n",
      "dtypes: float64(4), object(25)\n",
      "memory usage: 443.2+ MB\n"
     ]
    }
   ],
   "source": [
    "people.info(show_counts=True)"
   ]
  },
  {
   "cell_type": "code",
   "execution_count": 150,
   "metadata": {},
   "outputs": [
    {
     "name": "stdout",
     "output_type": "stream",
     "text": [
      "<class 'pandas.core.frame.DataFrame'>\n",
      "RangeIndex: 1860568 entries, 0 to 1860567\n",
      "Data columns (total 71 columns):\n",
      " #   Column                    Non-Null Count    Dtype  \n",
      "---  ------                    --------------    -----  \n",
      " 0   CRASH_UNIT_ID             1860568 non-null  int64  \n",
      " 1   CRASH_RECORD_ID           1860568 non-null  object \n",
      " 2   CRASH_DATE                1860568 non-null  object \n",
      " 3   UNIT_NO                   1860568 non-null  int64  \n",
      " 4   UNIT_TYPE                 1858293 non-null  object \n",
      " 5   NUM_PASSENGERS            275500 non-null   float64\n",
      " 6   VEHICLE_ID                1817047 non-null  float64\n",
      " 7   CMRC_VEH_I                34572 non-null    object \n",
      " 8   MAKE                      1817042 non-null  object \n",
      " 9   MODEL                     1816897 non-null  object \n",
      " 10  LIC_PLATE_STATE           1650739 non-null  object \n",
      " 11  VEHICLE_YEAR              1528798 non-null  float64\n",
      " 12  VEHICLE_DEFECT            1817047 non-null  object \n",
      " 13  VEHICLE_TYPE              1817047 non-null  object \n",
      " 14  VEHICLE_USE               1817047 non-null  object \n",
      " 15  TRAVEL_DIRECTION          1817047 non-null  object \n",
      " 16  MANEUVER                  1817047 non-null  object \n",
      " 17  TOWED_I                   231226 non-null   object \n",
      " 18  FIRE_I                    1527 non-null     object \n",
      " 19  OCCUPANT_CNT              1817047 non-null  float64\n",
      " 20  EXCEED_SPEED_LIMIT_I      2402 non-null     object \n",
      " 21  TOWED_BY                  175158 non-null   object \n",
      " 22  TOWED_TO                  107412 non-null   object \n",
      " 23  AREA_00_I                 62881 non-null    object \n",
      " 24  AREA_01_I                 500234 non-null   object \n",
      " 25  AREA_02_I                 293212 non-null   object \n",
      " 26  AREA_03_I                 179236 non-null   object \n",
      " 27  AREA_04_I                 177197 non-null   object \n",
      " 28  AREA_05_I                 275732 non-null   object \n",
      " 29  AREA_06_I                 291607 non-null   object \n",
      " 30  AREA_07_I                 274328 non-null   object \n",
      " 31  AREA_08_I                 257884 non-null   object \n",
      " 32  AREA_09_I                 132929 non-null   object \n",
      " 33  AREA_10_I                 194666 non-null   object \n",
      " 34  AREA_11_I                 373517 non-null   object \n",
      " 35  AREA_12_I                 362684 non-null   object \n",
      " 36  AREA_99_I                 211849 non-null   object \n",
      " 37  FIRST_CONTACT_POINT       1813889 non-null  object \n",
      " 38  CMV_ID                    18713 non-null    float64\n",
      " 39  USDOT_NO                  10374 non-null    object \n",
      " 40  CCMC_NO                   2166 non-null     object \n",
      " 41  ILCC_NO                   1480 non-null     object \n",
      " 42  COMMERCIAL_SRC            12220 non-null    object \n",
      " 43  GVWR                      10267 non-null    object \n",
      " 44  CARRIER_NAME              17879 non-null    object \n",
      " 45  CARRIER_STATE             16756 non-null    object \n",
      " 46  CARRIER_CITY              16442 non-null    object \n",
      " 47  HAZMAT_PLACARDS_I         360 non-null      object \n",
      " 48  HAZMAT_NAME               63 non-null       object \n",
      " 49  UN_NO                     619 non-null      object \n",
      " 50  HAZMAT_PRESENT_I          13672 non-null    object \n",
      " 51  HAZMAT_REPORT_I           13309 non-null    object \n",
      " 52  HAZMAT_REPORT_NO          1 non-null        object \n",
      " 53  MCS_REPORT_I              13357 non-null    object \n",
      " 54  MCS_REPORT_NO             7 non-null        object \n",
      " 55  HAZMAT_VIO_CAUSE_CRASH_I  13484 non-null    object \n",
      " 56  MCS_VIO_CAUSE_CRASH_I     13264 non-null    object \n",
      " 57  IDOT_PERMIT_NO            994 non-null      object \n",
      " 58  WIDE_LOAD_I               169 non-null      object \n",
      " 59  TRAILER1_WIDTH            3053 non-null     object \n",
      " 60  TRAILER2_WIDTH            371 non-null      object \n",
      " 61  TRAILER1_LENGTH           2442 non-null     float64\n",
      " 62  TRAILER2_LENGTH           70 non-null       float64\n",
      " 63  TOTAL_VEHICLE_LENGTH      2979 non-null     float64\n",
      " 64  AXLE_CNT                  4506 non-null     float64\n",
      " 65  VEHICLE_CONFIG            15478 non-null    object \n",
      " 66  CARGO_BODY_TYPE           14802 non-null    object \n",
      " 67  LOAD_TYPE                 14142 non-null    object \n",
      " 68  HAZMAT_OUT_OF_SERVICE_I   12937 non-null    object \n",
      " 69  MCS_OUT_OF_SERVICE_I      13172 non-null    object \n",
      " 70  HAZMAT_CLASS              1183 non-null     object \n",
      "dtypes: float64(9), int64(2), object(60)\n",
      "memory usage: 1007.8+ MB\n"
     ]
    }
   ],
   "source": [
    "vehicles.info(show_counts=True)"
   ]
  },
  {
   "cell_type": "markdown",
   "metadata": {},
   "source": [
    "# Entries removal\n",
    "\n",
    "We want to keep only the entries from the 'people' and 'vehicles' dataset which are linked to some crashes, hence when they have a 'CRASH_RECORD_ID' present in the 'crashes' dataset"
   ]
  },
  {
   "cell_type": "code",
   "execution_count": 151,
   "metadata": {},
   "outputs": [
    {
     "name": "stdout",
     "output_type": "stream",
     "text": [
      "0\n",
      "0\n",
      "0\n"
     ]
    }
   ],
   "source": [
    "# null value check for CRASH_RECORD_ID\n",
    "print(crashes['CRASH_RECORD_ID'].isnull().sum())\n",
    "print(people['CRASH_RECORD_ID'].isnull().sum())\n",
    "print(vehicles['CRASH_RECORD_ID'].isnull().sum())"
   ]
  },
  {
   "cell_type": "code",
   "execution_count": 152,
   "metadata": {},
   "outputs": [
    {
     "name": "stdout",
     "output_type": "stream",
     "text": [
      "Number of rows in 'people' with missing crash record ID:  14669\n"
     ]
    }
   ],
   "source": [
    "missing_crash_ids_people = people[~people['CRASH_RECORD_ID'].isin(crashes['CRASH_RECORD_ID'])]\n",
    "print(\"Number of rows in 'people' with missing crash record ID: \", len(missing_crash_ids_people))"
   ]
  },
  {
   "cell_type": "code",
   "execution_count": 153,
   "metadata": {},
   "outputs": [
    {
     "name": "stdout",
     "output_type": "stream",
     "text": [
      "Number of rows in 'vehicles' with missing crash record ID:  13144\n"
     ]
    }
   ],
   "source": [
    "missing_crash_ids_vehicles = vehicles[~vehicles['CRASH_RECORD_ID'].isin(crashes['CRASH_RECORD_ID'])]\n",
    "print(\"Number of rows in 'vehicles' with missing crash record ID: \", len(missing_crash_ids_vehicles))"
   ]
  },
  {
   "cell_type": "markdown",
   "metadata": {},
   "source": []
  }
 ],
 "metadata": {
  "kernelspec": {
   "display_name": ".venv",
   "language": "python",
   "name": "python3"
  },
  "language_info": {
   "codemirror_mode": {
    "name": "ipython",
    "version": 3
   },
   "file_extension": ".py",
   "mimetype": "text/x-python",
   "name": "python",
   "nbconvert_exporter": "python",
   "pygments_lexer": "ipython3",
   "version": "3.10.8"
  }
 },
 "nbformat": 4,
 "nbformat_minor": 2
}
