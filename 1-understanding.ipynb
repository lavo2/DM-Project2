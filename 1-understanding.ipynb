{
 "cells": [
  {
   "cell_type": "markdown",
   "metadata": {},
   "source": [
    "Data Understaninbg"
   ]
  },
  {
   "cell_type": "markdown",
   "metadata": {},
   "source": [
    "# Dataset Loading"
   ]
  },
  {
   "cell_type": "code",
   "execution_count": 1,
   "metadata": {},
   "outputs": [],
   "source": [
    "import pandas as pd\n",
    "crashes = pd.read_csv('dataset/crashes.csv', low_memory=False)\n",
    "people = pd.read_csv('dataset/people.csv', low_memory=False)\n",
    "vehicles = pd.read_csv('dataset/vehicles.csv', low_memory=False)"
   ]
  },
  {
   "cell_type": "markdown",
   "metadata": {},
   "source": [
    "# Dataset Analisys"
   ]
  },
  {
   "cell_type": "markdown",
   "metadata": {},
   "source": [
    "first of all we want analyse the dataset columns, fix the types and keep only the relevant one."
   ]
  },
  {
   "cell_type": "code",
   "execution_count": 2,
   "metadata": {},
   "outputs": [
    {
     "name": "stdout",
     "output_type": "stream",
     "text": [
      "<class 'pandas.core.frame.DataFrame'>\n",
      "RangeIndex: 912164 entries, 0 to 912163\n",
      "Data columns (total 48 columns):\n",
      " #   Column                         Non-Null Count   Dtype  \n",
      "---  ------                         --------------   -----  \n",
      " 0   CRASH_RECORD_ID                912164 non-null  object \n",
      " 1   CRASH_DATE_EST_I               67271 non-null   object \n",
      " 2   CRASH_DATE                     912164 non-null  object \n",
      " 3   POSTED_SPEED_LIMIT             912164 non-null  int64  \n",
      " 4   TRAFFIC_CONTROL_DEVICE         912164 non-null  object \n",
      " 5   DEVICE_CONDITION               912164 non-null  object \n",
      " 6   WEATHER_CONDITION              912164 non-null  object \n",
      " 7   LIGHTING_CONDITION             912164 non-null  object \n",
      " 8   FIRST_CRASH_TYPE               912164 non-null  object \n",
      " 9   TRAFFICWAY_TYPE                912164 non-null  object \n",
      " 10  LANE_CNT                       199023 non-null  float64\n",
      " 11  ALIGNMENT                      912164 non-null  object \n",
      " 12  ROADWAY_SURFACE_COND           912164 non-null  object \n",
      " 13  ROAD_DEFECT                    912164 non-null  object \n",
      " 14  REPORT_TYPE                    883567 non-null  object \n",
      " 15  CRASH_TYPE                     912164 non-null  object \n",
      " 16  INTERSECTION_RELATED_I         209688 non-null  object \n",
      " 17  NOT_RIGHT_OF_WAY_I             41472 non-null   object \n",
      " 18  HIT_AND_RUN_I                  286050 non-null  object \n",
      " 19  DAMAGE                         912164 non-null  object \n",
      " 20  DATE_POLICE_NOTIFIED           912164 non-null  object \n",
      " 21  PRIM_CONTRIBUTORY_CAUSE        912164 non-null  object \n",
      " 22  SEC_CONTRIBUTORY_CAUSE         912164 non-null  object \n",
      " 23  STREET_NO                      912164 non-null  int64  \n",
      " 24  STREET_DIRECTION               912160 non-null  object \n",
      " 25  STREET_NAME                    912163 non-null  object \n",
      " 26  BEAT_OF_OCCURRENCE             912159 non-null  float64\n",
      " 27  PHOTOS_TAKEN_I                 12532 non-null   object \n",
      " 28  STATEMENTS_TAKEN_I             21119 non-null   object \n",
      " 29  DOORING_I                      2870 non-null    object \n",
      " 30  WORK_ZONE_I                    5060 non-null    object \n",
      " 31  WORK_ZONE_TYPE                 3902 non-null    object \n",
      " 32  WORKERS_PRESENT_I              1302 non-null    object \n",
      " 33  NUM_UNITS                      912164 non-null  int64  \n",
      " 34  MOST_SEVERE_INJURY             910154 non-null  object \n",
      " 35  INJURIES_TOTAL                 910168 non-null  float64\n",
      " 36  INJURIES_FATAL                 910168 non-null  float64\n",
      " 37  INJURIES_INCAPACITATING        910168 non-null  float64\n",
      " 38  INJURIES_NON_INCAPACITATING    910168 non-null  float64\n",
      " 39  INJURIES_REPORTED_NOT_EVIDENT  910168 non-null  float64\n",
      " 40  INJURIES_NO_INDICATION         910168 non-null  float64\n",
      " 41  INJURIES_UNKNOWN               910168 non-null  float64\n",
      " 42  CRASH_HOUR                     912164 non-null  int64  \n",
      " 43  CRASH_DAY_OF_WEEK              912164 non-null  int64  \n",
      " 44  CRASH_MONTH                    912164 non-null  int64  \n",
      " 45  LATITUDE                       905503 non-null  float64\n",
      " 46  LONGITUDE                      905503 non-null  float64\n",
      " 47  LOCATION                       905503 non-null  object \n",
      "dtypes: float64(11), int64(6), object(31)\n",
      "memory usage: 334.0+ MB\n"
     ]
    }
   ],
   "source": [
    "crashes.info()"
   ]
  },
  {
   "cell_type": "markdown",
   "metadata": {},
   "source": [
    "| **Column Name**               | **Type**           | **Description**                                                                                                                                   |\n",
    "|-------------------------------|---------------------|---------------------------------------------------------------------------------------------------------------------------------------------------|\n",
    "| CRASH_RECORD_ID               | String             | Unique identifier for the crash in the Crash dataset.                                                                                             |\n",
    "| RD_NO                         | String             | Chicago Police Department Records Division Number (may be blank if no corresponding record).                                                      |\n",
    "| CRASH_DATE                    | DateTime           | Date and time (MM/DD/YYYY HH:MM:SS) when the crash occurred.                                                                                      |\n",
    "| POSTED_SPEED_LIMIT            | Integer            | The posted speed limit where the crash occurred.                                                                                                  |\n",
    "| TRAFFIC_CONTROL_DEVICE        | String             | Type of traffic control device present (e.g., signal, stop sign, etc.).                                                                           |\n",
    "| DEVICE_CONDITION              | String             | Condition of the traffic control device (e.g., functioning, malfunctioning).                                                                      |\n",
    "| WEATHER_CONDITION             | String             | Weather conditions at the time of the crash (e.g., clear, rain, snow).                                                                            |\n",
    "| LIGHTING_CONDITION            | String             | Lighting condition at the time (e.g., daylight, dark, dusk).                                                                                      |\n",
    "| FIRST_CRASH_TYPE              | String             | The first harmful event or action in the crash (e.g., rear-end, sideswipe).                                                                       |\n",
    "| TRAFFICWAY_TYPE               | String             | Type of trafficway (e.g., one-way, two-way).                                                                                                      |\n",
    "| LANE_CNT                      | Integer/Float      | Number of lanes on the roadway.                                                                                                                   |\n",
    "| ALIGNMENT                     | String             | Alignment of the roadway (e.g., straight, curved).                                                                                                |\n",
    "| ROADWAY_SURFACE_COND          | String             | Roadway surface condition (e.g., dry, wet, icy).                                                                                                 |\n",
    "| ROAD_DEFECT                   | String             | Presence of any road defects (e.g., potholes).                                                                                                    |\n",
    "| REPORT_TYPE                   | String             | Type of police report filed (e.g., On Site, Supplement).                                                                                         |\n",
    "| CRASH_TYPE                    | String             | High-level category (e.g., pedestrian crash, bicycle crash, other).                                                                               |\n",
    "| INTERSECTION_RELATED_I        | String (Y/N)       | Indicates if the crash was intersection-related (Y/N).                                                                                            |\n",
    "| NOT_RIGHT_OF_WAY              | String (Y/N)       | Indicates if the crash involved failure to yield right-of-way.                                                                                    |\n",
    "| HIT_AND_RUN_I                 | String (Y/N)       | Indicates if the crash was a hit-and-run (Y/N).                                                                                                   |\n",
    "| DAMAGE                        | String             | Estimated extent of damage (e.g., over $1,500).                                                                                                   |\n",
    "| DATE_POLICE_NOTIFIED          | DateTime           | Date and time (MM/DD/YYYY HH:MM:SS) when the police were notified.                                                                                |\n",
    "| PRIM_CONTRIBUTORY_CAUSE       | String             | Primary cause of the crash as determined by the report (e.g., speeding).                                                                          |\n",
    "| SEC_CONTRIBUTORY_CAUSE        | String             | Secondary cause contributing to the crash.                                                                                                        |\n",
    "| STREET_NO                     | Integer            | Street number where the crash occurred.                                                                                                           |\n",
    "| STREET_DIRECTION              | String             | Street directional (N, S, E, W).                                                                                                                  |\n",
    "| STREET_NAME                   | String             | Street name where the crash occurred.                                                                                                             |\n",
    "| BEAT_OF_OCCURRENCE            | Integer            | Police district beat number where the crash occurred.                                                                                             |\n",
    "| PHOTOS_TAKEN_I                | String (Y/N)       | Indicates if photos were taken at the scene (Y/N).                                                                                                |\n",
    "| STATEMENTS_TAKEN_I            | String (Y/N)       | Indicates if statements were taken (Y/N).                                                                                                         |\n",
    "| DOORING_I                     | String (Y/N)       | Indicates if a bicyclist was “doored” by a vehicle occupant (Y/N).                                                                                 |\n",
    "| WORK_ZONE_I                   | String (Y/N)       | Indicates if the crash occurred in a work zone (Y/N).                                                                                             |\n",
    "| WORK_ZONE_TYPE                | String             | Type of work zone (if applicable).                                                                                                                |\n",
    "| WORKERS_PRESENT_I             | String (Y/N)       | Indicates if workers were present in the work zone (Y/N).                                                                                         |\n",
    "| NUM_UNITS                     | Integer            | Number of vehicles and/or pedestrians involved in the crash.                                                                                      |\n",
    "| MOST_SEVERE_INJURY            | String             | Most severe injury reported (e.g., Fatal, Serious, etc.).                                                                                        |\n",
    "| INJURIES_TOTAL                | Integer            | Total number of reported injuries in the crash.                                                                                                   |\n",
    "| INJURIES_FATAL                | Integer            | Number of fatal injuries.                                                                                                                         |\n",
    "| INJURIES_INCAPACITATING       | Integer            | Number of incapacitating injuries.                                                                                                                |\n",
    "| INJURIES_NON_INCAPACITATING   | Integer            | Number of non-incapacitating injuries.                                                                                                            |\n",
    "| INJURIES_REPORTED_NOT_EVIDENT | Integer            | Number of reported injuries that were not evident.                                                                                                |\n",
    "| INJURIES_NO_INDICATION        | Integer            | Number of individuals with no indication of injury.                                                                                              |\n",
    "| INJURIES_UNKNOWN              | Integer            | Number of individuals with unknown injury status.                                                                                                 |\n",
    "| CRASH_HOUR                    | Integer            | Hour of the day (0–23) when the crash occurred.                                                                                                   |\n",
    "| CRASH_DAY_OF_WEEK             | Integer            | Day of the week (1=Sunday, 7=Saturday) when the crash occurred.                                                                                   |\n",
    "| CRASH_MONTH                   | Integer            | Month (1–12) when the crash occurred.                                                                                                             |\n",
    "| LATITUDE                      | Float              | Latitude of the crash location.                                                                                                                   |\n",
    "| LONGITUDE                     | Float              | Longitude of the crash location.                                                                                                                  |\n",
    "| LOCATION                      | Geolocation (Point) | Combined latitude/longitude location point.                                                                                                        |\n"
   ]
  },
  {
   "cell_type": "code",
   "execution_count": 3,
   "metadata": {},
   "outputs": [],
   "source": [
    "# casting dates\n",
    "crashes['DATE_POLICE_NOTIFIED'] = pd.to_datetime(crashes['DATE_POLICE_NOTIFIED'])\n",
    "crashes['CRASH_DATE'] = pd.to_datetime(crashes['CRASH_DATE'])\n",
    "# casting Y/N to boolean\n",
    "yn_cols = [\n",
    "    \"CRASH_DATE_EST_I\",        # \"Y\" if date is estimated, else NaN\n",
    "    \"INTERSECTION_RELATED_I\",  # \"Y\" or \"N\"\n",
    "    \"NOT_RIGHT_OF_WAY_I\",\n",
    "    \"HIT_AND_RUN_I\",\n",
    "    \"DOORING_I\",\n",
    "    \"WORK_ZONE_I\",\n",
    "    \"WORKERS_PRESENT_I\"\n",
    "]\n",
    "for col in yn_cols:\n",
    "    # Map \"Y\" -> True, \"N\" -> False, anything else (NaN included) stays NaN\n",
    "    crashes[col] = crashes[col].map({\"Y\": True, \"N\": False})"
   ]
  },
  {
   "cell_type": "code",
   "execution_count": 4,
   "metadata": {},
   "outputs": [],
   "source": [
    "pd.set_option('display.max_columns', None)"
   ]
  },
  {
   "cell_type": "code",
   "execution_count": 5,
   "metadata": {},
   "outputs": [
    {
     "data": {
      "text/html": [
       "<div>\n",
       "<style scoped>\n",
       "    .dataframe tbody tr th:only-of-type {\n",
       "        vertical-align: middle;\n",
       "    }\n",
       "\n",
       "    .dataframe tbody tr th {\n",
       "        vertical-align: top;\n",
       "    }\n",
       "\n",
       "    .dataframe thead th {\n",
       "        text-align: right;\n",
       "    }\n",
       "</style>\n",
       "<table border=\"1\" class=\"dataframe\">\n",
       "  <thead>\n",
       "    <tr style=\"text-align: right;\">\n",
       "      <th></th>\n",
       "      <th>CRASH_RECORD_ID</th>\n",
       "      <th>CRASH_DATE_EST_I</th>\n",
       "      <th>CRASH_DATE</th>\n",
       "      <th>POSTED_SPEED_LIMIT</th>\n",
       "      <th>TRAFFIC_CONTROL_DEVICE</th>\n",
       "      <th>DEVICE_CONDITION</th>\n",
       "      <th>WEATHER_CONDITION</th>\n",
       "      <th>LIGHTING_CONDITION</th>\n",
       "      <th>FIRST_CRASH_TYPE</th>\n",
       "      <th>TRAFFICWAY_TYPE</th>\n",
       "      <th>LANE_CNT</th>\n",
       "      <th>ALIGNMENT</th>\n",
       "      <th>ROADWAY_SURFACE_COND</th>\n",
       "      <th>ROAD_DEFECT</th>\n",
       "      <th>REPORT_TYPE</th>\n",
       "      <th>CRASH_TYPE</th>\n",
       "      <th>INTERSECTION_RELATED_I</th>\n",
       "      <th>NOT_RIGHT_OF_WAY_I</th>\n",
       "      <th>HIT_AND_RUN_I</th>\n",
       "      <th>DAMAGE</th>\n",
       "      <th>DATE_POLICE_NOTIFIED</th>\n",
       "      <th>PRIM_CONTRIBUTORY_CAUSE</th>\n",
       "      <th>SEC_CONTRIBUTORY_CAUSE</th>\n",
       "      <th>STREET_NO</th>\n",
       "      <th>STREET_DIRECTION</th>\n",
       "      <th>STREET_NAME</th>\n",
       "      <th>BEAT_OF_OCCURRENCE</th>\n",
       "      <th>PHOTOS_TAKEN_I</th>\n",
       "      <th>STATEMENTS_TAKEN_I</th>\n",
       "      <th>DOORING_I</th>\n",
       "      <th>WORK_ZONE_I</th>\n",
       "      <th>WORK_ZONE_TYPE</th>\n",
       "      <th>WORKERS_PRESENT_I</th>\n",
       "      <th>NUM_UNITS</th>\n",
       "      <th>MOST_SEVERE_INJURY</th>\n",
       "      <th>INJURIES_TOTAL</th>\n",
       "      <th>INJURIES_FATAL</th>\n",
       "      <th>INJURIES_INCAPACITATING</th>\n",
       "      <th>INJURIES_NON_INCAPACITATING</th>\n",
       "      <th>INJURIES_REPORTED_NOT_EVIDENT</th>\n",
       "      <th>INJURIES_NO_INDICATION</th>\n",
       "      <th>INJURIES_UNKNOWN</th>\n",
       "      <th>CRASH_HOUR</th>\n",
       "      <th>CRASH_DAY_OF_WEEK</th>\n",
       "      <th>CRASH_MONTH</th>\n",
       "      <th>LATITUDE</th>\n",
       "      <th>LONGITUDE</th>\n",
       "      <th>LOCATION</th>\n",
       "    </tr>\n",
       "  </thead>\n",
       "  <tbody>\n",
       "    <tr>\n",
       "      <th>0</th>\n",
       "      <td>6c1659069e9c6285a650e70d6f9b574ed5f64c12888479...</td>\n",
       "      <td>NaN</td>\n",
       "      <td>2023-08-18 12:50:00</td>\n",
       "      <td>15</td>\n",
       "      <td>OTHER</td>\n",
       "      <td>FUNCTIONING PROPERLY</td>\n",
       "      <td>CLEAR</td>\n",
       "      <td>DAYLIGHT</td>\n",
       "      <td>REAR END</td>\n",
       "      <td>OTHER</td>\n",
       "      <td>NaN</td>\n",
       "      <td>STRAIGHT AND LEVEL</td>\n",
       "      <td>DRY</td>\n",
       "      <td>NO DEFECTS</td>\n",
       "      <td>ON SCENE</td>\n",
       "      <td>INJURY AND / OR TOW DUE TO CRASH</td>\n",
       "      <td>NaN</td>\n",
       "      <td>NaN</td>\n",
       "      <td>NaN</td>\n",
       "      <td>OVER $1,500</td>\n",
       "      <td>2023-08-18 12:55:00</td>\n",
       "      <td>FOLLOWING TOO CLOSELY</td>\n",
       "      <td>DISTRACTION - FROM INSIDE VEHICLE</td>\n",
       "      <td>700</td>\n",
       "      <td>W</td>\n",
       "      <td>OHARE ST</td>\n",
       "      <td>1654.0</td>\n",
       "      <td>NaN</td>\n",
       "      <td>NaN</td>\n",
       "      <td>NaN</td>\n",
       "      <td>NaN</td>\n",
       "      <td>NaN</td>\n",
       "      <td>NaN</td>\n",
       "      <td>2</td>\n",
       "      <td>NONINCAPACITATING INJURY</td>\n",
       "      <td>1.0</td>\n",
       "      <td>0.0</td>\n",
       "      <td>0.0</td>\n",
       "      <td>1.0</td>\n",
       "      <td>0.0</td>\n",
       "      <td>1.0</td>\n",
       "      <td>0.0</td>\n",
       "      <td>12</td>\n",
       "      <td>6</td>\n",
       "      <td>8</td>\n",
       "      <td>NaN</td>\n",
       "      <td>NaN</td>\n",
       "      <td>NaN</td>\n",
       "    </tr>\n",
       "    <tr>\n",
       "      <th>1</th>\n",
       "      <td>5f54a59fcb087b12ae5b1acff96a3caf4f2d37e79f8db4...</td>\n",
       "      <td>NaN</td>\n",
       "      <td>2023-07-29 14:45:00</td>\n",
       "      <td>30</td>\n",
       "      <td>TRAFFIC SIGNAL</td>\n",
       "      <td>FUNCTIONING PROPERLY</td>\n",
       "      <td>CLEAR</td>\n",
       "      <td>DAYLIGHT</td>\n",
       "      <td>PARKED MOTOR VEHICLE</td>\n",
       "      <td>DIVIDED - W/MEDIAN (NOT RAISED)</td>\n",
       "      <td>NaN</td>\n",
       "      <td>STRAIGHT AND LEVEL</td>\n",
       "      <td>DRY</td>\n",
       "      <td>NO DEFECTS</td>\n",
       "      <td>ON SCENE</td>\n",
       "      <td>NO INJURY / DRIVE AWAY</td>\n",
       "      <td>NaN</td>\n",
       "      <td>NaN</td>\n",
       "      <td>True</td>\n",
       "      <td>OVER $1,500</td>\n",
       "      <td>2023-07-29 14:45:00</td>\n",
       "      <td>FAILING TO REDUCE SPEED TO AVOID CRASH</td>\n",
       "      <td>OPERATING VEHICLE IN ERRATIC, RECKLESS, CARELE...</td>\n",
       "      <td>2101</td>\n",
       "      <td>S</td>\n",
       "      <td>ASHLAND AVE</td>\n",
       "      <td>1235.0</td>\n",
       "      <td>NaN</td>\n",
       "      <td>NaN</td>\n",
       "      <td>NaN</td>\n",
       "      <td>NaN</td>\n",
       "      <td>NaN</td>\n",
       "      <td>NaN</td>\n",
       "      <td>4</td>\n",
       "      <td>NO INDICATION OF INJURY</td>\n",
       "      <td>0.0</td>\n",
       "      <td>0.0</td>\n",
       "      <td>0.0</td>\n",
       "      <td>0.0</td>\n",
       "      <td>0.0</td>\n",
       "      <td>1.0</td>\n",
       "      <td>0.0</td>\n",
       "      <td>14</td>\n",
       "      <td>7</td>\n",
       "      <td>7</td>\n",
       "      <td>41.854120</td>\n",
       "      <td>-87.665902</td>\n",
       "      <td>POINT (-87.665902342962 41.854120262952)</td>\n",
       "    </tr>\n",
       "    <tr>\n",
       "      <th>2</th>\n",
       "      <td>61fcb8c1eb522a6469b460e2134df3d15f82e81fd93e9c...</td>\n",
       "      <td>NaN</td>\n",
       "      <td>2023-08-18 17:58:00</td>\n",
       "      <td>30</td>\n",
       "      <td>NO CONTROLS</td>\n",
       "      <td>NO CONTROLS</td>\n",
       "      <td>CLEAR</td>\n",
       "      <td>DAYLIGHT</td>\n",
       "      <td>PEDALCYCLIST</td>\n",
       "      <td>NOT DIVIDED</td>\n",
       "      <td>NaN</td>\n",
       "      <td>STRAIGHT AND LEVEL</td>\n",
       "      <td>DRY</td>\n",
       "      <td>NO DEFECTS</td>\n",
       "      <td>ON SCENE</td>\n",
       "      <td>INJURY AND / OR TOW DUE TO CRASH</td>\n",
       "      <td>NaN</td>\n",
       "      <td>NaN</td>\n",
       "      <td>NaN</td>\n",
       "      <td>$501 - $1,500</td>\n",
       "      <td>2023-08-18 18:01:00</td>\n",
       "      <td>FAILING TO REDUCE SPEED TO AVOID CRASH</td>\n",
       "      <td>UNABLE TO DETERMINE</td>\n",
       "      <td>3422</td>\n",
       "      <td>N</td>\n",
       "      <td>LONG AVE</td>\n",
       "      <td>1633.0</td>\n",
       "      <td>NaN</td>\n",
       "      <td>NaN</td>\n",
       "      <td>NaN</td>\n",
       "      <td>NaN</td>\n",
       "      <td>NaN</td>\n",
       "      <td>NaN</td>\n",
       "      <td>2</td>\n",
       "      <td>NONINCAPACITATING INJURY</td>\n",
       "      <td>1.0</td>\n",
       "      <td>0.0</td>\n",
       "      <td>0.0</td>\n",
       "      <td>1.0</td>\n",
       "      <td>0.0</td>\n",
       "      <td>1.0</td>\n",
       "      <td>0.0</td>\n",
       "      <td>17</td>\n",
       "      <td>6</td>\n",
       "      <td>8</td>\n",
       "      <td>41.942976</td>\n",
       "      <td>-87.761883</td>\n",
       "      <td>POINT (-87.761883496974 41.942975745006)</td>\n",
       "    </tr>\n",
       "    <tr>\n",
       "      <th>3</th>\n",
       "      <td>004cd14d0303a9163aad69a2d7f341b7da2a8572b2ab33...</td>\n",
       "      <td>NaN</td>\n",
       "      <td>2019-11-26 08:38:00</td>\n",
       "      <td>25</td>\n",
       "      <td>NO CONTROLS</td>\n",
       "      <td>NO CONTROLS</td>\n",
       "      <td>CLEAR</td>\n",
       "      <td>DAYLIGHT</td>\n",
       "      <td>PEDESTRIAN</td>\n",
       "      <td>ONE-WAY</td>\n",
       "      <td>NaN</td>\n",
       "      <td>CURVE ON GRADE</td>\n",
       "      <td>DRY</td>\n",
       "      <td>NO DEFECTS</td>\n",
       "      <td>ON SCENE</td>\n",
       "      <td>INJURY AND / OR TOW DUE TO CRASH</td>\n",
       "      <td>NaN</td>\n",
       "      <td>NaN</td>\n",
       "      <td>NaN</td>\n",
       "      <td>OVER $1,500</td>\n",
       "      <td>2019-11-26 08:38:00</td>\n",
       "      <td>UNABLE TO DETERMINE</td>\n",
       "      <td>NOT APPLICABLE</td>\n",
       "      <td>5</td>\n",
       "      <td>W</td>\n",
       "      <td>TERMINAL ST</td>\n",
       "      <td>1655.0</td>\n",
       "      <td>Y</td>\n",
       "      <td>Y</td>\n",
       "      <td>NaN</td>\n",
       "      <td>NaN</td>\n",
       "      <td>NaN</td>\n",
       "      <td>NaN</td>\n",
       "      <td>2</td>\n",
       "      <td>FATAL</td>\n",
       "      <td>1.0</td>\n",
       "      <td>1.0</td>\n",
       "      <td>0.0</td>\n",
       "      <td>0.0</td>\n",
       "      <td>0.0</td>\n",
       "      <td>1.0</td>\n",
       "      <td>0.0</td>\n",
       "      <td>8</td>\n",
       "      <td>3</td>\n",
       "      <td>11</td>\n",
       "      <td>NaN</td>\n",
       "      <td>NaN</td>\n",
       "      <td>NaN</td>\n",
       "    </tr>\n",
       "    <tr>\n",
       "      <th>4</th>\n",
       "      <td>a1d5f0ea90897745365a4cbb06cc60329a120d89753fac...</td>\n",
       "      <td>NaN</td>\n",
       "      <td>2023-08-18 10:45:00</td>\n",
       "      <td>20</td>\n",
       "      <td>NO CONTROLS</td>\n",
       "      <td>NO CONTROLS</td>\n",
       "      <td>CLEAR</td>\n",
       "      <td>DAYLIGHT</td>\n",
       "      <td>FIXED OBJECT</td>\n",
       "      <td>OTHER</td>\n",
       "      <td>NaN</td>\n",
       "      <td>STRAIGHT AND LEVEL</td>\n",
       "      <td>DRY</td>\n",
       "      <td>NO DEFECTS</td>\n",
       "      <td>ON SCENE</td>\n",
       "      <td>NO INJURY / DRIVE AWAY</td>\n",
       "      <td>NaN</td>\n",
       "      <td>NaN</td>\n",
       "      <td>NaN</td>\n",
       "      <td>OVER $1,500</td>\n",
       "      <td>2023-08-18 10:48:00</td>\n",
       "      <td>FOLLOWING TOO CLOSELY</td>\n",
       "      <td>DRIVING SKILLS/KNOWLEDGE/EXPERIENCE</td>\n",
       "      <td>3</td>\n",
       "      <td>W</td>\n",
       "      <td>TERMINAL ST</td>\n",
       "      <td>1653.0</td>\n",
       "      <td>NaN</td>\n",
       "      <td>NaN</td>\n",
       "      <td>NaN</td>\n",
       "      <td>NaN</td>\n",
       "      <td>NaN</td>\n",
       "      <td>NaN</td>\n",
       "      <td>1</td>\n",
       "      <td>NO INDICATION OF INJURY</td>\n",
       "      <td>0.0</td>\n",
       "      <td>0.0</td>\n",
       "      <td>0.0</td>\n",
       "      <td>0.0</td>\n",
       "      <td>0.0</td>\n",
       "      <td>1.0</td>\n",
       "      <td>0.0</td>\n",
       "      <td>10</td>\n",
       "      <td>6</td>\n",
       "      <td>8</td>\n",
       "      <td>NaN</td>\n",
       "      <td>NaN</td>\n",
       "      <td>NaN</td>\n",
       "    </tr>\n",
       "  </tbody>\n",
       "</table>\n",
       "</div>"
      ],
      "text/plain": [
       "                                     CRASH_RECORD_ID CRASH_DATE_EST_I  \\\n",
       "0  6c1659069e9c6285a650e70d6f9b574ed5f64c12888479...              NaN   \n",
       "1  5f54a59fcb087b12ae5b1acff96a3caf4f2d37e79f8db4...              NaN   \n",
       "2  61fcb8c1eb522a6469b460e2134df3d15f82e81fd93e9c...              NaN   \n",
       "3  004cd14d0303a9163aad69a2d7f341b7da2a8572b2ab33...              NaN   \n",
       "4  a1d5f0ea90897745365a4cbb06cc60329a120d89753fac...              NaN   \n",
       "\n",
       "           CRASH_DATE  POSTED_SPEED_LIMIT TRAFFIC_CONTROL_DEVICE  \\\n",
       "0 2023-08-18 12:50:00                  15                  OTHER   \n",
       "1 2023-07-29 14:45:00                  30         TRAFFIC SIGNAL   \n",
       "2 2023-08-18 17:58:00                  30            NO CONTROLS   \n",
       "3 2019-11-26 08:38:00                  25            NO CONTROLS   \n",
       "4 2023-08-18 10:45:00                  20            NO CONTROLS   \n",
       "\n",
       "       DEVICE_CONDITION WEATHER_CONDITION LIGHTING_CONDITION  \\\n",
       "0  FUNCTIONING PROPERLY             CLEAR           DAYLIGHT   \n",
       "1  FUNCTIONING PROPERLY             CLEAR           DAYLIGHT   \n",
       "2           NO CONTROLS             CLEAR           DAYLIGHT   \n",
       "3           NO CONTROLS             CLEAR           DAYLIGHT   \n",
       "4           NO CONTROLS             CLEAR           DAYLIGHT   \n",
       "\n",
       "       FIRST_CRASH_TYPE                  TRAFFICWAY_TYPE  LANE_CNT  \\\n",
       "0              REAR END                            OTHER       NaN   \n",
       "1  PARKED MOTOR VEHICLE  DIVIDED - W/MEDIAN (NOT RAISED)       NaN   \n",
       "2          PEDALCYCLIST                      NOT DIVIDED       NaN   \n",
       "3            PEDESTRIAN                          ONE-WAY       NaN   \n",
       "4          FIXED OBJECT                            OTHER       NaN   \n",
       "\n",
       "            ALIGNMENT ROADWAY_SURFACE_COND ROAD_DEFECT REPORT_TYPE  \\\n",
       "0  STRAIGHT AND LEVEL                  DRY  NO DEFECTS    ON SCENE   \n",
       "1  STRAIGHT AND LEVEL                  DRY  NO DEFECTS    ON SCENE   \n",
       "2  STRAIGHT AND LEVEL                  DRY  NO DEFECTS    ON SCENE   \n",
       "3      CURVE ON GRADE                  DRY  NO DEFECTS    ON SCENE   \n",
       "4  STRAIGHT AND LEVEL                  DRY  NO DEFECTS    ON SCENE   \n",
       "\n",
       "                         CRASH_TYPE INTERSECTION_RELATED_I NOT_RIGHT_OF_WAY_I  \\\n",
       "0  INJURY AND / OR TOW DUE TO CRASH                    NaN                NaN   \n",
       "1            NO INJURY / DRIVE AWAY                    NaN                NaN   \n",
       "2  INJURY AND / OR TOW DUE TO CRASH                    NaN                NaN   \n",
       "3  INJURY AND / OR TOW DUE TO CRASH                    NaN                NaN   \n",
       "4            NO INJURY / DRIVE AWAY                    NaN                NaN   \n",
       "\n",
       "  HIT_AND_RUN_I         DAMAGE DATE_POLICE_NOTIFIED  \\\n",
       "0           NaN    OVER $1,500  2023-08-18 12:55:00   \n",
       "1          True    OVER $1,500  2023-07-29 14:45:00   \n",
       "2           NaN  $501 - $1,500  2023-08-18 18:01:00   \n",
       "3           NaN    OVER $1,500  2019-11-26 08:38:00   \n",
       "4           NaN    OVER $1,500  2023-08-18 10:48:00   \n",
       "\n",
       "                  PRIM_CONTRIBUTORY_CAUSE  \\\n",
       "0                   FOLLOWING TOO CLOSELY   \n",
       "1  FAILING TO REDUCE SPEED TO AVOID CRASH   \n",
       "2  FAILING TO REDUCE SPEED TO AVOID CRASH   \n",
       "3                     UNABLE TO DETERMINE   \n",
       "4                   FOLLOWING TOO CLOSELY   \n",
       "\n",
       "                              SEC_CONTRIBUTORY_CAUSE  STREET_NO  \\\n",
       "0                  DISTRACTION - FROM INSIDE VEHICLE        700   \n",
       "1  OPERATING VEHICLE IN ERRATIC, RECKLESS, CARELE...       2101   \n",
       "2                                UNABLE TO DETERMINE       3422   \n",
       "3                                     NOT APPLICABLE          5   \n",
       "4                DRIVING SKILLS/KNOWLEDGE/EXPERIENCE          3   \n",
       "\n",
       "  STREET_DIRECTION  STREET_NAME  BEAT_OF_OCCURRENCE PHOTOS_TAKEN_I  \\\n",
       "0                W     OHARE ST              1654.0            NaN   \n",
       "1                S  ASHLAND AVE              1235.0            NaN   \n",
       "2                N     LONG AVE              1633.0            NaN   \n",
       "3                W  TERMINAL ST              1655.0              Y   \n",
       "4                W  TERMINAL ST              1653.0            NaN   \n",
       "\n",
       "  STATEMENTS_TAKEN_I DOORING_I WORK_ZONE_I WORK_ZONE_TYPE WORKERS_PRESENT_I  \\\n",
       "0                NaN       NaN         NaN            NaN               NaN   \n",
       "1                NaN       NaN         NaN            NaN               NaN   \n",
       "2                NaN       NaN         NaN            NaN               NaN   \n",
       "3                  Y       NaN         NaN            NaN               NaN   \n",
       "4                NaN       NaN         NaN            NaN               NaN   \n",
       "\n",
       "   NUM_UNITS        MOST_SEVERE_INJURY  INJURIES_TOTAL  INJURIES_FATAL  \\\n",
       "0          2  NONINCAPACITATING INJURY             1.0             0.0   \n",
       "1          4   NO INDICATION OF INJURY             0.0             0.0   \n",
       "2          2  NONINCAPACITATING INJURY             1.0             0.0   \n",
       "3          2                     FATAL             1.0             1.0   \n",
       "4          1   NO INDICATION OF INJURY             0.0             0.0   \n",
       "\n",
       "   INJURIES_INCAPACITATING  INJURIES_NON_INCAPACITATING  \\\n",
       "0                      0.0                          1.0   \n",
       "1                      0.0                          0.0   \n",
       "2                      0.0                          1.0   \n",
       "3                      0.0                          0.0   \n",
       "4                      0.0                          0.0   \n",
       "\n",
       "   INJURIES_REPORTED_NOT_EVIDENT  INJURIES_NO_INDICATION  INJURIES_UNKNOWN  \\\n",
       "0                            0.0                     1.0               0.0   \n",
       "1                            0.0                     1.0               0.0   \n",
       "2                            0.0                     1.0               0.0   \n",
       "3                            0.0                     1.0               0.0   \n",
       "4                            0.0                     1.0               0.0   \n",
       "\n",
       "   CRASH_HOUR  CRASH_DAY_OF_WEEK  CRASH_MONTH   LATITUDE  LONGITUDE  \\\n",
       "0          12                  6            8        NaN        NaN   \n",
       "1          14                  7            7  41.854120 -87.665902   \n",
       "2          17                  6            8  41.942976 -87.761883   \n",
       "3           8                  3           11        NaN        NaN   \n",
       "4          10                  6            8        NaN        NaN   \n",
       "\n",
       "                                   LOCATION  \n",
       "0                                       NaN  \n",
       "1  POINT (-87.665902342962 41.854120262952)  \n",
       "2  POINT (-87.761883496974 41.942975745006)  \n",
       "3                                       NaN  \n",
       "4                                       NaN  "
      ]
     },
     "execution_count": 5,
     "metadata": {},
     "output_type": "execute_result"
    }
   ],
   "source": [
    "crashes.head()"
   ]
  },
  {
   "cell_type": "code",
   "execution_count": 6,
   "metadata": {},
   "outputs": [],
   "source": [
    "columns_to_drop = ['TRAFFIC_CONTROL_DEVICE', 'DEVICE_CONDITION', 'REPORT_TYPE', 'PHOTOS_TAKEN_I', 'STATEMENTS_TAKEN_I']\n",
    "crashes = crashes.drop(columns=columns_to_drop)"
   ]
  },
  {
   "cell_type": "code",
   "execution_count": 7,
   "metadata": {},
   "outputs": [
    {
     "name": "stdout",
     "output_type": "stream",
     "text": [
      "CRASH_RECORD_ID                   0.000000\n",
      "CRASH_DATE_EST_I                 92.625120\n",
      "CRASH_DATE                        0.000000\n",
      "POSTED_SPEED_LIMIT                0.000000\n",
      "WEATHER_CONDITION                 0.000000\n",
      "LIGHTING_CONDITION                0.000000\n",
      "FIRST_CRASH_TYPE                  0.000000\n",
      "TRAFFICWAY_TYPE                   0.000000\n",
      "LANE_CNT                         78.181226\n",
      "ALIGNMENT                         0.000000\n",
      "ROADWAY_SURFACE_COND              0.000000\n",
      "ROAD_DEFECT                       0.000000\n",
      "CRASH_TYPE                        0.000000\n",
      "INTERSECTION_RELATED_I           77.012029\n",
      "NOT_RIGHT_OF_WAY_I               95.453449\n",
      "HIT_AND_RUN_I                    68.640508\n",
      "DAMAGE                            0.000000\n",
      "DATE_POLICE_NOTIFIED              0.000000\n",
      "PRIM_CONTRIBUTORY_CAUSE           0.000000\n",
      "SEC_CONTRIBUTORY_CAUSE            0.000000\n",
      "STREET_NO                         0.000000\n",
      "STREET_DIRECTION                  0.000439\n",
      "STREET_NAME                       0.000110\n",
      "BEAT_OF_OCCURRENCE                0.000548\n",
      "DOORING_I                        99.685364\n",
      "WORK_ZONE_I                      99.445275\n",
      "WORK_ZONE_TYPE                   99.572226\n",
      "WORKERS_PRESENT_I                99.857263\n",
      "NUM_UNITS                         0.000000\n",
      "MOST_SEVERE_INJURY                0.220355\n",
      "INJURIES_TOTAL                    0.218820\n",
      "INJURIES_FATAL                    0.218820\n",
      "INJURIES_INCAPACITATING           0.218820\n",
      "INJURIES_NON_INCAPACITATING       0.218820\n",
      "INJURIES_REPORTED_NOT_EVIDENT     0.218820\n",
      "INJURIES_NO_INDICATION            0.218820\n",
      "INJURIES_UNKNOWN                  0.218820\n",
      "CRASH_HOUR                        0.000000\n",
      "CRASH_DAY_OF_WEEK                 0.000000\n",
      "CRASH_MONTH                       0.000000\n",
      "LATITUDE                          0.730241\n",
      "LONGITUDE                         0.730241\n",
      "LOCATION                          0.730241\n",
      "dtype: float64\n"
     ]
    }
   ],
   "source": [
    "print(crashes.isnull().mean() * 100)"
   ]
  },
  {
   "cell_type": "markdown",
   "metadata": {},
   "source": [
    "DOORING_I, WORK_ZONE_I, WORK_ZONE_TYPE, WORKERS_PRESENT_I have more than 99% of missing values, so we can drop them"
   ]
  },
  {
   "cell_type": "code",
   "execution_count": 8,
   "metadata": {},
   "outputs": [],
   "source": [
    "# DOORING_I, WORK_ZONE_I, WORK_ZONE_TYPE, WORKERS_PRESENT_I have more than 90% of missing values, so we can drop them\n",
    "columns_to_drop = ['DOORING_I', 'WORK_ZONE_I', 'WORK_ZONE_TYPE', 'WORKERS_PRESENT_I']\n",
    "crashes = crashes.drop(columns=columns_to_drop)"
   ]
  },
  {
   "cell_type": "markdown",
   "metadata": {},
   "source": [
    "---"
   ]
  },
  {
   "cell_type": "markdown",
   "metadata": {},
   "source": [
    "## Dropping NaN rows for important features\n",
    "\n",
    "first of all we want to drop NaN values for LATITUDE, LONGITUDE, LOCATION, BEAT_OF_OCCURRENCE since they will be used to create the crash profiles."
   ]
  },
  {
   "cell_type": "code",
   "execution_count": 9,
   "metadata": {},
   "outputs": [
    {
     "name": "stdout",
     "output_type": "stream",
     "text": [
      "CRASH_RECORD_ID                   0.000000\n",
      "CRASH_DATE_EST_I                 92.615792\n",
      "CRASH_DATE                        0.000000\n",
      "POSTED_SPEED_LIMIT                0.000000\n",
      "WEATHER_CONDITION                 0.000000\n",
      "LIGHTING_CONDITION                0.000000\n",
      "FIRST_CRASH_TYPE                  0.000000\n",
      "TRAFFICWAY_TYPE                   0.000000\n",
      "LANE_CNT                         78.120265\n",
      "ALIGNMENT                         0.000000\n",
      "ROADWAY_SURFACE_COND              0.000000\n",
      "ROAD_DEFECT                       0.000000\n",
      "CRASH_TYPE                        0.000000\n",
      "INTERSECTION_RELATED_I           76.966427\n",
      "NOT_RIGHT_OF_WAY_I               95.448702\n",
      "HIT_AND_RUN_I                    68.552181\n",
      "DAMAGE                            0.000000\n",
      "DATE_POLICE_NOTIFIED              0.000000\n",
      "PRIM_CONTRIBUTORY_CAUSE           0.000000\n",
      "SEC_CONTRIBUTORY_CAUSE            0.000000\n",
      "STREET_NO                         0.000000\n",
      "STREET_DIRECTION                  0.000110\n",
      "STREET_NAME                       0.000000\n",
      "BEAT_OF_OCCURRENCE                0.000000\n",
      "NUM_UNITS                         0.000000\n",
      "MOST_SEVERE_INJURY                0.220320\n",
      "INJURIES_TOTAL                    0.218774\n",
      "INJURIES_FATAL                    0.218774\n",
      "INJURIES_INCAPACITATING           0.218774\n",
      "INJURIES_NON_INCAPACITATING       0.218774\n",
      "INJURIES_REPORTED_NOT_EVIDENT     0.218774\n",
      "INJURIES_NO_INDICATION            0.218774\n",
      "INJURIES_UNKNOWN                  0.218774\n",
      "CRASH_HOUR                        0.000000\n",
      "CRASH_DAY_OF_WEEK                 0.000000\n",
      "CRASH_MONTH                       0.000000\n",
      "LATITUDE                          0.000000\n",
      "LONGITUDE                         0.000000\n",
      "LOCATION                          0.000000\n",
      "dtype: float64\n"
     ]
    }
   ],
   "source": [
    "crashes = crashes.dropna(subset=['LATITUDE', 'LONGITUDE', 'LOCATION', 'BEAT_OF_OCCURRENCE'])\n",
    "\n",
    "print(crashes.isnull().mean() * 100)"
   ]
  },
  {
   "cell_type": "markdown",
   "metadata": {},
   "source": [
    "---"
   ]
  },
  {
   "cell_type": "markdown",
   "metadata": {},
   "source": [
    "## duplicate check"
   ]
  },
  {
   "cell_type": "code",
   "execution_count": 10,
   "metadata": {},
   "outputs": [
    {
     "name": "stdout",
     "output_type": "stream",
     "text": [
      "0\n"
     ]
    }
   ],
   "source": [
    "print(crashes['CRASH_RECORD_ID'].duplicated().sum())"
   ]
  },
  {
   "cell_type": "code",
   "execution_count": null,
   "metadata": {},
   "outputs": [],
   "source": []
  },
  {
   "cell_type": "markdown",
   "metadata": {},
   "source": [
    "## date check"
   ]
  },
  {
   "cell_type": "markdown",
   "metadata": {},
   "source": [
    "first of all we want to check if the date is correct, for example we want to check if the column 'DATE_POLICE_NOTIFIED' is problematic or not."
   ]
  },
  {
   "cell_type": "code",
   "execution_count": 11,
   "metadata": {},
   "outputs": [
    {
     "data": {
      "text/plain": [
       "np.int64(1)"
      ]
     },
     "execution_count": 11,
     "metadata": {},
     "output_type": "execute_result"
    }
   ],
   "source": [
    "crashes['CRASH_DATE'].gt(crashes['DATE_POLICE_NOTIFIED']).sum()"
   ]
  },
  {
   "cell_type": "code",
   "execution_count": 12,
   "metadata": {},
   "outputs": [
    {
     "data": {
      "text/html": [
       "<div>\n",
       "<style scoped>\n",
       "    .dataframe tbody tr th:only-of-type {\n",
       "        vertical-align: middle;\n",
       "    }\n",
       "\n",
       "    .dataframe tbody tr th {\n",
       "        vertical-align: top;\n",
       "    }\n",
       "\n",
       "    .dataframe thead th {\n",
       "        text-align: right;\n",
       "    }\n",
       "</style>\n",
       "<table border=\"1\" class=\"dataframe\">\n",
       "  <thead>\n",
       "    <tr style=\"text-align: right;\">\n",
       "      <th></th>\n",
       "      <th>CRASH_RECORD_ID</th>\n",
       "      <th>CRASH_DATE_EST_I</th>\n",
       "      <th>CRASH_DATE</th>\n",
       "      <th>POSTED_SPEED_LIMIT</th>\n",
       "      <th>WEATHER_CONDITION</th>\n",
       "      <th>LIGHTING_CONDITION</th>\n",
       "      <th>FIRST_CRASH_TYPE</th>\n",
       "      <th>TRAFFICWAY_TYPE</th>\n",
       "      <th>LANE_CNT</th>\n",
       "      <th>ALIGNMENT</th>\n",
       "      <th>ROADWAY_SURFACE_COND</th>\n",
       "      <th>ROAD_DEFECT</th>\n",
       "      <th>CRASH_TYPE</th>\n",
       "      <th>INTERSECTION_RELATED_I</th>\n",
       "      <th>NOT_RIGHT_OF_WAY_I</th>\n",
       "      <th>HIT_AND_RUN_I</th>\n",
       "      <th>DAMAGE</th>\n",
       "      <th>DATE_POLICE_NOTIFIED</th>\n",
       "      <th>PRIM_CONTRIBUTORY_CAUSE</th>\n",
       "      <th>SEC_CONTRIBUTORY_CAUSE</th>\n",
       "      <th>STREET_NO</th>\n",
       "      <th>STREET_DIRECTION</th>\n",
       "      <th>STREET_NAME</th>\n",
       "      <th>BEAT_OF_OCCURRENCE</th>\n",
       "      <th>NUM_UNITS</th>\n",
       "      <th>MOST_SEVERE_INJURY</th>\n",
       "      <th>INJURIES_TOTAL</th>\n",
       "      <th>INJURIES_FATAL</th>\n",
       "      <th>INJURIES_INCAPACITATING</th>\n",
       "      <th>INJURIES_NON_INCAPACITATING</th>\n",
       "      <th>INJURIES_REPORTED_NOT_EVIDENT</th>\n",
       "      <th>INJURIES_NO_INDICATION</th>\n",
       "      <th>INJURIES_UNKNOWN</th>\n",
       "      <th>CRASH_HOUR</th>\n",
       "      <th>CRASH_DAY_OF_WEEK</th>\n",
       "      <th>CRASH_MONTH</th>\n",
       "      <th>LATITUDE</th>\n",
       "      <th>LONGITUDE</th>\n",
       "      <th>LOCATION</th>\n",
       "    </tr>\n",
       "  </thead>\n",
       "  <tbody>\n",
       "    <tr>\n",
       "      <th>472058</th>\n",
       "      <td>89bcc8907886375b0df9aa83d87f3a686f11090b588a08...</td>\n",
       "      <td>NaN</td>\n",
       "      <td>2018-03-11 03:58:00</td>\n",
       "      <td>30</td>\n",
       "      <td>CLEAR</td>\n",
       "      <td>DARKNESS, LIGHTED ROAD</td>\n",
       "      <td>TURNING</td>\n",
       "      <td>DIVIDED - W/MEDIAN (NOT RAISED)</td>\n",
       "      <td>2.0</td>\n",
       "      <td>STRAIGHT AND LEVEL</td>\n",
       "      <td>UNKNOWN</td>\n",
       "      <td>UNKNOWN</td>\n",
       "      <td>INJURY AND / OR TOW DUE TO CRASH</td>\n",
       "      <td>True</td>\n",
       "      <td>NaN</td>\n",
       "      <td>NaN</td>\n",
       "      <td>OVER $1,500</td>\n",
       "      <td>2018-03-11 03:01:00</td>\n",
       "      <td>IMPROPER TURNING/NO SIGNAL</td>\n",
       "      <td>NOT APPLICABLE</td>\n",
       "      <td>6400</td>\n",
       "      <td>N</td>\n",
       "      <td>BELL AVE</td>\n",
       "      <td>2412.0</td>\n",
       "      <td>2</td>\n",
       "      <td>NO INDICATION OF INJURY</td>\n",
       "      <td>0.0</td>\n",
       "      <td>0.0</td>\n",
       "      <td>0.0</td>\n",
       "      <td>0.0</td>\n",
       "      <td>0.0</td>\n",
       "      <td>3.0</td>\n",
       "      <td>0.0</td>\n",
       "      <td>3</td>\n",
       "      <td>1</td>\n",
       "      <td>3</td>\n",
       "      <td>41.997882</td>\n",
       "      <td>-87.686379</td>\n",
       "      <td>POINT (-87.686378920661 41.997882381564)</td>\n",
       "    </tr>\n",
       "  </tbody>\n",
       "</table>\n",
       "</div>"
      ],
      "text/plain": [
       "                                          CRASH_RECORD_ID CRASH_DATE_EST_I  \\\n",
       "472058  89bcc8907886375b0df9aa83d87f3a686f11090b588a08...              NaN   \n",
       "\n",
       "                CRASH_DATE  POSTED_SPEED_LIMIT WEATHER_CONDITION  \\\n",
       "472058 2018-03-11 03:58:00                  30             CLEAR   \n",
       "\n",
       "            LIGHTING_CONDITION FIRST_CRASH_TYPE  \\\n",
       "472058  DARKNESS, LIGHTED ROAD          TURNING   \n",
       "\n",
       "                        TRAFFICWAY_TYPE  LANE_CNT           ALIGNMENT  \\\n",
       "472058  DIVIDED - W/MEDIAN (NOT RAISED)       2.0  STRAIGHT AND LEVEL   \n",
       "\n",
       "       ROADWAY_SURFACE_COND ROAD_DEFECT                        CRASH_TYPE  \\\n",
       "472058              UNKNOWN     UNKNOWN  INJURY AND / OR TOW DUE TO CRASH   \n",
       "\n",
       "       INTERSECTION_RELATED_I NOT_RIGHT_OF_WAY_I HIT_AND_RUN_I       DAMAGE  \\\n",
       "472058                   True                NaN           NaN  OVER $1,500   \n",
       "\n",
       "       DATE_POLICE_NOTIFIED     PRIM_CONTRIBUTORY_CAUSE  \\\n",
       "472058  2018-03-11 03:01:00  IMPROPER TURNING/NO SIGNAL   \n",
       "\n",
       "       SEC_CONTRIBUTORY_CAUSE  STREET_NO STREET_DIRECTION STREET_NAME  \\\n",
       "472058         NOT APPLICABLE       6400                N    BELL AVE   \n",
       "\n",
       "        BEAT_OF_OCCURRENCE  NUM_UNITS       MOST_SEVERE_INJURY  \\\n",
       "472058              2412.0          2  NO INDICATION OF INJURY   \n",
       "\n",
       "        INJURIES_TOTAL  INJURIES_FATAL  INJURIES_INCAPACITATING  \\\n",
       "472058             0.0             0.0                      0.0   \n",
       "\n",
       "        INJURIES_NON_INCAPACITATING  INJURIES_REPORTED_NOT_EVIDENT  \\\n",
       "472058                          0.0                            0.0   \n",
       "\n",
       "        INJURIES_NO_INDICATION  INJURIES_UNKNOWN  CRASH_HOUR  \\\n",
       "472058                     3.0               0.0           3   \n",
       "\n",
       "        CRASH_DAY_OF_WEEK  CRASH_MONTH   LATITUDE  LONGITUDE  \\\n",
       "472058                  1            3  41.997882 -87.686379   \n",
       "\n",
       "                                        LOCATION  \n",
       "472058  POINT (-87.686378920661 41.997882381564)  "
      ]
     },
     "execution_count": 12,
     "metadata": {},
     "output_type": "execute_result"
    }
   ],
   "source": [
    "crashes[crashes['CRASH_DATE'].gt(crashes['DATE_POLICE_NOTIFIED'])]"
   ]
  },
  {
   "cell_type": "markdown",
   "metadata": {},
   "source": [
    "only one entry is not correct but it could simply be a typo se we will keep it, we can now drop both DATE_POLICE_NOTIFIED and CRASH_DATE_EST_I since they won't be usefull for future analisys."
   ]
  },
  {
   "cell_type": "code",
   "execution_count": 13,
   "metadata": {},
   "outputs": [],
   "source": [
    "columns_to_drop = ['CRASH_DATE_EST_I', 'DATE_POLICE_NOTIFIED']\n",
    "crashes = crashes.drop(columns=columns_to_drop)"
   ]
  },
  {
   "cell_type": "markdown",
   "metadata": {},
   "source": [
    "### dates, CRASH_MONTH, CRASH_DAY_OF_WEEK, CRASH_HOUR, CRASH_DATE check"
   ]
  },
  {
   "cell_type": "code",
   "execution_count": 14,
   "metadata": {},
   "outputs": [
    {
     "name": "stdout",
     "output_type": "stream",
     "text": [
      "2013-03-03 16:48:00\n",
      "2025-01-22 23:55:00\n"
     ]
    }
   ],
   "source": [
    "print(crashes['CRASH_DATE'].min())\n",
    "print(crashes['CRASH_DATE'].max())"
   ]
  },
  {
   "cell_type": "code",
   "execution_count": 15,
   "metadata": {},
   "outputs": [
    {
     "data": {
      "image/png": "[encoded data removed]",
      "text/plain": [
       "<Figure size 640x480 with 1 Axes>"
      ]
     },
     "metadata": {},
     "output_type": "display_data"
    }
   ],
   "source": [
    "# plot the year distribution\n",
    "import matplotlib.pyplot as plt\n",
    "import seaborn as sns\n",
    "\n",
    "crashes['CRASH_DATE'].dt.year.value_counts().sort_index().plot(kind='bar')\n",
    "plt.xlabel('Year')\n",
    "plt.ylabel('Number of crashes')\n",
    "plt.title('Number of crashes per year')\n",
    "\n",
    "plt.show()\n",
    "\n"
   ]
  },
  {
   "cell_type": "markdown",
   "metadata": {},
   "source": [
    "Note that from the site https://data.cityofchicago.org/ we can read how the data is from 2015 to present (All police districts September 2017 - present). Maybe is it worth keeping only data from 2018 onward."
   ]
  },
  {
   "cell_type": "code",
   "execution_count": 16,
   "metadata": {},
   "outputs": [
    {
     "data": {
      "text/plain": [
       "53880"
      ]
     },
     "execution_count": 16,
     "metadata": {},
     "output_type": "execute_result"
    }
   ],
   "source": [
    "# TODO decide if 2015 is a good starting point or we want 2018.\n",
    "crashes_subset = crashes[crashes['CRASH_DATE'].dt.year.lt(2017)]\n",
    "len(crashes_subset)"
   ]
  },
  {
   "cell_type": "markdown",
   "metadata": {},
   "source": [
    "only 8 entries are before 2015, and as reported in https://data.cityofchicago.org/Transportation/Traffic-Crashes-Crashes/85ca-t3if/about_data the data should be from 2015 onward, so we are dropping this entries."
   ]
  },
  {
   "cell_type": "code",
   "execution_count": 17,
   "metadata": {},
   "outputs": [],
   "source": [
    "crashes = crashes[crashes['CRASH_DATE'].dt.year.ge(2017)]"
   ]
  },
  {
   "cell_type": "markdown",
   "metadata": {},
   "source": [
    "we now want to check if the CRASH_MONTH, CRASH_DAY_OF_WEEK, CRASH_HOUR are consisten with the CRASH_DATE"
   ]
  },
  {
   "cell_type": "code",
   "execution_count": 18,
   "metadata": {},
   "outputs": [
    {
     "data": {
      "text/plain": [
       "np.int64(0)"
      ]
     },
     "execution_count": 18,
     "metadata": {},
     "output_type": "execute_result"
    }
   ],
   "source": [
    "(crashes['CRASH_DATE'].dt.month != crashes['CRASH_MONTH']).sum()"
   ]
  },
  {
   "cell_type": "code",
   "execution_count": 19,
   "metadata": {},
   "outputs": [
    {
     "data": {
      "text/plain": [
       "np.int64(0)"
      ]
     },
     "execution_count": 19,
     "metadata": {},
     "output_type": "execute_result"
    }
   ],
   "source": [
    "(crashes['CRASH_DATE'].dt.hour != crashes['CRASH_HOUR']).sum()"
   ]
  },
  {
   "cell_type": "markdown",
   "metadata": {},
   "source": [
    "----"
   ]
  },
  {
   "cell_type": "markdown",
   "metadata": {},
   "source": [
    "## POSTED_SPEED_LIMIT analisys"
   ]
  },
  {
   "cell_type": "code",
   "execution_count": 20,
   "metadata": {},
   "outputs": [
    {
     "name": "stdout",
     "output_type": "stream",
     "text": [
      "0\n",
      "70\n"
     ]
    }
   ],
   "source": [
    "print(crashes['POSTED_SPEED_LIMIT'].min())\n",
    "print(crashes['POSTED_SPEED_LIMIT'].max())"
   ]
  },
  {
   "cell_type": "code",
   "execution_count": 21,
   "metadata": {},
   "outputs": [
    {
     "data": {
      "text/plain": [
       "POSTED_SPEED_LIMIT\n",
       "0       5803\n",
       "1         23\n",
       "2         29\n",
       "3        213\n",
       "4          2\n",
       "5       4302\n",
       "6          7\n",
       "7          5\n",
       "8          2\n",
       "9         53\n",
       "10     19880\n",
       "11        11\n",
       "12         3\n",
       "14         4\n",
       "15     30170\n",
       "16         2\n",
       "18         2\n",
       "20     35250\n",
       "22         3\n",
       "23         3\n",
       "24        38\n",
       "25     54979\n",
       "26        11\n",
       "29         3\n",
       "30    629555\n",
       "31         3\n",
       "32        19\n",
       "33        10\n",
       "34        16\n",
       "35     56326\n",
       "36         8\n",
       "38         1\n",
       "39        91\n",
       "40      8352\n",
       "44         1\n",
       "45      5477\n",
       "46         1\n",
       "49         1\n",
       "50       247\n",
       "55       652\n",
       "60        41\n",
       "62         1\n",
       "63         1\n",
       "65        13\n",
       "70         6\n",
       "Name: count, dtype: int64"
      ]
     },
     "execution_count": 21,
     "metadata": {},
     "output_type": "execute_result"
    }
   ],
   "source": [
    "crashes['POSTED_SPEED_LIMIT'].value_counts().sort_index()"
   ]
  },
  {
   "cell_type": "markdown",
   "metadata": {},
   "source": [
    "all the weird speed limit, and in particular 0 and 99, are surely invalid data "
   ]
  },
  {
   "cell_type": "markdown",
   "metadata": {},
   "source": [
    "---"
   ]
  },
  {
   "cell_type": "markdown",
   "metadata": {},
   "source": [
    "## WEATHER_CONDITION check"
   ]
  },
  {
   "cell_type": "code",
   "execution_count": 22,
   "metadata": {},
   "outputs": [
    {
     "data": {
      "text/plain": [
       "WEATHER_CONDITION\n",
       "CLEAR                       668371\n",
       "RAIN                         73743\n",
       "UNKNOWN                      49032\n",
       "SNOW                         27987\n",
       "CLOUDY/OVERCAST              25071\n",
       "OTHER                         2705\n",
       "FREEZING RAIN/DRIZZLE         1846\n",
       "FOG/SMOKE/HAZE                1303\n",
       "SLEET/HAIL                     967\n",
       "BLOWING SNOW                   455\n",
       "SEVERE CROSS WIND GATE         132\n",
       "BLOWING SAND, SOIL, DIRT         8\n",
       "Name: count, dtype: int64"
      ]
     },
     "execution_count": 22,
     "metadata": {},
     "output_type": "execute_result"
    }
   ],
   "source": [
    "crashes['WEATHER_CONDITION'].value_counts()"
   ]
  },
  {
   "cell_type": "markdown",
   "metadata": {},
   "source": [
    "we want to define a severity level and change the values to a severity scale. -1 will be treated as NaN"
   ]
  },
  {
   "cell_type": "code",
   "execution_count": 23,
   "metadata": {},
   "outputs": [],
   "source": [
    "weather_severity = {\n",
    "    'CLEAR': 0,\n",
    "    'CLOUDY/OVERCAST': 1,\n",
    "    'RAIN': 2,\n",
    "    'FREEZING RAIN/DRIZZLE': 2,\n",
    "    'FOG/SMOKE/HAZE': 3,\n",
    "    'SNOW': 3,\n",
    "    'SLEET/HAIL': 3,\n",
    "    'BLOWING SNOW': 3,\n",
    "    'SEVERE CROSS WIND GATE': 3,\n",
    "    'BLOWING SAND, SOIL, DIRT': 4,\n",
    "    'OTHER': -1, \n",
    "    'UNKNOWN': -1\n",
    "}\n",
    "\n",
    "# Map the column\n",
    "crashes['WEATHER_SEVERITY'] = crashes['WEATHER_CONDITION'].map(weather_severity)"
   ]
  },
  {
   "cell_type": "code",
   "execution_count": 24,
   "metadata": {},
   "outputs": [
    {
     "data": {
      "text/plain": [
       "WEATHER_SEVERITY\n",
       " 0    668371\n",
       " 2     75589\n",
       "-1     51737\n",
       " 3     30844\n",
       " 1     25071\n",
       " 4         8\n",
       "Name: count, dtype: int64"
      ]
     },
     "execution_count": 24,
     "metadata": {},
     "output_type": "execute_result"
    }
   ],
   "source": [
    "crashes['WEATHER_SEVERITY'].value_counts()"
   ]
  },
  {
   "cell_type": "markdown",
   "metadata": {},
   "source": [
    "---"
   ]
  },
  {
   "cell_type": "code",
   "execution_count": 25,
   "metadata": {},
   "outputs": [
    {
     "data": {
      "text/plain": [
       "LIGHTING_CONDITION\n",
       "DAYLIGHT                  544073\n",
       "DARKNESS, LIGHTED ROAD    188797\n",
       "UNKNOWN                    40385\n",
       "DARKNESS                   39955\n",
       "DUSK                       24109\n",
       "DAWN                       14301\n",
       "Name: count, dtype: int64"
      ]
     },
     "execution_count": 25,
     "metadata": {},
     "output_type": "execute_result"
    }
   ],
   "source": [
    "crashes['LIGHTING_CONDITION'].value_counts()"
   ]
  },
  {
   "cell_type": "code",
   "execution_count": 26,
   "metadata": {},
   "outputs": [],
   "source": [
    "lighting_severity = {\n",
    "    'DAYLIGHT': 0,\n",
    "    'DARKNESS, LIGHTED ROAD': 1,\n",
    "    'DARKNESS': 2,\n",
    "    'DUSK': 2,\n",
    "    'DAWN': 2,\n",
    "    'UNKNOWN': -1\n",
    "}\n",
    "\n",
    "# Map the column\n",
    "crashes['LIGHTING_SEVERITY'] = crashes['LIGHTING_CONDITION'].map(lighting_severity)"
   ]
  },
  {
   "cell_type": "code",
   "execution_count": 27,
   "metadata": {},
   "outputs": [
    {
     "data": {
      "text/plain": [
       "LIGHTING_SEVERITY\n",
       " 0    544073\n",
       " 1    188797\n",
       " 2     78365\n",
       "-1     40385\n",
       "Name: count, dtype: int64"
      ]
     },
     "execution_count": 27,
     "metadata": {},
     "output_type": "execute_result"
    }
   ],
   "source": [
    "crashes['LIGHTING_SEVERITY'].value_counts()"
   ]
  },
  {
   "cell_type": "markdown",
   "metadata": {},
   "source": [
    "---"
   ]
  },
  {
   "cell_type": "markdown",
   "metadata": {},
   "source": [
    "## type of road and crash, maybe usefull later on"
   ]
  },
  {
   "cell_type": "code",
   "execution_count": 28,
   "metadata": {},
   "outputs": [
    {
     "data": {
      "text/plain": [
       "FIRST_CRASH_TYPE\n",
       "PARKED MOTOR VEHICLE            198089\n",
       "REAR END                        184434\n",
       "SIDESWIPE SAME DIRECTION        128060\n",
       "TURNING                         123756\n",
       "ANGLE                            93538\n",
       "FIXED OBJECT                     40586\n",
       "PEDESTRIAN                       20969\n",
       "PEDALCYCLIST                     13927\n",
       "SIDESWIPE OPPOSITE DIRECTION     11744\n",
       "REAR TO FRONT                     9283\n",
       "OTHER OBJECT                      8666\n",
       "HEAD ON                           7269\n",
       "REAR TO SIDE                      5586\n",
       "OTHER NONCOLLISION                2573\n",
       "REAR TO REAR                      1935\n",
       "ANIMAL                             630\n",
       "OVERTURNED                         530\n",
       "TRAIN                               45\n",
       "Name: count, dtype: int64"
      ]
     },
     "execution_count": 28,
     "metadata": {},
     "output_type": "execute_result"
    }
   ],
   "source": [
    "crashes['FIRST_CRASH_TYPE'].value_counts()  "
   ]
  },
  {
   "cell_type": "code",
   "execution_count": 29,
   "metadata": {},
   "outputs": [
    {
     "data": {
      "text/plain": [
       "TRAFFICWAY_TYPE\n",
       "NOT DIVIDED                        368088\n",
       "DIVIDED - W/MEDIAN (NOT RAISED)    132607\n",
       "ONE-WAY                            105820\n",
       "FOUR WAY                            63647\n",
       "PARKING LOT                         56129\n",
       "DIVIDED - W/MEDIAN BARRIER          47421\n",
       "OTHER                               22147\n",
       "ALLEY                               14241\n",
       "T-INTERSECTION                      12558\n",
       "UNKNOWN                              9769\n",
       "CENTER TURN LANE                     6022\n",
       "UNKNOWN INTERSECTION TYPE            2761\n",
       "DRIVEWAY                             2708\n",
       "RAMP                                 2557\n",
       "FIVE POINT, OR MORE                  1399\n",
       "Y-INTERSECTION                       1362\n",
       "TRAFFIC ROUTE                        1191\n",
       "NOT REPORTED                          696\n",
       "ROUNDABOUT                            313\n",
       "L-INTERSECTION                        184\n",
       "Name: count, dtype: int64"
      ]
     },
     "execution_count": 29,
     "metadata": {},
     "output_type": "execute_result"
    }
   ],
   "source": [
    "crashes['TRAFFICWAY_TYPE'].value_counts()"
   ]
  },
  {
   "cell_type": "code",
   "execution_count": 30,
   "metadata": {},
   "outputs": [
    {
     "data": {
      "text/plain": [
       "ALIGNMENT\n",
       "STRAIGHT AND LEVEL       831665\n",
       "STRAIGHT ON GRADE         10635\n",
       "CURVE, LEVEL               5745\n",
       "STRAIGHT ON HILLCREST      2072\n",
       "CURVE ON GRADE             1142\n",
       "CURVE ON HILLCREST          361\n",
       "Name: count, dtype: int64"
      ]
     },
     "execution_count": 30,
     "metadata": {},
     "output_type": "execute_result"
    }
   ],
   "source": [
    "crashes['ALIGNMENT'].value_counts()"
   ]
  },
  {
   "cell_type": "markdown",
   "metadata": {},
   "source": [
    "---"
   ]
  },
  {
   "cell_type": "markdown",
   "metadata": {},
   "source": [
    "## road condition\n",
    "\n",
    "we want to assigna road severity considering both the ROADWAY_SURFACE_COND and ROAD_DEFECT, we will assign -1 (null) to the instances where at least one of the two feature is -1 "
   ]
  },
  {
   "cell_type": "code",
   "execution_count": 31,
   "metadata": {},
   "outputs": [
    {
     "data": {
      "text/plain": [
       "ROADWAY_SURFACE_COND\n",
       "DRY                627711\n",
       "WET                111697\n",
       "UNKNOWN             76763\n",
       "SNOW OR SLUSH       27435\n",
       "ICE                  5496\n",
       "OTHER                2210\n",
       "SAND, MUD, DIRT       308\n",
       "Name: count, dtype: int64"
      ]
     },
     "execution_count": 31,
     "metadata": {},
     "output_type": "execute_result"
    }
   ],
   "source": [
    "crashes['ROADWAY_SURFACE_COND'].value_counts()"
   ]
  },
  {
   "cell_type": "code",
   "execution_count": 32,
   "metadata": {},
   "outputs": [],
   "source": [
    "road_surface_severity = {\n",
    "    'DRY': 0,\n",
    "    'WET': 1,\n",
    "    'SNOW OR SLUSH': 2,\n",
    "    'ICE': 3,\n",
    "    'SAND, MUD, DIRT': 2,\n",
    "    'OTHER': 2,\n",
    "    'UNKNOWN': -1 \n",
    "}"
   ]
  },
  {
   "cell_type": "code",
   "execution_count": 33,
   "metadata": {},
   "outputs": [],
   "source": [
    "crashes['surface_cond'] = crashes['ROADWAY_SURFACE_COND'].map(road_surface_severity)"
   ]
  },
  {
   "cell_type": "code",
   "execution_count": 34,
   "metadata": {},
   "outputs": [
    {
     "data": {
      "text/plain": [
       "surface_cond\n",
       " 0    627711\n",
       " 1    111697\n",
       "-1     76763\n",
       " 2     29953\n",
       " 3      5496\n",
       "Name: count, dtype: int64"
      ]
     },
     "execution_count": 34,
     "metadata": {},
     "output_type": "execute_result"
    }
   ],
   "source": [
    "crashes['surface_cond'].value_counts()"
   ]
  },
  {
   "cell_type": "code",
   "execution_count": 35,
   "metadata": {},
   "outputs": [
    {
     "data": {
      "text/plain": [
       "ROAD_DEFECT\n",
       "NO DEFECTS           676425\n",
       "UNKNOWN              159298\n",
       "RUT, HOLES             5806\n",
       "OTHER                  4588\n",
       "WORN SURFACE           3455\n",
       "SHOULDER DEFECT        1439\n",
       "DEBRIS ON ROADWAY       609\n",
       "Name: count, dtype: int64"
      ]
     },
     "execution_count": 35,
     "metadata": {},
     "output_type": "execute_result"
    }
   ],
   "source": [
    "crashes['ROAD_DEFECT'].value_counts()"
   ]
  },
  {
   "cell_type": "code",
   "execution_count": 36,
   "metadata": {},
   "outputs": [],
   "source": [
    "road_defect_severity = {\n",
    "    'NO DEFECTS': 0,\n",
    "    'RUT, HOLES': 3,\n",
    "    'WORN SURFACE': 1,\n",
    "    'SHOULDER DEFECT': 2,\n",
    "    'DEBRIS ON ROADWAY': 2,\n",
    "    'OTHER': 2,\n",
    "    'UNKNOWN': -1  # Handle missing values separately\n",
    "}"
   ]
  },
  {
   "cell_type": "code",
   "execution_count": 37,
   "metadata": {},
   "outputs": [],
   "source": [
    "crashes['road_cond'] = crashes['ROAD_DEFECT'].map(road_defect_severity)"
   ]
  },
  {
   "cell_type": "code",
   "execution_count": 38,
   "metadata": {},
   "outputs": [
    {
     "data": {
      "text/plain": [
       "road_cond\n",
       " 0    676425\n",
       "-1    159298\n",
       " 2      6636\n",
       " 3      5806\n",
       " 1      3455\n",
       "Name: count, dtype: int64"
      ]
     },
     "execution_count": 38,
     "metadata": {},
     "output_type": "execute_result"
    }
   ],
   "source": [
    "crashes['road_cond'].value_counts()"
   ]
  },
  {
   "cell_type": "code",
   "execution_count": 39,
   "metadata": {},
   "outputs": [],
   "source": [
    "crashes['ROADWAY_SEVERITY'] = crashes.apply(lambda row: -1 if row['surface_cond'] == -1 or row['road_cond'] == -1 else row['surface_cond'] + row['road_cond'], axis=1)"
   ]
  },
  {
   "cell_type": "code",
   "execution_count": 40,
   "metadata": {},
   "outputs": [
    {
     "data": {
      "text/plain": [
       "ROADWAY_SEVERITY\n",
       " 0    548265\n",
       "-1    172464\n",
       " 1     92412\n",
       " 2     26522\n",
       " 3      9266\n",
       " 4      2035\n",
       " 5       579\n",
       " 6        77\n",
       "Name: count, dtype: int64"
      ]
     },
     "execution_count": 40,
     "metadata": {},
     "output_type": "execute_result"
    }
   ],
   "source": [
    "crashes['ROADWAY_SEVERITY'].value_counts()"
   ]
  },
  {
   "cell_type": "markdown",
   "metadata": {},
   "source": [
    "---"
   ]
  },
  {
   "cell_type": "markdown",
   "metadata": {},
   "source": [
    "## CRASH_TYPE - INTERSECTION_RELATED_I - NOT_RIGHT_OF_WAY_I - HIT_AND_RUN_I\n",
    "\n",
    "note that the last 3 are boolean and almost all true, hence we can assume false when NaN"
   ]
  },
  {
   "cell_type": "code",
   "execution_count": 41,
   "metadata": {},
   "outputs": [
    {
     "data": {
      "text/plain": [
       "CRASH_TYPE\n",
       "NO INJURY / DRIVE AWAY              612434\n",
       "INJURY AND / OR TOW DUE TO CRASH    239186\n",
       "Name: count, dtype: int64"
      ]
     },
     "execution_count": 41,
     "metadata": {},
     "output_type": "execute_result"
    }
   ],
   "source": [
    "crashes['CRASH_TYPE'].value_counts()"
   ]
  },
  {
   "cell_type": "code",
   "execution_count": 42,
   "metadata": {},
   "outputs": [
    {
     "data": {
      "text/plain": [
       "INTERSECTION_RELATED_I\n",
       "True     189567\n",
       "False      9526\n",
       "Name: count, dtype: int64"
      ]
     },
     "execution_count": 42,
     "metadata": {},
     "output_type": "execute_result"
    }
   ],
   "source": [
    "crashes['INTERSECTION_RELATED_I'].value_counts()"
   ]
  },
  {
   "cell_type": "code",
   "execution_count": 43,
   "metadata": {},
   "outputs": [
    {
     "data": {
      "text/plain": [
       "NOT_RIGHT_OF_WAY_I\n",
       "True     35269\n",
       "False     3573\n",
       "Name: count, dtype: int64"
      ]
     },
     "execution_count": 43,
     "metadata": {},
     "output_type": "execute_result"
    }
   ],
   "source": [
    "crashes['NOT_RIGHT_OF_WAY_I'].value_counts()"
   ]
  },
  {
   "cell_type": "code",
   "execution_count": 44,
   "metadata": {},
   "outputs": [
    {
     "data": {
      "text/plain": [
       "HIT_AND_RUN_I\n",
       "True     258741\n",
       "False     11579\n",
       "Name: count, dtype: int64"
      ]
     },
     "execution_count": 44,
     "metadata": {},
     "output_type": "execute_result"
    }
   ],
   "source": [
    "crashes['HIT_AND_RUN_I'].value_counts()"
   ]
  },
  {
   "cell_type": "markdown",
   "metadata": {},
   "source": [
    "---"
   ]
  },
  {
   "cell_type": "markdown",
   "metadata": {},
   "source": [
    "## DAMAGE severity"
   ]
  },
  {
   "cell_type": "code",
   "execution_count": 45,
   "metadata": {},
   "outputs": [
    {
     "data": {
      "text/plain": [
       "DAMAGE\n",
       "OVER $1,500      543593\n",
       "$501 - $1,500    213537\n",
       "$500 OR LESS      94490\n",
       "Name: count, dtype: int64"
      ]
     },
     "execution_count": 45,
     "metadata": {},
     "output_type": "execute_result"
    }
   ],
   "source": [
    "crashes['DAMAGE'].value_counts()"
   ]
  },
  {
   "cell_type": "code",
   "execution_count": 46,
   "metadata": {},
   "outputs": [],
   "source": [
    "# Mapping the damage\n",
    "damage_severity = {\n",
    "    'OVER $1,500': 2,\n",
    "    '$501 - $1,500': 1,\n",
    "    '$500 OR LESS': 0\n",
    "}\n",
    "\n",
    "crashes['DAMAGE_SEVERITY'] = crashes['DAMAGE'].map(damage_severity)\n"
   ]
  },
  {
   "cell_type": "code",
   "execution_count": 47,
   "metadata": {},
   "outputs": [
    {
     "data": {
      "text/plain": [
       "DAMAGE_SEVERITY\n",
       "2    543593\n",
       "1    213537\n",
       "0     94490\n",
       "Name: count, dtype: int64"
      ]
     },
     "execution_count": 47,
     "metadata": {},
     "output_type": "execute_result"
    }
   ],
   "source": [
    "crashes['DAMAGE_SEVERITY'].value_counts()"
   ]
  },
  {
   "cell_type": "markdown",
   "metadata": {},
   "source": [
    "## CRAHS CAUSES, maybe usefull later when validating clusters? idk"
   ]
  },
  {
   "cell_type": "code",
   "execution_count": 48,
   "metadata": {},
   "outputs": [
    {
     "data": {
      "text/plain": [
       "PRIM_CONTRIBUTORY_CAUSE\n",
       "UNABLE TO DETERMINE                                                                 334259\n",
       "FAILING TO YIELD RIGHT-OF-WAY                                                        94973\n",
       "FOLLOWING TOO CLOSELY                                                                80099\n",
       "NOT APPLICABLE                                                                       44574\n",
       "IMPROPER OVERTAKING/PASSING                                                          42242\n",
       "FAILING TO REDUCE SPEED TO AVOID CRASH                                               36716\n",
       "IMPROPER BACKING                                                                     31954\n",
       "IMPROPER LANE USAGE                                                                  29671\n",
       "DRIVING SKILLS/KNOWLEDGE/EXPERIENCE                                                  28704\n",
       "IMPROPER TURNING/NO SIGNAL                                                           28572\n",
       "DISREGARDING TRAFFIC SIGNALS                                                         17188\n",
       "WEATHER                                                                              12386\n",
       "OPERATING VEHICLE IN ERRATIC, RECKLESS, CARELESS, NEGLIGENT OR AGGRESSIVE MANNER     10942\n",
       "DISREGARDING STOP SIGN                                                                9230\n",
       "DISTRACTION - FROM INSIDE VEHICLE                                                     5754\n",
       "EQUIPMENT - VEHICLE CONDITION                                                         5431\n",
       "PHYSICAL CONDITION OF DRIVER                                                          5160\n",
       "VISION OBSCURED (SIGNS, TREE LIMBS, BUILDINGS, ETC.)                                  4927\n",
       "DRIVING ON WRONG SIDE/WRONG WAY                                                       4758\n",
       "UNDER THE INFLUENCE OF ALCOHOL/DRUGS (USE WHEN ARREST IS EFFECTED)                    4129\n",
       "DISTRACTION - FROM OUTSIDE VEHICLE                                                    3427\n",
       "ROAD ENGINEERING/SURFACE/MARKING DEFECTS                                              1988\n",
       "DISREGARDING OTHER TRAFFIC SIGNS                                                      1845\n",
       "ROAD CONSTRUCTION/MAINTENANCE                                                         1748\n",
       "EXCEEDING AUTHORIZED SPEED LIMIT                                                      1685\n",
       "EVASIVE ACTION DUE TO ANIMAL, OBJECT, NONMOTORIST                                     1557\n",
       "EXCEEDING SAFE SPEED FOR CONDITIONS                                                   1456\n",
       "CELL PHONE USE OTHER THAN TEXTING                                                     1136\n",
       "DISREGARDING ROAD MARKINGS                                                            1060\n",
       "HAD BEEN DRINKING (USE WHEN ARREST IS NOT MADE)                                        854\n",
       "ANIMAL                                                                                 740\n",
       "TURNING RIGHT ON RED                                                                   655\n",
       "RELATED TO BUS STOP                                                                    488\n",
       "DISTRACTION - OTHER ELECTRONIC DEVICE (NAVIGATION DEVICE, DVD PLAYER, ETC.)            415\n",
       "TEXTING                                                                                326\n",
       "DISREGARDING YIELD SIGN                                                                268\n",
       "PASSING STOPPED SCHOOL BUS                                                             104\n",
       "OBSTRUCTED CROSSWALKS                                                                  100\n",
       "BICYCLE ADVANCING LEGALLY ON RED LIGHT                                                  77\n",
       "MOTORCYCLE ADVANCING LEGALLY ON RED LIGHT                                               22\n",
       "Name: count, dtype: int64"
      ]
     },
     "execution_count": 48,
     "metadata": {},
     "output_type": "execute_result"
    }
   ],
   "source": [
    "crashes['PRIM_CONTRIBUTORY_CAUSE'].value_counts()"
   ]
  },
  {
   "cell_type": "code",
   "execution_count": 49,
   "metadata": {},
   "outputs": [
    {
     "data": {
      "text/plain": [
       "SEC_CONTRIBUTORY_CAUSE\n",
       "NOT APPLICABLE                                                                      352842\n",
       "UNABLE TO DETERMINE                                                                 306072\n",
       "FAILING TO REDUCE SPEED TO AVOID CRASH                                               31449\n",
       "FAILING TO YIELD RIGHT-OF-WAY                                                        27344\n",
       "DRIVING SKILLS/KNOWLEDGE/EXPERIENCE                                                  25967\n",
       "FOLLOWING TOO CLOSELY                                                                22025\n",
       "IMPROPER OVERTAKING/PASSING                                                          13255\n",
       "IMPROPER LANE USAGE                                                                  11845\n",
       "WEATHER                                                                               9432\n",
       "IMPROPER TURNING/NO SIGNAL                                                            8944\n",
       "IMPROPER BACKING                                                                      6672\n",
       "OPERATING VEHICLE IN ERRATIC, RECKLESS, CARELESS, NEGLIGENT OR AGGRESSIVE MANNER      5292\n",
       "DISREGARDING TRAFFIC SIGNALS                                                          3529\n",
       "VISION OBSCURED (SIGNS, TREE LIMBS, BUILDINGS, ETC.)                                  2687\n",
       "PHYSICAL CONDITION OF DRIVER                                                          2631\n",
       "DISTRACTION - FROM INSIDE VEHICLE                                                     2533\n",
       "DISREGARDING STOP SIGN                                                                2482\n",
       "DRIVING ON WRONG SIDE/WRONG WAY                                                       1837\n",
       "EQUIPMENT - VEHICLE CONDITION                                                         1786\n",
       "UNDER THE INFLUENCE OF ALCOHOL/DRUGS (USE WHEN ARREST IS EFFECTED)                    1430\n",
       "DISTRACTION - FROM OUTSIDE VEHICLE                                                    1377\n",
       "EXCEEDING AUTHORIZED SPEED LIMIT                                                      1275\n",
       "EXCEEDING SAFE SPEED FOR CONDITIONS                                                   1223\n",
       "HAD BEEN DRINKING (USE WHEN ARREST IS NOT MADE)                                        974\n",
       "ROAD CONSTRUCTION/MAINTENANCE                                                          955\n",
       "DISREGARDING OTHER TRAFFIC SIGNS                                                       876\n",
       "DISREGARDING ROAD MARKINGS                                                             817\n",
       "ROAD ENGINEERING/SURFACE/MARKING DEFECTS                                               782\n",
       "CELL PHONE USE OTHER THAN TEXTING                                                      633\n",
       "EVASIVE ACTION DUE TO ANIMAL, OBJECT, NONMOTORIST                                      445\n",
       "RELATED TO BUS STOP                                                                    441\n",
       "ANIMAL                                                                                 404\n",
       "TURNING RIGHT ON RED                                                                   330\n",
       "DISTRACTION - OTHER ELECTRONIC DEVICE (NAVIGATION DEVICE, DVD PLAYER, ETC.)            243\n",
       "DISREGARDING YIELD SIGN                                                                218\n",
       "BICYCLE ADVANCING LEGALLY ON RED LIGHT                                                 189\n",
       "TEXTING                                                                                152\n",
       "OBSTRUCTED CROSSWALKS                                                                   98\n",
       "PASSING STOPPED SCHOOL BUS                                                              84\n",
       "MOTORCYCLE ADVANCING LEGALLY ON RED LIGHT                                               50\n",
       "Name: count, dtype: int64"
      ]
     },
     "execution_count": 49,
     "metadata": {},
     "output_type": "execute_result"
    }
   ],
   "source": [
    "crashes['SEC_CONTRIBUTORY_CAUSE'].value_counts()"
   ]
  },
  {
   "cell_type": "markdown",
   "metadata": {},
   "source": [
    "---"
   ]
  },
  {
   "cell_type": "markdown",
   "metadata": {},
   "source": [
    "## BEAT_OF_OCCURRENCE \n",
    "very important feature used later for creating out crashes profile"
   ]
  },
  {
   "cell_type": "code",
   "execution_count": 50,
   "metadata": {},
   "outputs": [
    {
     "data": {
      "text/plain": [
       "BEAT_OF_OCCURRENCE\n",
       "1834.0    9920\n",
       "114.0     8572\n",
       "813.0     8505\n",
       "815.0     8116\n",
       "1831.0    7542\n",
       "          ... \n",
       "314.0     1148\n",
       "2431.0    1036\n",
       "422.0      919\n",
       "1654.0     904\n",
       "1125.0     824\n",
       "Name: count, Length: 271, dtype: int64"
      ]
     },
     "execution_count": 50,
     "metadata": {},
     "output_type": "execute_result"
    }
   ],
   "source": [
    "crashes['BEAT_OF_OCCURRENCE'].value_counts()"
   ]
  },
  {
   "cell_type": "markdown",
   "metadata": {},
   "source": [
    "---"
   ]
  },
  {
   "cell_type": "markdown",
   "metadata": {},
   "source": [
    "## STREET_NO, STREET_DIRECTION, STREET_NAME                                                             \n",
    "\n",
    "just checking this with latitute and longitude for some analisys later"
   ]
  },
  {
   "cell_type": "code",
   "execution_count": 51,
   "metadata": {},
   "outputs": [
    {
     "data": {
      "text/plain": [
       "STREET_NO\n",
       "1600     5396\n",
       "800      4851\n",
       "100      4796\n",
       "200      4549\n",
       "2400     4161\n",
       "         ... \n",
       "1896        1\n",
       "13342       1\n",
       "13114       1\n",
       "4096        1\n",
       "13553       1\n",
       "Name: count, Length: 11784, dtype: int64"
      ]
     },
     "execution_count": 51,
     "metadata": {},
     "output_type": "execute_result"
    }
   ],
   "source": [
    "crashes['STREET_NO'].value_counts()"
   ]
  },
  {
   "cell_type": "code",
   "execution_count": 52,
   "metadata": {},
   "outputs": [
    {
     "data": {
      "text/plain": [
       "STREET_DIRECTION\n",
       "W    305236\n",
       "S    283274\n",
       "N    206302\n",
       "E     56807\n",
       "Name: count, dtype: int64"
      ]
     },
     "execution_count": 52,
     "metadata": {},
     "output_type": "execute_result"
    }
   ],
   "source": [
    "crashes['STREET_DIRECTION'].value_counts()"
   ]
  },
  {
   "cell_type": "code",
   "execution_count": 53,
   "metadata": {},
   "outputs": [
    {
     "data": {
      "text/plain": [
       "STREET_NAME\n",
       "WESTERN AVE     23509\n",
       "PULASKI RD      20690\n",
       "CICERO AVE      19381\n",
       "ASHLAND AVE     18704\n",
       "HALSTED ST      16669\n",
       "                ...  \n",
       "CHANAY ST           1\n",
       "MONON AVE           1\n",
       "RUMSEY AVE          1\n",
       "PRESCOTT AVE        1\n",
       "29TH PL             1\n",
       "Name: count, Length: 1563, dtype: int64"
      ]
     },
     "execution_count": 53,
     "metadata": {},
     "output_type": "execute_result"
    }
   ],
   "source": [
    "crashes['STREET_NAME'].value_counts()"
   ]
  },
  {
   "cell_type": "code",
   "execution_count": 54,
   "metadata": {},
   "outputs": [
    {
     "data": {
      "text/plain": [
       "LOCATION\n",
       "POINT (-87.905309125103 41.976201139024)    1419\n",
       "POINT (-87.619928173678 41.900958919109)     823\n",
       "POINT (-87.585971992965 41.751460603167)     579\n",
       "POINT (-87.580147768689 41.791420282098)     577\n",
       "POINT (-87.585275565077 41.722257273006)     461\n",
       "                                            ... \n",
       "POINT (-87.663737370005 41.768293707601)       1\n",
       "POINT (-87.613666720123 41.722009827082)       1\n",
       "POINT (-87.702609899631 41.762412128452)       1\n",
       "POINT (-87.707564025245 41.852509987222)       1\n",
       "POINT (-87.736670334481 41.931550964703)       1\n",
       "Name: count, Length: 310973, dtype: int64"
      ]
     },
     "execution_count": 54,
     "metadata": {},
     "output_type": "execute_result"
    }
   ],
   "source": [
    "crashes['LOCATION'].value_counts()"
   ]
  },
  {
   "cell_type": "code",
   "execution_count": 55,
   "metadata": {},
   "outputs": [
    {
     "data": {
      "text/plain": [
       "LATITUDE\n",
       "41.976201    1419\n",
       "41.900959     823\n",
       "41.751461     579\n",
       "41.791420     577\n",
       "41.722257     461\n",
       "             ... \n",
       "41.988111       1\n",
       "41.951816       1\n",
       "41.883112       1\n",
       "41.769638       1\n",
       "41.756822       1\n",
       "Name: count, Length: 310789, dtype: int64"
      ]
     },
     "execution_count": 55,
     "metadata": {},
     "output_type": "execute_result"
    }
   ],
   "source": [
    "crashes['LATITUDE'].value_counts()"
   ]
  },
  {
   "cell_type": "code",
   "execution_count": 56,
   "metadata": {},
   "outputs": [
    {
     "data": {
      "text/plain": [
       "LONGITUDE\n",
       "-87.905309    1419\n",
       "-87.619928     823\n",
       "-87.585972     579\n",
       "-87.580148     577\n",
       "-87.585276     461\n",
       "              ... \n",
       "-87.786708       1\n",
       "-87.625717       1\n",
       "-87.628130       1\n",
       "-87.632983       1\n",
       "-87.663737       1\n",
       "Name: count, Length: 310744, dtype: int64"
      ]
     },
     "execution_count": 56,
     "metadata": {},
     "output_type": "execute_result"
    }
   ],
   "source": [
    "crashes['LONGITUDE'].value_counts()"
   ]
  },
  {
   "cell_type": "markdown",
   "metadata": {},
   "source": [
    "now a quick check to see if the values are consistent"
   ]
  },
  {
   "cell_type": "markdown",
   "metadata": {},
   "source": [
    "---"
   ]
  },
  {
   "cell_type": "code",
   "execution_count": 57,
   "metadata": {},
   "outputs": [],
   "source": [
    "crashes_subset_ll = crashes[(crashes['LATITUDE'] == 41.976201139) & (crashes['LONGITUDE'] == -87.905309125)]"
   ]
  },
  {
   "cell_type": "code",
   "execution_count": 58,
   "metadata": {},
   "outputs": [
    {
     "data": {
      "text/plain": [
       "1419"
      ]
     },
     "execution_count": 58,
     "metadata": {},
     "output_type": "execute_result"
    }
   ],
   "source": [
    "len(crashes_subset_ll)"
   ]
  },
  {
   "cell_type": "code",
   "execution_count": 59,
   "metadata": {},
   "outputs": [
    {
     "data": {
      "text/plain": [
       "POSTED_SPEED_LIMIT\n",
       "30    448\n",
       "20    245\n",
       "15    209\n",
       "10    170\n",
       "25    111\n",
       "45     69\n",
       "35     62\n",
       "40     40\n",
       "55     20\n",
       "50     16\n",
       "5      15\n",
       "0      13\n",
       "70      1\n",
       "Name: count, dtype: int64"
      ]
     },
     "execution_count": 59,
     "metadata": {},
     "output_type": "execute_result"
    }
   ],
   "source": [
    "crashes_subset_ll['POSTED_SPEED_LIMIT'].value_counts()"
   ]
  },
  {
   "cell_type": "markdown",
   "metadata": {},
   "source": [
    "---"
   ]
  },
  {
   "cell_type": "code",
   "execution_count": 60,
   "metadata": {},
   "outputs": [
    {
     "name": "stdout",
     "output_type": "stream",
     "text": [
      "     LATITUDE  LONGITUDE  EXTRACTED_LATITUDE  EXTRACTED_LONGITUDE\n",
      "1   41.854120 -87.665902           41.854120           -87.665902\n",
      "2   41.942976 -87.761883           41.942976           -87.761883\n",
      "13  41.809781 -87.594213           41.809781           -87.594213\n",
      "14  41.899225 -87.696642           41.899225           -87.696642\n",
      "20  41.744152 -87.585945           41.744152           -87.585945\n"
     ]
    }
   ],
   "source": [
    "import numpy as np\n",
    "\n",
    "crashes['LOCATION'] = crashes['LOCATION'].astype(str)\n",
    "\n",
    "# Extract longitude and latitude\n",
    "def extract_coordinates(location):\n",
    "    try:\n",
    "        parts = location.replace(\"POINT (\", \"\").replace(\")\", \"\").split()\n",
    "        longitude = float(parts[0])\n",
    "        latitude = float(parts[1])\n",
    "        return longitude, latitude\n",
    "    except:\n",
    "        return np.nan, np.nan  # Return NaN if the format is incorrect\n",
    "\n",
    "# Apply function\n",
    "crashes[['EXTRACTED_LONGITUDE', 'EXTRACTED_LATITUDE']] = crashes['LOCATION'].apply(lambda x: pd.Series(extract_coordinates(x)))\n",
    "\n",
    "print(crashes[['LATITUDE', 'LONGITUDE', 'EXTRACTED_LATITUDE', 'EXTRACTED_LONGITUDE']].head())"
   ]
  },
  {
   "cell_type": "code",
   "execution_count": 61,
   "metadata": {},
   "outputs": [
    {
     "data": {
      "text/plain": [
       "1    -87.665902\n",
       "2    -87.761883\n",
       "13   -87.594213\n",
       "14   -87.696642\n",
       "20   -87.585945\n",
       "Name: EXTRACTED_LONGITUDE, dtype: float64"
      ]
     },
     "execution_count": 61,
     "metadata": {},
     "output_type": "execute_result"
    }
   ],
   "source": [
    "crashes['EXTRACTED_LONGITUDE'].head()"
   ]
  },
  {
   "cell_type": "code",
   "execution_count": 62,
   "metadata": {},
   "outputs": [
    {
     "data": {
      "text/plain": [
       "1    -87.665902\n",
       "2    -87.761883\n",
       "13   -87.594213\n",
       "14   -87.696642\n",
       "20   -87.585945\n",
       "Name: LONGITUDE, dtype: float64"
      ]
     },
     "execution_count": 62,
     "metadata": {},
     "output_type": "execute_result"
    }
   ],
   "source": [
    "crashes['LONGITUDE'].head()"
   ]
  },
  {
   "cell_type": "code",
   "execution_count": 63,
   "metadata": {},
   "outputs": [
    {
     "data": {
      "text/plain": [
       "np.float64(-87.665902342962)"
      ]
     },
     "execution_count": 63,
     "metadata": {},
     "output_type": "execute_result"
    }
   ],
   "source": [
    "crashes['EXTRACTED_LONGITUDE'][1]"
   ]
  },
  {
   "cell_type": "code",
   "execution_count": 64,
   "metadata": {},
   "outputs": [
    {
     "data": {
      "text/plain": [
       "np.float64(-87.665902343)"
      ]
     },
     "execution_count": 64,
     "metadata": {},
     "output_type": "execute_result"
    }
   ],
   "source": [
    "crashes['LONGITUDE'][1]"
   ]
  },
  {
   "cell_type": "code",
   "execution_count": 65,
   "metadata": {},
   "outputs": [
    {
     "data": {
      "text/plain": [
       "np.float64(-87.665902343)"
      ]
     },
     "execution_count": 65,
     "metadata": {},
     "output_type": "execute_result"
    }
   ],
   "source": [
    "crashes['EXTRACTED_LONGITUDE'][1].round(9)"
   ]
  },
  {
   "cell_type": "markdown",
   "metadata": {},
   "source": [
    "the coordinate in the LOCATION are more precise, while for the LATITURE anf LONGITUDE we have an 9 digit precision"
   ]
  },
  {
   "cell_type": "code",
   "execution_count": 66,
   "metadata": {},
   "outputs": [
    {
     "data": {
      "text/plain": [
       "np.True_"
      ]
     },
     "execution_count": 66,
     "metadata": {},
     "output_type": "execute_result"
    }
   ],
   "source": [
    "crashes['EXTRACTED_LONGITUDE'][1].round(9) == crashes['LONGITUDE'][1]"
   ]
  },
  {
   "cell_type": "code",
   "execution_count": 67,
   "metadata": {},
   "outputs": [
    {
     "name": "stdout",
     "output_type": "stream",
     "text": [
      "Number of inconsistent rows: 1075\n",
      "        LATITUDE  LONGITUDE  EXTRACTED_LATITUDE  EXTRACTED_LONGITUDE  \\\n",
      "16880  41.997446 -87.699952           41.997446           -87.699952   \n",
      "17481  41.735797 -87.670812           41.735797           -87.670812   \n",
      "17536  41.828110 -87.704402           41.828110           -87.704402   \n",
      "17777  41.886432 -87.701211           41.886432           -87.701211   \n",
      "17932  41.876991 -87.724588           41.876991           -87.724588   \n",
      "\n",
      "                                     LOCATION  \n",
      "16880   POINT (-87.69995249778 41.9974456075)  \n",
      "17481  POINT (-87.6708122735 41.735797435784)  \n",
      "17536  POINT (-87.704402189965 41.8281099935)  \n",
      "17777  POINT (-87.7012111225 41.886431603013)  \n",
      "17932  POINT (-87.7245882585 41.876990566806)  \n"
     ]
    }
   ],
   "source": [
    "# Find inconsistent rows\n",
    "inconsistent_rows = crashes[\n",
    "    (crashes['LONGITUDE'] != crashes['EXTRACTED_LONGITUDE'].round(9)) |\n",
    "    (crashes['LATITUDE'] != crashes['EXTRACTED_LATITUDE'].round(9))\n",
    "]\n",
    "\n",
    "print(\"Number of inconsistent rows:\", inconsistent_rows.shape[0])\n",
    "print(inconsistent_rows[['LATITUDE', 'LONGITUDE', 'EXTRACTED_LATITUDE', 'EXTRACTED_LONGITUDE', 'LOCATION']].head())\n"
   ]
  },
  {
   "cell_type": "code",
   "execution_count": 68,
   "metadata": {},
   "outputs": [
    {
     "data": {
      "text/plain": [
       "1075"
      ]
     },
     "execution_count": 68,
     "metadata": {},
     "output_type": "execute_result"
    }
   ],
   "source": [
    "len(inconsistent_rows)"
   ]
  },
  {
   "cell_type": "code",
   "execution_count": 69,
   "metadata": {},
   "outputs": [
    {
     "name": "stdout",
     "output_type": "stream",
     "text": [
      "        LATITUDE  EXTRACTED_LATITUDE\n",
      "16880  41.997446           41.997446\n",
      "17481  41.735797           41.735797\n",
      "17536  41.828110           41.828110\n",
      "17777  41.886432           41.886432\n",
      "17932  41.876991           41.876991\n"
     ]
    }
   ],
   "source": [
    "print(inconsistent_rows[['LATITUDE', 'EXTRACTED_LATITUDE']].head())\n"
   ]
  },
  {
   "cell_type": "code",
   "execution_count": 70,
   "metadata": {},
   "outputs": [
    {
     "data": {
      "text/plain": [
       "np.float64(41.997445607)"
      ]
     },
     "execution_count": 70,
     "metadata": {},
     "output_type": "execute_result"
    }
   ],
   "source": [
    "inconsistent_rows['LATITUDE'][16880]"
   ]
  },
  {
   "cell_type": "code",
   "execution_count": 71,
   "metadata": {},
   "outputs": [
    {
     "data": {
      "text/plain": [
       "np.float64(41.997445608)"
      ]
     },
     "execution_count": 71,
     "metadata": {},
     "output_type": "execute_result"
    }
   ],
   "source": [
    "inconsistent_rows['EXTRACTED_LATITUDE'][16880].round(9)"
   ]
  },
  {
   "cell_type": "markdown",
   "metadata": {},
   "source": [
    "we can see how the 'wrong entries' are in reality corret but it is just a rounding problem. What we want to do now i check any discrepancy given an error margin"
   ]
  },
  {
   "cell_type": "code",
   "execution_count": 72,
   "metadata": {},
   "outputs": [
    {
     "name": "stdout",
     "output_type": "stream",
     "text": [
      "Number of inconsistent rows: 0\n",
      "Empty DataFrame\n",
      "Columns: [LATITUDE, LONGITUDE, EXTRACTED_LATITUDE, EXTRACTED_LONGITUDE, LOCATION]\n",
      "Index: []\n"
     ]
    }
   ],
   "source": [
    "margin_of_error = 1e-9\n",
    "\n",
    "# Find inconsistent rows with a margin of error\n",
    "inconsistent_rows = crashes[\n",
    "    ~np.isclose(crashes['LONGITUDE'], crashes['EXTRACTED_LONGITUDE'], atol=margin_of_error) |\n",
    "    ~np.isclose(crashes['LATITUDE'], crashes['EXTRACTED_LATITUDE'], atol=margin_of_error)\n",
    "]\n",
    "\n",
    "# Display inconsistencies\n",
    "print(\"Number of inconsistent rows:\", inconsistent_rows.shape[0])\n",
    "print(inconsistent_rows[['LATITUDE', 'LONGITUDE', 'EXTRACTED_LATITUDE', 'EXTRACTED_LONGITUDE', 'LOCATION']].head())\n"
   ]
  },
  {
   "cell_type": "markdown",
   "metadata": {},
   "source": [
    "---"
   ]
  },
  {
   "cell_type": "markdown",
   "metadata": {},
   "source": [
    "## NUM_UNITS and INJURIES"
   ]
  },
  {
   "cell_type": "code",
   "execution_count": 73,
   "metadata": {},
   "outputs": [
    {
     "data": {
      "text/plain": [
       "NUM_UNITS\n",
       "2     742484\n",
       "3      48450\n",
       "1      47788\n",
       "4       9507\n",
       "5       2324\n",
       "6        659\n",
       "7        227\n",
       "8         98\n",
       "9         40\n",
       "10        18\n",
       "11         9\n",
       "12         5\n",
       "18         5\n",
       "14         2\n",
       "16         2\n",
       "13         1\n",
       "15         1\n",
       "Name: count, dtype: int64"
      ]
     },
     "execution_count": 73,
     "metadata": {},
     "output_type": "execute_result"
    }
   ],
   "source": [
    "crashes['NUM_UNITS'].value_counts()"
   ]
  },
  {
   "cell_type": "code",
   "execution_count": 74,
   "metadata": {},
   "outputs": [
    {
     "data": {
      "text/plain": [
       "MOST_SEVERE_INJURY\n",
       "NO INDICATION OF INJURY     725403\n",
       "NONINCAPACITATING INJURY     70178\n",
       "REPORTED, NOT EVIDENT        38378\n",
       "INCAPACITATING INJURY        14769\n",
       "FATAL                          970\n",
       "Name: count, dtype: int64"
      ]
     },
     "execution_count": 74,
     "metadata": {},
     "output_type": "execute_result"
    }
   ],
   "source": [
    "crashes['MOST_SEVERE_INJURY'].value_counts()"
   ]
  },
  {
   "cell_type": "code",
   "execution_count": 75,
   "metadata": {},
   "outputs": [
    {
     "data": {
      "text/plain": [
       "INJURIES_TOTAL\n",
       "0.0     725415\n",
       "1.0      93309\n",
       "2.0      20959\n",
       "3.0       6391\n",
       "4.0       2264\n",
       "5.0        801\n",
       "6.0        318\n",
       "7.0        130\n",
       "8.0         50\n",
       "9.0         27\n",
       "10.0        15\n",
       "11.0         8\n",
       "15.0         7\n",
       "12.0         6\n",
       "21.0         4\n",
       "13.0         2\n",
       "17.0         1\n",
       "14.0         1\n",
       "19.0         1\n",
       "16.0         1\n",
       "Name: count, dtype: int64"
      ]
     },
     "execution_count": 75,
     "metadata": {},
     "output_type": "execute_result"
    }
   ],
   "source": [
    "crashes['INJURIES_TOTAL'].value_counts()"
   ]
  },
  {
   "cell_type": "code",
   "execution_count": 76,
   "metadata": {},
   "outputs": [
    {
     "data": {
      "text/plain": [
       "INJURIES_FATAL\n",
       "0.0    848740\n",
       "1.0       896\n",
       "2.0        65\n",
       "3.0         8\n",
       "4.0         1\n",
       "Name: count, dtype: int64"
      ]
     },
     "execution_count": 76,
     "metadata": {},
     "output_type": "execute_result"
    }
   ],
   "source": [
    "crashes['INJURIES_FATAL'].value_counts()"
   ]
  },
  {
   "cell_type": "code",
   "execution_count": 77,
   "metadata": {},
   "outputs": [
    {
     "data": {
      "text/plain": [
       "INJURIES_INCAPACITATING\n",
       "0.0     834793\n",
       "1.0      13121\n",
       "2.0       1361\n",
       "3.0        295\n",
       "4.0        101\n",
       "5.0         28\n",
       "6.0          7\n",
       "7.0          2\n",
       "10.0         1\n",
       "8.0          1\n",
       "Name: count, dtype: int64"
      ]
     },
     "execution_count": 77,
     "metadata": {},
     "output_type": "execute_result"
    }
   ],
   "source": [
    "crashes['INJURIES_INCAPACITATING'].value_counts()"
   ]
  },
  {
   "cell_type": "code",
   "execution_count": 78,
   "metadata": {},
   "outputs": [
    {
     "data": {
      "text/plain": [
       "INJURIES_NON_INCAPACITATING\n",
       "0.0     776832\n",
       "1.0      57057\n",
       "2.0      10908\n",
       "3.0       3181\n",
       "4.0       1089\n",
       "5.0        379\n",
       "6.0        154\n",
       "7.0         54\n",
       "8.0         22\n",
       "10.0         8\n",
       "9.0          8\n",
       "11.0         6\n",
       "12.0         4\n",
       "21.0         2\n",
       "14.0         1\n",
       "19.0         1\n",
       "18.0         1\n",
       "15.0         1\n",
       "16.0         1\n",
       "13.0         1\n",
       "Name: count, dtype: int64"
      ]
     },
     "execution_count": 78,
     "metadata": {},
     "output_type": "execute_result"
    }
   ],
   "source": [
    "crashes['INJURIES_NON_INCAPACITATING'].value_counts()"
   ]
  },
  {
   "cell_type": "code",
   "execution_count": 79,
   "metadata": {},
   "outputs": [
    {
     "data": {
      "text/plain": [
       "INJURIES_REPORTED_NOT_EVIDENT\n",
       "0.0     806791\n",
       "1.0      33327\n",
       "2.0       6927\n",
       "3.0       1800\n",
       "4.0        571\n",
       "5.0        186\n",
       "6.0         52\n",
       "7.0         26\n",
       "8.0         13\n",
       "9.0         10\n",
       "10.0         3\n",
       "11.0         2\n",
       "15.0         2\n",
       "Name: count, dtype: int64"
      ]
     },
     "execution_count": 79,
     "metadata": {},
     "output_type": "execute_result"
    }
   ],
   "source": [
    "crashes['INJURIES_REPORTED_NOT_EVIDENT'].value_counts()"
   ]
  },
  {
   "cell_type": "code",
   "execution_count": 80,
   "metadata": {},
   "outputs": [
    {
     "data": {
      "text/plain": [
       "INJURIES_NO_INDICATION\n",
       "2.0     390904\n",
       "1.0     263621\n",
       "3.0     107232\n",
       "4.0      40025\n",
       "0.0      19141\n",
       "5.0      16762\n",
       "6.0       6927\n",
       "7.0       2702\n",
       "8.0       1207\n",
       "9.0        499\n",
       "10.0       248\n",
       "11.0       118\n",
       "12.0        76\n",
       "13.0        42\n",
       "14.0        39\n",
       "15.0        21\n",
       "16.0        20\n",
       "17.0        16\n",
       "20.0        11\n",
       "19.0         9\n",
       "21.0         7\n",
       "29.0         7\n",
       "22.0         6\n",
       "26.0         6\n",
       "37.0         6\n",
       "36.0         5\n",
       "30.0         5\n",
       "24.0         5\n",
       "27.0         4\n",
       "31.0         4\n",
       "25.0         4\n",
       "18.0         4\n",
       "28.0         3\n",
       "42.0         3\n",
       "32.0         2\n",
       "40.0         2\n",
       "33.0         2\n",
       "35.0         2\n",
       "45.0         2\n",
       "34.0         2\n",
       "50.0         1\n",
       "61.0         1\n",
       "46.0         1\n",
       "43.0         1\n",
       "48.0         1\n",
       "41.0         1\n",
       "23.0         1\n",
       "39.0         1\n",
       "49.0         1\n",
       "Name: count, dtype: int64"
      ]
     },
     "execution_count": 80,
     "metadata": {},
     "output_type": "execute_result"
    }
   ],
   "source": [
    "crashes['INJURIES_NO_INDICATION'].value_counts()"
   ]
  },
  {
   "cell_type": "code",
   "execution_count": 81,
   "metadata": {},
   "outputs": [
    {
     "data": {
      "text/plain": [
       "INJURIES_UNKNOWN\n",
       "0.0    849710\n",
       "Name: count, dtype: int64"
      ]
     },
     "execution_count": 81,
     "metadata": {},
     "output_type": "execute_result"
    }
   ],
   "source": [
    "crashes['INJURIES_UNKNOWN'].value_counts()"
   ]
  },
  {
   "cell_type": "markdown",
   "metadata": {},
   "source": [
    "surely we can drop INJURIES_UNKNOWN"
   ]
  },
  {
   "cell_type": "code",
   "execution_count": 82,
   "metadata": {},
   "outputs": [],
   "source": [
    "crashes = crashes.drop(columns=['INJURIES_UNKNOWN'])"
   ]
  },
  {
   "cell_type": "markdown",
   "metadata": {},
   "source": [
    "---"
   ]
  },
  {
   "cell_type": "code",
   "execution_count": 83,
   "metadata": {},
   "outputs": [
    {
     "name": "stdout",
     "output_type": "stream",
     "text": [
      "5.10.4\n"
     ]
    }
   ],
   "source": [
    "import nbformat\n",
    "print(nbformat.__version__)"
   ]
  },
  {
   "cell_type": "markdown",
   "metadata": {},
   "source": [
    "## LOCATION check using plotly"
   ]
  },
  {
   "cell_type": "code",
   "execution_count": 84,
   "metadata": {},
   "outputs": [],
   "source": [
    "import plotly.express as px\n",
    "\n",
    "# Sample: Use the first 10,000 crash records for performance reasons\n",
    "crashes_sample = crashes[['LATITUDE', 'LONGITUDE']].dropna().sample(10000, random_state=42)\n",
    "\n",
    "# Create an interactive scatter map\n",
    "fig = px.scatter_map(crashes_sample,\n",
    "                        lat=\"LATITUDE\",\n",
    "                        lon=\"LONGITUDE\",\n",
    "                        hover_name=\"LATITUDE\",\n",
    "                        hover_data=[\"LONGITUDE\"],\n",
    "                        zoom=10,\n",
    "                        title=\"Chicago Traffic Crashes\",\n",
    "                        map_style=\"open-street-map\")\n",
    "\n",
    "fig.write_html(\"crash_map.html\")\n",
    "\n",
    "\n"
   ]
  },
  {
   "cell_type": "code",
   "execution_count": 85,
   "metadata": {},
   "outputs": [],
   "source": [
    "# Round latitude & longitude to 3 decimal places (~100m accuracy)\n",
    "crashes['LAT_BIN'] = crashes['LATITUDE'].round(3)\n",
    "crashes['LON_BIN'] = crashes['LONGITUDE'].round(3)\n",
    "\n",
    "# Count crashes per bin\n",
    "heatmap_data = crashes.groupby(['LAT_BIN', 'LON_BIN']).size().reset_index(name=\"CRASH_COUNT\")\n",
    "\n",
    "# Plot aggregated data\n",
    "fig = px.scatter_map(heatmap_data,\n",
    "                        lat=\"LAT_BIN\",\n",
    "                        lon=\"LON_BIN\",\n",
    "                        size=\"CRASH_COUNT\",  # Larger circles for more crashes\n",
    "                        zoom=10,\n",
    "                        title=\"Binned Traffic Crash Map\",\n",
    "                        map_style=\"open-street-map\")\n",
    "\n",
    "fig.write_html(\"crash_map_bin.html\")"
   ]
  },
  {
   "cell_type": "markdown",
   "metadata": {},
   "source": [
    "looking at both plot we can see how near the airport to the left there are 1400 crashes on the same point"
   ]
  },
  {
   "cell_type": "code",
   "execution_count": 86,
   "metadata": {},
   "outputs": [],
   "source": [
    "crashes_subset_ll = crashes[(crashes['LATITUDE'] == 41.976201139) & (crashes['LONGITUDE'] == -87.905309125)]"
   ]
  },
  {
   "cell_type": "code",
   "execution_count": 87,
   "metadata": {},
   "outputs": [
    {
     "data": {
      "text/plain": [
       "1419"
      ]
     },
     "execution_count": 87,
     "metadata": {},
     "output_type": "execute_result"
    }
   ],
   "source": [
    "len(crashes_subset_ll)"
   ]
  },
  {
   "cell_type": "code",
   "execution_count": 88,
   "metadata": {},
   "outputs": [
    {
     "data": {
      "text/plain": [
       "POSTED_SPEED_LIMIT\n",
       "30    448\n",
       "20    245\n",
       "15    209\n",
       "10    170\n",
       "25    111\n",
       "45     69\n",
       "35     62\n",
       "40     40\n",
       "55     20\n",
       "50     16\n",
       "5      15\n",
       "0      13\n",
       "70      1\n",
       "Name: count, dtype: int64"
      ]
     },
     "execution_count": 88,
     "metadata": {},
     "output_type": "execute_result"
    }
   ],
   "source": [
    "crashes_subset_ll['POSTED_SPEED_LIMIT'].value_counts()"
   ]
  },
  {
   "cell_type": "code",
   "execution_count": 89,
   "metadata": {},
   "outputs": [],
   "source": [
    "# change these subset to NaN for LATITUDE and LONGITUDE, LOCATION, EXTRACTED_LATITUDE, EXTRACTED_LONGITUDE\n",
    "crashes.loc[(crashes['LATITUDE'] == 41.976201139) & (crashes['LONGITUDE'] == -87.905309125), ['LATITUDE', 'LONGITUDE', 'LOCATION', 'EXTRACTED_LATITUDE', 'EXTRACTED_LONGITUDE']] = np.nan"
   ]
  },
  {
   "cell_type": "code",
   "execution_count": 90,
   "metadata": {},
   "outputs": [],
   "source": [
    "crashes_subset_ll = crashes[(crashes['LATITUDE'] == 41.976201139) & (crashes['LONGITUDE'] == -87.905309125)]"
   ]
  },
  {
   "cell_type": "code",
   "execution_count": 91,
   "metadata": {},
   "outputs": [
    {
     "data": {
      "text/plain": [
       "0"
      ]
     },
     "execution_count": 91,
     "metadata": {},
     "output_type": "execute_result"
    }
   ],
   "source": [
    "len(crashes_subset_ll)"
   ]
  },
  {
   "cell_type": "markdown",
   "metadata": {},
   "source": [
    "---"
   ]
  },
  {
   "cell_type": "markdown",
   "metadata": {},
   "source": [
    "## finalizing crashes dataset"
   ]
  },
  {
   "cell_type": "code",
   "execution_count": 92,
   "metadata": {},
   "outputs": [
    {
     "name": "stdout",
     "output_type": "stream",
     "text": [
      "<class 'pandas.core.frame.DataFrame'>\n",
      "Index: 851620 entries, 1 to 912163\n",
      "Data columns (total 46 columns):\n",
      " #   Column                         Non-Null Count   Dtype         \n",
      "---  ------                         --------------   -----         \n",
      " 0   CRASH_RECORD_ID                851620 non-null  object        \n",
      " 1   CRASH_DATE                     851620 non-null  datetime64[ns]\n",
      " 2   POSTED_SPEED_LIMIT             851620 non-null  int64         \n",
      " 3   WEATHER_CONDITION              851620 non-null  object        \n",
      " 4   LIGHTING_CONDITION             851620 non-null  object        \n",
      " 5   FIRST_CRASH_TYPE               851620 non-null  object        \n",
      " 6   TRAFFICWAY_TYPE                851620 non-null  object        \n",
      " 7   LANE_CNT                       153031 non-null  float64       \n",
      " 8   ALIGNMENT                      851620 non-null  object        \n",
      " 9   ROADWAY_SURFACE_COND           851620 non-null  object        \n",
      " 10  ROAD_DEFECT                    851620 non-null  object        \n",
      " 11  CRASH_TYPE                     851620 non-null  object        \n",
      " 12  INTERSECTION_RELATED_I         199093 non-null  object        \n",
      " 13  NOT_RIGHT_OF_WAY_I             38842 non-null   object        \n",
      " 14  HIT_AND_RUN_I                  270320 non-null  object        \n",
      " 15  DAMAGE                         851620 non-null  object        \n",
      " 16  PRIM_CONTRIBUTORY_CAUSE        851620 non-null  object        \n",
      " 17  SEC_CONTRIBUTORY_CAUSE         851620 non-null  object        \n",
      " 18  STREET_NO                      851620 non-null  int64         \n",
      " 19  STREET_DIRECTION               851619 non-null  object        \n",
      " 20  STREET_NAME                    851620 non-null  object        \n",
      " 21  BEAT_OF_OCCURRENCE             851620 non-null  float64       \n",
      " 22  NUM_UNITS                      851620 non-null  int64         \n",
      " 23  MOST_SEVERE_INJURY             849698 non-null  object        \n",
      " 24  INJURIES_TOTAL                 849710 non-null  float64       \n",
      " 25  INJURIES_FATAL                 849710 non-null  float64       \n",
      " 26  INJURIES_INCAPACITATING        849710 non-null  float64       \n",
      " 27  INJURIES_NON_INCAPACITATING    849710 non-null  float64       \n",
      " 28  INJURIES_REPORTED_NOT_EVIDENT  849710 non-null  float64       \n",
      " 29  INJURIES_NO_INDICATION         849710 non-null  float64       \n",
      " 30  CRASH_HOUR                     851620 non-null  int64         \n",
      " 31  CRASH_DAY_OF_WEEK              851620 non-null  int64         \n",
      " 32  CRASH_MONTH                    851620 non-null  int64         \n",
      " 33  LATITUDE                       850201 non-null  float64       \n",
      " 34  LONGITUDE                      850201 non-null  float64       \n",
      " 35  LOCATION                       850201 non-null  object        \n",
      " 36  WEATHER_SEVERITY               851620 non-null  int64         \n",
      " 37  LIGHTING_SEVERITY              851620 non-null  int64         \n",
      " 38  surface_cond                   851620 non-null  int64         \n",
      " 39  road_cond                      851620 non-null  int64         \n",
      " 40  ROADWAY_SEVERITY               851620 non-null  int64         \n",
      " 41  DAMAGE_SEVERITY                851620 non-null  int64         \n",
      " 42  EXTRACTED_LONGITUDE            850201 non-null  float64       \n",
      " 43  EXTRACTED_LATITUDE             850201 non-null  float64       \n",
      " 44  LAT_BIN                        851620 non-null  float64       \n",
      " 45  LON_BIN                        851620 non-null  float64       \n",
      "dtypes: datetime64[ns](1), float64(14), int64(12), object(19)\n",
      "memory usage: 337.6+ MB\n"
     ]
    }
   ],
   "source": [
    "crashes.info()"
   ]
  },
  {
   "cell_type": "code",
   "execution_count": 93,
   "metadata": {},
   "outputs": [],
   "source": [
    "final_columns = ['CRASH_RECORD_ID', 'CRASH_DATE', 'POSTED_SPEED_LIMIT', 'WEATHER_SEVERITY', 'LIGHTING_SEVERITY', 'FIRST_CRASH_TYPE', 'TRAFFICWAY_TYPE', 'ALIGNMENT', 'ROADWAY_SEVERITY', 'CRASH_TYPE', 'DAMAGE_SEVERITY', 'PRIM_CONTRIBUTORY_CAUSE', 'SEC_CONTRIBUTORY_CAUSE', 'BEAT_OF_OCCURRENCE', 'STREET_NO', 'STREET_DIRECTION', 'STREET_NAME', 'LATITUDE', 'LONGITUDE', 'NUM_UNITS', 'MOST_SEVERE_INJURY', 'INJURIES_TOTAL', 'INJURIES_FATAL', 'INJURIES_INCAPACITATING', 'INJURIES_NON_INCAPACITATING', 'INJURIES_REPORTED_NOT_EVIDENT']"
   ]
  },
  {
   "cell_type": "code",
   "execution_count": 94,
   "metadata": {},
   "outputs": [],
   "source": [
    "crashes_severity = crashes[final_columns]\n",
    "\n",
    "# csv\n",
    "crashes_severity.to_csv('dataset/crashes_severity_2017.csv', index=False)"
   ]
  },
  {
   "cell_type": "markdown",
   "metadata": {},
   "source": [
    "---"
   ]
  },
  {
   "cell_type": "markdown",
   "metadata": {},
   "source": [
    "# PEOPLE"
   ]
  },
  {
   "cell_type": "code",
   "execution_count": 95,
   "metadata": {},
   "outputs": [
    {
     "name": "stdout",
     "output_type": "stream",
     "text": [
      "<class 'pandas.core.frame.DataFrame'>\n",
      "RangeIndex: 2003340 entries, 0 to 2003339\n",
      "Data columns (total 29 columns):\n",
      " #   Column                 Non-Null Count    Dtype  \n",
      "---  ------                 --------------    -----  \n",
      " 0   PERSON_ID              2003340 non-null  object \n",
      " 1   PERSON_TYPE            2003340 non-null  object \n",
      " 2   CRASH_RECORD_ID        2003340 non-null  object \n",
      " 3   VEHICLE_ID             1962246 non-null  float64\n",
      " 4   CRASH_DATE             2003340 non-null  object \n",
      " 5   SEAT_NO                404959 non-null   float64\n",
      " 6   CITY                   1458050 non-null  object \n",
      " 7   STATE                  1480279 non-null  object \n",
      " 8   ZIPCODE                1341900 non-null  object \n",
      " 9   SEX                    1969502 non-null  object \n",
      " 10  AGE                    1420517 non-null  float64\n",
      " 11  DRIVERS_LICENSE_STATE  1172976 non-null  object \n",
      " 12  DRIVERS_LICENSE_CLASS  974527 non-null   object \n",
      " 13  SAFETY_EQUIPMENT       1997745 non-null  object \n",
      " 14  AIRBAG_DEPLOYED        1963791 non-null  object \n",
      " 15  EJECTION               1978115 non-null  object \n",
      " 16  INJURY_CLASSIFICATION  2002584 non-null  object \n",
      " 17  HOSPITAL               323379 non-null   object \n",
      " 18  EMS_AGENCY             199529 non-null   object \n",
      " 19  EMS_RUN_NO             33361 non-null    object \n",
      " 20  DRIVER_ACTION          1594795 non-null  object \n",
      " 21  DRIVER_VISION          1594162 non-null  object \n",
      " 22  PHYSICAL_CONDITION     1595892 non-null  object \n",
      " 23  PEDPEDAL_ACTION        39281 non-null    object \n",
      " 24  PEDPEDAL_VISIBILITY    39211 non-null    object \n",
      " 25  PEDPEDAL_LOCATION      39282 non-null    object \n",
      " 26  BAC_RESULT             1595718 non-null  object \n",
      " 27  BAC_RESULT VALUE       2213 non-null     float64\n",
      " 28  CELL_PHONE_USE         1160 non-null     object \n",
      "dtypes: float64(4), object(25)\n",
      "memory usage: 443.2+ MB\n"
     ]
    }
   ],
   "source": [
    "people.info(show_counts=True)"
   ]
  },
  {
   "cell_type": "code",
   "execution_count": 96,
   "metadata": {},
   "outputs": [
    {
     "name": "stdout",
     "output_type": "stream",
     "text": [
      "PERSON_ID                 0.000000\n",
      "PERSON_TYPE               0.000000\n",
      "CRASH_RECORD_ID           0.000000\n",
      "VEHICLE_ID                2.051274\n",
      "CRASH_DATE                0.000000\n",
      "SEAT_NO                  79.785808\n",
      "CITY                     27.219044\n",
      "STATE                    26.109447\n",
      "ZIPCODE                  33.016862\n",
      "SEX                       1.689079\n",
      "AGE                      29.092565\n",
      "DRIVERS_LICENSE_STATE    41.448980\n",
      "DRIVERS_LICENSE_CLASS    51.354887\n",
      "SAFETY_EQUIPMENT          0.279284\n",
      "AIRBAG_DEPLOYED           1.974153\n",
      "EJECTION                  1.259147\n",
      "INJURY_CLASSIFICATION     0.037737\n",
      "HOSPITAL                 83.858007\n",
      "EMS_AGENCY               90.040183\n",
      "EMS_RUN_NO               98.334731\n",
      "DRIVER_ACTION            20.393193\n",
      "DRIVER_VISION            20.424791\n",
      "PHYSICAL_CONDITION       20.338435\n",
      "PEDPEDAL_ACTION          98.039224\n",
      "PEDPEDAL_VISIBILITY      98.042719\n",
      "PEDPEDAL_LOCATION        98.039175\n",
      "BAC_RESULT               20.347120\n",
      "BAC_RESULT VALUE         99.889534\n",
      "CELL_PHONE_USE           99.942097\n",
      "dtype: float64\n"
     ]
    }
   ],
   "source": [
    "print(people.isnull().mean() * 100)"
   ]
  },
  {
   "cell_type": "markdown",
   "metadata": {},
   "source": [
    "---"
   ]
  },
  {
   "cell_type": "markdown",
   "metadata": {},
   "source": [
    "## duplicate ID check"
   ]
  },
  {
   "cell_type": "code",
   "execution_count": 97,
   "metadata": {},
   "outputs": [
    {
     "data": {
      "text/plain": [
       "np.int64(0)"
      ]
     },
     "execution_count": 97,
     "metadata": {},
     "output_type": "execute_result"
    }
   ],
   "source": [
    "people['PERSON_ID'].duplicated().sum()"
   ]
  },
  {
   "cell_type": "markdown",
   "metadata": {},
   "source": [
    "## Dropping very high NaN features"
   ]
  },
  {
   "cell_type": "code",
   "execution_count": 98,
   "metadata": {},
   "outputs": [],
   "source": [
    "columns_to_drop = ['HOSPITAL', 'EMS_AGENCY', 'EMS_RUN_NO', 'PEDPEDAL_ACTION', 'PEDPEDAL_VISIBILITY', 'PEDPEDAL_LOCATION',  'BAC_RESULT VALUE', 'CELL_PHONE_USE']\n",
    "people = people.drop(columns=columns_to_drop)"
   ]
  },
  {
   "cell_type": "markdown",
   "metadata": {},
   "source": [
    "dataset overview"
   ]
  },
  {
   "cell_type": "markdown",
   "metadata": {},
   "source": [
    "---"
   ]
  },
  {
   "cell_type": "markdown",
   "metadata": {},
   "source": [
    "## PERSON_TYPE, SEAT_NO"
   ]
  },
  {
   "cell_type": "code",
   "execution_count": 100,
   "metadata": {},
   "outputs": [
    {
     "data": {
      "text/plain": [
       "PERSON_TYPE\n",
       "DRIVER    1557809\n",
       "Name: count, dtype: int64"
      ]
     },
     "execution_count": 100,
     "metadata": {},
     "output_type": "execute_result"
    }
   ],
   "source": [
    "people['PERSON_TYPE'].value_counts()"
   ]
  },
  {
   "cell_type": "code",
   "execution_count": 101,
   "metadata": {},
   "outputs": [
    {
     "data": {
      "text/plain": [
       "Series([], Name: count, dtype: int64)"
      ]
     },
     "execution_count": 101,
     "metadata": {},
     "output_type": "execute_result"
    }
   ],
   "source": [
    "people['SEAT_NO'].value_counts()"
   ]
  },
  {
   "cell_type": "markdown",
   "metadata": {},
   "source": [
    "This column has a lot of missing values and we won't be using it for our analisys, further more a similar overview can be obtained by the PERSON_TYPE feature. Hence we decided to drop this"
   ]
  },
  {
   "cell_type": "code",
   "execution_count": 102,
   "metadata": {},
   "outputs": [],
   "source": [
    "columns_to_drop = ['SEAT_NO']\n",
    "people = people.drop(columns=columns_to_drop)"
   ]
  },
  {
   "cell_type": "code",
   "execution_count": 103,
   "metadata": {},
   "outputs": [
    {
     "data": {
      "text/plain": [
       "CITY\n",
       "CHICAGO        822971\n",
       "CICERO          11738\n",
       "SKOKIE           8241\n",
       "BERWYN           6815\n",
       "EVANSTON         6774\n",
       "                ...  \n",
       "2B                  1\n",
       "BLUE ISLANG         1\n",
       "HAMMNOND            1\n",
       "DALY                1\n",
       "SUSEX               1\n",
       "Name: count, Length: 12571, dtype: int64"
      ]
     },
     "execution_count": 103,
     "metadata": {},
     "output_type": "execute_result"
    }
   ],
   "source": [
    "people['CITY'].value_counts()"
   ]
  },
  {
   "cell_type": "code",
   "execution_count": 104,
   "metadata": {},
   "outputs": [
    {
     "data": {
      "text/plain": [
       "STATE\n",
       "IL    1099778\n",
       "IN      19127\n",
       "XX       7159\n",
       "WI       5816\n",
       "MI       4302\n",
       "FL       3218\n",
       "TX       2483\n",
       "CA       2149\n",
       "OH       2132\n",
       "IA       1565\n",
       "GA       1535\n",
       "MO       1358\n",
       "MN       1269\n",
       "NY       1221\n",
       "WA       1149\n",
       "TN        945\n",
       "AZ        821\n",
       "NC        715\n",
       "PA        688\n",
       "CO        551\n",
       "KY        533\n",
       "NJ        532\n",
       "MS        456\n",
       "VA        442\n",
       "MD        436\n",
       "AL        416\n",
       "MA        405\n",
       "NV        339\n",
       "LA        332\n",
       "AR        330\n",
       "NB        291\n",
       "SC        281\n",
       "KS        272\n",
       "OK        262\n",
       "OR        179\n",
       "CT        176\n",
       "UT        127\n",
       "NM        110\n",
       "ID        103\n",
       "ND         92\n",
       "SD         87\n",
       "DC         76\n",
       "MT         70\n",
       "NH         58\n",
       "WV         48\n",
       "DE         48\n",
       "ME         40\n",
       "WY         38\n",
       "RI         38\n",
       "AK         36\n",
       "HI         34\n",
       "VT         24\n",
       "Name: count, dtype: int64"
      ]
     },
     "execution_count": 104,
     "metadata": {},
     "output_type": "execute_result"
    }
   ],
   "source": [
    "people['STATE'].value_counts()"
   ]
  },
  {
   "cell_type": "code",
   "execution_count": 105,
   "metadata": {},
   "outputs": [
    {
     "data": {
      "text/plain": [
       "ZIPCODE\n",
       "60629         41432\n",
       "60639         33862\n",
       "60620         29513\n",
       "60617         29246\n",
       "60632         27369\n",
       "              ...  \n",
       "55951             1\n",
       "10065             1\n",
       "88345-6078        1\n",
       "50181             1\n",
       "19182             1\n",
       "Name: count, Length: 13379, dtype: int64"
      ]
     },
     "execution_count": 105,
     "metadata": {},
     "output_type": "execute_result"
    }
   ],
   "source": [
    "people['ZIPCODE'].value_counts()"
   ]
  },
  {
   "cell_type": "markdown",
   "metadata": {},
   "source": [
    "The CITY and STATE are very unbalanced since they are mainly local people. We have to decide what to do with this information and if it will be usefull later."
   ]
  },
  {
   "cell_type": "markdown",
   "metadata": {},
   "source": [
    "---"
   ]
  },
  {
   "cell_type": "markdown",
   "metadata": {},
   "source": [
    "## SEX, AGE"
   ]
  },
  {
   "cell_type": "code",
   "execution_count": 106,
   "metadata": {},
   "outputs": [
    {
     "data": {
      "text/plain": [
       "SEX\n",
       "M    843528\n",
       "F    544115\n",
       "X    170069\n",
       "Name: count, dtype: int64"
      ]
     },
     "execution_count": 106,
     "metadata": {},
     "output_type": "execute_result"
    }
   ],
   "source": [
    "people['SEX'].value_counts()"
   ]
  },
  {
   "cell_type": "code",
   "execution_count": 107,
   "metadata": {},
   "outputs": [],
   "source": [
    "# change SEX to -1 0 1\n",
    "\n",
    "sex_mapping = {\n",
    "    'M': 1,\n",
    "    'F': 0,\n",
    "    'X': -1\n",
    "}\n",
    "\n",
    "people['SEX'] = people['SEX'].map(sex_mapping)"
   ]
  },
  {
   "cell_type": "code",
   "execution_count": 108,
   "metadata": {},
   "outputs": [
    {
     "data": {
      "text/plain": [
       "SEX\n",
       " 1.0    843528\n",
       " 0.0    544115\n",
       "-1.0    170069\n",
       "Name: count, dtype: int64"
      ]
     },
     "execution_count": 108,
     "metadata": {},
     "output_type": "execute_result"
    }
   ],
   "source": [
    "people['SEX'].value_counts()"
   ]
  },
  {
   "cell_type": "code",
   "execution_count": 109,
   "metadata": {},
   "outputs": [
    {
     "data": {
      "text/plain": [
       "AGE\n",
       " 27.0     33068\n",
       " 26.0     32840\n",
       " 25.0     32698\n",
       " 28.0     32549\n",
       " 29.0     32228\n",
       "          ...  \n",
       "-1.0          1\n",
       "-47.0         1\n",
       "-177.0        1\n",
       "-49.0         1\n",
       " 106.0        1\n",
       "Name: count, Length: 114, dtype: int64"
      ]
     },
     "execution_count": 109,
     "metadata": {},
     "output_type": "execute_result"
    }
   ],
   "source": [
    "people['AGE'].value_counts()"
   ]
  },
  {
   "cell_type": "code",
   "execution_count": 110,
   "metadata": {},
   "outputs": [
    {
     "data": {
      "image/png": "[encoded data removed]",
      "text/plain": [
       "<Figure size 640x480 with 1 Axes>"
      ]
     },
     "metadata": {},
     "output_type": "display_data"
    }
   ],
   "source": [
    "# Age distribution\n",
    "people['AGE'].plot(kind='hist', bins=20)\n",
    "plt.xlabel('Age')\n",
    "plt.ylabel('Frequency')\n",
    "plt.title('Age distribution of people involved in crashes')\n",
    "plt.show()\n"
   ]
  },
  {
   "cell_type": "code",
   "execution_count": 111,
   "metadata": {},
   "outputs": [
    {
     "data": {
      "text/plain": [
       "np.int64(4)"
      ]
     },
     "execution_count": 111,
     "metadata": {},
     "output_type": "execute_result"
    }
   ],
   "source": [
    "people['AGE'].lt(0).sum()"
   ]
  },
  {
   "cell_type": "markdown",
   "metadata": {},
   "source": [
    "we surely want to eliminate these values but also the other wrong values, e.g. super high age (110 etc) and super low one if they are the driver."
   ]
  },
  {
   "cell_type": "code",
   "execution_count": 112,
   "metadata": {},
   "outputs": [],
   "source": [
    "people['AGE'] = people['AGE'].apply(lambda x: np.nan if x < 0 else x)"
   ]
  },
  {
   "cell_type": "code",
   "execution_count": 113,
   "metadata": {},
   "outputs": [
    {
     "data": {
      "text/plain": [
       "AGE\n",
       "0.0      10075\n",
       "1.0        125\n",
       "2.0        132\n",
       "3.0         73\n",
       "4.0         64\n",
       "         ...  \n",
       "106.0        1\n",
       "107.0        2\n",
       "108.0        3\n",
       "109.0        2\n",
       "110.0        4\n",
       "Name: count, Length: 110, dtype: int64"
      ]
     },
     "execution_count": 113,
     "metadata": {},
     "output_type": "execute_result"
    }
   ],
   "source": [
    "people['AGE'].value_counts().sort_index()\n"
   ]
  },
  {
   "cell_type": "code",
   "execution_count": 114,
   "metadata": {},
   "outputs": [
    {
     "data": {
      "text/plain": [
       "AGE\n",
       "0.0     10075\n",
       "1.0       125\n",
       "2.0       132\n",
       "3.0        73\n",
       "4.0        64\n",
       "5.0        23\n",
       "6.0        27\n",
       "7.0        21\n",
       "8.0        26\n",
       "9.0        27\n",
       "10.0       34\n",
       "11.0       36\n",
       "12.0       54\n",
       "13.0      108\n",
       "14.0      211\n",
       "15.0      532\n",
       "16.0     3279\n",
       "17.0     7915\n",
       "18.0    13882\n",
       "19.0    17524\n",
       "Name: count, dtype: int64"
      ]
     },
     "execution_count": 114,
     "metadata": {},
     "output_type": "execute_result"
    }
   ],
   "source": [
    "# value count for PERSON_TYPE = DRIVER\n",
    "people[people['PERSON_TYPE'] == 'DRIVER']['AGE'].value_counts().sort_index().head(20)"
   ]
  },
  {
   "cell_type": "code",
   "execution_count": 115,
   "metadata": {},
   "outputs": [
    {
     "data": {
      "text/plain": [
       "AGE\n",
       "90.0     285\n",
       "91.0     198\n",
       "92.0     152\n",
       "93.0     117\n",
       "94.0      78\n",
       "95.0      56\n",
       "96.0      44\n",
       "97.0      28\n",
       "98.0      25\n",
       "99.0      27\n",
       "100.0     13\n",
       "101.0     10\n",
       "102.0      5\n",
       "103.0      6\n",
       "104.0      2\n",
       "106.0      1\n",
       "107.0      2\n",
       "108.0      3\n",
       "109.0      2\n",
       "110.0      4\n",
       "Name: count, dtype: int64"
      ]
     },
     "execution_count": 115,
     "metadata": {},
     "output_type": "execute_result"
    }
   ],
   "source": [
    "people[people['PERSON_TYPE'] == 'DRIVER']['AGE'].value_counts().sort_index().tail(20)"
   ]
  },
  {
   "cell_type": "markdown",
   "metadata": {},
   "source": [
    "from a quick online search we can see how one must be at least 15 years old to drive and also how there are only 5 people globally with 105 or more years, so we are changing them to NaN"
   ]
  },
  {
   "cell_type": "code",
   "execution_count": 116,
   "metadata": {},
   "outputs": [],
   "source": [
    "people.loc[(people['PERSON_TYPE'] == 'DRIVER') & (people['AGE'] < 15), 'AGE'] = np.nan\n",
    "people.loc[(people['PERSON_TYPE'] == 'DRIVER') & (people['AGE'] > 104), 'AGE'] = np.nan"
   ]
  },
  {
   "cell_type": "code",
   "execution_count": 117,
   "metadata": {},
   "outputs": [
    {
     "data": {
      "text/plain": [
       "AGE\n",
       "15.0      532\n",
       "16.0     3279\n",
       "17.0     7915\n",
       "18.0    13882\n",
       "19.0    17524\n",
       "Name: count, dtype: int64"
      ]
     },
     "execution_count": 117,
     "metadata": {},
     "output_type": "execute_result"
    }
   ],
   "source": [
    "people[people['PERSON_TYPE'] == 'DRIVER']['AGE'].value_counts().sort_index().head()"
   ]
  },
  {
   "cell_type": "code",
   "execution_count": 118,
   "metadata": {},
   "outputs": [
    {
     "data": {
      "text/plain": [
       "AGE\n",
       "85.0     824\n",
       "86.0     684\n",
       "87.0     575\n",
       "88.0     430\n",
       "89.0     349\n",
       "90.0     285\n",
       "91.0     198\n",
       "92.0     152\n",
       "93.0     117\n",
       "94.0      78\n",
       "95.0      56\n",
       "96.0      44\n",
       "97.0      28\n",
       "98.0      25\n",
       "99.0      27\n",
       "100.0     13\n",
       "101.0     10\n",
       "102.0      5\n",
       "103.0      6\n",
       "104.0      2\n",
       "Name: count, dtype: int64"
      ]
     },
     "execution_count": 118,
     "metadata": {},
     "output_type": "execute_result"
    }
   ],
   "source": [
    "people[people['PERSON_TYPE'] == 'DRIVER']['AGE'].value_counts().sort_index().tail(20)"
   ]
  },
  {
   "cell_type": "markdown",
   "metadata": {},
   "source": [
    "furthermore, we can assume that 0 age is a placeolder, and that we can remove over 105 yo from the dataset even for non-drivers"
   ]
  },
  {
   "cell_type": "code",
   "execution_count": 119,
   "metadata": {},
   "outputs": [],
   "source": [
    "people['AGE'] = people['AGE'].replace(0, np.nan)\n",
    "people.loc[(people['AGE'] > 104), 'AGE'] = np.nan"
   ]
  },
  {
   "cell_type": "code",
   "execution_count": 120,
   "metadata": {},
   "outputs": [
    {
     "data": {
      "image/png": "[encoded data removed]",
      "text/plain": [
       "<Figure size 640x480 with 1 Axes>"
      ]
     },
     "metadata": {},
     "output_type": "display_data"
    }
   ],
   "source": [
    "# compare driver and non-driver age distribution\n",
    "people[people['PERSON_TYPE'] == 'DRIVER']['AGE'].plot(kind='hist', bins=20, alpha=0.5, label='Driver')\n",
    "people[people['PERSON_TYPE'] != 'DRIVER']['AGE'].plot(kind='hist', bins=20, alpha=0.5, label='Non-driver')\n",
    "plt.xlabel('Age')\n",
    "plt.ylabel('Frequency')\n",
    "plt.title('Age distribution of people involved in crashes')\n",
    "plt.legend()\n",
    "plt.show()"
   ]
  },
  {
   "cell_type": "markdown",
   "metadata": {},
   "source": [
    "### Remove all non-driver users\n",
    "\n",
    "since the goeal of the project is to simulate a decision support system for an assurance company, we decided to remove all non-driver users."
   ]
  },
  {
   "cell_type": "code",
   "execution_count": 121,
   "metadata": {},
   "outputs": [],
   "source": [
    "# remove rows with non DRIVER user\n",
    "people = people[people['PERSON_TYPE'] == 'DRIVER']"
   ]
  },
  {
   "cell_type": "code",
   "execution_count": 122,
   "metadata": {},
   "outputs": [
    {
     "name": "stdout",
     "output_type": "stream",
     "text": [
      "<class 'pandas.core.frame.DataFrame'>\n",
      "Index: 1557809 entries, 0 to 2003251\n",
      "Data columns (total 20 columns):\n",
      " #   Column                 Non-Null Count    Dtype  \n",
      "---  ------                 --------------    -----  \n",
      " 0   PERSON_ID              1557809 non-null  object \n",
      " 1   PERSON_TYPE            1557809 non-null  object \n",
      " 2   CRASH_RECORD_ID        1557809 non-null  object \n",
      " 3   VEHICLE_ID             1557100 non-null  float64\n",
      " 4   CRASH_DATE             1557809 non-null  object \n",
      " 5   CITY                   1180908 non-null  object \n",
      " 6   STATE                  1164692 non-null  object \n",
      " 7   ZIPCODE                1106254 non-null  object \n",
      " 8   SEX                    1557712 non-null  float64\n",
      " 9   AGE                    1127331 non-null  float64\n",
      " 10  DRIVERS_LICENSE_STATE  1172827 non-null  object \n",
      " 11  DRIVERS_LICENSE_CLASS  974432 non-null   object \n",
      " 12  SAFETY_EQUIPMENT       1557809 non-null  object \n",
      " 13  AIRBAG_DEPLOYED        1557809 non-null  object \n",
      " 14  EJECTION               1557809 non-null  object \n",
      " 15  INJURY_CLASSIFICATION  1557809 non-null  object \n",
      " 16  DRIVER_ACTION          1557809 non-null  object \n",
      " 17  DRIVER_VISION          1557809 non-null  object \n",
      " 18  PHYSICAL_CONDITION     1557809 non-null  object \n",
      " 19  BAC_RESULT             1557809 non-null  object \n",
      "dtypes: float64(3), object(17)\n",
      "memory usage: 249.6+ MB\n"
     ]
    }
   ],
   "source": [
    "people.info()"
   ]
  },
  {
   "cell_type": "markdown",
   "metadata": {},
   "source": [
    "---"
   ]
  },
  {
   "cell_type": "markdown",
   "metadata": {},
   "source": [
    "## DRIVERS_LICENSE_STATE, DRIVERS_LICENSE_CLASS"
   ]
  },
  {
   "cell_type": "code",
   "execution_count": 123,
   "metadata": {},
   "outputs": [
    {
     "data": {
      "text/plain": [
       "DRIVERS_LICENSE_STATE\n",
       "IL    1072909\n",
       "XX      26761\n",
       "IN      19961\n",
       "WI       6537\n",
       "MI       4997\n",
       "       ...   \n",
       "KE          1\n",
       "YU          1\n",
       "MY          1\n",
       "SU          1\n",
       "VS          1\n",
       "Name: count, Length: 213, dtype: int64"
      ]
     },
     "execution_count": 123,
     "metadata": {},
     "output_type": "execute_result"
    }
   ],
   "source": [
    "people['DRIVERS_LICENSE_STATE'].value_counts()"
   ]
  },
  {
   "cell_type": "code",
   "execution_count": 124,
   "metadata": {},
   "outputs": [
    {
     "data": {
      "text/plain": [
       "DRIVERS_LICENSE_CLASS\n",
       "D     847806\n",
       "A      35223\n",
       "B      26866\n",
       "C      26567\n",
       "DM     14353\n",
       "       ...  \n",
       "1G         1\n",
       "SP         1\n",
       "*E         1\n",
       "BP         1\n",
       "NM         1\n",
       "Name: count, Length: 291, dtype: int64"
      ]
     },
     "execution_count": 124,
     "metadata": {},
     "output_type": "execute_result"
    }
   ],
   "source": [
    "people['DRIVERS_LICENSE_CLASS'].value_counts()"
   ]
  },
  {
   "cell_type": "markdown",
   "metadata": {},
   "source": [
    "we will be dropping DRIVERS_LICENSE_STATE since the majority of the crashes are from local people in chicago"
   ]
  },
  {
   "cell_type": "markdown",
   "metadata": {},
   "source": [
    "---"
   ]
  },
  {
   "cell_type": "markdown",
   "metadata": {},
   "source": [
    "## SAFETY_EQUIPMENT, AIRBAG_DEPLOYED, EJECTION"
   ]
  },
  {
   "cell_type": "code",
   "execution_count": 125,
   "metadata": {},
   "outputs": [
    {
     "data": {
      "text/plain": [
       "SAFETY_EQUIPMENT\n",
       "USAGE UNKNOWN                          788368\n",
       "SAFETY BELT USED                       724255\n",
       "NONE PRESENT                            34589\n",
       "SAFETY BELT NOT USED                     5912\n",
       "HELMET NOT USED                          2176\n",
       "DOT COMPLIANT MOTORCYCLE HELMET          1530\n",
       "HELMET USED                               453\n",
       "NOT DOT COMPLIANT MOTORCYCLE HELMET       299\n",
       "SHOULD/LAP BELT USED IMPROPERLY           220\n",
       "WHEELCHAIR                                  4\n",
       "STRETCHER                                   2\n",
       "CHILD RESTRAINT USED                        1\n",
       "Name: count, dtype: int64"
      ]
     },
     "execution_count": 125,
     "metadata": {},
     "output_type": "execute_result"
    }
   ],
   "source": [
    "people['SAFETY_EQUIPMENT'].value_counts()"
   ]
  },
  {
   "cell_type": "code",
   "execution_count": 126,
   "metadata": {},
   "outputs": [],
   "source": [
    "people['SAFETY_EQUIPMENT'] = people['SAFETY_EQUIPMENT'].replace('USAGE UNKNOWN', np.nan)"
   ]
  },
  {
   "cell_type": "code",
   "execution_count": 127,
   "metadata": {},
   "outputs": [
    {
     "data": {
      "text/plain": [
       "AIRBAG_DEPLOYED\n",
       "DID NOT DEPLOY                            767058\n",
       "DEPLOYMENT UNKNOWN                        378359\n",
       "NOT APPLICABLE                            314791\n",
       "DEPLOYED, FRONT                            48632\n",
       "DEPLOYED, COMBINATION                      35785\n",
       "DEPLOYED, SIDE                             12507\n",
       "DEPLOYED OTHER (KNEE, AIR, BELT, ETC.)       677\n",
       "Name: count, dtype: int64"
      ]
     },
     "execution_count": 127,
     "metadata": {},
     "output_type": "execute_result"
    }
   ],
   "source": [
    "people['AIRBAG_DEPLOYED'].value_counts()"
   ]
  },
  {
   "cell_type": "code",
   "execution_count": 128,
   "metadata": {},
   "outputs": [],
   "source": [
    "people['AIRBAG_DEPLOYED'] = people['AIRBAG_DEPLOYED'].replace('DEPLOYMENT UNKNOWN', np.nan)"
   ]
  },
  {
   "cell_type": "code",
   "execution_count": 129,
   "metadata": {},
   "outputs": [
    {
     "data": {
      "text/plain": [
       "EJECTION\n",
       "NONE                  1441101\n",
       "UNKNOWN                111904\n",
       "TOTALLY EJECTED          3064\n",
       "TRAPPED/EXTRICATED        940\n",
       "PARTIALLY EJECTED         800\n",
       "Name: count, dtype: int64"
      ]
     },
     "execution_count": 129,
     "metadata": {},
     "output_type": "execute_result"
    }
   ],
   "source": [
    "people['EJECTION'].value_counts()"
   ]
  },
  {
   "cell_type": "code",
   "execution_count": 130,
   "metadata": {},
   "outputs": [],
   "source": [
    "people['EJECTION'] = people['EJECTION'].replace('UNKNOWN', np.nan)"
   ]
  },
  {
   "cell_type": "markdown",
   "metadata": {},
   "source": [
    "---"
   ]
  },
  {
   "cell_type": "markdown",
   "metadata": {},
   "source": [
    "## INJURY_CLASSIFICATION\n",
    "\n",
    "we maybe need to categorize this later"
   ]
  },
  {
   "cell_type": "code",
   "execution_count": 131,
   "metadata": {},
   "outputs": [
    {
     "data": {
      "text/plain": [
       "INJURY_CLASSIFICATION\n",
       "NO INDICATION OF INJURY     1461164\n",
       "NONINCAPACITATING INJURY      52782\n",
       "REPORTED, NOT EVIDENT         34496\n",
       "INCAPACITATING INJURY          8805\n",
       "FATAL                           562\n",
       "Name: count, dtype: int64"
      ]
     },
     "execution_count": 131,
     "metadata": {},
     "output_type": "execute_result"
    }
   ],
   "source": [
    "people['INJURY_CLASSIFICATION'].value_counts()"
   ]
  },
  {
   "cell_type": "markdown",
   "metadata": {},
   "source": [
    "---"
   ]
  },
  {
   "cell_type": "markdown",
   "metadata": {},
   "source": [
    "## DRIVER_ACTION, DRIVER_VISION, PHYSICAL_CONDITION, BAC_RESULT "
   ]
  },
  {
   "cell_type": "code",
   "execution_count": 132,
   "metadata": {},
   "outputs": [
    {
     "data": {
      "text/plain": [
       "DRIVER_ACTION\n",
       "NONE                                 546785\n",
       "UNKNOWN                              398856\n",
       "FAILED TO YIELD                      143156\n",
       "OTHER                                138573\n",
       "FOLLOWED TOO CLOSELY                  92878\n",
       "IMPROPER BACKING                      46658\n",
       "IMPROPER TURN                         41851\n",
       "IMPROPER LANE CHANGE                  40829\n",
       "IMPROPER PASSING                      35640\n",
       "DISREGARDED CONTROL DEVICES           27309\n",
       "TOO FAST FOR CONDITIONS               23165\n",
       "WRONG WAY/SIDE                         6039\n",
       "IMPROPER PARKING                       5840\n",
       "OVERCORRECTED                          3183\n",
       "EVADING POLICE VEHICLE                 2444\n",
       "CELL PHONE USE OTHER THAN TEXTING      2247\n",
       "EMERGENCY VEHICLE ON CALL              1489\n",
       "TEXTING                                 606\n",
       "STOPPED SCHOOL BUS                      192\n",
       "LICENSE RESTRICTIONS                     69\n",
       "Name: count, dtype: int64"
      ]
     },
     "execution_count": 132,
     "metadata": {},
     "output_type": "execute_result"
    }
   ],
   "source": [
    "people['DRIVER_ACTION'].value_counts()"
   ]
  },
  {
   "cell_type": "code",
   "execution_count": 133,
   "metadata": {},
   "outputs": [
    {
     "data": {
      "text/plain": [
       "DRIVER_VISION\n",
       "NOT OBSCURED              772661\n",
       "UNKNOWN                   750317\n",
       "OTHER                      13290\n",
       "MOVING VEHICLES             8642\n",
       "PARKED VEHICLES             5259\n",
       "WINDSHIELD (WATER/ICE)      4178\n",
       "BLINDED - SUNLIGHT          1882\n",
       "TREES, PLANTS                597\n",
       "BUILDINGS                    497\n",
       "BLINDED - HEADLIGHTS         162\n",
       "BLOWING MATERIALS            102\n",
       "HILLCREST                    101\n",
       "EMBANKMENT                    83\n",
       "SIGNBOARD                     38\n",
       "Name: count, dtype: int64"
      ]
     },
     "execution_count": 133,
     "metadata": {},
     "output_type": "execute_result"
    }
   ],
   "source": [
    "people['DRIVER_VISION'].value_counts()"
   ]
  },
  {
   "cell_type": "code",
   "execution_count": 134,
   "metadata": {},
   "outputs": [
    {
     "data": {
      "text/plain": [
       "PHYSICAL_CONDITION\n",
       "NORMAL                          1005008\n",
       "UNKNOWN                          526866\n",
       "IMPAIRED - ALCOHOL                 6250\n",
       "FATIGUED/ASLEEP                    4119\n",
       "EMOTIONAL                          4068\n",
       "REMOVED BY EMS                     3984\n",
       "OTHER                              3982\n",
       "ILLNESS/FAINTED                    1405\n",
       "HAD BEEN DRINKING                   917\n",
       "IMPAIRED - DRUGS                    642\n",
       "IMPAIRED - ALCOHOL AND DRUGS        384\n",
       "MEDICATED                           184\n",
       "Name: count, dtype: int64"
      ]
     },
     "execution_count": 134,
     "metadata": {},
     "output_type": "execute_result"
    }
   ],
   "source": [
    "people['PHYSICAL_CONDITION'].value_counts()"
   ]
  },
  {
   "cell_type": "code",
   "execution_count": 135,
   "metadata": {},
   "outputs": [
    {
     "data": {
      "text/plain": [
       "BAC_RESULT\n",
       "TEST NOT OFFERED                   1535474\n",
       "TEST REFUSED                         15978\n",
       "TEST PERFORMED, RESULTS UNKNOWN       3574\n",
       "TEST TAKEN                            2783\n",
       "Name: count, dtype: int64"
      ]
     },
     "execution_count": 135,
     "metadata": {},
     "output_type": "execute_result"
    }
   ],
   "source": [
    "people['BAC_RESULT'].value_counts()"
   ]
  },
  {
   "cell_type": "markdown",
   "metadata": {},
   "source": [
    "---"
   ]
  },
  {
   "cell_type": "code",
   "execution_count": 136,
   "metadata": {},
   "outputs": [],
   "source": [
    "columns_to_drop = ['BAC_RESULT']\n",
    "\n",
    "people = people.drop(columns=columns_to_drop)"
   ]
  },
  {
   "cell_type": "markdown",
   "metadata": {},
   "source": [
    "---"
   ]
  },
  {
   "cell_type": "markdown",
   "metadata": {},
   "source": [
    "Finalization of people dataset"
   ]
  },
  {
   "cell_type": "code",
   "execution_count": 137,
   "metadata": {},
   "outputs": [
    {
     "name": "stdout",
     "output_type": "stream",
     "text": [
      "<class 'pandas.core.frame.DataFrame'>\n",
      "Index: 1557809 entries, 0 to 2003251\n",
      "Data columns (total 19 columns):\n",
      " #   Column                 Non-Null Count    Dtype  \n",
      "---  ------                 --------------    -----  \n",
      " 0   PERSON_ID              1557809 non-null  object \n",
      " 1   PERSON_TYPE            1557809 non-null  object \n",
      " 2   CRASH_RECORD_ID        1557809 non-null  object \n",
      " 3   VEHICLE_ID             1557100 non-null  float64\n",
      " 4   CRASH_DATE             1557809 non-null  object \n",
      " 5   CITY                   1180908 non-null  object \n",
      " 6   STATE                  1164692 non-null  object \n",
      " 7   ZIPCODE                1106254 non-null  object \n",
      " 8   SEX                    1557712 non-null  float64\n",
      " 9   AGE                    1127331 non-null  float64\n",
      " 10  DRIVERS_LICENSE_STATE  1172827 non-null  object \n",
      " 11  DRIVERS_LICENSE_CLASS  974432 non-null   object \n",
      " 12  SAFETY_EQUIPMENT       769441 non-null   object \n",
      " 13  AIRBAG_DEPLOYED        1179450 non-null  object \n",
      " 14  EJECTION               1445905 non-null  object \n",
      " 15  INJURY_CLASSIFICATION  1557809 non-null  object \n",
      " 16  DRIVER_ACTION          1557809 non-null  object \n",
      " 17  DRIVER_VISION          1557809 non-null  object \n",
      " 18  PHYSICAL_CONDITION     1557809 non-null  object \n",
      "dtypes: float64(3), object(16)\n",
      "memory usage: 237.7+ MB\n"
     ]
    }
   ],
   "source": [
    "people.info(show_counts=True)"
   ]
  },
  {
   "cell_type": "markdown",
   "metadata": {},
   "source": [
    "keeping only the wanted columns, maybe drop DRIVERS_LICENSE_CLASS, SAFETY_EQUIPMENT, AIRBAG_DEPLOYED, EJECTION"
   ]
  },
  {
   "cell_type": "code",
   "execution_count": 138,
   "metadata": {},
   "outputs": [],
   "source": [
    "# drop SAFETY_EQUIPMENT, AIRBAG_DEPLOYED, EJECTION\n",
    "columns_to_drop = ['SAFETY_EQUIPMENT', 'AIRBAG_DEPLOYED', 'EJECTION']\n",
    "people = people.drop(columns=columns_to_drop)"
   ]
  },
  {
   "cell_type": "markdown",
   "metadata": {},
   "source": [
    "keeping only entries in people with an existing crash"
   ]
  },
  {
   "cell_type": "code",
   "execution_count": 139,
   "metadata": {},
   "outputs": [
    {
     "name": "stdout",
     "output_type": "stream",
     "text": [
      "Number of rows in 'people' with missing crash record ID:  106079\n"
     ]
    }
   ],
   "source": [
    "missing_crash_ids_people = people[~people['CRASH_RECORD_ID'].isin(crashes_severity['CRASH_RECORD_ID'])]\n",
    "print(\"Number of rows in 'people' with missing crash record ID: \", len(missing_crash_ids_people))"
   ]
  },
  {
   "cell_type": "code",
   "execution_count": 140,
   "metadata": {},
   "outputs": [],
   "source": [
    "people_final = people[people['CRASH_RECORD_ID'].isin(crashes_severity['CRASH_RECORD_ID'])]"
   ]
  },
  {
   "cell_type": "markdown",
   "metadata": {},
   "source": [
    "a quick date check to spot errors after merging with the post-2017 crashes dataset"
   ]
  },
  {
   "cell_type": "code",
   "execution_count": 141,
   "metadata": {},
   "outputs": [
    {
     "name": "stderr",
     "output_type": "stream",
     "text": [
      "C:\\Users\\chucki\\AppData\\Local\\Temp\\ipykernel_1428\\2615432374.py:2: SettingWithCopyWarning:\n",
      "\n",
      "\n",
      "A value is trying to be set on a copy of a slice from a DataFrame.\n",
      "Try using .loc[row_indexer,col_indexer] = value instead\n",
      "\n",
      "See the caveats in the documentation: https://pandas.pydata.org/pandas-docs/stable/user_guide/indexing.html#returning-a-view-versus-a-copy\n",
      "\n"
     ]
    }
   ],
   "source": [
    "#change CRASH_DATE to datetime\n",
    "people_final['CRASH_DATE'] = pd.to_datetime(people_final['CRASH_DATE'])"
   ]
  },
  {
   "cell_type": "code",
   "execution_count": 142,
   "metadata": {},
   "outputs": [
    {
     "name": "stdout",
     "output_type": "stream",
     "text": [
      "2017-01-01 00:01:00\n",
      "2025-01-22 23:55:00\n"
     ]
    }
   ],
   "source": [
    "print(people_final['CRASH_DATE'].min())\n",
    "print(people_final['CRASH_DATE'].max())"
   ]
  },
  {
   "cell_type": "code",
   "execution_count": 143,
   "metadata": {},
   "outputs": [],
   "source": [
    "# save to csv\n",
    "people_final.to_csv('dataset/people_2017.csv', index=False)"
   ]
  },
  {
   "cell_type": "markdown",
   "metadata": {},
   "source": [
    "---"
   ]
  },
  {
   "cell_type": "markdown",
   "metadata": {},
   "source": [
    "# VEHICLES"
   ]
  },
  {
   "cell_type": "code",
   "execution_count": 141,
   "metadata": {},
   "outputs": [
    {
     "name": "stdout",
     "output_type": "stream",
     "text": [
      "<class 'pandas.core.frame.DataFrame'>\n",
      "RangeIndex: 1860568 entries, 0 to 1860567\n",
      "Data columns (total 71 columns):\n",
      " #   Column                    Non-Null Count    Dtype  \n",
      "---  ------                    --------------    -----  \n",
      " 0   CRASH_UNIT_ID             1860568 non-null  int64  \n",
      " 1   CRASH_RECORD_ID           1860568 non-null  object \n",
      " 2   CRASH_DATE                1860568 non-null  object \n",
      " 3   UNIT_NO                   1860568 non-null  int64  \n",
      " 4   UNIT_TYPE                 1858293 non-null  object \n",
      " 5   NUM_PASSENGERS            275500 non-null   float64\n",
      " 6   VEHICLE_ID                1817047 non-null  float64\n",
      " 7   CMRC_VEH_I                34572 non-null    object \n",
      " 8   MAKE                      1817042 non-null  object \n",
      " 9   MODEL                     1816897 non-null  object \n",
      " 10  LIC_PLATE_STATE           1650739 non-null  object \n",
      " 11  VEHICLE_YEAR              1528798 non-null  float64\n",
      " 12  VEHICLE_DEFECT            1817047 non-null  object \n",
      " 13  VEHICLE_TYPE              1817047 non-null  object \n",
      " 14  VEHICLE_USE               1817047 non-null  object \n",
      " 15  TRAVEL_DIRECTION          1817047 non-null  object \n",
      " 16  MANEUVER                  1817047 non-null  object \n",
      " 17  TOWED_I                   231226 non-null   object \n",
      " 18  FIRE_I                    1527 non-null     object \n",
      " 19  OCCUPANT_CNT              1817047 non-null  float64\n",
      " 20  EXCEED_SPEED_LIMIT_I      2402 non-null     object \n",
      " 21  TOWED_BY                  175158 non-null   object \n",
      " 22  TOWED_TO                  107412 non-null   object \n",
      " 23  AREA_00_I                 62881 non-null    object \n",
      " 24  AREA_01_I                 500234 non-null   object \n",
      " 25  AREA_02_I                 293212 non-null   object \n",
      " 26  AREA_03_I                 179236 non-null   object \n",
      " 27  AREA_04_I                 177197 non-null   object \n",
      " 28  AREA_05_I                 275732 non-null   object \n",
      " 29  AREA_06_I                 291607 non-null   object \n",
      " 30  AREA_07_I                 274328 non-null   object \n",
      " 31  AREA_08_I                 257884 non-null   object \n",
      " 32  AREA_09_I                 132929 non-null   object \n",
      " 33  AREA_10_I                 194666 non-null   object \n",
      " 34  AREA_11_I                 373517 non-null   object \n",
      " 35  AREA_12_I                 362684 non-null   object \n",
      " 36  AREA_99_I                 211849 non-null   object \n",
      " 37  FIRST_CONTACT_POINT       1813889 non-null  object \n",
      " 38  CMV_ID                    18713 non-null    float64\n",
      " 39  USDOT_NO                  10374 non-null    object \n",
      " 40  CCMC_NO                   2166 non-null     object \n",
      " 41  ILCC_NO                   1480 non-null     object \n",
      " 42  COMMERCIAL_SRC            12220 non-null    object \n",
      " 43  GVWR                      10267 non-null    object \n",
      " 44  CARRIER_NAME              17879 non-null    object \n",
      " 45  CARRIER_STATE             16756 non-null    object \n",
      " 46  CARRIER_CITY              16442 non-null    object \n",
      " 47  HAZMAT_PLACARDS_I         360 non-null      object \n",
      " 48  HAZMAT_NAME               63 non-null       object \n",
      " 49  UN_NO                     619 non-null      object \n",
      " 50  HAZMAT_PRESENT_I          13672 non-null    object \n",
      " 51  HAZMAT_REPORT_I           13309 non-null    object \n",
      " 52  HAZMAT_REPORT_NO          1 non-null        object \n",
      " 53  MCS_REPORT_I              13357 non-null    object \n",
      " 54  MCS_REPORT_NO             7 non-null        object \n",
      " 55  HAZMAT_VIO_CAUSE_CRASH_I  13484 non-null    object \n",
      " 56  MCS_VIO_CAUSE_CRASH_I     13264 non-null    object \n",
      " 57  IDOT_PERMIT_NO            994 non-null      object \n",
      " 58  WIDE_LOAD_I               169 non-null      object \n",
      " 59  TRAILER1_WIDTH            3053 non-null     object \n",
      " 60  TRAILER2_WIDTH            371 non-null      object \n",
      " 61  TRAILER1_LENGTH           2442 non-null     float64\n",
      " 62  TRAILER2_LENGTH           70 non-null       float64\n",
      " 63  TOTAL_VEHICLE_LENGTH      2979 non-null     float64\n",
      " 64  AXLE_CNT                  4506 non-null     float64\n",
      " 65  VEHICLE_CONFIG            15478 non-null    object \n",
      " 66  CARGO_BODY_TYPE           14802 non-null    object \n",
      " 67  LOAD_TYPE                 14142 non-null    object \n",
      " 68  HAZMAT_OUT_OF_SERVICE_I   12937 non-null    object \n",
      " 69  MCS_OUT_OF_SERVICE_I      13172 non-null    object \n",
      " 70  HAZMAT_CLASS              1183 non-null     object \n",
      "dtypes: float64(9), int64(2), object(60)\n",
      "memory usage: 1007.8+ MB\n"
     ]
    }
   ],
   "source": [
    "vehicles.info(show_counts=True)"
   ]
  },
  {
   "cell_type": "markdown",
   "metadata": {},
   "source": [
    "duplicates"
   ]
  },
  {
   "cell_type": "code",
   "execution_count": 142,
   "metadata": {},
   "outputs": [
    {
     "data": {
      "text/plain": [
       "np.int64(0)"
      ]
     },
     "execution_count": 142,
     "metadata": {},
     "output_type": "execute_result"
    }
   ],
   "source": [
    "vehicles['CRASH_UNIT_ID'].duplicated().sum()"
   ]
  },
  {
   "cell_type": "code",
   "execution_count": 143,
   "metadata": {},
   "outputs": [
    {
     "data": {
      "text/plain": [
       "np.int64(43520)"
      ]
     },
     "execution_count": 143,
     "metadata": {},
     "output_type": "execute_result"
    }
   ],
   "source": [
    "vehicles['VEHICLE_ID'].duplicated().sum()"
   ]
  },
  {
   "cell_type": "markdown",
   "metadata": {},
   "source": [
    "---"
   ]
  },
  {
   "cell_type": "code",
   "execution_count": 144,
   "metadata": {},
   "outputs": [
    {
     "data": {
      "text/html": [
       "<div>\n",
       "<style scoped>\n",
       "    .dataframe tbody tr th:only-of-type {\n",
       "        vertical-align: middle;\n",
       "    }\n",
       "\n",
       "    .dataframe tbody tr th {\n",
       "        vertical-align: top;\n",
       "    }\n",
       "\n",
       "    .dataframe thead th {\n",
       "        text-align: right;\n",
       "    }\n",
       "</style>\n",
       "<table border=\"1\" class=\"dataframe\">\n",
       "  <thead>\n",
       "    <tr style=\"text-align: right;\">\n",
       "      <th></th>\n",
       "      <th>CRASH_UNIT_ID</th>\n",
       "      <th>CRASH_RECORD_ID</th>\n",
       "      <th>CRASH_DATE</th>\n",
       "      <th>UNIT_NO</th>\n",
       "      <th>UNIT_TYPE</th>\n",
       "      <th>NUM_PASSENGERS</th>\n",
       "      <th>VEHICLE_ID</th>\n",
       "      <th>CMRC_VEH_I</th>\n",
       "      <th>MAKE</th>\n",
       "      <th>MODEL</th>\n",
       "      <th>LIC_PLATE_STATE</th>\n",
       "      <th>VEHICLE_YEAR</th>\n",
       "      <th>VEHICLE_DEFECT</th>\n",
       "      <th>VEHICLE_TYPE</th>\n",
       "      <th>VEHICLE_USE</th>\n",
       "      <th>TRAVEL_DIRECTION</th>\n",
       "      <th>MANEUVER</th>\n",
       "      <th>TOWED_I</th>\n",
       "      <th>FIRE_I</th>\n",
       "      <th>OCCUPANT_CNT</th>\n",
       "      <th>EXCEED_SPEED_LIMIT_I</th>\n",
       "      <th>TOWED_BY</th>\n",
       "      <th>TOWED_TO</th>\n",
       "      <th>AREA_00_I</th>\n",
       "      <th>AREA_01_I</th>\n",
       "      <th>AREA_02_I</th>\n",
       "      <th>AREA_03_I</th>\n",
       "      <th>AREA_04_I</th>\n",
       "      <th>AREA_05_I</th>\n",
       "      <th>AREA_06_I</th>\n",
       "      <th>AREA_07_I</th>\n",
       "      <th>AREA_08_I</th>\n",
       "      <th>AREA_09_I</th>\n",
       "      <th>AREA_10_I</th>\n",
       "      <th>AREA_11_I</th>\n",
       "      <th>AREA_12_I</th>\n",
       "      <th>AREA_99_I</th>\n",
       "      <th>FIRST_CONTACT_POINT</th>\n",
       "      <th>CMV_ID</th>\n",
       "      <th>USDOT_NO</th>\n",
       "      <th>CCMC_NO</th>\n",
       "      <th>ILCC_NO</th>\n",
       "      <th>COMMERCIAL_SRC</th>\n",
       "      <th>GVWR</th>\n",
       "      <th>CARRIER_NAME</th>\n",
       "      <th>CARRIER_STATE</th>\n",
       "      <th>CARRIER_CITY</th>\n",
       "      <th>HAZMAT_PLACARDS_I</th>\n",
       "      <th>HAZMAT_NAME</th>\n",
       "      <th>UN_NO</th>\n",
       "      <th>HAZMAT_PRESENT_I</th>\n",
       "      <th>HAZMAT_REPORT_I</th>\n",
       "      <th>HAZMAT_REPORT_NO</th>\n",
       "      <th>MCS_REPORT_I</th>\n",
       "      <th>MCS_REPORT_NO</th>\n",
       "      <th>HAZMAT_VIO_CAUSE_CRASH_I</th>\n",
       "      <th>MCS_VIO_CAUSE_CRASH_I</th>\n",
       "      <th>IDOT_PERMIT_NO</th>\n",
       "      <th>WIDE_LOAD_I</th>\n",
       "      <th>TRAILER1_WIDTH</th>\n",
       "      <th>TRAILER2_WIDTH</th>\n",
       "      <th>TRAILER1_LENGTH</th>\n",
       "      <th>TRAILER2_LENGTH</th>\n",
       "      <th>TOTAL_VEHICLE_LENGTH</th>\n",
       "      <th>AXLE_CNT</th>\n",
       "      <th>VEHICLE_CONFIG</th>\n",
       "      <th>CARGO_BODY_TYPE</th>\n",
       "      <th>LOAD_TYPE</th>\n",
       "      <th>HAZMAT_OUT_OF_SERVICE_I</th>\n",
       "      <th>MCS_OUT_OF_SERVICE_I</th>\n",
       "      <th>HAZMAT_CLASS</th>\n",
       "    </tr>\n",
       "  </thead>\n",
       "  <tbody>\n",
       "    <tr>\n",
       "      <th>0</th>\n",
       "      <td>10</td>\n",
       "      <td>2e31858c0e411f0bdcb337fb7c415aa93763cf2f23e02f...</td>\n",
       "      <td>08/04/2015 12:40:00 PM</td>\n",
       "      <td>1</td>\n",
       "      <td>DRIVER</td>\n",
       "      <td>NaN</td>\n",
       "      <td>10.0</td>\n",
       "      <td>NaN</td>\n",
       "      <td>FORD</td>\n",
       "      <td>Focus</td>\n",
       "      <td>IL</td>\n",
       "      <td>2001.0</td>\n",
       "      <td>NONE</td>\n",
       "      <td>PASSENGER</td>\n",
       "      <td>PERSONAL</td>\n",
       "      <td>N</td>\n",
       "      <td>TURNING LEFT</td>\n",
       "      <td>NaN</td>\n",
       "      <td>NaN</td>\n",
       "      <td>1.0</td>\n",
       "      <td>NaN</td>\n",
       "      <td>NaN</td>\n",
       "      <td>NaN</td>\n",
       "      <td>N</td>\n",
       "      <td>Y</td>\n",
       "      <td>Y</td>\n",
       "      <td>NaN</td>\n",
       "      <td>NaN</td>\n",
       "      <td>NaN</td>\n",
       "      <td>NaN</td>\n",
       "      <td>NaN</td>\n",
       "      <td>Y</td>\n",
       "      <td>NaN</td>\n",
       "      <td>NaN</td>\n",
       "      <td>NaN</td>\n",
       "      <td>NaN</td>\n",
       "      <td>NaN</td>\n",
       "      <td>FRONT</td>\n",
       "      <td>NaN</td>\n",
       "      <td>NaN</td>\n",
       "      <td>NaN</td>\n",
       "      <td>NaN</td>\n",
       "      <td>NaN</td>\n",
       "      <td>NaN</td>\n",
       "      <td>NaN</td>\n",
       "      <td>NaN</td>\n",
       "      <td>NaN</td>\n",
       "      <td>NaN</td>\n",
       "      <td>NaN</td>\n",
       "      <td>NaN</td>\n",
       "      <td>NaN</td>\n",
       "      <td>NaN</td>\n",
       "      <td>NaN</td>\n",
       "      <td>NaN</td>\n",
       "      <td>NaN</td>\n",
       "      <td>NaN</td>\n",
       "      <td>NaN</td>\n",
       "      <td>NaN</td>\n",
       "      <td>NaN</td>\n",
       "      <td>NaN</td>\n",
       "      <td>NaN</td>\n",
       "      <td>NaN</td>\n",
       "      <td>NaN</td>\n",
       "      <td>NaN</td>\n",
       "      <td>NaN</td>\n",
       "      <td>NaN</td>\n",
       "      <td>NaN</td>\n",
       "      <td>NaN</td>\n",
       "      <td>NaN</td>\n",
       "      <td>NaN</td>\n",
       "      <td>NaN</td>\n",
       "    </tr>\n",
       "    <tr>\n",
       "      <th>1</th>\n",
       "      <td>100</td>\n",
       "      <td>e73b35bd7651b0c6693162bee0666db159b28901437009...</td>\n",
       "      <td>07/31/2015 05:50:00 PM</td>\n",
       "      <td>1</td>\n",
       "      <td>DRIVER</td>\n",
       "      <td>NaN</td>\n",
       "      <td>96.0</td>\n",
       "      <td>NaN</td>\n",
       "      <td>NISSAN</td>\n",
       "      <td>Pathfinder</td>\n",
       "      <td>IL</td>\n",
       "      <td>1999.0</td>\n",
       "      <td>NONE</td>\n",
       "      <td>SPORT UTILITY VEHICLE (SUV)</td>\n",
       "      <td>PERSONAL</td>\n",
       "      <td>E</td>\n",
       "      <td>STRAIGHT AHEAD</td>\n",
       "      <td>NaN</td>\n",
       "      <td>NaN</td>\n",
       "      <td>1.0</td>\n",
       "      <td>NaN</td>\n",
       "      <td>NaN</td>\n",
       "      <td>NaN</td>\n",
       "      <td>NaN</td>\n",
       "      <td>Y</td>\n",
       "      <td>NaN</td>\n",
       "      <td>NaN</td>\n",
       "      <td>NaN</td>\n",
       "      <td>NaN</td>\n",
       "      <td>NaN</td>\n",
       "      <td>NaN</td>\n",
       "      <td>NaN</td>\n",
       "      <td>NaN</td>\n",
       "      <td>NaN</td>\n",
       "      <td>NaN</td>\n",
       "      <td>NaN</td>\n",
       "      <td>NaN</td>\n",
       "      <td>FRONT</td>\n",
       "      <td>NaN</td>\n",
       "      <td>NaN</td>\n",
       "      <td>NaN</td>\n",
       "      <td>NaN</td>\n",
       "      <td>NaN</td>\n",
       "      <td>NaN</td>\n",
       "      <td>NaN</td>\n",
       "      <td>NaN</td>\n",
       "      <td>NaN</td>\n",
       "      <td>NaN</td>\n",
       "      <td>NaN</td>\n",
       "      <td>NaN</td>\n",
       "      <td>NaN</td>\n",
       "      <td>NaN</td>\n",
       "      <td>NaN</td>\n",
       "      <td>NaN</td>\n",
       "      <td>NaN</td>\n",
       "      <td>NaN</td>\n",
       "      <td>NaN</td>\n",
       "      <td>NaN</td>\n",
       "      <td>NaN</td>\n",
       "      <td>NaN</td>\n",
       "      <td>NaN</td>\n",
       "      <td>NaN</td>\n",
       "      <td>NaN</td>\n",
       "      <td>NaN</td>\n",
       "      <td>NaN</td>\n",
       "      <td>NaN</td>\n",
       "      <td>NaN</td>\n",
       "      <td>NaN</td>\n",
       "      <td>NaN</td>\n",
       "      <td>NaN</td>\n",
       "      <td>NaN</td>\n",
       "    </tr>\n",
       "    <tr>\n",
       "      <th>2</th>\n",
       "      <td>1000</td>\n",
       "      <td>f2b1adeb85a15112e4fb7db74bff440d6ca53ff7a21e10...</td>\n",
       "      <td>09/02/2015 11:45:00 AM</td>\n",
       "      <td>1</td>\n",
       "      <td>DRIVER</td>\n",
       "      <td>NaN</td>\n",
       "      <td>954.0</td>\n",
       "      <td>NaN</td>\n",
       "      <td>FORD</td>\n",
       "      <td>F150</td>\n",
       "      <td>KS</td>\n",
       "      <td>NaN</td>\n",
       "      <td>UNKNOWN</td>\n",
       "      <td>VAN/MINI-VAN</td>\n",
       "      <td>UNKNOWN/NA</td>\n",
       "      <td>W</td>\n",
       "      <td>STRAIGHT AHEAD</td>\n",
       "      <td>NaN</td>\n",
       "      <td>NaN</td>\n",
       "      <td>1.0</td>\n",
       "      <td>NaN</td>\n",
       "      <td>NaN</td>\n",
       "      <td>NaN</td>\n",
       "      <td>NaN</td>\n",
       "      <td>NaN</td>\n",
       "      <td>NaN</td>\n",
       "      <td>NaN</td>\n",
       "      <td>NaN</td>\n",
       "      <td>NaN</td>\n",
       "      <td>NaN</td>\n",
       "      <td>NaN</td>\n",
       "      <td>NaN</td>\n",
       "      <td>NaN</td>\n",
       "      <td>NaN</td>\n",
       "      <td>NaN</td>\n",
       "      <td>NaN</td>\n",
       "      <td>Y</td>\n",
       "      <td>FRONT</td>\n",
       "      <td>NaN</td>\n",
       "      <td>NaN</td>\n",
       "      <td>NaN</td>\n",
       "      <td>NaN</td>\n",
       "      <td>NaN</td>\n",
       "      <td>NaN</td>\n",
       "      <td>NaN</td>\n",
       "      <td>NaN</td>\n",
       "      <td>NaN</td>\n",
       "      <td>NaN</td>\n",
       "      <td>NaN</td>\n",
       "      <td>NaN</td>\n",
       "      <td>NaN</td>\n",
       "      <td>NaN</td>\n",
       "      <td>NaN</td>\n",
       "      <td>NaN</td>\n",
       "      <td>NaN</td>\n",
       "      <td>NaN</td>\n",
       "      <td>NaN</td>\n",
       "      <td>NaN</td>\n",
       "      <td>NaN</td>\n",
       "      <td>NaN</td>\n",
       "      <td>NaN</td>\n",
       "      <td>NaN</td>\n",
       "      <td>NaN</td>\n",
       "      <td>NaN</td>\n",
       "      <td>NaN</td>\n",
       "      <td>NaN</td>\n",
       "      <td>NaN</td>\n",
       "      <td>NaN</td>\n",
       "      <td>NaN</td>\n",
       "      <td>NaN</td>\n",
       "      <td>NaN</td>\n",
       "    </tr>\n",
       "    <tr>\n",
       "      <th>3</th>\n",
       "      <td>10000</td>\n",
       "      <td>15a3e24fce3ce7cd2b02d44013d1a93ff2fbdca80632ec...</td>\n",
       "      <td>10/31/2015 09:30:00 PM</td>\n",
       "      <td>2</td>\n",
       "      <td>DRIVER</td>\n",
       "      <td>NaN</td>\n",
       "      <td>9561.0</td>\n",
       "      <td>NaN</td>\n",
       "      <td>HYUNDAI</td>\n",
       "      <td>SONATA</td>\n",
       "      <td>NaN</td>\n",
       "      <td>2011.0</td>\n",
       "      <td>NONE</td>\n",
       "      <td>PASSENGER</td>\n",
       "      <td>PERSONAL</td>\n",
       "      <td>E</td>\n",
       "      <td>SLOW/STOP IN TRAFFIC</td>\n",
       "      <td>NaN</td>\n",
       "      <td>NaN</td>\n",
       "      <td>1.0</td>\n",
       "      <td>NaN</td>\n",
       "      <td>NaN</td>\n",
       "      <td>NaN</td>\n",
       "      <td>NaN</td>\n",
       "      <td>NaN</td>\n",
       "      <td>NaN</td>\n",
       "      <td>NaN</td>\n",
       "      <td>NaN</td>\n",
       "      <td>NaN</td>\n",
       "      <td>NaN</td>\n",
       "      <td>NaN</td>\n",
       "      <td>NaN</td>\n",
       "      <td>NaN</td>\n",
       "      <td>NaN</td>\n",
       "      <td>NaN</td>\n",
       "      <td>NaN</td>\n",
       "      <td>NaN</td>\n",
       "      <td>REAR</td>\n",
       "      <td>NaN</td>\n",
       "      <td>NaN</td>\n",
       "      <td>NaN</td>\n",
       "      <td>NaN</td>\n",
       "      <td>NaN</td>\n",
       "      <td>NaN</td>\n",
       "      <td>NaN</td>\n",
       "      <td>NaN</td>\n",
       "      <td>NaN</td>\n",
       "      <td>NaN</td>\n",
       "      <td>NaN</td>\n",
       "      <td>NaN</td>\n",
       "      <td>NaN</td>\n",
       "      <td>NaN</td>\n",
       "      <td>NaN</td>\n",
       "      <td>NaN</td>\n",
       "      <td>NaN</td>\n",
       "      <td>NaN</td>\n",
       "      <td>NaN</td>\n",
       "      <td>NaN</td>\n",
       "      <td>NaN</td>\n",
       "      <td>NaN</td>\n",
       "      <td>NaN</td>\n",
       "      <td>NaN</td>\n",
       "      <td>NaN</td>\n",
       "      <td>NaN</td>\n",
       "      <td>NaN</td>\n",
       "      <td>NaN</td>\n",
       "      <td>NaN</td>\n",
       "      <td>NaN</td>\n",
       "      <td>NaN</td>\n",
       "      <td>NaN</td>\n",
       "      <td>NaN</td>\n",
       "    </tr>\n",
       "    <tr>\n",
       "      <th>4</th>\n",
       "      <td>100000</td>\n",
       "      <td>1d3c178880366c77deaf06b8c3198429112a1c8e8807ed...</td>\n",
       "      <td>11/16/2016 01:00:00 PM</td>\n",
       "      <td>2</td>\n",
       "      <td>PARKED</td>\n",
       "      <td>NaN</td>\n",
       "      <td>96745.0</td>\n",
       "      <td>NaN</td>\n",
       "      <td>TOYOTA MOTOR COMPANY, LTD.</td>\n",
       "      <td>RAV4 (sport utility)</td>\n",
       "      <td>IL</td>\n",
       "      <td>2001.0</td>\n",
       "      <td>UNKNOWN</td>\n",
       "      <td>SPORT UTILITY VEHICLE (SUV)</td>\n",
       "      <td>NOT IN USE</td>\n",
       "      <td>S</td>\n",
       "      <td>PARKED</td>\n",
       "      <td>NaN</td>\n",
       "      <td>NaN</td>\n",
       "      <td>0.0</td>\n",
       "      <td>NaN</td>\n",
       "      <td>NaN</td>\n",
       "      <td>NaN</td>\n",
       "      <td>N</td>\n",
       "      <td>Y</td>\n",
       "      <td>NaN</td>\n",
       "      <td>NaN</td>\n",
       "      <td>NaN</td>\n",
       "      <td>Y</td>\n",
       "      <td>NaN</td>\n",
       "      <td>NaN</td>\n",
       "      <td>NaN</td>\n",
       "      <td>NaN</td>\n",
       "      <td>NaN</td>\n",
       "      <td>NaN</td>\n",
       "      <td>NaN</td>\n",
       "      <td>NaN</td>\n",
       "      <td>UNKNOWN</td>\n",
       "      <td>NaN</td>\n",
       "      <td>NaN</td>\n",
       "      <td>NaN</td>\n",
       "      <td>NaN</td>\n",
       "      <td>NaN</td>\n",
       "      <td>NaN</td>\n",
       "      <td>NaN</td>\n",
       "      <td>NaN</td>\n",
       "      <td>NaN</td>\n",
       "      <td>NaN</td>\n",
       "      <td>NaN</td>\n",
       "      <td>NaN</td>\n",
       "      <td>NaN</td>\n",
       "      <td>NaN</td>\n",
       "      <td>NaN</td>\n",
       "      <td>NaN</td>\n",
       "      <td>NaN</td>\n",
       "      <td>NaN</td>\n",
       "      <td>NaN</td>\n",
       "      <td>NaN</td>\n",
       "      <td>NaN</td>\n",
       "      <td>NaN</td>\n",
       "      <td>NaN</td>\n",
       "      <td>NaN</td>\n",
       "      <td>NaN</td>\n",
       "      <td>NaN</td>\n",
       "      <td>NaN</td>\n",
       "      <td>NaN</td>\n",
       "      <td>NaN</td>\n",
       "      <td>NaN</td>\n",
       "      <td>NaN</td>\n",
       "      <td>NaN</td>\n",
       "      <td>NaN</td>\n",
       "    </tr>\n",
       "  </tbody>\n",
       "</table>\n",
       "</div>"
      ],
      "text/plain": [
       "   CRASH_UNIT_ID                                    CRASH_RECORD_ID  \\\n",
       "0             10  2e31858c0e411f0bdcb337fb7c415aa93763cf2f23e02f...   \n",
       "1            100  e73b35bd7651b0c6693162bee0666db159b28901437009...   \n",
       "2           1000  f2b1adeb85a15112e4fb7db74bff440d6ca53ff7a21e10...   \n",
       "3          10000  15a3e24fce3ce7cd2b02d44013d1a93ff2fbdca80632ec...   \n",
       "4         100000  1d3c178880366c77deaf06b8c3198429112a1c8e8807ed...   \n",
       "\n",
       "               CRASH_DATE  UNIT_NO UNIT_TYPE  NUM_PASSENGERS  VEHICLE_ID  \\\n",
       "0  08/04/2015 12:40:00 PM        1    DRIVER             NaN        10.0   \n",
       "1  07/31/2015 05:50:00 PM        1    DRIVER             NaN        96.0   \n",
       "2  09/02/2015 11:45:00 AM        1    DRIVER             NaN       954.0   \n",
       "3  10/31/2015 09:30:00 PM        2    DRIVER             NaN      9561.0   \n",
       "4  11/16/2016 01:00:00 PM        2    PARKED             NaN     96745.0   \n",
       "\n",
       "  CMRC_VEH_I                        MAKE                 MODEL  \\\n",
       "0        NaN                        FORD                 Focus   \n",
       "1        NaN                      NISSAN            Pathfinder   \n",
       "2        NaN                        FORD                  F150   \n",
       "3        NaN                     HYUNDAI                SONATA   \n",
       "4        NaN  TOYOTA MOTOR COMPANY, LTD.  RAV4 (sport utility)   \n",
       "\n",
       "  LIC_PLATE_STATE  VEHICLE_YEAR VEHICLE_DEFECT                 VEHICLE_TYPE  \\\n",
       "0              IL        2001.0           NONE                    PASSENGER   \n",
       "1              IL        1999.0           NONE  SPORT UTILITY VEHICLE (SUV)   \n",
       "2              KS           NaN        UNKNOWN                 VAN/MINI-VAN   \n",
       "3             NaN        2011.0           NONE                    PASSENGER   \n",
       "4              IL        2001.0        UNKNOWN  SPORT UTILITY VEHICLE (SUV)   \n",
       "\n",
       "  VEHICLE_USE TRAVEL_DIRECTION              MANEUVER TOWED_I FIRE_I  \\\n",
       "0    PERSONAL                N          TURNING LEFT     NaN    NaN   \n",
       "1    PERSONAL                E        STRAIGHT AHEAD     NaN    NaN   \n",
       "2  UNKNOWN/NA                W        STRAIGHT AHEAD     NaN    NaN   \n",
       "3    PERSONAL                E  SLOW/STOP IN TRAFFIC     NaN    NaN   \n",
       "4  NOT IN USE                S                PARKED     NaN    NaN   \n",
       "\n",
       "   OCCUPANT_CNT EXCEED_SPEED_LIMIT_I TOWED_BY TOWED_TO AREA_00_I AREA_01_I  \\\n",
       "0           1.0                  NaN      NaN      NaN         N         Y   \n",
       "1           1.0                  NaN      NaN      NaN       NaN         Y   \n",
       "2           1.0                  NaN      NaN      NaN       NaN       NaN   \n",
       "3           1.0                  NaN      NaN      NaN       NaN       NaN   \n",
       "4           0.0                  NaN      NaN      NaN         N         Y   \n",
       "\n",
       "  AREA_02_I AREA_03_I AREA_04_I AREA_05_I AREA_06_I AREA_07_I AREA_08_I  \\\n",
       "0         Y       NaN       NaN       NaN       NaN       NaN         Y   \n",
       "1       NaN       NaN       NaN       NaN       NaN       NaN       NaN   \n",
       "2       NaN       NaN       NaN       NaN       NaN       NaN       NaN   \n",
       "3       NaN       NaN       NaN       NaN       NaN       NaN       NaN   \n",
       "4       NaN       NaN       NaN         Y       NaN       NaN       NaN   \n",
       "\n",
       "  AREA_09_I AREA_10_I AREA_11_I AREA_12_I AREA_99_I FIRST_CONTACT_POINT  \\\n",
       "0       NaN       NaN       NaN       NaN       NaN               FRONT   \n",
       "1       NaN       NaN       NaN       NaN       NaN               FRONT   \n",
       "2       NaN       NaN       NaN       NaN         Y               FRONT   \n",
       "3       NaN       NaN       NaN       NaN       NaN                REAR   \n",
       "4       NaN       NaN       NaN       NaN       NaN             UNKNOWN   \n",
       "\n",
       "   CMV_ID USDOT_NO CCMC_NO ILCC_NO COMMERCIAL_SRC GVWR CARRIER_NAME  \\\n",
       "0     NaN      NaN     NaN     NaN            NaN  NaN          NaN   \n",
       "1     NaN      NaN     NaN     NaN            NaN  NaN          NaN   \n",
       "2     NaN      NaN     NaN     NaN            NaN  NaN          NaN   \n",
       "3     NaN      NaN     NaN     NaN            NaN  NaN          NaN   \n",
       "4     NaN      NaN     NaN     NaN            NaN  NaN          NaN   \n",
       "\n",
       "  CARRIER_STATE CARRIER_CITY HAZMAT_PLACARDS_I HAZMAT_NAME UN_NO  \\\n",
       "0           NaN          NaN               NaN         NaN   NaN   \n",
       "1           NaN          NaN               NaN         NaN   NaN   \n",
       "2           NaN          NaN               NaN         NaN   NaN   \n",
       "3           NaN          NaN               NaN         NaN   NaN   \n",
       "4           NaN          NaN               NaN         NaN   NaN   \n",
       "\n",
       "  HAZMAT_PRESENT_I HAZMAT_REPORT_I HAZMAT_REPORT_NO MCS_REPORT_I  \\\n",
       "0              NaN             NaN              NaN          NaN   \n",
       "1              NaN             NaN              NaN          NaN   \n",
       "2              NaN             NaN              NaN          NaN   \n",
       "3              NaN             NaN              NaN          NaN   \n",
       "4              NaN             NaN              NaN          NaN   \n",
       "\n",
       "  MCS_REPORT_NO HAZMAT_VIO_CAUSE_CRASH_I MCS_VIO_CAUSE_CRASH_I IDOT_PERMIT_NO  \\\n",
       "0           NaN                      NaN                   NaN            NaN   \n",
       "1           NaN                      NaN                   NaN            NaN   \n",
       "2           NaN                      NaN                   NaN            NaN   \n",
       "3           NaN                      NaN                   NaN            NaN   \n",
       "4           NaN                      NaN                   NaN            NaN   \n",
       "\n",
       "  WIDE_LOAD_I TRAILER1_WIDTH TRAILER2_WIDTH  TRAILER1_LENGTH  TRAILER2_LENGTH  \\\n",
       "0         NaN            NaN            NaN              NaN              NaN   \n",
       "1         NaN            NaN            NaN              NaN              NaN   \n",
       "2         NaN            NaN            NaN              NaN              NaN   \n",
       "3         NaN            NaN            NaN              NaN              NaN   \n",
       "4         NaN            NaN            NaN              NaN              NaN   \n",
       "\n",
       "   TOTAL_VEHICLE_LENGTH  AXLE_CNT VEHICLE_CONFIG CARGO_BODY_TYPE LOAD_TYPE  \\\n",
       "0                   NaN       NaN            NaN             NaN       NaN   \n",
       "1                   NaN       NaN            NaN             NaN       NaN   \n",
       "2                   NaN       NaN            NaN             NaN       NaN   \n",
       "3                   NaN       NaN            NaN             NaN       NaN   \n",
       "4                   NaN       NaN            NaN             NaN       NaN   \n",
       "\n",
       "  HAZMAT_OUT_OF_SERVICE_I MCS_OUT_OF_SERVICE_I HAZMAT_CLASS  \n",
       "0                     NaN                  NaN          NaN  \n",
       "1                     NaN                  NaN          NaN  \n",
       "2                     NaN                  NaN          NaN  \n",
       "3                     NaN                  NaN          NaN  \n",
       "4                     NaN                  NaN          NaN  "
      ]
     },
     "execution_count": 144,
     "metadata": {},
     "output_type": "execute_result"
    }
   ],
   "source": [
    "vehicles.head()"
   ]
  },
  {
   "cell_type": "code",
   "execution_count": 145,
   "metadata": {},
   "outputs": [],
   "source": [
    "# columns to keep\n",
    "columns_to_keep = ['CRASH_UNIT_ID', 'CRASH_RECORD_ID', 'VEHICLE_ID', 'CRASH_DATE', 'UNIT_NO', 'UNIT_TYPE', 'NUM_PASSENGERS',\n",
    "                   'VEHICLE_YEAR', 'VEHICLE_DEFECT', 'VEHICLE_TYPE', 'MANEUVER', 'OCCUPANT_CNT', 'FIRST_CONTACT_POINT']"
   ]
  },
  {
   "cell_type": "code",
   "execution_count": 146,
   "metadata": {},
   "outputs": [],
   "source": [
    "vehicles = vehicles[columns_to_keep]"
   ]
  },
  {
   "cell_type": "code",
   "execution_count": 147,
   "metadata": {},
   "outputs": [
    {
     "name": "stdout",
     "output_type": "stream",
     "text": [
      "<class 'pandas.core.frame.DataFrame'>\n",
      "RangeIndex: 1860568 entries, 0 to 1860567\n",
      "Data columns (total 13 columns):\n",
      " #   Column               Non-Null Count    Dtype  \n",
      "---  ------               --------------    -----  \n",
      " 0   CRASH_UNIT_ID        1860568 non-null  int64  \n",
      " 1   CRASH_RECORD_ID      1860568 non-null  object \n",
      " 2   VEHICLE_ID           1817047 non-null  float64\n",
      " 3   CRASH_DATE           1860568 non-null  object \n",
      " 4   UNIT_NO              1860568 non-null  int64  \n",
      " 5   UNIT_TYPE            1858293 non-null  object \n",
      " 6   NUM_PASSENGERS       275500 non-null   float64\n",
      " 7   VEHICLE_YEAR         1528798 non-null  float64\n",
      " 8   VEHICLE_DEFECT       1817047 non-null  object \n",
      " 9   VEHICLE_TYPE         1817047 non-null  object \n",
      " 10  MANEUVER             1817047 non-null  object \n",
      " 11  OCCUPANT_CNT         1817047 non-null  float64\n",
      " 12  FIRST_CONTACT_POINT  1813889 non-null  object \n",
      "dtypes: float64(4), int64(2), object(7)\n",
      "memory usage: 184.5+ MB\n"
     ]
    }
   ],
   "source": [
    "vehicles.info(show_counts=True)"
   ]
  },
  {
   "cell_type": "markdown",
   "metadata": {},
   "source": [
    "---"
   ]
  },
  {
   "cell_type": "markdown",
   "metadata": {},
   "source": [
    "## CRASH_UNIT_ID, UNIT_NO"
   ]
  },
  {
   "cell_type": "code",
   "execution_count": 148,
   "metadata": {},
   "outputs": [
    {
     "data": {
      "text/plain": [
       "CRASH_UNIT_ID\n",
       "1991616    1\n",
       "10         1\n",
       "100        1\n",
       "1000       1\n",
       "10000      1\n",
       "Name: count, dtype: int64"
      ]
     },
     "execution_count": 148,
     "metadata": {},
     "output_type": "execute_result"
    }
   ],
   "source": [
    "vehicles['CRASH_UNIT_ID'].value_counts().head()"
   ]
  },
  {
   "cell_type": "code",
   "execution_count": 149,
   "metadata": {},
   "outputs": [
    {
     "data": {
      "text/plain": [
       "VEHICLE_ID\n",
       "1897858.0    1\n",
       "10.0         1\n",
       "96.0         1\n",
       "954.0        1\n",
       "9561.0       1\n",
       "Name: count, dtype: int64"
      ]
     },
     "execution_count": 149,
     "metadata": {},
     "output_type": "execute_result"
    }
   ],
   "source": [
    "vehicles['VEHICLE_ID'].value_counts().head()"
   ]
  },
  {
   "cell_type": "markdown",
   "metadata": {},
   "source": [
    "maybe we won't need vehicle ID"
   ]
  },
  {
   "cell_type": "code",
   "execution_count": 150,
   "metadata": {},
   "outputs": [
    {
     "data": {
      "text/plain": [
       "UNIT_NO\n",
       "1          916565\n",
       "2          863811\n",
       "3           62134\n",
       "4           12767\n",
       "5            3400\n",
       "6            1062\n",
       "7             405\n",
       "8             178\n",
       "9              82\n",
       "10             43\n",
       "0              37\n",
       "11             24\n",
       "12             15\n",
       "13             10\n",
       "14              9\n",
       "15              8\n",
       "16              7\n",
       "17              5\n",
       "18              5\n",
       "3778035         1\n",
       "Name: count, dtype: int64"
      ]
     },
     "execution_count": 150,
     "metadata": {},
     "output_type": "execute_result"
    }
   ],
   "source": [
    "vehicles['UNIT_NO'].value_counts()"
   ]
  },
  {
   "cell_type": "markdown",
   "metadata": {},
   "source": [
    "this feature is reported as: \n",
    "\n",
    "\t\n",
    "`A unique ID for each unit within a specific crash report`\n",
    "\n",
    "but looking at it it seems more liek the number of units (vehicles) involved in a crash.\n",
    "\n",
    "for now we will drop both 0 and the bug number as we are interpreting it as the number of vehicles involved."
   ]
  },
  {
   "cell_type": "code",
   "execution_count": 151,
   "metadata": {},
   "outputs": [],
   "source": [
    "vehicles = vehicles[vehicles['UNIT_NO'].between(1, 18)]"
   ]
  },
  {
   "cell_type": "code",
   "execution_count": 152,
   "metadata": {},
   "outputs": [
    {
     "data": {
      "text/plain": [
       "UNIT_NO\n",
       "1     916565\n",
       "2     863811\n",
       "3      62134\n",
       "4      12767\n",
       "5       3400\n",
       "6       1062\n",
       "7        405\n",
       "8        178\n",
       "9         82\n",
       "10        43\n",
       "11        24\n",
       "12        15\n",
       "13        10\n",
       "14         9\n",
       "15         8\n",
       "16         7\n",
       "17         5\n",
       "18         5\n",
       "Name: count, dtype: int64"
      ]
     },
     "execution_count": 152,
     "metadata": {},
     "output_type": "execute_result"
    }
   ],
   "source": [
    "vehicles['UNIT_NO'].value_counts()"
   ]
  },
  {
   "cell_type": "markdown",
   "metadata": {},
   "source": [
    "---"
   ]
  },
  {
   "cell_type": "markdown",
   "metadata": {},
   "source": [
    "## NUM_PASSENGERS , OCCUPANT_CNT               "
   ]
  },
  {
   "cell_type": "code",
   "execution_count": 153,
   "metadata": {},
   "outputs": [
    {
     "data": {
      "text/plain": [
       "NUM_PASSENGERS\n",
       "1.0     194889\n",
       "2.0      50916\n",
       "3.0      19857\n",
       "4.0       6557\n",
       "5.0       1766\n",
       "6.0        705\n",
       "7.0        264\n",
       "8.0        121\n",
       "10.0        81\n",
       "9.0         74\n",
       "11.0        46\n",
       "12.0        40\n",
       "14.0        23\n",
       "15.0        18\n",
       "13.0        17\n",
       "17.0        13\n",
       "19.0        11\n",
       "18.0        10\n",
       "16.0         9\n",
       "27.0         8\n",
       "24.0         6\n",
       "26.0         6\n",
       "20.0         5\n",
       "28.0         5\n",
       "29.0         4\n",
       "21.0         4\n",
       "25.0         4\n",
       "34.0         4\n",
       "35.0         4\n",
       "40.0         4\n",
       "43.0         4\n",
       "22.0         3\n",
       "32.0         3\n",
       "33.0         3\n",
       "36.0         2\n",
       "30.0         2\n",
       "38.0         2\n",
       "46.0         2\n",
       "42.0         2\n",
       "23.0         2\n",
       "31.0         1\n",
       "59.0         1\n",
       "37.0         1\n",
       "52.0         1\n",
       "Name: count, dtype: int64"
      ]
     },
     "execution_count": 153,
     "metadata": {},
     "output_type": "execute_result"
    }
   ],
   "source": [
    "vehicles['NUM_PASSENGERS'].value_counts()"
   ]
  },
  {
   "cell_type": "code",
   "execution_count": 154,
   "metadata": {},
   "outputs": [
    {
     "data": {
      "text/html": [
       "<div>\n",
       "<style scoped>\n",
       "    .dataframe tbody tr th:only-of-type {\n",
       "        vertical-align: middle;\n",
       "    }\n",
       "\n",
       "    .dataframe tbody tr th {\n",
       "        vertical-align: top;\n",
       "    }\n",
       "\n",
       "    .dataframe thead th {\n",
       "        text-align: right;\n",
       "    }\n",
       "</style>\n",
       "<table border=\"1\" class=\"dataframe\">\n",
       "  <thead>\n",
       "    <tr style=\"text-align: right;\">\n",
       "      <th></th>\n",
       "      <th>CRASH_UNIT_ID</th>\n",
       "      <th>CRASH_RECORD_ID</th>\n",
       "      <th>VEHICLE_ID</th>\n",
       "      <th>CRASH_DATE</th>\n",
       "      <th>UNIT_NO</th>\n",
       "      <th>UNIT_TYPE</th>\n",
       "      <th>NUM_PASSENGERS</th>\n",
       "      <th>VEHICLE_YEAR</th>\n",
       "      <th>VEHICLE_DEFECT</th>\n",
       "      <th>VEHICLE_TYPE</th>\n",
       "      <th>MANEUVER</th>\n",
       "      <th>OCCUPANT_CNT</th>\n",
       "      <th>FIRST_CONTACT_POINT</th>\n",
       "    </tr>\n",
       "  </thead>\n",
       "  <tbody>\n",
       "    <tr>\n",
       "      <th>696450</th>\n",
       "      <td>1666812</td>\n",
       "      <td>26ba2ab5083a4a12e79d9c822e0f62244a6b8f14e446f6...</td>\n",
       "      <td>1586356.0</td>\n",
       "      <td>09/20/2023 09:45:00 AM</td>\n",
       "      <td>1</td>\n",
       "      <td>DRIVER</td>\n",
       "      <td>20.0</td>\n",
       "      <td>2006.0</td>\n",
       "      <td>UNKNOWN</td>\n",
       "      <td>OTHER</td>\n",
       "      <td>STRAIGHT AHEAD</td>\n",
       "      <td>21.0</td>\n",
       "      <td>SIDE-RIGHT</td>\n",
       "    </tr>\n",
       "    <tr>\n",
       "      <th>707209</th>\n",
       "      <td>1677120</td>\n",
       "      <td>e809db9da6e7b27ec49a18607207d12fe70813b58a8737...</td>\n",
       "      <td>1596189.0</td>\n",
       "      <td>10/07/2023 06:23:00 PM</td>\n",
       "      <td>3</td>\n",
       "      <td>DRIVER</td>\n",
       "      <td>16.0</td>\n",
       "      <td>NaN</td>\n",
       "      <td>UNKNOWN</td>\n",
       "      <td>BUS UP TO 15 PASS.</td>\n",
       "      <td>SLOW/STOP IN TRAFFIC</td>\n",
       "      <td>17.0</td>\n",
       "      <td>REAR</td>\n",
       "    </tr>\n",
       "    <tr>\n",
       "      <th>1006341</th>\n",
       "      <td>389377</td>\n",
       "      <td>41a38b35aa49152e29d94b5a27febeb10136e4b0b35c87...</td>\n",
       "      <td>374784.0</td>\n",
       "      <td>05/19/2018 09:47:00 AM</td>\n",
       "      <td>1</td>\n",
       "      <td>DRIVER</td>\n",
       "      <td>16.0</td>\n",
       "      <td>2009.0</td>\n",
       "      <td>NONE</td>\n",
       "      <td>OTHER</td>\n",
       "      <td>STRAIGHT AHEAD</td>\n",
       "      <td>17.0</td>\n",
       "      <td>NONE</td>\n",
       "    </tr>\n",
       "    <tr>\n",
       "      <th>1109252</th>\n",
       "      <td>488862</td>\n",
       "      <td>1b2c0f3aede6a75eb935b5be7787d5c3f206c37b5f0a7f...</td>\n",
       "      <td>467665.0</td>\n",
       "      <td>09/30/2018 12:10:00 AM</td>\n",
       "      <td>2</td>\n",
       "      <td>DRIVER</td>\n",
       "      <td>23.0</td>\n",
       "      <td>2010.0</td>\n",
       "      <td>NONE</td>\n",
       "      <td>PASSENGER</td>\n",
       "      <td>STRAIGHT AHEAD</td>\n",
       "      <td>4.0</td>\n",
       "      <td>FRONT</td>\n",
       "    </tr>\n",
       "    <tr>\n",
       "      <th>1253286</th>\n",
       "      <td>629103</td>\n",
       "      <td>130a7343d7bf75828b8d36b6aeab379c938d08757ee215...</td>\n",
       "      <td>599255.0</td>\n",
       "      <td>04/20/2019 12:10:00 PM</td>\n",
       "      <td>2</td>\n",
       "      <td>DRIVER</td>\n",
       "      <td>16.0</td>\n",
       "      <td>2915.0</td>\n",
       "      <td>UNKNOWN</td>\n",
       "      <td>PASSENGER</td>\n",
       "      <td>STRAIGHT AHEAD</td>\n",
       "      <td>3.0</td>\n",
       "      <td>TOTAL (ALL AREAS)</td>\n",
       "    </tr>\n",
       "    <tr>\n",
       "      <th>1265489</th>\n",
       "      <td>640950</td>\n",
       "      <td>04225d53f733b9cb6c42a3ff1c05b88c5b0e03a17ec274...</td>\n",
       "      <td>610465.0</td>\n",
       "      <td>05/07/2019 05:03:00 AM</td>\n",
       "      <td>2</td>\n",
       "      <td>DRIVER</td>\n",
       "      <td>21.0</td>\n",
       "      <td>2008.0</td>\n",
       "      <td>UNKNOWN</td>\n",
       "      <td>PASSENGER</td>\n",
       "      <td>STRAIGHT AHEAD</td>\n",
       "      <td>2.0</td>\n",
       "      <td>REAR-LEFT</td>\n",
       "    </tr>\n",
       "    <tr>\n",
       "      <th>1489916</th>\n",
       "      <td>856775</td>\n",
       "      <td>b8c1315393f8d3155c03fe6967516695ca7be422ca3fa9...</td>\n",
       "      <td>813017.0</td>\n",
       "      <td>03/06/2020 05:17:00 PM</td>\n",
       "      <td>3</td>\n",
       "      <td>DRIVER</td>\n",
       "      <td>35.0</td>\n",
       "      <td>2012.0</td>\n",
       "      <td>UNKNOWN</td>\n",
       "      <td>UNKNOWN/NA</td>\n",
       "      <td>STRAIGHT AHEAD</td>\n",
       "      <td>36.0</td>\n",
       "      <td>REAR</td>\n",
       "    </tr>\n",
       "  </tbody>\n",
       "</table>\n",
       "</div>"
      ],
      "text/plain": [
       "         CRASH_UNIT_ID                                    CRASH_RECORD_ID  \\\n",
       "696450         1666812  26ba2ab5083a4a12e79d9c822e0f62244a6b8f14e446f6...   \n",
       "707209         1677120  e809db9da6e7b27ec49a18607207d12fe70813b58a8737...   \n",
       "1006341         389377  41a38b35aa49152e29d94b5a27febeb10136e4b0b35c87...   \n",
       "1109252         488862  1b2c0f3aede6a75eb935b5be7787d5c3f206c37b5f0a7f...   \n",
       "1253286         629103  130a7343d7bf75828b8d36b6aeab379c938d08757ee215...   \n",
       "1265489         640950  04225d53f733b9cb6c42a3ff1c05b88c5b0e03a17ec274...   \n",
       "1489916         856775  b8c1315393f8d3155c03fe6967516695ca7be422ca3fa9...   \n",
       "\n",
       "         VEHICLE_ID              CRASH_DATE  UNIT_NO UNIT_TYPE  \\\n",
       "696450    1586356.0  09/20/2023 09:45:00 AM        1    DRIVER   \n",
       "707209    1596189.0  10/07/2023 06:23:00 PM        3    DRIVER   \n",
       "1006341    374784.0  05/19/2018 09:47:00 AM        1    DRIVER   \n",
       "1109252    467665.0  09/30/2018 12:10:00 AM        2    DRIVER   \n",
       "1253286    599255.0  04/20/2019 12:10:00 PM        2    DRIVER   \n",
       "1265489    610465.0  05/07/2019 05:03:00 AM        2    DRIVER   \n",
       "1489916    813017.0  03/06/2020 05:17:00 PM        3    DRIVER   \n",
       "\n",
       "         NUM_PASSENGERS  VEHICLE_YEAR VEHICLE_DEFECT        VEHICLE_TYPE  \\\n",
       "696450             20.0        2006.0        UNKNOWN               OTHER   \n",
       "707209             16.0           NaN        UNKNOWN  BUS UP TO 15 PASS.   \n",
       "1006341            16.0        2009.0           NONE               OTHER   \n",
       "1109252            23.0        2010.0           NONE           PASSENGER   \n",
       "1253286            16.0        2915.0        UNKNOWN           PASSENGER   \n",
       "1265489            21.0        2008.0        UNKNOWN           PASSENGER   \n",
       "1489916            35.0        2012.0        UNKNOWN          UNKNOWN/NA   \n",
       "\n",
       "                     MANEUVER  OCCUPANT_CNT FIRST_CONTACT_POINT  \n",
       "696450         STRAIGHT AHEAD          21.0          SIDE-RIGHT  \n",
       "707209   SLOW/STOP IN TRAFFIC          17.0                REAR  \n",
       "1006341        STRAIGHT AHEAD          17.0                NONE  \n",
       "1109252        STRAIGHT AHEAD           4.0               FRONT  \n",
       "1253286        STRAIGHT AHEAD           3.0   TOTAL (ALL AREAS)  \n",
       "1265489        STRAIGHT AHEAD           2.0           REAR-LEFT  \n",
       "1489916        STRAIGHT AHEAD          36.0                REAR  "
      ]
     },
     "execution_count": 154,
     "metadata": {},
     "output_type": "execute_result"
    }
   ],
   "source": [
    "#subset with values higher than 6\n",
    "vehicles[(vehicles['NUM_PASSENGERS'] > 15) & (vehicles['VEHICLE_TYPE'] != 'BUS OVER 15 PASS.')]"
   ]
  },
  {
   "cell_type": "markdown",
   "metadata": {},
   "source": [
    "from this quick look we can look how the NUM_PASSENGERS and OCCUPANT_CNT are not coherent"
   ]
  },
  {
   "cell_type": "code",
   "execution_count": 155,
   "metadata": {},
   "outputs": [
    {
     "data": {
      "text/plain": [
       "OCCUPANT_CNT\n",
       "1.0     1316992\n",
       "0.0      239589\n",
       "2.0      183844\n",
       "3.0       48143\n",
       "4.0       19079\n",
       "5.0        6271\n",
       "6.0        1668\n",
       "7.0         667\n",
       "8.0         253\n",
       "9.0         117\n",
       "11.0         76\n",
       "10.0         72\n",
       "12.0         44\n",
       "13.0         39\n",
       "15.0         21\n",
       "14.0         17\n",
       "16.0         16\n",
       "18.0         13\n",
       "20.0         12\n",
       "19.0         10\n",
       "28.0          8\n",
       "17.0          8\n",
       "25.0          6\n",
       "26.0          6\n",
       "29.0          5\n",
       "36.0          5\n",
       "21.0          5\n",
       "41.0          4\n",
       "44.0          4\n",
       "27.0          4\n",
       "35.0          4\n",
       "33.0          3\n",
       "34.0          3\n",
       "23.0          3\n",
       "22.0          3\n",
       "30.0          3\n",
       "31.0          2\n",
       "39.0          2\n",
       "43.0          2\n",
       "99.0          2\n",
       "47.0          2\n",
       "37.0          1\n",
       "32.0          1\n",
       "60.0          1\n",
       "24.0          1\n",
       "38.0          1\n",
       "53.0          1\n",
       "Name: count, dtype: int64"
      ]
     },
     "execution_count": 155,
     "metadata": {},
     "output_type": "execute_result"
    }
   ],
   "source": [
    "vehicles['OCCUPANT_CNT'].value_counts()"
   ]
  },
  {
   "cell_type": "markdown",
   "metadata": {},
   "source": [
    "we want to see in how many istances we have the NUM_PASSENGERS higher than OCCUPANT_CNT, which is clearly an error"
   ]
  },
  {
   "cell_type": "code",
   "execution_count": 156,
   "metadata": {},
   "outputs": [
    {
     "data": {
      "text/plain": [
       "np.int64(176)"
      ]
     },
     "execution_count": 156,
     "metadata": {},
     "output_type": "execute_result"
    }
   ],
   "source": [
    "(vehicles['NUM_PASSENGERS'] > vehicles['OCCUPANT_CNT']).sum()"
   ]
  },
  {
   "cell_type": "markdown",
   "metadata": {},
   "source": [
    "these values are wrong so we want to delete them"
   ]
  },
  {
   "cell_type": "code",
   "execution_count": 157,
   "metadata": {},
   "outputs": [],
   "source": [
    "vehicles = vehicles[(vehicles['NUM_PASSENGERS'] <= vehicles['OCCUPANT_CNT']) | vehicles['NUM_PASSENGERS'].isna()]"
   ]
  },
  {
   "cell_type": "markdown",
   "metadata": {},
   "source": [
    "---"
   ]
  },
  {
   "cell_type": "code",
   "execution_count": 158,
   "metadata": {},
   "outputs": [
    {
     "name": "stdout",
     "output_type": "stream",
     "text": [
      "<class 'pandas.core.frame.DataFrame'>\n",
      "Index: 1860354 entries, 0 to 1860567\n",
      "Data columns (total 13 columns):\n",
      " #   Column               Non-Null Count    Dtype  \n",
      "---  ------               --------------    -----  \n",
      " 0   CRASH_UNIT_ID        1860354 non-null  int64  \n",
      " 1   CRASH_RECORD_ID      1860354 non-null  object \n",
      " 2   VEHICLE_ID           1816857 non-null  float64\n",
      " 3   CRASH_DATE           1860354 non-null  object \n",
      " 4   UNIT_NO              1860354 non-null  int64  \n",
      " 5   UNIT_TYPE            1858079 non-null  object \n",
      " 6   NUM_PASSENGERS       275324 non-null   float64\n",
      " 7   VEHICLE_YEAR         1528636 non-null  float64\n",
      " 8   VEHICLE_DEFECT       1816857 non-null  object \n",
      " 9   VEHICLE_TYPE         1816857 non-null  object \n",
      " 10  MANEUVER             1816857 non-null  object \n",
      " 11  OCCUPANT_CNT         1816857 non-null  float64\n",
      " 12  FIRST_CONTACT_POINT  1813700 non-null  object \n",
      "dtypes: float64(4), int64(2), object(7)\n",
      "memory usage: 198.7+ MB\n"
     ]
    }
   ],
   "source": [
    "vehicles.info(show_counts=True)"
   ]
  },
  {
   "cell_type": "markdown",
   "metadata": {},
   "source": [
    "---"
   ]
  },
  {
   "cell_type": "markdown",
   "metadata": {},
   "source": [
    "## UNIT_TYPE, VEHICLE_YEAR, VEHICLE_DEFECT, VEHICLE_TYPE"
   ]
  },
  {
   "cell_type": "code",
   "execution_count": 159,
   "metadata": {},
   "outputs": [
    {
     "data": {
      "text/plain": [
       "UNIT_TYPE\n",
       "BICYCLE               14807\n",
       "DISABLED VEHICLE        286\n",
       "DRIVER              1557709\n",
       "DRIVERLESS            14629\n",
       "EQUESTRIAN                8\n",
       "Name: count, dtype: int64"
      ]
     },
     "execution_count": 159,
     "metadata": {},
     "output_type": "execute_result"
    }
   ],
   "source": [
    "vehicles['UNIT_TYPE'].value_counts().sort_index().head()"
   ]
  },
  {
   "cell_type": "code",
   "execution_count": 160,
   "metadata": {},
   "outputs": [
    {
     "data": {
      "text/plain": [
       "VEHICLE_YEAR\n",
       "2015.0    111511\n",
       "2016.0    105127\n",
       "2017.0    105073\n",
       "2014.0     98903\n",
       "2013.0     91464\n",
       "           ...  \n",
       "2320.0         1\n",
       "2922.0         1\n",
       "1919.0         1\n",
       "2323.0         1\n",
       "5019.0         1\n",
       "Name: count, Length: 244, dtype: int64"
      ]
     },
     "execution_count": 160,
     "metadata": {},
     "output_type": "execute_result"
    }
   ],
   "source": [
    "vehicles['VEHICLE_YEAR'].value_counts()"
   ]
  },
  {
   "cell_type": "code",
   "execution_count": 161,
   "metadata": {},
   "outputs": [
    {
     "data": {
      "text/plain": [
       "VEHICLE_DEFECT\n",
       "NONE                968264\n",
       "UNKNOWN             828811\n",
       "OTHER                10828\n",
       "BRAKES                5568\n",
       "TIRES                  910\n",
       "STEERING               822\n",
       "WHEELS                 452\n",
       "SUSPENSION             285\n",
       "FUEL SYSTEM            269\n",
       "ENGINE/MOTOR           233\n",
       "WINDOWS                118\n",
       "LIGHTS                 110\n",
       "CARGO                   67\n",
       "SIGNALS                 46\n",
       "RESTRAINT SYSTEM        28\n",
       "TRAILER COUPLING        25\n",
       "EXHAUST                 21\n",
       "Name: count, dtype: int64"
      ]
     },
     "execution_count": 161,
     "metadata": {},
     "output_type": "execute_result"
    }
   ],
   "source": [
    "vehicles['VEHICLE_DEFECT'].value_counts()"
   ]
  },
  {
   "cell_type": "code",
   "execution_count": 162,
   "metadata": {},
   "outputs": [
    {
     "data": {
      "text/plain": [
       "VEHICLE_TYPE\n",
       "PASSENGER                                 1139517\n",
       "SPORT UTILITY VEHICLE (SUV)                253904\n",
       "UNKNOWN/NA                                 165509\n",
       "VAN/MINI-VAN                                84936\n",
       "PICKUP                                      59739\n",
       "TRUCK - SINGLE UNIT                         34024\n",
       "OTHER                                       22378\n",
       "BUS OVER 15 PASS.                           19996\n",
       "TRACTOR W/ SEMI-TRAILER                     17128\n",
       "BUS UP TO 15 PASS.                           5454\n",
       "MOTORCYCLE (OVER 150CC)                      4389\n",
       "SINGLE UNIT TRUCK WITH TRAILER               3081\n",
       "OTHER VEHICLE WITH TRAILER                   2467\n",
       "TRACTOR W/O SEMI-TRAILER                     2246\n",
       "AUTOCYCLE                                     683\n",
       "MOPED OR MOTORIZED BICYCLE                    680\n",
       "MOTOR DRIVEN CYCLE                            328\n",
       "ALL-TERRAIN VEHICLE (ATV)                     199\n",
       "FARM EQUIPMENT                                 87\n",
       "3-WHEELED MOTORCYCLE (2 REAR WHEELS)           73\n",
       "RECREATIONAL OFF-HIGHWAY VEHICLE (ROV)         31\n",
       "SNOWMOBILE                                      8\n",
       "Name: count, dtype: int64"
      ]
     },
     "execution_count": 162,
     "metadata": {},
     "output_type": "execute_result"
    }
   ],
   "source": [
    "vehicles['VEHICLE_TYPE'].value_counts()"
   ]
  },
  {
   "cell_type": "markdown",
   "metadata": {},
   "source": [
    "---"
   ]
  },
  {
   "cell_type": "markdown",
   "metadata": {},
   "source": [
    "## MANEUVER, FIRST_CONTACT_POINT               "
   ]
  },
  {
   "cell_type": "code",
   "execution_count": 163,
   "metadata": {},
   "outputs": [
    {
     "data": {
      "text/plain": [
       "MANEUVER\n",
       "STRAIGHT AHEAD                        842200\n",
       "PARKED                                249036\n",
       "UNKNOWN/NA                            137832\n",
       "SLOW/STOP IN TRAFFIC                  132017\n",
       "TURNING LEFT                          108797\n",
       "BACKING                                72885\n",
       "TURNING RIGHT                          60864\n",
       "PASSING/OVERTAKING                     44352\n",
       "CHANGING LANES                         34729\n",
       "OTHER                                  30698\n",
       "ENTERING TRAFFIC LANE FROM PARKING     21416\n",
       "MERGING                                12873\n",
       "U-TURN                                 10452\n",
       "STARTING IN TRAFFIC                    10127\n",
       "LEAVING TRAFFIC LANE TO PARK            8778\n",
       "AVOIDING VEHICLES/OBJECTS               7622\n",
       "SKIDDING/CONTROL LOSS                   6691\n",
       "ENTER FROM DRIVE/ALLEY                  6380\n",
       "PARKED IN TRAFFIC LANE                  5603\n",
       "SLOW/STOP - LEFT TURN                   3042\n",
       "DRIVING WRONG WAY                       2733\n",
       "NEGOTIATING A CURVE                     2184\n",
       "SLOW/STOP - RIGHT TURN                  1929\n",
       "SLOW/STOP - LOAD/UNLOAD                 1662\n",
       "TURNING ON RED                           701\n",
       "DRIVERLESS                               680\n",
       "DISABLED                                 287\n",
       "DIVERGING                                287\n",
       "Name: count, dtype: int64"
      ]
     },
     "execution_count": 163,
     "metadata": {},
     "output_type": "execute_result"
    }
   ],
   "source": [
    "vehicles['MANEUVER'].value_counts()"
   ]
  },
  {
   "cell_type": "code",
   "execution_count": 164,
   "metadata": {},
   "outputs": [
    {
     "data": {
      "text/plain": [
       "FIRST_CONTACT_POINT\n",
       "FRONT                 356916\n",
       "REAR                  239987\n",
       "UNKNOWN               173275\n",
       "SIDE-LEFT             125356\n",
       "FRONT-LEFT-CORNER     123101\n",
       "FRONT-RIGHT-CORNER    120493\n",
       "SIDE-RIGHT            119365\n",
       "FRONT-LEFT             81509\n",
       "FRONT-RIGHT            76890\n",
       "REAR-LEFT              68082\n",
       "REAR-LEFT-CORNER       54482\n",
       "OTHER                  41974\n",
       "REAR-RIGHT-CORNER      40022\n",
       "REAR-RIGHT             36483\n",
       "SIDE-LEFT-REAR         31139\n",
       "TOTAL (ALL AREAS)      28398\n",
       "SIDE-RIGHT-REAR        23632\n",
       "SIDE-LEFT-FRONT        20618\n",
       "SIDE-RIGHT-FRONT       17698\n",
       "NONE                   14118\n",
       "ROOF                   11957\n",
       "UNDER CARRIAGE          5915\n",
       "TOP                     2290\n",
       "Name: count, dtype: int64"
      ]
     },
     "execution_count": 164,
     "metadata": {},
     "output_type": "execute_result"
    }
   ],
   "source": [
    "vehicles['FIRST_CONTACT_POINT'].value_counts()  "
   ]
  },
  {
   "cell_type": "markdown",
   "metadata": {},
   "source": [
    "---"
   ]
  },
  {
   "cell_type": "markdown",
   "metadata": {},
   "source": [
    "removing entries pre 2017 by checking the CRASH_RECORD_ID"
   ]
  },
  {
   "cell_type": "code",
   "execution_count": 169,
   "metadata": {},
   "outputs": [
    {
     "name": "stdout",
     "output_type": "stream",
     "text": [
      "Number of rows in 'vehicles' with missing crash record ID:  121462\n"
     ]
    }
   ],
   "source": [
    "missing_crash_ids_vehicles = vehicles[~vehicles['CRASH_RECORD_ID'].isin(crashes_severity['CRASH_RECORD_ID'])]\n",
    "print(\"Number of rows in 'vehicles' with missing crash record ID: \", len(missing_crash_ids_vehicles))"
   ]
  },
  {
   "cell_type": "code",
   "execution_count": 170,
   "metadata": {},
   "outputs": [],
   "source": [
    "vehicle_final = vehicles[vehicles['CRASH_RECORD_ID'].isin(crashes_severity['CRASH_RECORD_ID'])]"
   ]
  },
  {
   "cell_type": "code",
   "execution_count": 171,
   "metadata": {},
   "outputs": [
    {
     "name": "stderr",
     "output_type": "stream",
     "text": [
      "C:\\Users\\chucki\\AppData\\Local\\Temp\\ipykernel_7344\\3598224188.py:1: UserWarning:\n",
      "\n",
      "Could not infer format, so each element will be parsed individually, falling back to `dateutil`. To ensure parsing is consistent and as-expected, please specify a format.\n",
      "\n"
     ]
    },
    {
     "name": "stdout",
     "output_type": "stream",
     "text": [
      "2017-01-01 00:01:00\n",
      "2025-01-22 23:55:00\n"
     ]
    },
    {
     "name": "stderr",
     "output_type": "stream",
     "text": [
      "C:\\Users\\chucki\\AppData\\Local\\Temp\\ipykernel_7344\\3598224188.py:1: SettingWithCopyWarning:\n",
      "\n",
      "\n",
      "A value is trying to be set on a copy of a slice from a DataFrame.\n",
      "Try using .loc[row_indexer,col_indexer] = value instead\n",
      "\n",
      "See the caveats in the documentation: https://pandas.pydata.org/pandas-docs/stable/user_guide/indexing.html#returning-a-view-versus-a-copy\n",
      "\n"
     ]
    }
   ],
   "source": [
    "vehicle_final['CRASH_DATE'] = pd.to_datetime(vehicle_final['CRASH_DATE'])\n",
    "print(vehicle_final['CRASH_DATE'].min())\n",
    "print(vehicle_final['CRASH_DATE'].max())"
   ]
  },
  {
   "cell_type": "code",
   "execution_count": 172,
   "metadata": {},
   "outputs": [],
   "source": [
    "# save to csv\n",
    "vehicle_final.to_csv('dataset/vehicles_2017.csv', index=False)"
   ]
  },
  {
   "cell_type": "markdown",
   "metadata": {},
   "source": [
    "---"
   ]
  },
  {
   "cell_type": "markdown",
   "metadata": {},
   "source": [
    "# Creation of profile for each month, each department"
   ]
  },
  {
   "cell_type": "code",
   "execution_count": 165,
   "metadata": {},
   "outputs": [
    {
     "data": {
      "text/html": [
       "<div>\n",
       "<style scoped>\n",
       "    .dataframe tbody tr th:only-of-type {\n",
       "        vertical-align: middle;\n",
       "    }\n",
       "\n",
       "    .dataframe tbody tr th {\n",
       "        vertical-align: top;\n",
       "    }\n",
       "\n",
       "    .dataframe thead th {\n",
       "        text-align: right;\n",
       "    }\n",
       "</style>\n",
       "<table border=\"1\" class=\"dataframe\">\n",
       "  <thead>\n",
       "    <tr style=\"text-align: right;\">\n",
       "      <th></th>\n",
       "      <th>BEAT_OF_OCCURRENCE</th>\n",
       "      <th>CRASH_YEAR</th>\n",
       "      <th>CRASH_MONTH</th>\n",
       "      <th>TOTAL_CRASHES</th>\n",
       "    </tr>\n",
       "  </thead>\n",
       "  <tbody>\n",
       "    <tr>\n",
       "      <th>0</th>\n",
       "      <td>111.0</td>\n",
       "      <td>2017</td>\n",
       "      <td>1</td>\n",
       "      <td>20</td>\n",
       "    </tr>\n",
       "    <tr>\n",
       "      <th>1</th>\n",
       "      <td>111.0</td>\n",
       "      <td>2017</td>\n",
       "      <td>2</td>\n",
       "      <td>25</td>\n",
       "    </tr>\n",
       "    <tr>\n",
       "      <th>2</th>\n",
       "      <td>111.0</td>\n",
       "      <td>2017</td>\n",
       "      <td>3</td>\n",
       "      <td>32</td>\n",
       "    </tr>\n",
       "    <tr>\n",
       "      <th>3</th>\n",
       "      <td>111.0</td>\n",
       "      <td>2017</td>\n",
       "      <td>4</td>\n",
       "      <td>24</td>\n",
       "    </tr>\n",
       "    <tr>\n",
       "      <th>4</th>\n",
       "      <td>111.0</td>\n",
       "      <td>2017</td>\n",
       "      <td>5</td>\n",
       "      <td>37</td>\n",
       "    </tr>\n",
       "  </tbody>\n",
       "</table>\n",
       "</div>"
      ],
      "text/plain": [
       "   BEAT_OF_OCCURRENCE  CRASH_YEAR  CRASH_MONTH  TOTAL_CRASHES\n",
       "0               111.0        2017            1             20\n",
       "1               111.0        2017            2             25\n",
       "2               111.0        2017            3             32\n",
       "3               111.0        2017            4             24\n",
       "4               111.0        2017            5             37"
      ]
     },
     "execution_count": 165,
     "metadata": {},
     "output_type": "execute_result"
    }
   ],
   "source": [
    "crashes['CRASH_YEAR'] = crashes['CRASH_DATE'].dt.year\n",
    "\n",
    "monthly_crash_counts = crashes.groupby(['BEAT_OF_OCCURRENCE', 'CRASH_YEAR', 'CRASH_MONTH']).size().reset_index(name='TOTAL_CRASHES')\n",
    "\n",
    "monthly_crash_counts.head()"
   ]
  },
  {
   "cell_type": "markdown",
   "metadata": {},
   "source": [
    "---"
   ]
  },
  {
   "cell_type": "markdown",
   "metadata": {},
   "source": [
    "# Entries removal\n",
    "\n",
    "We want to keep only the entries from the 'people' and 'vehicles' dataset which are linked to some crashes, hence when they have a 'CRASH_RECORD_ID' present in the 'crashes' dataset"
   ]
  },
  {
   "cell_type": "code",
   "execution_count": 166,
   "metadata": {},
   "outputs": [
    {
     "name": "stdout",
     "output_type": "stream",
     "text": [
      "0\n",
      "0\n",
      "0\n"
     ]
    }
   ],
   "source": [
    "# null value check for CRASH_RECORD_ID\n",
    "print(crashes['CRASH_RECORD_ID'].isnull().sum())\n",
    "print(people['CRASH_RECORD_ID'].isnull().sum())\n",
    "print(vehicles['CRASH_RECORD_ID'].isnull().sum())"
   ]
  },
  {
   "cell_type": "code",
   "execution_count": 167,
   "metadata": {},
   "outputs": [
    {
     "name": "stdout",
     "output_type": "stream",
     "text": [
      "Number of rows in 'people' with missing crash record ID:  131049\n"
     ]
    }
   ],
   "source": [
    "missing_crash_ids_people = people[~people['CRASH_RECORD_ID'].isin(crashes['CRASH_RECORD_ID'])]\n",
    "print(\"Number of rows in 'people' with missing crash record ID: \", len(missing_crash_ids_people))"
   ]
  },
  {
   "cell_type": "code",
   "execution_count": 168,
   "metadata": {},
   "outputs": [
    {
     "name": "stdout",
     "output_type": "stream",
     "text": [
      "Number of rows in 'vehicles' with missing crash record ID:  121462\n"
     ]
    }
   ],
   "source": [
    "missing_crash_ids_vehicles = vehicles[~vehicles['CRASH_RECORD_ID'].isin(crashes['CRASH_RECORD_ID'])]\n",
    "print(\"Number of rows in 'vehicles' with missing crash record ID: \", len(missing_crash_ids_vehicles))"
   ]
  },
  {
   "cell_type": "markdown",
   "metadata": {},
   "source": [
    "---"
   ]
  },
  {
   "cell_type": "markdown",
   "metadata": {},
   "source": [
    "# MULTI DATASET ANALISYS"
   ]
  },
  {
   "cell_type": "code",
   "execution_count": 158,
   "metadata": {},
   "outputs": [],
   "source": [
    "crashes = pd.read_csv('dataset/crashes_severity_2017.csv')\n",
    "people = pd.read_csv('dataset/people_2017.csv')\n",
    "vehicles = pd.read_csv('dataset/vehicles_2017.csv')"
   ]
  },
  {
   "cell_type": "code",
   "execution_count": 145,
   "metadata": {},
   "outputs": [],
   "source": [
    "crash_people_counts = people['CRASH_RECORD_ID'].value_counts().reset_index(name='PEOPLE_COUNT')\n",
    "crash_people_counts.columns = ['CRASH_RECORD_ID', 'PEOPLE_COUNT']"
   ]
  },
  {
   "cell_type": "code",
   "execution_count": 146,
   "metadata": {},
   "outputs": [
    {
     "data": {
      "text/html": [
       "<div>\n",
       "<style scoped>\n",
       "    .dataframe tbody tr th:only-of-type {\n",
       "        vertical-align: middle;\n",
       "    }\n",
       "\n",
       "    .dataframe tbody tr th {\n",
       "        vertical-align: top;\n",
       "    }\n",
       "\n",
       "    .dataframe thead th {\n",
       "        text-align: right;\n",
       "    }\n",
       "</style>\n",
       "<table border=\"1\" class=\"dataframe\">\n",
       "  <thead>\n",
       "    <tr style=\"text-align: right;\">\n",
       "      <th></th>\n",
       "      <th>CRASH_RECORD_ID</th>\n",
       "      <th>PEOPLE_COUNT</th>\n",
       "    </tr>\n",
       "  </thead>\n",
       "  <tbody>\n",
       "    <tr>\n",
       "      <th>0</th>\n",
       "      <td>c9d233e31a4f2a07733ef75f0404e75c360b30c7ee9bc4...</td>\n",
       "      <td>12</td>\n",
       "    </tr>\n",
       "    <tr>\n",
       "      <th>1</th>\n",
       "      <td>45ef99d6739c22de4260bc091e70dd495a1fd4d57557f5...</td>\n",
       "      <td>12</td>\n",
       "    </tr>\n",
       "    <tr>\n",
       "      <th>2</th>\n",
       "      <td>74e9d893f1df817db0fd24a7d10006941f1eda0c9e7a33...</td>\n",
       "      <td>11</td>\n",
       "    </tr>\n",
       "    <tr>\n",
       "      <th>3</th>\n",
       "      <td>d71effb95c9fa25c60c5f5b5d925de5e79bb5ba483d84e...</td>\n",
       "      <td>11</td>\n",
       "    </tr>\n",
       "    <tr>\n",
       "      <th>4</th>\n",
       "      <td>7855f06f3cb2939b9bde3eb6b571baf4cad498d1462dc5...</td>\n",
       "      <td>10</td>\n",
       "    </tr>\n",
       "  </tbody>\n",
       "</table>\n",
       "</div>"
      ],
      "text/plain": [
       "                                     CRASH_RECORD_ID  PEOPLE_COUNT\n",
       "0  c9d233e31a4f2a07733ef75f0404e75c360b30c7ee9bc4...            12\n",
       "1  45ef99d6739c22de4260bc091e70dd495a1fd4d57557f5...            12\n",
       "2  74e9d893f1df817db0fd24a7d10006941f1eda0c9e7a33...            11\n",
       "3  d71effb95c9fa25c60c5f5b5d925de5e79bb5ba483d84e...            11\n",
       "4  7855f06f3cb2939b9bde3eb6b571baf4cad498d1462dc5...            10"
      ]
     },
     "execution_count": 146,
     "metadata": {},
     "output_type": "execute_result"
    }
   ],
   "source": [
    "crash_people_counts.head()"
   ]
  },
  {
   "cell_type": "code",
   "execution_count": 147,
   "metadata": {},
   "outputs": [
    {
     "data": {
      "text/html": [
       "<div>\n",
       "<style scoped>\n",
       "    .dataframe tbody tr th:only-of-type {\n",
       "        vertical-align: middle;\n",
       "    }\n",
       "\n",
       "    .dataframe tbody tr th {\n",
       "        vertical-align: top;\n",
       "    }\n",
       "\n",
       "    .dataframe thead th {\n",
       "        text-align: right;\n",
       "    }\n",
       "</style>\n",
       "<table border=\"1\" class=\"dataframe\">\n",
       "  <thead>\n",
       "    <tr style=\"text-align: right;\">\n",
       "      <th></th>\n",
       "      <th>CRASH_RECORD_ID</th>\n",
       "      <th>PEOPLE_COUNT</th>\n",
       "    </tr>\n",
       "  </thead>\n",
       "  <tbody>\n",
       "    <tr>\n",
       "      <th>848270</th>\n",
       "      <td>2031436f8ba86b1d7553be7568ecfa88c3a6c28ea753bf...</td>\n",
       "      <td>1</td>\n",
       "    </tr>\n",
       "    <tr>\n",
       "      <th>848271</th>\n",
       "      <td>36e883001c938231a6ad157a286ac68748d1fccbe01d28...</td>\n",
       "      <td>1</td>\n",
       "    </tr>\n",
       "    <tr>\n",
       "      <th>848272</th>\n",
       "      <td>c51e25e9e1a1a37fa7870007b37d5507379a967655af04...</td>\n",
       "      <td>1</td>\n",
       "    </tr>\n",
       "    <tr>\n",
       "      <th>848273</th>\n",
       "      <td>250afd1f91ba828d93198d03a573f3d81d89eef4755e5f...</td>\n",
       "      <td>1</td>\n",
       "    </tr>\n",
       "    <tr>\n",
       "      <th>848274</th>\n",
       "      <td>ef291ea7cbd0b024a7f05a8dc53db3e684f7c2c239f8e1...</td>\n",
       "      <td>1</td>\n",
       "    </tr>\n",
       "  </tbody>\n",
       "</table>\n",
       "</div>"
      ],
      "text/plain": [
       "                                          CRASH_RECORD_ID  PEOPLE_COUNT\n",
       "848270  2031436f8ba86b1d7553be7568ecfa88c3a6c28ea753bf...             1\n",
       "848271  36e883001c938231a6ad157a286ac68748d1fccbe01d28...             1\n",
       "848272  c51e25e9e1a1a37fa7870007b37d5507379a967655af04...             1\n",
       "848273  250afd1f91ba828d93198d03a573f3d81d89eef4755e5f...             1\n",
       "848274  ef291ea7cbd0b024a7f05a8dc53db3e684f7c2c239f8e1...             1"
      ]
     },
     "execution_count": 147,
     "metadata": {},
     "output_type": "execute_result"
    }
   ],
   "source": [
    "crash_people_counts.tail()"
   ]
  },
  {
   "cell_type": "markdown",
   "metadata": {},
   "source": [
    "if we analyze the first entry we can notice a problem"
   ]
  },
  {
   "cell_type": "code",
   "execution_count": 150,
   "metadata": {},
   "outputs": [],
   "source": [
    "first_id = crash_people_counts['CRASH_RECORD_ID'][0]"
   ]
  },
  {
   "cell_type": "code",
   "execution_count": 151,
   "metadata": {},
   "outputs": [
    {
     "data": {
      "text/html": [
       "<div>\n",
       "<style scoped>\n",
       "    .dataframe tbody tr th:only-of-type {\n",
       "        vertical-align: middle;\n",
       "    }\n",
       "\n",
       "    .dataframe tbody tr th {\n",
       "        vertical-align: top;\n",
       "    }\n",
       "\n",
       "    .dataframe thead th {\n",
       "        text-align: right;\n",
       "    }\n",
       "</style>\n",
       "<table border=\"1\" class=\"dataframe\">\n",
       "  <thead>\n",
       "    <tr style=\"text-align: right;\">\n",
       "      <th></th>\n",
       "      <th>CRASH_RECORD_ID</th>\n",
       "      <th>PEOPLE_COUNT</th>\n",
       "    </tr>\n",
       "  </thead>\n",
       "  <tbody>\n",
       "    <tr>\n",
       "      <th>0</th>\n",
       "      <td>c9d233e31a4f2a07733ef75f0404e75c360b30c7ee9bc4...</td>\n",
       "      <td>12</td>\n",
       "    </tr>\n",
       "  </tbody>\n",
       "</table>\n",
       "</div>"
      ],
      "text/plain": [
       "                                     CRASH_RECORD_ID  PEOPLE_COUNT\n",
       "0  c9d233e31a4f2a07733ef75f0404e75c360b30c7ee9bc4...            12"
      ]
     },
     "execution_count": 151,
     "metadata": {},
     "output_type": "execute_result"
    }
   ],
   "source": [
    "crash_people_counts.loc[crash_people_counts['CRASH_RECORD_ID'] == first_id]"
   ]
  },
  {
   "cell_type": "code",
   "execution_count": 152,
   "metadata": {},
   "outputs": [
    {
     "data": {
      "text/plain": [
       "851004    6\n",
       "Name: NUM_UNITS, dtype: int64"
      ]
     },
     "execution_count": 152,
     "metadata": {},
     "output_type": "execute_result"
    }
   ],
   "source": [
    "crashes.loc[crashes['CRASH_RECORD_ID'] == first_id]['NUM_UNITS']"
   ]
  },
  {
   "cell_type": "markdown",
   "metadata": {},
   "source": [
    "the crashes has 6 vehicles coinvolted but 12 drivers"
   ]
  },
  {
   "cell_type": "code",
   "execution_count": 153,
   "metadata": {},
   "outputs": [
    {
     "data": {
      "text/html": [
       "<div>\n",
       "<style scoped>\n",
       "    .dataframe tbody tr th:only-of-type {\n",
       "        vertical-align: middle;\n",
       "    }\n",
       "\n",
       "    .dataframe tbody tr th {\n",
       "        vertical-align: top;\n",
       "    }\n",
       "\n",
       "    .dataframe thead th {\n",
       "        text-align: right;\n",
       "    }\n",
       "</style>\n",
       "<table border=\"1\" class=\"dataframe\">\n",
       "  <thead>\n",
       "    <tr style=\"text-align: right;\">\n",
       "      <th></th>\n",
       "      <th>PERSON_ID</th>\n",
       "      <th>PERSON_TYPE</th>\n",
       "      <th>CRASH_RECORD_ID</th>\n",
       "      <th>VEHICLE_ID</th>\n",
       "      <th>CRASH_DATE</th>\n",
       "      <th>CITY</th>\n",
       "      <th>STATE</th>\n",
       "      <th>ZIPCODE</th>\n",
       "      <th>SEX</th>\n",
       "      <th>AGE</th>\n",
       "      <th>DRIVERS_LICENSE_STATE</th>\n",
       "      <th>DRIVERS_LICENSE_CLASS</th>\n",
       "      <th>INJURY_CLASSIFICATION</th>\n",
       "      <th>DRIVER_ACTION</th>\n",
       "      <th>DRIVER_VISION</th>\n",
       "      <th>PHYSICAL_CONDITION</th>\n",
       "    </tr>\n",
       "  </thead>\n",
       "  <tbody>\n",
       "    <tr>\n",
       "      <th>30406</th>\n",
       "      <td>O871451</td>\n",
       "      <td>DRIVER</td>\n",
       "      <td>c9d233e31a4f2a07733ef75f0404e75c360b30c7ee9bc4...</td>\n",
       "      <td>826759.0</td>\n",
       "      <td>2020-04-02 17:44:00</td>\n",
       "      <td>CHICAGO</td>\n",
       "      <td>IL</td>\n",
       "      <td>60620</td>\n",
       "      <td>1.0</td>\n",
       "      <td>52.0</td>\n",
       "      <td>IL</td>\n",
       "      <td>D</td>\n",
       "      <td>NO INDICATION OF INJURY</td>\n",
       "      <td>NONE</td>\n",
       "      <td>NOT OBSCURED</td>\n",
       "      <td>NORMAL</td>\n",
       "    </tr>\n",
       "    <tr>\n",
       "      <th>66226</th>\n",
       "      <td>O868463</td>\n",
       "      <td>DRIVER</td>\n",
       "      <td>c9d233e31a4f2a07733ef75f0404e75c360b30c7ee9bc4...</td>\n",
       "      <td>824075.0</td>\n",
       "      <td>2020-04-02 17:44:00</td>\n",
       "      <td>CHICAGO</td>\n",
       "      <td>IL</td>\n",
       "      <td>60620</td>\n",
       "      <td>1.0</td>\n",
       "      <td>17.0</td>\n",
       "      <td>IL</td>\n",
       "      <td>D</td>\n",
       "      <td>NO INDICATION OF INJURY</td>\n",
       "      <td>IMPROPER LANE CHANGE</td>\n",
       "      <td>NOT OBSCURED</td>\n",
       "      <td>NORMAL</td>\n",
       "    </tr>\n",
       "    <tr>\n",
       "      <th>66227</th>\n",
       "      <td>O868464</td>\n",
       "      <td>DRIVER</td>\n",
       "      <td>c9d233e31a4f2a07733ef75f0404e75c360b30c7ee9bc4...</td>\n",
       "      <td>824056.0</td>\n",
       "      <td>2020-04-02 17:44:00</td>\n",
       "      <td>MADISON</td>\n",
       "      <td>WI</td>\n",
       "      <td>53704</td>\n",
       "      <td>0.0</td>\n",
       "      <td>51.0</td>\n",
       "      <td>WI</td>\n",
       "      <td>D</td>\n",
       "      <td>NO INDICATION OF INJURY</td>\n",
       "      <td>NONE</td>\n",
       "      <td>NOT OBSCURED</td>\n",
       "      <td>NORMAL</td>\n",
       "    </tr>\n",
       "    <tr>\n",
       "      <th>66228</th>\n",
       "      <td>O868465</td>\n",
       "      <td>DRIVER</td>\n",
       "      <td>c9d233e31a4f2a07733ef75f0404e75c360b30c7ee9bc4...</td>\n",
       "      <td>824057.0</td>\n",
       "      <td>2020-04-02 17:44:00</td>\n",
       "      <td>CHICAGO</td>\n",
       "      <td>IL</td>\n",
       "      <td>60620</td>\n",
       "      <td>1.0</td>\n",
       "      <td>52.0</td>\n",
       "      <td>IL</td>\n",
       "      <td>D</td>\n",
       "      <td>NO INDICATION OF INJURY</td>\n",
       "      <td>NONE</td>\n",
       "      <td>NOT OBSCURED</td>\n",
       "      <td>NORMAL</td>\n",
       "    </tr>\n",
       "    <tr>\n",
       "      <th>66229</th>\n",
       "      <td>O868466</td>\n",
       "      <td>DRIVER</td>\n",
       "      <td>c9d233e31a4f2a07733ef75f0404e75c360b30c7ee9bc4...</td>\n",
       "      <td>824060.0</td>\n",
       "      <td>2020-04-02 17:44:00</td>\n",
       "      <td>CHICAGO</td>\n",
       "      <td>IL</td>\n",
       "      <td>60649</td>\n",
       "      <td>1.0</td>\n",
       "      <td>72.0</td>\n",
       "      <td>IL</td>\n",
       "      <td>D</td>\n",
       "      <td>NO INDICATION OF INJURY</td>\n",
       "      <td>NONE</td>\n",
       "      <td>NOT OBSCURED</td>\n",
       "      <td>NORMAL</td>\n",
       "    </tr>\n",
       "    <tr>\n",
       "      <th>66230</th>\n",
       "      <td>O868467</td>\n",
       "      <td>DRIVER</td>\n",
       "      <td>c9d233e31a4f2a07733ef75f0404e75c360b30c7ee9bc4...</td>\n",
       "      <td>824068.0</td>\n",
       "      <td>2020-04-02 17:44:00</td>\n",
       "      <td>LYNWOOD</td>\n",
       "      <td>IL</td>\n",
       "      <td>60411</td>\n",
       "      <td>1.0</td>\n",
       "      <td>39.0</td>\n",
       "      <td>IL</td>\n",
       "      <td>D</td>\n",
       "      <td>NO INDICATION OF INJURY</td>\n",
       "      <td>NONE</td>\n",
       "      <td>NOT OBSCURED</td>\n",
       "      <td>NORMAL</td>\n",
       "    </tr>\n",
       "    <tr>\n",
       "      <th>66231</th>\n",
       "      <td>O868483</td>\n",
       "      <td>DRIVER</td>\n",
       "      <td>c9d233e31a4f2a07733ef75f0404e75c360b30c7ee9bc4...</td>\n",
       "      <td>824074.0</td>\n",
       "      <td>2020-04-02 17:44:00</td>\n",
       "      <td>CHICAGO</td>\n",
       "      <td>IL</td>\n",
       "      <td>60619</td>\n",
       "      <td>1.0</td>\n",
       "      <td>37.0</td>\n",
       "      <td>IL</td>\n",
       "      <td>D</td>\n",
       "      <td>NO INDICATION OF INJURY</td>\n",
       "      <td>NONE</td>\n",
       "      <td>NOT OBSCURED</td>\n",
       "      <td>NORMAL</td>\n",
       "    </tr>\n",
       "    <tr>\n",
       "      <th>66302</th>\n",
       "      <td>O871449</td>\n",
       "      <td>DRIVER</td>\n",
       "      <td>c9d233e31a4f2a07733ef75f0404e75c360b30c7ee9bc4...</td>\n",
       "      <td>826757.0</td>\n",
       "      <td>2020-04-02 17:44:00</td>\n",
       "      <td>CHICAGO</td>\n",
       "      <td>IL</td>\n",
       "      <td>60620</td>\n",
       "      <td>1.0</td>\n",
       "      <td>17.0</td>\n",
       "      <td>IL</td>\n",
       "      <td>D</td>\n",
       "      <td>NO INDICATION OF INJURY</td>\n",
       "      <td>IMPROPER LANE CHANGE</td>\n",
       "      <td>NOT OBSCURED</td>\n",
       "      <td>NORMAL</td>\n",
       "    </tr>\n",
       "    <tr>\n",
       "      <th>66303</th>\n",
       "      <td>O871450</td>\n",
       "      <td>DRIVER</td>\n",
       "      <td>c9d233e31a4f2a07733ef75f0404e75c360b30c7ee9bc4...</td>\n",
       "      <td>826758.0</td>\n",
       "      <td>2020-04-02 17:44:00</td>\n",
       "      <td>MADISON</td>\n",
       "      <td>WI</td>\n",
       "      <td>53704</td>\n",
       "      <td>0.0</td>\n",
       "      <td>51.0</td>\n",
       "      <td>WI</td>\n",
       "      <td>D</td>\n",
       "      <td>NO INDICATION OF INJURY</td>\n",
       "      <td>NONE</td>\n",
       "      <td>NOT OBSCURED</td>\n",
       "      <td>NORMAL</td>\n",
       "    </tr>\n",
       "    <tr>\n",
       "      <th>66304</th>\n",
       "      <td>O871452</td>\n",
       "      <td>DRIVER</td>\n",
       "      <td>c9d233e31a4f2a07733ef75f0404e75c360b30c7ee9bc4...</td>\n",
       "      <td>826760.0</td>\n",
       "      <td>2020-04-02 17:44:00</td>\n",
       "      <td>CHICAGO</td>\n",
       "      <td>IL</td>\n",
       "      <td>60649</td>\n",
       "      <td>1.0</td>\n",
       "      <td>72.0</td>\n",
       "      <td>IL</td>\n",
       "      <td>D</td>\n",
       "      <td>NO INDICATION OF INJURY</td>\n",
       "      <td>NONE</td>\n",
       "      <td>NOT OBSCURED</td>\n",
       "      <td>NORMAL</td>\n",
       "    </tr>\n",
       "    <tr>\n",
       "      <th>66305</th>\n",
       "      <td>O871453</td>\n",
       "      <td>DRIVER</td>\n",
       "      <td>c9d233e31a4f2a07733ef75f0404e75c360b30c7ee9bc4...</td>\n",
       "      <td>826761.0</td>\n",
       "      <td>2020-04-02 17:44:00</td>\n",
       "      <td>LYNWOOD</td>\n",
       "      <td>IL</td>\n",
       "      <td>60411</td>\n",
       "      <td>1.0</td>\n",
       "      <td>39.0</td>\n",
       "      <td>IL</td>\n",
       "      <td>D</td>\n",
       "      <td>NO INDICATION OF INJURY</td>\n",
       "      <td>NONE</td>\n",
       "      <td>NOT OBSCURED</td>\n",
       "      <td>NORMAL</td>\n",
       "    </tr>\n",
       "    <tr>\n",
       "      <th>66306</th>\n",
       "      <td>O871454</td>\n",
       "      <td>DRIVER</td>\n",
       "      <td>c9d233e31a4f2a07733ef75f0404e75c360b30c7ee9bc4...</td>\n",
       "      <td>826762.0</td>\n",
       "      <td>2020-04-02 17:44:00</td>\n",
       "      <td>CHICAGO</td>\n",
       "      <td>IL</td>\n",
       "      <td>60619</td>\n",
       "      <td>1.0</td>\n",
       "      <td>37.0</td>\n",
       "      <td>IL</td>\n",
       "      <td>D</td>\n",
       "      <td>NO INDICATION OF INJURY</td>\n",
       "      <td>NONE</td>\n",
       "      <td>NOT OBSCURED</td>\n",
       "      <td>NORMAL</td>\n",
       "    </tr>\n",
       "  </tbody>\n",
       "</table>\n",
       "</div>"
      ],
      "text/plain": [
       "      PERSON_ID PERSON_TYPE  \\\n",
       "30406   O871451      DRIVER   \n",
       "66226   O868463      DRIVER   \n",
       "66227   O868464      DRIVER   \n",
       "66228   O868465      DRIVER   \n",
       "66229   O868466      DRIVER   \n",
       "66230   O868467      DRIVER   \n",
       "66231   O868483      DRIVER   \n",
       "66302   O871449      DRIVER   \n",
       "66303   O871450      DRIVER   \n",
       "66304   O871452      DRIVER   \n",
       "66305   O871453      DRIVER   \n",
       "66306   O871454      DRIVER   \n",
       "\n",
       "                                         CRASH_RECORD_ID  VEHICLE_ID  \\\n",
       "30406  c9d233e31a4f2a07733ef75f0404e75c360b30c7ee9bc4...    826759.0   \n",
       "66226  c9d233e31a4f2a07733ef75f0404e75c360b30c7ee9bc4...    824075.0   \n",
       "66227  c9d233e31a4f2a07733ef75f0404e75c360b30c7ee9bc4...    824056.0   \n",
       "66228  c9d233e31a4f2a07733ef75f0404e75c360b30c7ee9bc4...    824057.0   \n",
       "66229  c9d233e31a4f2a07733ef75f0404e75c360b30c7ee9bc4...    824060.0   \n",
       "66230  c9d233e31a4f2a07733ef75f0404e75c360b30c7ee9bc4...    824068.0   \n",
       "66231  c9d233e31a4f2a07733ef75f0404e75c360b30c7ee9bc4...    824074.0   \n",
       "66302  c9d233e31a4f2a07733ef75f0404e75c360b30c7ee9bc4...    826757.0   \n",
       "66303  c9d233e31a4f2a07733ef75f0404e75c360b30c7ee9bc4...    826758.0   \n",
       "66304  c9d233e31a4f2a07733ef75f0404e75c360b30c7ee9bc4...    826760.0   \n",
       "66305  c9d233e31a4f2a07733ef75f0404e75c360b30c7ee9bc4...    826761.0   \n",
       "66306  c9d233e31a4f2a07733ef75f0404e75c360b30c7ee9bc4...    826762.0   \n",
       "\n",
       "                CRASH_DATE     CITY STATE ZIPCODE  SEX   AGE  \\\n",
       "30406  2020-04-02 17:44:00  CHICAGO    IL   60620  1.0  52.0   \n",
       "66226  2020-04-02 17:44:00  CHICAGO    IL   60620  1.0  17.0   \n",
       "66227  2020-04-02 17:44:00  MADISON    WI   53704  0.0  51.0   \n",
       "66228  2020-04-02 17:44:00  CHICAGO    IL   60620  1.0  52.0   \n",
       "66229  2020-04-02 17:44:00  CHICAGO    IL   60649  1.0  72.0   \n",
       "66230  2020-04-02 17:44:00  LYNWOOD    IL   60411  1.0  39.0   \n",
       "66231  2020-04-02 17:44:00  CHICAGO    IL   60619  1.0  37.0   \n",
       "66302  2020-04-02 17:44:00  CHICAGO    IL   60620  1.0  17.0   \n",
       "66303  2020-04-02 17:44:00  MADISON    WI   53704  0.0  51.0   \n",
       "66304  2020-04-02 17:44:00  CHICAGO    IL   60649  1.0  72.0   \n",
       "66305  2020-04-02 17:44:00  LYNWOOD    IL   60411  1.0  39.0   \n",
       "66306  2020-04-02 17:44:00  CHICAGO    IL   60619  1.0  37.0   \n",
       "\n",
       "      DRIVERS_LICENSE_STATE DRIVERS_LICENSE_CLASS    INJURY_CLASSIFICATION  \\\n",
       "30406                    IL                     D  NO INDICATION OF INJURY   \n",
       "66226                    IL                     D  NO INDICATION OF INJURY   \n",
       "66227                    WI                     D  NO INDICATION OF INJURY   \n",
       "66228                    IL                     D  NO INDICATION OF INJURY   \n",
       "66229                    IL                     D  NO INDICATION OF INJURY   \n",
       "66230                    IL                     D  NO INDICATION OF INJURY   \n",
       "66231                    IL                     D  NO INDICATION OF INJURY   \n",
       "66302                    IL                     D  NO INDICATION OF INJURY   \n",
       "66303                    WI                     D  NO INDICATION OF INJURY   \n",
       "66304                    IL                     D  NO INDICATION OF INJURY   \n",
       "66305                    IL                     D  NO INDICATION OF INJURY   \n",
       "66306                    IL                     D  NO INDICATION OF INJURY   \n",
       "\n",
       "              DRIVER_ACTION DRIVER_VISION PHYSICAL_CONDITION  \n",
       "30406                  NONE  NOT OBSCURED             NORMAL  \n",
       "66226  IMPROPER LANE CHANGE  NOT OBSCURED             NORMAL  \n",
       "66227                  NONE  NOT OBSCURED             NORMAL  \n",
       "66228                  NONE  NOT OBSCURED             NORMAL  \n",
       "66229                  NONE  NOT OBSCURED             NORMAL  \n",
       "66230                  NONE  NOT OBSCURED             NORMAL  \n",
       "66231                  NONE  NOT OBSCURED             NORMAL  \n",
       "66302  IMPROPER LANE CHANGE  NOT OBSCURED             NORMAL  \n",
       "66303                  NONE  NOT OBSCURED             NORMAL  \n",
       "66304                  NONE  NOT OBSCURED             NORMAL  \n",
       "66305                  NONE  NOT OBSCURED             NORMAL  \n",
       "66306                  NONE  NOT OBSCURED             NORMAL  "
      ]
     },
     "execution_count": 153,
     "metadata": {},
     "output_type": "execute_result"
    }
   ],
   "source": [
    "people.loc[(people['CRASH_RECORD_ID'] == first_id) & (people['PERSON_TYPE'] == 'DRIVER')]"
   ]
  },
  {
   "cell_type": "markdown",
   "metadata": {},
   "source": [
    "new approach to quickly count the number of inconsistent crashes"
   ]
  },
  {
   "cell_type": "code",
   "execution_count": 165,
   "metadata": {},
   "outputs": [],
   "source": [
    "drivers_per_crash = people[people['PERSON_TYPE'] == 'DRIVER'].groupby('CRASH_RECORD_ID').size().reset_index(name='DRIVER_COUNT')\n"
   ]
  },
  {
   "cell_type": "code",
   "execution_count": 166,
   "metadata": {},
   "outputs": [],
   "source": [
    "crash_driver_comparison = crashes[['CRASH_RECORD_ID', 'NUM_UNITS']].merge(drivers_per_crash, on='CRASH_RECORD_ID', how='left')\n"
   ]
  },
  {
   "cell_type": "code",
   "execution_count": 170,
   "metadata": {},
   "outputs": [],
   "source": [
    "inconsistent_crashes = crash_driver_comparison[crash_driver_comparison['NUM_UNITS'] != crash_driver_comparison['DRIVER_COUNT']]\n"
   ]
  },
  {
   "cell_type": "code",
   "execution_count": 171,
   "metadata": {},
   "outputs": [
    {
     "name": "stdout",
     "output_type": "stream",
     "text": [
      "Total crashes with mismatched vehicle-driver count: 249502\n",
      "Mismatch Rate: 29.30%\n"
     ]
    }
   ],
   "source": [
    "print(f\"Total crashes with mismatched vehicle-driver count: {inconsistent_crashes.shape[0]}\")\n",
    "\n",
    "# Percentage of mismatches\n",
    "mismatch_rate = inconsistent_crashes.shape[0] / crash_driver_comparison.shape[0] * 100\n",
    "print(f\"Mismatch Rate: {mismatch_rate:.2f}%\")\n"
   ]
  },
  {
   "cell_type": "code",
   "execution_count": 173,
   "metadata": {},
   "outputs": [
    {
     "name": "stdout",
     "output_type": "stream",
     "text": [
      "Total crashes with mismatched vehicle-driver count: 1394\n",
      "Mismatch Rate: 0.16%\n"
     ]
    }
   ],
   "source": [
    "inconsistent_crashes = inconsistent_crashes[inconsistent_crashes['DRIVER_COUNT'] > inconsistent_crashes['NUM_UNITS']]\n",
    "print(f\"Total crashes with mismatched vehicle-driver count: {inconsistent_crashes.shape[0]}\")\n",
    "\n",
    "# Percentage of mismatches\n",
    "mismatch_rate = inconsistent_crashes.shape[0] / crash_driver_comparison.shape[0] * 100\n",
    "print(f\"Mismatch Rate: {mismatch_rate:.2f}%\")\n",
    "\n"
   ]
  },
  {
   "cell_type": "code",
   "execution_count": 202,
   "metadata": {},
   "outputs": [],
   "source": [
    "# subset of people coinvolted in the inconsistent crashes\n",
    "inconsistent_people = people[people['CRASH_RECORD_ID'].isin(inconsistent_crashes['CRASH_RECORD_ID'])]"
   ]
  },
  {
   "cell_type": "code",
   "execution_count": 174,
   "metadata": {},
   "outputs": [],
   "source": [
    "# list of the crash record IDs with mismatched vehicle-driver count\n",
    "inconsistent_crash_ids = inconsistent_crashes['CRASH_RECORD_ID'].tolist()\n",
    "\n",
    "# subset of the data with only the inconsistent crash records\n",
    "crashes_subset = crashes[crashes['CRASH_RECORD_ID'].isin(inconsistent_crash_ids)]\n",
    "people_subset = people[people['CRASH_RECORD_ID'].isin(inconsistent_crash_ids)]\n"
   ]
  },
  {
   "cell_type": "code",
   "execution_count": 175,
   "metadata": {},
   "outputs": [
    {
     "data": {
      "text/html": [
       "<div>\n",
       "<style scoped>\n",
       "    .dataframe tbody tr th:only-of-type {\n",
       "        vertical-align: middle;\n",
       "    }\n",
       "\n",
       "    .dataframe tbody tr th {\n",
       "        vertical-align: top;\n",
       "    }\n",
       "\n",
       "    .dataframe thead th {\n",
       "        text-align: right;\n",
       "    }\n",
       "</style>\n",
       "<table border=\"1\" class=\"dataframe\">\n",
       "  <thead>\n",
       "    <tr style=\"text-align: right;\">\n",
       "      <th></th>\n",
       "      <th>CRASH_RECORD_ID</th>\n",
       "      <th>CRASH_DATE</th>\n",
       "      <th>POSTED_SPEED_LIMIT</th>\n",
       "      <th>WEATHER_SEVERITY</th>\n",
       "      <th>LIGHTING_SEVERITY</th>\n",
       "      <th>FIRST_CRASH_TYPE</th>\n",
       "      <th>TRAFFICWAY_TYPE</th>\n",
       "      <th>ALIGNMENT</th>\n",
       "      <th>ROADWAY_SEVERITY</th>\n",
       "      <th>CRASH_TYPE</th>\n",
       "      <th>DAMAGE_SEVERITY</th>\n",
       "      <th>PRIM_CONTRIBUTORY_CAUSE</th>\n",
       "      <th>SEC_CONTRIBUTORY_CAUSE</th>\n",
       "      <th>BEAT_OF_OCCURRENCE</th>\n",
       "      <th>STREET_NO</th>\n",
       "      <th>STREET_DIRECTION</th>\n",
       "      <th>STREET_NAME</th>\n",
       "      <th>LATITUDE</th>\n",
       "      <th>LONGITUDE</th>\n",
       "      <th>NUM_UNITS</th>\n",
       "      <th>MOST_SEVERE_INJURY</th>\n",
       "      <th>INJURIES_TOTAL</th>\n",
       "      <th>INJURIES_FATAL</th>\n",
       "      <th>INJURIES_INCAPACITATING</th>\n",
       "      <th>INJURIES_NON_INCAPACITATING</th>\n",
       "      <th>INJURIES_REPORTED_NOT_EVIDENT</th>\n",
       "    </tr>\n",
       "  </thead>\n",
       "  <tbody>\n",
       "    <tr>\n",
       "      <th>801588</th>\n",
       "      <td>ec4efa4db1fbbe74d46a61d4a4389a746bc4323322a35c...</td>\n",
       "      <td>2023-06-13 13:45:00</td>\n",
       "      <td>30</td>\n",
       "      <td>2</td>\n",
       "      <td>0</td>\n",
       "      <td>REAR END</td>\n",
       "      <td>NOT DIVIDED</td>\n",
       "      <td>STRAIGHT AND LEVEL</td>\n",
       "      <td>-1</td>\n",
       "      <td>NO INJURY / DRIVE AWAY</td>\n",
       "      <td>2</td>\n",
       "      <td>UNABLE TO DETERMINE</td>\n",
       "      <td>UNABLE TO DETERMINE</td>\n",
       "      <td>1912.0</td>\n",
       "      <td>4033</td>\n",
       "      <td>N</td>\n",
       "      <td>ASHLAND AVE</td>\n",
       "      <td>41.955297</td>\n",
       "      <td>-87.668930</td>\n",
       "      <td>2</td>\n",
       "      <td>NO INDICATION OF INJURY</td>\n",
       "      <td>0.0</td>\n",
       "      <td>0.0</td>\n",
       "      <td>0.0</td>\n",
       "      <td>0.0</td>\n",
       "      <td>0.0</td>\n",
       "    </tr>\n",
       "    <tr>\n",
       "      <th>801712</th>\n",
       "      <td>081f0e00b5d7ea0545ca0ba6b01ef878329b0f6cfdd68a...</td>\n",
       "      <td>2020-05-06 10:45:00</td>\n",
       "      <td>30</td>\n",
       "      <td>0</td>\n",
       "      <td>0</td>\n",
       "      <td>REAR END</td>\n",
       "      <td>NOT DIVIDED</td>\n",
       "      <td>STRAIGHT AND LEVEL</td>\n",
       "      <td>0</td>\n",
       "      <td>NO INJURY / DRIVE AWAY</td>\n",
       "      <td>1</td>\n",
       "      <td>NOT APPLICABLE</td>\n",
       "      <td>NOT APPLICABLE</td>\n",
       "      <td>1513.0</td>\n",
       "      <td>200</td>\n",
       "      <td>S</td>\n",
       "      <td>CENTRAL AVE</td>\n",
       "      <td>41.877734</td>\n",
       "      <td>-87.764917</td>\n",
       "      <td>2</td>\n",
       "      <td>NO INDICATION OF INJURY</td>\n",
       "      <td>0.0</td>\n",
       "      <td>0.0</td>\n",
       "      <td>0.0</td>\n",
       "      <td>0.0</td>\n",
       "      <td>0.0</td>\n",
       "    </tr>\n",
       "    <tr>\n",
       "      <th>801799</th>\n",
       "      <td>4b1ddc701441ee9d83ffab2ec6553a047de2603c0d9b43...</td>\n",
       "      <td>2019-10-09 10:16:00</td>\n",
       "      <td>35</td>\n",
       "      <td>0</td>\n",
       "      <td>0</td>\n",
       "      <td>TURNING</td>\n",
       "      <td>NOT DIVIDED</td>\n",
       "      <td>STRAIGHT AND LEVEL</td>\n",
       "      <td>0</td>\n",
       "      <td>NO INJURY / DRIVE AWAY</td>\n",
       "      <td>0</td>\n",
       "      <td>UNABLE TO DETERMINE</td>\n",
       "      <td>NOT APPLICABLE</td>\n",
       "      <td>411.0</td>\n",
       "      <td>7825</td>\n",
       "      <td>S</td>\n",
       "      <td>STONY ISLAND AVE</td>\n",
       "      <td>41.752532</td>\n",
       "      <td>-87.585338</td>\n",
       "      <td>2</td>\n",
       "      <td>NO INDICATION OF INJURY</td>\n",
       "      <td>0.0</td>\n",
       "      <td>0.0</td>\n",
       "      <td>0.0</td>\n",
       "      <td>0.0</td>\n",
       "      <td>0.0</td>\n",
       "    </tr>\n",
       "    <tr>\n",
       "      <th>801825</th>\n",
       "      <td>60a1c92b854107c1dccaa6a0ac294c63f1636f13eb037b...</td>\n",
       "      <td>2023-07-24 13:30:00</td>\n",
       "      <td>25</td>\n",
       "      <td>0</td>\n",
       "      <td>0</td>\n",
       "      <td>REAR END</td>\n",
       "      <td>NOT DIVIDED</td>\n",
       "      <td>STRAIGHT AND LEVEL</td>\n",
       "      <td>0</td>\n",
       "      <td>NO INJURY / DRIVE AWAY</td>\n",
       "      <td>0</td>\n",
       "      <td>UNABLE TO DETERMINE</td>\n",
       "      <td>UNABLE TO DETERMINE</td>\n",
       "      <td>1225.0</td>\n",
       "      <td>702</td>\n",
       "      <td>S</td>\n",
       "      <td>DAMEN AVE</td>\n",
       "      <td>0.000000</td>\n",
       "      <td>0.000000</td>\n",
       "      <td>2</td>\n",
       "      <td>NO INDICATION OF INJURY</td>\n",
       "      <td>0.0</td>\n",
       "      <td>0.0</td>\n",
       "      <td>0.0</td>\n",
       "      <td>0.0</td>\n",
       "      <td>0.0</td>\n",
       "    </tr>\n",
       "    <tr>\n",
       "      <th>801877</th>\n",
       "      <td>8e5e9ec078b5de00d9a5831ec28815ddbb2b9bd43856d6...</td>\n",
       "      <td>2020-03-20 09:20:00</td>\n",
       "      <td>30</td>\n",
       "      <td>0</td>\n",
       "      <td>0</td>\n",
       "      <td>REAR END</td>\n",
       "      <td>NOT DIVIDED</td>\n",
       "      <td>STRAIGHT AND LEVEL</td>\n",
       "      <td>0</td>\n",
       "      <td>NO INJURY / DRIVE AWAY</td>\n",
       "      <td>1</td>\n",
       "      <td>NOT APPLICABLE</td>\n",
       "      <td>NOT APPLICABLE</td>\n",
       "      <td>1033.0</td>\n",
       "      <td>2200</td>\n",
       "      <td>S</td>\n",
       "      <td>CALIFORNIA AVE</td>\n",
       "      <td>41.851854</td>\n",
       "      <td>-87.695591</td>\n",
       "      <td>2</td>\n",
       "      <td>NO INDICATION OF INJURY</td>\n",
       "      <td>0.0</td>\n",
       "      <td>0.0</td>\n",
       "      <td>0.0</td>\n",
       "      <td>0.0</td>\n",
       "      <td>0.0</td>\n",
       "    </tr>\n",
       "  </tbody>\n",
       "</table>\n",
       "</div>"
      ],
      "text/plain": [
       "                                          CRASH_RECORD_ID  \\\n",
       "801588  ec4efa4db1fbbe74d46a61d4a4389a746bc4323322a35c...   \n",
       "801712  081f0e00b5d7ea0545ca0ba6b01ef878329b0f6cfdd68a...   \n",
       "801799  4b1ddc701441ee9d83ffab2ec6553a047de2603c0d9b43...   \n",
       "801825  60a1c92b854107c1dccaa6a0ac294c63f1636f13eb037b...   \n",
       "801877  8e5e9ec078b5de00d9a5831ec28815ddbb2b9bd43856d6...   \n",
       "\n",
       "                 CRASH_DATE  POSTED_SPEED_LIMIT  WEATHER_SEVERITY  \\\n",
       "801588  2023-06-13 13:45:00                  30                 2   \n",
       "801712  2020-05-06 10:45:00                  30                 0   \n",
       "801799  2019-10-09 10:16:00                  35                 0   \n",
       "801825  2023-07-24 13:30:00                  25                 0   \n",
       "801877  2020-03-20 09:20:00                  30                 0   \n",
       "\n",
       "        LIGHTING_SEVERITY FIRST_CRASH_TYPE TRAFFICWAY_TYPE  \\\n",
       "801588                  0         REAR END     NOT DIVIDED   \n",
       "801712                  0         REAR END     NOT DIVIDED   \n",
       "801799                  0          TURNING     NOT DIVIDED   \n",
       "801825                  0         REAR END     NOT DIVIDED   \n",
       "801877                  0         REAR END     NOT DIVIDED   \n",
       "\n",
       "                 ALIGNMENT  ROADWAY_SEVERITY              CRASH_TYPE  \\\n",
       "801588  STRAIGHT AND LEVEL                -1  NO INJURY / DRIVE AWAY   \n",
       "801712  STRAIGHT AND LEVEL                 0  NO INJURY / DRIVE AWAY   \n",
       "801799  STRAIGHT AND LEVEL                 0  NO INJURY / DRIVE AWAY   \n",
       "801825  STRAIGHT AND LEVEL                 0  NO INJURY / DRIVE AWAY   \n",
       "801877  STRAIGHT AND LEVEL                 0  NO INJURY / DRIVE AWAY   \n",
       "\n",
       "        DAMAGE_SEVERITY PRIM_CONTRIBUTORY_CAUSE SEC_CONTRIBUTORY_CAUSE  \\\n",
       "801588                2     UNABLE TO DETERMINE    UNABLE TO DETERMINE   \n",
       "801712                1          NOT APPLICABLE         NOT APPLICABLE   \n",
       "801799                0     UNABLE TO DETERMINE         NOT APPLICABLE   \n",
       "801825                0     UNABLE TO DETERMINE    UNABLE TO DETERMINE   \n",
       "801877                1          NOT APPLICABLE         NOT APPLICABLE   \n",
       "\n",
       "        BEAT_OF_OCCURRENCE  STREET_NO STREET_DIRECTION       STREET_NAME  \\\n",
       "801588              1912.0       4033                N       ASHLAND AVE   \n",
       "801712              1513.0        200                S       CENTRAL AVE   \n",
       "801799               411.0       7825                S  STONY ISLAND AVE   \n",
       "801825              1225.0        702                S         DAMEN AVE   \n",
       "801877              1033.0       2200                S    CALIFORNIA AVE   \n",
       "\n",
       "         LATITUDE  LONGITUDE  NUM_UNITS       MOST_SEVERE_INJURY  \\\n",
       "801588  41.955297 -87.668930          2  NO INDICATION OF INJURY   \n",
       "801712  41.877734 -87.764917          2  NO INDICATION OF INJURY   \n",
       "801799  41.752532 -87.585338          2  NO INDICATION OF INJURY   \n",
       "801825   0.000000   0.000000          2  NO INDICATION OF INJURY   \n",
       "801877  41.851854 -87.695591          2  NO INDICATION OF INJURY   \n",
       "\n",
       "        INJURIES_TOTAL  INJURIES_FATAL  INJURIES_INCAPACITATING  \\\n",
       "801588             0.0             0.0                      0.0   \n",
       "801712             0.0             0.0                      0.0   \n",
       "801799             0.0             0.0                      0.0   \n",
       "801825             0.0             0.0                      0.0   \n",
       "801877             0.0             0.0                      0.0   \n",
       "\n",
       "        INJURIES_NON_INCAPACITATING  INJURIES_REPORTED_NOT_EVIDENT  \n",
       "801588                          0.0                            0.0  \n",
       "801712                          0.0                            0.0  \n",
       "801799                          0.0                            0.0  \n",
       "801825                          0.0                            0.0  \n",
       "801877                          0.0                            0.0  "
      ]
     },
     "execution_count": 175,
     "metadata": {},
     "output_type": "execute_result"
    }
   ],
   "source": [
    "crashes_subset.head()"
   ]
  },
  {
   "cell_type": "code",
   "execution_count": 182,
   "metadata": {},
   "outputs": [],
   "source": [
    "last_id = crashes_subset['CRASH_RECORD_ID'].iloc[-1]"
   ]
  },
  {
   "cell_type": "code",
   "execution_count": 183,
   "metadata": {},
   "outputs": [
    {
     "data": {
      "text/html": [
       "<div>\n",
       "<style scoped>\n",
       "    .dataframe tbody tr th:only-of-type {\n",
       "        vertical-align: middle;\n",
       "    }\n",
       "\n",
       "    .dataframe tbody tr th {\n",
       "        vertical-align: top;\n",
       "    }\n",
       "\n",
       "    .dataframe thead th {\n",
       "        text-align: right;\n",
       "    }\n",
       "</style>\n",
       "<table border=\"1\" class=\"dataframe\">\n",
       "  <thead>\n",
       "    <tr style=\"text-align: right;\">\n",
       "      <th></th>\n",
       "      <th>CRASH_RECORD_ID</th>\n",
       "      <th>CRASH_DATE</th>\n",
       "      <th>POSTED_SPEED_LIMIT</th>\n",
       "      <th>WEATHER_SEVERITY</th>\n",
       "      <th>LIGHTING_SEVERITY</th>\n",
       "      <th>FIRST_CRASH_TYPE</th>\n",
       "      <th>TRAFFICWAY_TYPE</th>\n",
       "      <th>ALIGNMENT</th>\n",
       "      <th>ROADWAY_SEVERITY</th>\n",
       "      <th>CRASH_TYPE</th>\n",
       "      <th>DAMAGE_SEVERITY</th>\n",
       "      <th>PRIM_CONTRIBUTORY_CAUSE</th>\n",
       "      <th>SEC_CONTRIBUTORY_CAUSE</th>\n",
       "      <th>BEAT_OF_OCCURRENCE</th>\n",
       "      <th>STREET_NO</th>\n",
       "      <th>STREET_DIRECTION</th>\n",
       "      <th>STREET_NAME</th>\n",
       "      <th>LATITUDE</th>\n",
       "      <th>LONGITUDE</th>\n",
       "      <th>NUM_UNITS</th>\n",
       "      <th>MOST_SEVERE_INJURY</th>\n",
       "      <th>INJURIES_TOTAL</th>\n",
       "      <th>INJURIES_FATAL</th>\n",
       "      <th>INJURIES_INCAPACITATING</th>\n",
       "      <th>INJURIES_NON_INCAPACITATING</th>\n",
       "      <th>INJURIES_REPORTED_NOT_EVIDENT</th>\n",
       "    </tr>\n",
       "  </thead>\n",
       "  <tbody>\n",
       "    <tr>\n",
       "      <th>851619</th>\n",
       "      <td>67dd84a904e46800b722c9f368de8b3e634864ff30099a...</td>\n",
       "      <td>2019-03-04 18:40:00</td>\n",
       "      <td>30</td>\n",
       "      <td>0</td>\n",
       "      <td>1</td>\n",
       "      <td>TURNING</td>\n",
       "      <td>NOT DIVIDED</td>\n",
       "      <td>STRAIGHT AND LEVEL</td>\n",
       "      <td>0</td>\n",
       "      <td>NO INJURY / DRIVE AWAY</td>\n",
       "      <td>2</td>\n",
       "      <td>UNABLE TO DETERMINE</td>\n",
       "      <td>UNABLE TO DETERMINE</td>\n",
       "      <td>1723.0</td>\n",
       "      <td>3958</td>\n",
       "      <td>W</td>\n",
       "      <td>IRVING PARK RD</td>\n",
       "      <td>41.95376</td>\n",
       "      <td>-87.72748</td>\n",
       "      <td>2</td>\n",
       "      <td>NO INDICATION OF INJURY</td>\n",
       "      <td>0.0</td>\n",
       "      <td>0.0</td>\n",
       "      <td>0.0</td>\n",
       "      <td>0.0</td>\n",
       "      <td>0.0</td>\n",
       "    </tr>\n",
       "  </tbody>\n",
       "</table>\n",
       "</div>"
      ],
      "text/plain": [
       "                                          CRASH_RECORD_ID  \\\n",
       "851619  67dd84a904e46800b722c9f368de8b3e634864ff30099a...   \n",
       "\n",
       "                 CRASH_DATE  POSTED_SPEED_LIMIT  WEATHER_SEVERITY  \\\n",
       "851619  2019-03-04 18:40:00                  30                 0   \n",
       "\n",
       "        LIGHTING_SEVERITY FIRST_CRASH_TYPE TRAFFICWAY_TYPE  \\\n",
       "851619                  1          TURNING     NOT DIVIDED   \n",
       "\n",
       "                 ALIGNMENT  ROADWAY_SEVERITY              CRASH_TYPE  \\\n",
       "851619  STRAIGHT AND LEVEL                 0  NO INJURY / DRIVE AWAY   \n",
       "\n",
       "        DAMAGE_SEVERITY PRIM_CONTRIBUTORY_CAUSE SEC_CONTRIBUTORY_CAUSE  \\\n",
       "851619                2     UNABLE TO DETERMINE    UNABLE TO DETERMINE   \n",
       "\n",
       "        BEAT_OF_OCCURRENCE  STREET_NO STREET_DIRECTION     STREET_NAME  \\\n",
       "851619              1723.0       3958                W  IRVING PARK RD   \n",
       "\n",
       "        LATITUDE  LONGITUDE  NUM_UNITS       MOST_SEVERE_INJURY  \\\n",
       "851619  41.95376  -87.72748          2  NO INDICATION OF INJURY   \n",
       "\n",
       "        INJURIES_TOTAL  INJURIES_FATAL  INJURIES_INCAPACITATING  \\\n",
       "851619             0.0             0.0                      0.0   \n",
       "\n",
       "        INJURIES_NON_INCAPACITATING  INJURIES_REPORTED_NOT_EVIDENT  \n",
       "851619                          0.0                            0.0  "
      ]
     },
     "execution_count": 183,
     "metadata": {},
     "output_type": "execute_result"
    }
   ],
   "source": [
    "crashes_subset.loc[crashes_subset['CRASH_RECORD_ID'] == last_id]"
   ]
  },
  {
   "cell_type": "code",
   "execution_count": 184,
   "metadata": {},
   "outputs": [
    {
     "data": {
      "text/html": [
       "<div>\n",
       "<style scoped>\n",
       "    .dataframe tbody tr th:only-of-type {\n",
       "        vertical-align: middle;\n",
       "    }\n",
       "\n",
       "    .dataframe tbody tr th {\n",
       "        vertical-align: top;\n",
       "    }\n",
       "\n",
       "    .dataframe thead th {\n",
       "        text-align: right;\n",
       "    }\n",
       "</style>\n",
       "<table border=\"1\" class=\"dataframe\">\n",
       "  <thead>\n",
       "    <tr style=\"text-align: right;\">\n",
       "      <th></th>\n",
       "      <th>PERSON_ID</th>\n",
       "      <th>PERSON_TYPE</th>\n",
       "      <th>CRASH_RECORD_ID</th>\n",
       "      <th>VEHICLE_ID</th>\n",
       "      <th>CRASH_DATE</th>\n",
       "      <th>CITY</th>\n",
       "      <th>STATE</th>\n",
       "      <th>ZIPCODE</th>\n",
       "      <th>SEX</th>\n",
       "      <th>AGE</th>\n",
       "      <th>DRIVERS_LICENSE_STATE</th>\n",
       "      <th>DRIVERS_LICENSE_CLASS</th>\n",
       "      <th>INJURY_CLASSIFICATION</th>\n",
       "      <th>DRIVER_ACTION</th>\n",
       "      <th>DRIVER_VISION</th>\n",
       "      <th>PHYSICAL_CONDITION</th>\n",
       "    </tr>\n",
       "  </thead>\n",
       "  <tbody>\n",
       "    <tr>\n",
       "      <th>60332</th>\n",
       "      <td>O596295</td>\n",
       "      <td>DRIVER</td>\n",
       "      <td>67dd84a904e46800b722c9f368de8b3e634864ff30099a...</td>\n",
       "      <td>568401.0</td>\n",
       "      <td>2019-03-04 05:00:00</td>\n",
       "      <td>CHICAGO</td>\n",
       "      <td>IL</td>\n",
       "      <td>60639</td>\n",
       "      <td>1.0</td>\n",
       "      <td>42.0</td>\n",
       "      <td>IL</td>\n",
       "      <td>D</td>\n",
       "      <td>NO INDICATION OF INJURY</td>\n",
       "      <td>UNKNOWN</td>\n",
       "      <td>UNKNOWN</td>\n",
       "      <td>UNKNOWN</td>\n",
       "    </tr>\n",
       "    <tr>\n",
       "      <th>63858</th>\n",
       "      <td>O762263</td>\n",
       "      <td>DRIVER</td>\n",
       "      <td>67dd84a904e46800b722c9f368de8b3e634864ff30099a...</td>\n",
       "      <td>NaN</td>\n",
       "      <td>2019-03-04 18:40:00</td>\n",
       "      <td>CHICAGO</td>\n",
       "      <td>IL</td>\n",
       "      <td>60641</td>\n",
       "      <td>1.0</td>\n",
       "      <td>26.0</td>\n",
       "      <td>IL</td>\n",
       "      <td>D</td>\n",
       "      <td>NO INDICATION OF INJURY</td>\n",
       "      <td>UNKNOWN</td>\n",
       "      <td>NOT OBSCURED</td>\n",
       "      <td>NORMAL</td>\n",
       "    </tr>\n",
       "    <tr>\n",
       "      <th>63859</th>\n",
       "      <td>O762264</td>\n",
       "      <td>DRIVER</td>\n",
       "      <td>67dd84a904e46800b722c9f368de8b3e634864ff30099a...</td>\n",
       "      <td>NaN</td>\n",
       "      <td>2019-03-04 18:40:00</td>\n",
       "      <td>CHICAGO</td>\n",
       "      <td>IL</td>\n",
       "      <td>60647</td>\n",
       "      <td>1.0</td>\n",
       "      <td>36.0</td>\n",
       "      <td>IL</td>\n",
       "      <td>DM</td>\n",
       "      <td>NO INDICATION OF INJURY</td>\n",
       "      <td>NONE</td>\n",
       "      <td>NOT OBSCURED</td>\n",
       "      <td>NORMAL</td>\n",
       "    </tr>\n",
       "  </tbody>\n",
       "</table>\n",
       "</div>"
      ],
      "text/plain": [
       "      PERSON_ID PERSON_TYPE  \\\n",
       "60332   O596295      DRIVER   \n",
       "63858   O762263      DRIVER   \n",
       "63859   O762264      DRIVER   \n",
       "\n",
       "                                         CRASH_RECORD_ID  VEHICLE_ID  \\\n",
       "60332  67dd84a904e46800b722c9f368de8b3e634864ff30099a...    568401.0   \n",
       "63858  67dd84a904e46800b722c9f368de8b3e634864ff30099a...         NaN   \n",
       "63859  67dd84a904e46800b722c9f368de8b3e634864ff30099a...         NaN   \n",
       "\n",
       "                CRASH_DATE     CITY STATE ZIPCODE  SEX   AGE  \\\n",
       "60332  2019-03-04 05:00:00  CHICAGO    IL   60639  1.0  42.0   \n",
       "63858  2019-03-04 18:40:00  CHICAGO    IL   60641  1.0  26.0   \n",
       "63859  2019-03-04 18:40:00  CHICAGO    IL   60647  1.0  36.0   \n",
       "\n",
       "      DRIVERS_LICENSE_STATE DRIVERS_LICENSE_CLASS    INJURY_CLASSIFICATION  \\\n",
       "60332                    IL                     D  NO INDICATION OF INJURY   \n",
       "63858                    IL                     D  NO INDICATION OF INJURY   \n",
       "63859                    IL                    DM  NO INDICATION OF INJURY   \n",
       "\n",
       "      DRIVER_ACTION DRIVER_VISION PHYSICAL_CONDITION  \n",
       "60332       UNKNOWN       UNKNOWN            UNKNOWN  \n",
       "63858       UNKNOWN  NOT OBSCURED             NORMAL  \n",
       "63859          NONE  NOT OBSCURED             NORMAL  "
      ]
     },
     "execution_count": 184,
     "metadata": {},
     "output_type": "execute_result"
    }
   ],
   "source": [
    "people_subset[people_subset['CRASH_RECORD_ID'] == last_id]"
   ]
  },
  {
   "cell_type": "markdown",
   "metadata": {},
   "source": [
    "----"
   ]
  },
  {
   "cell_type": "markdown",
   "metadata": {},
   "source": [
    "## Quasi-Identifier for people"
   ]
  },
  {
   "cell_type": "code",
   "execution_count": 192,
   "metadata": {},
   "outputs": [],
   "source": [
    "# define a quasi-id for each person\n",
    "\n",
    "columns_to_identify_people = ['CRASH_DATE', 'CITY', 'STATE', 'ZIPCODE', 'SEX', 'AGE', 'DRIVERS_LICENSE_STATE', 'DRIVERS_LICENSE_CLASS']"
   ]
  },
  {
   "cell_type": "code",
   "execution_count": 193,
   "metadata": {},
   "outputs": [
    {
     "name": "stdout",
     "output_type": "stream",
     "text": [
      "<class 'pandas.core.frame.DataFrame'>\n",
      "RangeIndex: 1451730 entries, 0 to 1451729\n",
      "Data columns (total 16 columns):\n",
      " #   Column                 Non-Null Count    Dtype  \n",
      "---  ------                 --------------    -----  \n",
      " 0   PERSON_ID              1451730 non-null  object \n",
      " 1   PERSON_TYPE            1451730 non-null  object \n",
      " 2   CRASH_RECORD_ID        1451730 non-null  object \n",
      " 3   VEHICLE_ID             1451036 non-null  float64\n",
      " 4   CRASH_DATE             1451730 non-null  object \n",
      " 5   CITY                   1099492 non-null  object \n",
      " 6   STATE                  1085465 non-null  object \n",
      " 7   ZIPCODE                1031013 non-null  object \n",
      " 8   SEX                    1451730 non-null  float64\n",
      " 9   AGE                    1051155 non-null  float64\n",
      " 10  DRIVERS_LICENSE_STATE  1092412 non-null  object \n",
      " 11  DRIVERS_LICENSE_CLASS  902495 non-null   object \n",
      " 12  INJURY_CLASSIFICATION  1451730 non-null  object \n",
      " 13  DRIVER_ACTION          1451730 non-null  object \n",
      " 14  DRIVER_VISION          1451730 non-null  object \n",
      " 15  PHYSICAL_CONDITION     1451730 non-null  object \n",
      "dtypes: float64(3), object(13)\n",
      "memory usage: 177.2+ MB\n"
     ]
    }
   ],
   "source": [
    "people.info()"
   ]
  },
  {
   "cell_type": "code",
   "execution_count": 199,
   "metadata": {},
   "outputs": [],
   "source": [
    "duplicate_check = people.groupby(columns_to_identify_people)['PERSON_ID'].nunique().reset_index()\n"
   ]
  },
  {
   "cell_type": "code",
   "execution_count": 200,
   "metadata": {},
   "outputs": [
    {
     "data": {
      "text/html": [
       "<div>\n",
       "<style scoped>\n",
       "    .dataframe tbody tr th:only-of-type {\n",
       "        vertical-align: middle;\n",
       "    }\n",
       "\n",
       "    .dataframe tbody tr th {\n",
       "        vertical-align: top;\n",
       "    }\n",
       "\n",
       "    .dataframe thead th {\n",
       "        text-align: right;\n",
       "    }\n",
       "</style>\n",
       "<table border=\"1\" class=\"dataframe\">\n",
       "  <thead>\n",
       "    <tr style=\"text-align: right;\">\n",
       "      <th></th>\n",
       "      <th>CRASH_DATE</th>\n",
       "      <th>CITY</th>\n",
       "      <th>STATE</th>\n",
       "      <th>ZIPCODE</th>\n",
       "      <th>SEX</th>\n",
       "      <th>AGE</th>\n",
       "      <th>DRIVERS_LICENSE_STATE</th>\n",
       "      <th>DRIVERS_LICENSE_CLASS</th>\n",
       "      <th>PERSON_ID</th>\n",
       "    </tr>\n",
       "  </thead>\n",
       "  <tbody>\n",
       "    <tr>\n",
       "      <th>819</th>\n",
       "      <td>2017-01-07 20:55:00</td>\n",
       "      <td>CHICAGO</td>\n",
       "      <td>IL</td>\n",
       "      <td>60617</td>\n",
       "      <td>0.0</td>\n",
       "      <td>55.0</td>\n",
       "      <td>IL</td>\n",
       "      <td>D</td>\n",
       "      <td>2</td>\n",
       "    </tr>\n",
       "    <tr>\n",
       "      <th>2161</th>\n",
       "      <td>2017-01-16 18:00:00</td>\n",
       "      <td>CHICAGO</td>\n",
       "      <td>IL</td>\n",
       "      <td>60628</td>\n",
       "      <td>1.0</td>\n",
       "      <td>55.0</td>\n",
       "      <td>IL</td>\n",
       "      <td>D</td>\n",
       "      <td>2</td>\n",
       "    </tr>\n",
       "    <tr>\n",
       "      <th>2441</th>\n",
       "      <td>2017-01-18 16:58:00</td>\n",
       "      <td>CHICAGO</td>\n",
       "      <td>IL</td>\n",
       "      <td>60613</td>\n",
       "      <td>1.0</td>\n",
       "      <td>50.0</td>\n",
       "      <td>IL</td>\n",
       "      <td>D</td>\n",
       "      <td>2</td>\n",
       "    </tr>\n",
       "    <tr>\n",
       "      <th>2442</th>\n",
       "      <td>2017-01-18 16:58:00</td>\n",
       "      <td>CHICAGO</td>\n",
       "      <td>IL</td>\n",
       "      <td>60639</td>\n",
       "      <td>0.0</td>\n",
       "      <td>25.0</td>\n",
       "      <td>IL</td>\n",
       "      <td>D</td>\n",
       "      <td>2</td>\n",
       "    </tr>\n",
       "    <tr>\n",
       "      <th>2507</th>\n",
       "      <td>2017-01-19 08:10:00</td>\n",
       "      <td>CHICAGO</td>\n",
       "      <td>IL</td>\n",
       "      <td>60610</td>\n",
       "      <td>0.0</td>\n",
       "      <td>32.0</td>\n",
       "      <td>IL</td>\n",
       "      <td>D</td>\n",
       "      <td>2</td>\n",
       "    </tr>\n",
       "  </tbody>\n",
       "</table>\n",
       "</div>"
      ],
      "text/plain": [
       "               CRASH_DATE     CITY STATE ZIPCODE  SEX   AGE  \\\n",
       "819   2017-01-07 20:55:00  CHICAGO    IL   60617  0.0  55.0   \n",
       "2161  2017-01-16 18:00:00  CHICAGO    IL   60628  1.0  55.0   \n",
       "2441  2017-01-18 16:58:00  CHICAGO    IL   60613  1.0  50.0   \n",
       "2442  2017-01-18 16:58:00  CHICAGO    IL   60639  0.0  25.0   \n",
       "2507  2017-01-19 08:10:00  CHICAGO    IL   60610  0.0  32.0   \n",
       "\n",
       "     DRIVERS_LICENSE_STATE DRIVERS_LICENSE_CLASS  PERSON_ID  \n",
       "819                     IL                     D          2  \n",
       "2161                    IL                     D          2  \n",
       "2441                    IL                     D          2  \n",
       "2442                    IL                     D          2  \n",
       "2507                    IL                     D          2  "
      ]
     },
     "execution_count": 200,
     "metadata": {},
     "output_type": "execute_result"
    }
   ],
   "source": [
    "potential_duplicates = duplicate_check[duplicate_check['PERSON_ID'] > 1]\n",
    "potential_duplicates.head()"
   ]
  },
  {
   "cell_type": "code",
   "execution_count": 201,
   "metadata": {},
   "outputs": [
    {
     "data": {
      "text/plain": [
       "2967"
      ]
     },
     "execution_count": 201,
     "metadata": {},
     "output_type": "execute_result"
    }
   ],
   "source": [
    "len(potential_duplicates)"
   ]
  },
  {
   "cell_type": "code",
   "execution_count": 203,
   "metadata": {},
   "outputs": [
    {
     "data": {
      "text/plain": [
       "1567"
      ]
     },
     "execution_count": 203,
     "metadata": {},
     "output_type": "execute_result"
    }
   ],
   "source": [
    "# now do the same for inconsistent_people\n",
    "duplicate_check_p = inconsistent_people.groupby(columns_to_identify_people)['PERSON_ID'].nunique().reset_index()\n",
    "\n",
    "potential_duplicates_p = duplicate_check_p[duplicate_check_p['PERSON_ID'] > 1]\n",
    "\n",
    "len(potential_duplicates_p)"
   ]
  },
  {
   "cell_type": "markdown",
   "metadata": {},
   "source": [
    "let's try to cancel the duplicate and check again in how many instances we have more drivers than vehicles"
   ]
  },
  {
   "cell_type": "code",
   "execution_count": 211,
   "metadata": {},
   "outputs": [
    {
     "name": "stdout",
     "output_type": "stream",
     "text": [
      "<class 'pandas.core.frame.DataFrame'>\n",
      "RangeIndex: 1451730 entries, 0 to 1451729\n",
      "Data columns (total 16 columns):\n",
      " #   Column                 Non-Null Count    Dtype  \n",
      "---  ------                 --------------    -----  \n",
      " 0   PERSON_ID              1451730 non-null  object \n",
      " 1   PERSON_TYPE            1451730 non-null  object \n",
      " 2   CRASH_RECORD_ID        1451730 non-null  object \n",
      " 3   VEHICLE_ID             1451036 non-null  float64\n",
      " 4   CRASH_DATE             1451730 non-null  object \n",
      " 5   CITY                   1099492 non-null  object \n",
      " 6   STATE                  1085465 non-null  object \n",
      " 7   ZIPCODE                1031013 non-null  object \n",
      " 8   SEX                    1451730 non-null  float64\n",
      " 9   AGE                    1051155 non-null  float64\n",
      " 10  DRIVERS_LICENSE_STATE  1092412 non-null  object \n",
      " 11  DRIVERS_LICENSE_CLASS  902495 non-null   object \n",
      " 12  INJURY_CLASSIFICATION  1451730 non-null  object \n",
      " 13  DRIVER_ACTION          1451730 non-null  object \n",
      " 14  DRIVER_VISION          1451730 non-null  object \n",
      " 15  PHYSICAL_CONDITION     1451730 non-null  object \n",
      "dtypes: float64(3), object(13)\n",
      "memory usage: 177.2+ MB\n"
     ]
    }
   ],
   "source": [
    "people.info()"
   ]
  },
  {
   "cell_type": "code",
   "execution_count": 212,
   "metadata": {},
   "outputs": [],
   "source": [
    "people_no_duplicates = people.drop_duplicates(subset=columns_to_identify_people)"
   ]
  },
  {
   "cell_type": "code",
   "execution_count": 213,
   "metadata": {},
   "outputs": [
    {
     "name": "stdout",
     "output_type": "stream",
     "text": [
      "<class 'pandas.core.frame.DataFrame'>\n",
      "Index: 1411723 entries, 0 to 1451729\n",
      "Data columns (total 16 columns):\n",
      " #   Column                 Non-Null Count    Dtype  \n",
      "---  ------                 --------------    -----  \n",
      " 0   PERSON_ID              1411723 non-null  object \n",
      " 1   PERSON_TYPE            1411723 non-null  object \n",
      " 2   CRASH_RECORD_ID        1411723 non-null  object \n",
      " 3   VEHICLE_ID             1411221 non-null  float64\n",
      " 4   CRASH_DATE             1411723 non-null  object \n",
      " 5   CITY                   1094927 non-null  object \n",
      " 6   STATE                  1080959 non-null  object \n",
      " 7   ZIPCODE                1027125 non-null  object \n",
      " 8   SEX                    1411723 non-null  float64\n",
      " 9   AGE                    1047380 non-null  float64\n",
      " 10  DRIVERS_LICENSE_STATE  1086870 non-null  object \n",
      " 11  DRIVERS_LICENSE_CLASS  898710 non-null   object \n",
      " 12  INJURY_CLASSIFICATION  1411723 non-null  object \n",
      " 13  DRIVER_ACTION          1411723 non-null  object \n",
      " 14  DRIVER_VISION          1411723 non-null  object \n",
      " 15  PHYSICAL_CONDITION     1411723 non-null  object \n",
      "dtypes: float64(3), object(13)\n",
      "memory usage: 183.1+ MB\n"
     ]
    }
   ],
   "source": [
    "people_no_duplicates.info()"
   ]
  },
  {
   "cell_type": "code",
   "execution_count": 214,
   "metadata": {},
   "outputs": [],
   "source": [
    "drivers_per_crash = people_no_duplicates.groupby('CRASH_RECORD_ID').size().reset_index(name='DRIVER_COUNT')\n"
   ]
  },
  {
   "cell_type": "code",
   "execution_count": 217,
   "metadata": {},
   "outputs": [
    {
     "data": {
      "text/html": [
       "<div>\n",
       "<style scoped>\n",
       "    .dataframe tbody tr th:only-of-type {\n",
       "        vertical-align: middle;\n",
       "    }\n",
       "\n",
       "    .dataframe tbody tr th {\n",
       "        vertical-align: top;\n",
       "    }\n",
       "\n",
       "    .dataframe thead th {\n",
       "        text-align: right;\n",
       "    }\n",
       "</style>\n",
       "<table border=\"1\" class=\"dataframe\">\n",
       "  <thead>\n",
       "    <tr style=\"text-align: right;\">\n",
       "      <th></th>\n",
       "      <th>CRASH_RECORD_ID</th>\n",
       "      <th>DRIVER_COUNT</th>\n",
       "    </tr>\n",
       "  </thead>\n",
       "  <tbody>\n",
       "    <tr>\n",
       "      <th>226503</th>\n",
       "      <td>45ef99d6739c22de4260bc091e70dd495a1fd4d57557f5...</td>\n",
       "      <td>11</td>\n",
       "    </tr>\n",
       "    <tr>\n",
       "      <th>696150</th>\n",
       "      <td>d71effb95c9fa25c60c5f5b5d925de5e79bb5ba483d84e...</td>\n",
       "      <td>10</td>\n",
       "    </tr>\n",
       "    <tr>\n",
       "      <th>401504</th>\n",
       "      <td>7be311dead41c5337cbd12d40bb7be93c505303d6f1cf9...</td>\n",
       "      <td>10</td>\n",
       "    </tr>\n",
       "    <tr>\n",
       "      <th>111746</th>\n",
       "      <td>2294d7387552dd1804e1eddde6b4ce561209f90ede1fb9...</td>\n",
       "      <td>9</td>\n",
       "    </tr>\n",
       "    <tr>\n",
       "      <th>522990</th>\n",
       "      <td>a19b95007379ac8f209cb6e74812f6dfb959bf12f658df...</td>\n",
       "      <td>9</td>\n",
       "    </tr>\n",
       "  </tbody>\n",
       "</table>\n",
       "</div>"
      ],
      "text/plain": [
       "                                          CRASH_RECORD_ID  DRIVER_COUNT\n",
       "226503  45ef99d6739c22de4260bc091e70dd495a1fd4d57557f5...            11\n",
       "696150  d71effb95c9fa25c60c5f5b5d925de5e79bb5ba483d84e...            10\n",
       "401504  7be311dead41c5337cbd12d40bb7be93c505303d6f1cf9...            10\n",
       "111746  2294d7387552dd1804e1eddde6b4ce561209f90ede1fb9...             9\n",
       "522990  a19b95007379ac8f209cb6e74812f6dfb959bf12f658df...             9"
      ]
     },
     "execution_count": 217,
     "metadata": {},
     "output_type": "execute_result"
    }
   ],
   "source": [
    "drivers_per_crash_sorted = drivers_per_crash.sort_values(by='DRIVER_COUNT', ascending=False)\n",
    "drivers_per_crash_sorted.head()"
   ]
  },
  {
   "cell_type": "code",
   "execution_count": 219,
   "metadata": {},
   "outputs": [],
   "source": [
    "crash_driver_comparison = crashes[['CRASH_RECORD_ID', 'NUM_UNITS']].merge(drivers_per_crash, on='CRASH_RECORD_ID', how='left')"
   ]
  },
  {
   "cell_type": "code",
   "execution_count": 221,
   "metadata": {},
   "outputs": [],
   "source": [
    "inconsistent_crashes = crash_driver_comparison[crash_driver_comparison['NUM_UNITS'] < crash_driver_comparison['DRIVER_COUNT']]\n"
   ]
  },
  {
   "cell_type": "code",
   "execution_count": 222,
   "metadata": {},
   "outputs": [
    {
     "name": "stdout",
     "output_type": "stream",
     "text": [
      "Total crashes with mismatched vehicle-driver count: 326\n",
      "Mismatch Rate: 0.04%\n"
     ]
    }
   ],
   "source": [
    "print(f\"Total crashes with mismatched vehicle-driver count: {inconsistent_crashes.shape[0]}\")\n",
    "\n",
    "# Percentage of mismatches\n",
    "mismatch_rate = inconsistent_crashes.shape[0] / crash_driver_comparison.shape[0] * 100\n",
    "print(f\"Mismatch Rate: {mismatch_rate:.2f}%\")"
   ]
  },
  {
   "cell_type": "code",
   "execution_count": 223,
   "metadata": {},
   "outputs": [],
   "source": [
    "# list of the crash record IDs with mismatched vehicle-driver count\n",
    "inconsistent_crash_ids = inconsistent_crashes['CRASH_RECORD_ID'].tolist()\n",
    "\n",
    "# subset of the data with only the inconsistent crash records\n",
    "crashes_subset = crashes[crashes['CRASH_RECORD_ID'].isin(inconsistent_crash_ids)]\n",
    "people_subset = people[people['CRASH_RECORD_ID'].isin(inconsistent_crash_ids)]"
   ]
  },
  {
   "cell_type": "code",
   "execution_count": 224,
   "metadata": {},
   "outputs": [
    {
     "data": {
      "text/html": [
       "<div>\n",
       "<style scoped>\n",
       "    .dataframe tbody tr th:only-of-type {\n",
       "        vertical-align: middle;\n",
       "    }\n",
       "\n",
       "    .dataframe tbody tr th {\n",
       "        vertical-align: top;\n",
       "    }\n",
       "\n",
       "    .dataframe thead th {\n",
       "        text-align: right;\n",
       "    }\n",
       "</style>\n",
       "<table border=\"1\" class=\"dataframe\">\n",
       "  <thead>\n",
       "    <tr style=\"text-align: right;\">\n",
       "      <th></th>\n",
       "      <th>CRASH_RECORD_ID</th>\n",
       "      <th>CRASH_DATE</th>\n",
       "      <th>POSTED_SPEED_LIMIT</th>\n",
       "      <th>WEATHER_SEVERITY</th>\n",
       "      <th>LIGHTING_SEVERITY</th>\n",
       "      <th>FIRST_CRASH_TYPE</th>\n",
       "      <th>TRAFFICWAY_TYPE</th>\n",
       "      <th>ALIGNMENT</th>\n",
       "      <th>ROADWAY_SEVERITY</th>\n",
       "      <th>CRASH_TYPE</th>\n",
       "      <th>DAMAGE_SEVERITY</th>\n",
       "      <th>PRIM_CONTRIBUTORY_CAUSE</th>\n",
       "      <th>SEC_CONTRIBUTORY_CAUSE</th>\n",
       "      <th>BEAT_OF_OCCURRENCE</th>\n",
       "      <th>STREET_NO</th>\n",
       "      <th>STREET_DIRECTION</th>\n",
       "      <th>STREET_NAME</th>\n",
       "      <th>LATITUDE</th>\n",
       "      <th>LONGITUDE</th>\n",
       "      <th>NUM_UNITS</th>\n",
       "      <th>MOST_SEVERE_INJURY</th>\n",
       "      <th>INJURIES_TOTAL</th>\n",
       "      <th>INJURIES_FATAL</th>\n",
       "      <th>INJURIES_INCAPACITATING</th>\n",
       "      <th>INJURIES_NON_INCAPACITATING</th>\n",
       "      <th>INJURIES_REPORTED_NOT_EVIDENT</th>\n",
       "    </tr>\n",
       "  </thead>\n",
       "  <tbody>\n",
       "    <tr>\n",
       "      <th>801877</th>\n",
       "      <td>8e5e9ec078b5de00d9a5831ec28815ddbb2b9bd43856d6...</td>\n",
       "      <td>2020-03-20 09:20:00</td>\n",
       "      <td>30</td>\n",
       "      <td>0</td>\n",
       "      <td>0</td>\n",
       "      <td>REAR END</td>\n",
       "      <td>NOT DIVIDED</td>\n",
       "      <td>STRAIGHT AND LEVEL</td>\n",
       "      <td>0</td>\n",
       "      <td>NO INJURY / DRIVE AWAY</td>\n",
       "      <td>1</td>\n",
       "      <td>NOT APPLICABLE</td>\n",
       "      <td>NOT APPLICABLE</td>\n",
       "      <td>1033.0</td>\n",
       "      <td>2200</td>\n",
       "      <td>S</td>\n",
       "      <td>CALIFORNIA AVE</td>\n",
       "      <td>41.851854</td>\n",
       "      <td>-87.695591</td>\n",
       "      <td>2</td>\n",
       "      <td>NO INDICATION OF INJURY</td>\n",
       "      <td>0.0</td>\n",
       "      <td>0.0</td>\n",
       "      <td>0.0</td>\n",
       "      <td>0.0</td>\n",
       "      <td>0.0</td>\n",
       "    </tr>\n",
       "    <tr>\n",
       "      <th>801920</th>\n",
       "      <td>b447747b75012261346e71cead9a4fdab835b2defcb439...</td>\n",
       "      <td>2019-10-06 11:30:00</td>\n",
       "      <td>15</td>\n",
       "      <td>0</td>\n",
       "      <td>0</td>\n",
       "      <td>ANGLE</td>\n",
       "      <td>OTHER</td>\n",
       "      <td>STRAIGHT AND LEVEL</td>\n",
       "      <td>0</td>\n",
       "      <td>NO INJURY / DRIVE AWAY</td>\n",
       "      <td>1</td>\n",
       "      <td>IMPROPER BACKING</td>\n",
       "      <td>FAILING TO REDUCE SPEED TO AVOID CRASH</td>\n",
       "      <td>2512.0</td>\n",
       "      <td>2333</td>\n",
       "      <td>N</td>\n",
       "      <td>NEVA AVE</td>\n",
       "      <td>41.922128</td>\n",
       "      <td>-87.804211</td>\n",
       "      <td>2</td>\n",
       "      <td>NO INDICATION OF INJURY</td>\n",
       "      <td>0.0</td>\n",
       "      <td>0.0</td>\n",
       "      <td>0.0</td>\n",
       "      <td>0.0</td>\n",
       "      <td>0.0</td>\n",
       "    </tr>\n",
       "    <tr>\n",
       "      <th>801952</th>\n",
       "      <td>cc7f46f2d71b510c80d7791acbf87db10f533261bfda7f...</td>\n",
       "      <td>2023-09-16 17:50:00</td>\n",
       "      <td>30</td>\n",
       "      <td>0</td>\n",
       "      <td>0</td>\n",
       "      <td>ANGLE</td>\n",
       "      <td>FOUR WAY</td>\n",
       "      <td>STRAIGHT AND LEVEL</td>\n",
       "      <td>-1</td>\n",
       "      <td>NO INJURY / DRIVE AWAY</td>\n",
       "      <td>2</td>\n",
       "      <td>UNABLE TO DETERMINE</td>\n",
       "      <td>NOT APPLICABLE</td>\n",
       "      <td>1012.0</td>\n",
       "      <td>1600</td>\n",
       "      <td>S</td>\n",
       "      <td>KOSTNER AVE</td>\n",
       "      <td>41.858682</td>\n",
       "      <td>-87.734881</td>\n",
       "      <td>2</td>\n",
       "      <td>NO INDICATION OF INJURY</td>\n",
       "      <td>0.0</td>\n",
       "      <td>0.0</td>\n",
       "      <td>0.0</td>\n",
       "      <td>0.0</td>\n",
       "      <td>0.0</td>\n",
       "    </tr>\n",
       "    <tr>\n",
       "      <th>802013</th>\n",
       "      <td>54840d25b098da48ce9a495595bc975bb4cea8c2b70d47...</td>\n",
       "      <td>2023-06-18 21:20:00</td>\n",
       "      <td>30</td>\n",
       "      <td>0</td>\n",
       "      <td>2</td>\n",
       "      <td>TURNING</td>\n",
       "      <td>DIVIDED - W/MEDIAN (NOT RAISED)</td>\n",
       "      <td>STRAIGHT AND LEVEL</td>\n",
       "      <td>-1</td>\n",
       "      <td>NO INJURY / DRIVE AWAY</td>\n",
       "      <td>2</td>\n",
       "      <td>IMPROPER TURNING/NO SIGNAL</td>\n",
       "      <td>NOT APPLICABLE</td>\n",
       "      <td>2223.0</td>\n",
       "      <td>1141</td>\n",
       "      <td>W</td>\n",
       "      <td>99TH ST</td>\n",
       "      <td>41.714014</td>\n",
       "      <td>-87.651980</td>\n",
       "      <td>2</td>\n",
       "      <td>NO INDICATION OF INJURY</td>\n",
       "      <td>0.0</td>\n",
       "      <td>0.0</td>\n",
       "      <td>0.0</td>\n",
       "      <td>0.0</td>\n",
       "      <td>0.0</td>\n",
       "    </tr>\n",
       "    <tr>\n",
       "      <th>803240</th>\n",
       "      <td>3845f34b6ef59519258bc690080c4c0fb9c5eef56e2410...</td>\n",
       "      <td>2023-07-05 12:55:00</td>\n",
       "      <td>30</td>\n",
       "      <td>0</td>\n",
       "      <td>0</td>\n",
       "      <td>REAR END</td>\n",
       "      <td>FOUR WAY</td>\n",
       "      <td>STRAIGHT AND LEVEL</td>\n",
       "      <td>0</td>\n",
       "      <td>INJURY AND / OR TOW DUE TO CRASH</td>\n",
       "      <td>2</td>\n",
       "      <td>FOLLOWING TOO CLOSELY</td>\n",
       "      <td>UNABLE TO DETERMINE</td>\n",
       "      <td>835.0</td>\n",
       "      <td>2734</td>\n",
       "      <td>W</td>\n",
       "      <td>87TH ST</td>\n",
       "      <td>41.735492</td>\n",
       "      <td>-87.691071</td>\n",
       "      <td>3</td>\n",
       "      <td>REPORTED, NOT EVIDENT</td>\n",
       "      <td>3.0</td>\n",
       "      <td>0.0</td>\n",
       "      <td>0.0</td>\n",
       "      <td>0.0</td>\n",
       "      <td>3.0</td>\n",
       "    </tr>\n",
       "  </tbody>\n",
       "</table>\n",
       "</div>"
      ],
      "text/plain": [
       "                                          CRASH_RECORD_ID  \\\n",
       "801877  8e5e9ec078b5de00d9a5831ec28815ddbb2b9bd43856d6...   \n",
       "801920  b447747b75012261346e71cead9a4fdab835b2defcb439...   \n",
       "801952  cc7f46f2d71b510c80d7791acbf87db10f533261bfda7f...   \n",
       "802013  54840d25b098da48ce9a495595bc975bb4cea8c2b70d47...   \n",
       "803240  3845f34b6ef59519258bc690080c4c0fb9c5eef56e2410...   \n",
       "\n",
       "                 CRASH_DATE  POSTED_SPEED_LIMIT  WEATHER_SEVERITY  \\\n",
       "801877  2020-03-20 09:20:00                  30                 0   \n",
       "801920  2019-10-06 11:30:00                  15                 0   \n",
       "801952  2023-09-16 17:50:00                  30                 0   \n",
       "802013  2023-06-18 21:20:00                  30                 0   \n",
       "803240  2023-07-05 12:55:00                  30                 0   \n",
       "\n",
       "        LIGHTING_SEVERITY FIRST_CRASH_TYPE                  TRAFFICWAY_TYPE  \\\n",
       "801877                  0         REAR END                      NOT DIVIDED   \n",
       "801920                  0            ANGLE                            OTHER   \n",
       "801952                  0            ANGLE                         FOUR WAY   \n",
       "802013                  2          TURNING  DIVIDED - W/MEDIAN (NOT RAISED)   \n",
       "803240                  0         REAR END                         FOUR WAY   \n",
       "\n",
       "                 ALIGNMENT  ROADWAY_SEVERITY  \\\n",
       "801877  STRAIGHT AND LEVEL                 0   \n",
       "801920  STRAIGHT AND LEVEL                 0   \n",
       "801952  STRAIGHT AND LEVEL                -1   \n",
       "802013  STRAIGHT AND LEVEL                -1   \n",
       "803240  STRAIGHT AND LEVEL                 0   \n",
       "\n",
       "                              CRASH_TYPE  DAMAGE_SEVERITY  \\\n",
       "801877            NO INJURY / DRIVE AWAY                1   \n",
       "801920            NO INJURY / DRIVE AWAY                1   \n",
       "801952            NO INJURY / DRIVE AWAY                2   \n",
       "802013            NO INJURY / DRIVE AWAY                2   \n",
       "803240  INJURY AND / OR TOW DUE TO CRASH                2   \n",
       "\n",
       "           PRIM_CONTRIBUTORY_CAUSE                  SEC_CONTRIBUTORY_CAUSE  \\\n",
       "801877              NOT APPLICABLE                          NOT APPLICABLE   \n",
       "801920            IMPROPER BACKING  FAILING TO REDUCE SPEED TO AVOID CRASH   \n",
       "801952         UNABLE TO DETERMINE                          NOT APPLICABLE   \n",
       "802013  IMPROPER TURNING/NO SIGNAL                          NOT APPLICABLE   \n",
       "803240       FOLLOWING TOO CLOSELY                     UNABLE TO DETERMINE   \n",
       "\n",
       "        BEAT_OF_OCCURRENCE  STREET_NO STREET_DIRECTION     STREET_NAME  \\\n",
       "801877              1033.0       2200                S  CALIFORNIA AVE   \n",
       "801920              2512.0       2333                N        NEVA AVE   \n",
       "801952              1012.0       1600                S     KOSTNER AVE   \n",
       "802013              2223.0       1141                W         99TH ST   \n",
       "803240               835.0       2734                W         87TH ST   \n",
       "\n",
       "         LATITUDE  LONGITUDE  NUM_UNITS       MOST_SEVERE_INJURY  \\\n",
       "801877  41.851854 -87.695591          2  NO INDICATION OF INJURY   \n",
       "801920  41.922128 -87.804211          2  NO INDICATION OF INJURY   \n",
       "801952  41.858682 -87.734881          2  NO INDICATION OF INJURY   \n",
       "802013  41.714014 -87.651980          2  NO INDICATION OF INJURY   \n",
       "803240  41.735492 -87.691071          3    REPORTED, NOT EVIDENT   \n",
       "\n",
       "        INJURIES_TOTAL  INJURIES_FATAL  INJURIES_INCAPACITATING  \\\n",
       "801877             0.0             0.0                      0.0   \n",
       "801920             0.0             0.0                      0.0   \n",
       "801952             0.0             0.0                      0.0   \n",
       "802013             0.0             0.0                      0.0   \n",
       "803240             3.0             0.0                      0.0   \n",
       "\n",
       "        INJURIES_NON_INCAPACITATING  INJURIES_REPORTED_NOT_EVIDENT  \n",
       "801877                          0.0                            0.0  \n",
       "801920                          0.0                            0.0  \n",
       "801952                          0.0                            0.0  \n",
       "802013                          0.0                            0.0  \n",
       "803240                          0.0                            3.0  "
      ]
     },
     "execution_count": 224,
     "metadata": {},
     "output_type": "execute_result"
    }
   ],
   "source": [
    "crashes_subset.head()"
   ]
  },
  {
   "cell_type": "code",
   "execution_count": 228,
   "metadata": {},
   "outputs": [],
   "source": [
    "first = crashes_subset['CRASH_RECORD_ID'].iloc[1]"
   ]
  },
  {
   "cell_type": "code",
   "execution_count": 229,
   "metadata": {},
   "outputs": [
    {
     "data": {
      "text/html": [
       "<div>\n",
       "<style scoped>\n",
       "    .dataframe tbody tr th:only-of-type {\n",
       "        vertical-align: middle;\n",
       "    }\n",
       "\n",
       "    .dataframe tbody tr th {\n",
       "        vertical-align: top;\n",
       "    }\n",
       "\n",
       "    .dataframe thead th {\n",
       "        text-align: right;\n",
       "    }\n",
       "</style>\n",
       "<table border=\"1\" class=\"dataframe\">\n",
       "  <thead>\n",
       "    <tr style=\"text-align: right;\">\n",
       "      <th></th>\n",
       "      <th>CRASH_RECORD_ID</th>\n",
       "      <th>CRASH_DATE</th>\n",
       "      <th>POSTED_SPEED_LIMIT</th>\n",
       "      <th>WEATHER_SEVERITY</th>\n",
       "      <th>LIGHTING_SEVERITY</th>\n",
       "      <th>FIRST_CRASH_TYPE</th>\n",
       "      <th>TRAFFICWAY_TYPE</th>\n",
       "      <th>ALIGNMENT</th>\n",
       "      <th>ROADWAY_SEVERITY</th>\n",
       "      <th>CRASH_TYPE</th>\n",
       "      <th>DAMAGE_SEVERITY</th>\n",
       "      <th>PRIM_CONTRIBUTORY_CAUSE</th>\n",
       "      <th>SEC_CONTRIBUTORY_CAUSE</th>\n",
       "      <th>BEAT_OF_OCCURRENCE</th>\n",
       "      <th>STREET_NO</th>\n",
       "      <th>STREET_DIRECTION</th>\n",
       "      <th>STREET_NAME</th>\n",
       "      <th>LATITUDE</th>\n",
       "      <th>LONGITUDE</th>\n",
       "      <th>NUM_UNITS</th>\n",
       "      <th>MOST_SEVERE_INJURY</th>\n",
       "      <th>INJURIES_TOTAL</th>\n",
       "      <th>INJURIES_FATAL</th>\n",
       "      <th>INJURIES_INCAPACITATING</th>\n",
       "      <th>INJURIES_NON_INCAPACITATING</th>\n",
       "      <th>INJURIES_REPORTED_NOT_EVIDENT</th>\n",
       "    </tr>\n",
       "  </thead>\n",
       "  <tbody>\n",
       "    <tr>\n",
       "      <th>801920</th>\n",
       "      <td>b447747b75012261346e71cead9a4fdab835b2defcb439...</td>\n",
       "      <td>2019-10-06 11:30:00</td>\n",
       "      <td>15</td>\n",
       "      <td>0</td>\n",
       "      <td>0</td>\n",
       "      <td>ANGLE</td>\n",
       "      <td>OTHER</td>\n",
       "      <td>STRAIGHT AND LEVEL</td>\n",
       "      <td>0</td>\n",
       "      <td>NO INJURY / DRIVE AWAY</td>\n",
       "      <td>1</td>\n",
       "      <td>IMPROPER BACKING</td>\n",
       "      <td>FAILING TO REDUCE SPEED TO AVOID CRASH</td>\n",
       "      <td>2512.0</td>\n",
       "      <td>2333</td>\n",
       "      <td>N</td>\n",
       "      <td>NEVA AVE</td>\n",
       "      <td>41.922128</td>\n",
       "      <td>-87.804211</td>\n",
       "      <td>2</td>\n",
       "      <td>NO INDICATION OF INJURY</td>\n",
       "      <td>0.0</td>\n",
       "      <td>0.0</td>\n",
       "      <td>0.0</td>\n",
       "      <td>0.0</td>\n",
       "      <td>0.0</td>\n",
       "    </tr>\n",
       "  </tbody>\n",
       "</table>\n",
       "</div>"
      ],
      "text/plain": [
       "                                          CRASH_RECORD_ID  \\\n",
       "801920  b447747b75012261346e71cead9a4fdab835b2defcb439...   \n",
       "\n",
       "                 CRASH_DATE  POSTED_SPEED_LIMIT  WEATHER_SEVERITY  \\\n",
       "801920  2019-10-06 11:30:00                  15                 0   \n",
       "\n",
       "        LIGHTING_SEVERITY FIRST_CRASH_TYPE TRAFFICWAY_TYPE  \\\n",
       "801920                  0            ANGLE           OTHER   \n",
       "\n",
       "                 ALIGNMENT  ROADWAY_SEVERITY              CRASH_TYPE  \\\n",
       "801920  STRAIGHT AND LEVEL                 0  NO INJURY / DRIVE AWAY   \n",
       "\n",
       "        DAMAGE_SEVERITY PRIM_CONTRIBUTORY_CAUSE  \\\n",
       "801920                1        IMPROPER BACKING   \n",
       "\n",
       "                        SEC_CONTRIBUTORY_CAUSE  BEAT_OF_OCCURRENCE  STREET_NO  \\\n",
       "801920  FAILING TO REDUCE SPEED TO AVOID CRASH              2512.0       2333   \n",
       "\n",
       "       STREET_DIRECTION STREET_NAME   LATITUDE  LONGITUDE  NUM_UNITS  \\\n",
       "801920                N    NEVA AVE  41.922128 -87.804211          2   \n",
       "\n",
       "             MOST_SEVERE_INJURY  INJURIES_TOTAL  INJURIES_FATAL  \\\n",
       "801920  NO INDICATION OF INJURY             0.0             0.0   \n",
       "\n",
       "        INJURIES_INCAPACITATING  INJURIES_NON_INCAPACITATING  \\\n",
       "801920                      0.0                          0.0   \n",
       "\n",
       "        INJURIES_REPORTED_NOT_EVIDENT  \n",
       "801920                            0.0  "
      ]
     },
     "execution_count": 229,
     "metadata": {},
     "output_type": "execute_result"
    }
   ],
   "source": [
    "crashes_subset.loc[crashes_subset['CRASH_RECORD_ID'] == first]"
   ]
  },
  {
   "cell_type": "code",
   "execution_count": 230,
   "metadata": {},
   "outputs": [
    {
     "data": {
      "text/html": [
       "<div>\n",
       "<style scoped>\n",
       "    .dataframe tbody tr th:only-of-type {\n",
       "        vertical-align: middle;\n",
       "    }\n",
       "\n",
       "    .dataframe tbody tr th {\n",
       "        vertical-align: top;\n",
       "    }\n",
       "\n",
       "    .dataframe thead th {\n",
       "        text-align: right;\n",
       "    }\n",
       "</style>\n",
       "<table border=\"1\" class=\"dataframe\">\n",
       "  <thead>\n",
       "    <tr style=\"text-align: right;\">\n",
       "      <th></th>\n",
       "      <th>PERSON_ID</th>\n",
       "      <th>PERSON_TYPE</th>\n",
       "      <th>CRASH_RECORD_ID</th>\n",
       "      <th>VEHICLE_ID</th>\n",
       "      <th>CRASH_DATE</th>\n",
       "      <th>CITY</th>\n",
       "      <th>STATE</th>\n",
       "      <th>ZIPCODE</th>\n",
       "      <th>SEX</th>\n",
       "      <th>AGE</th>\n",
       "      <th>DRIVERS_LICENSE_STATE</th>\n",
       "      <th>DRIVERS_LICENSE_CLASS</th>\n",
       "      <th>INJURY_CLASSIFICATION</th>\n",
       "      <th>DRIVER_ACTION</th>\n",
       "      <th>DRIVER_VISION</th>\n",
       "      <th>PHYSICAL_CONDITION</th>\n",
       "    </tr>\n",
       "  </thead>\n",
       "  <tbody>\n",
       "    <tr>\n",
       "      <th>63699</th>\n",
       "      <td>O754384</td>\n",
       "      <td>DRIVER</td>\n",
       "      <td>b447747b75012261346e71cead9a4fdab835b2defcb439...</td>\n",
       "      <td>716609.0</td>\n",
       "      <td>2019-10-06 11:30:00</td>\n",
       "      <td>UNKNOWN</td>\n",
       "      <td>XX</td>\n",
       "      <td>NaN</td>\n",
       "      <td>1.0</td>\n",
       "      <td>NaN</td>\n",
       "      <td>XX</td>\n",
       "      <td>NaN</td>\n",
       "      <td>NO INDICATION OF INJURY</td>\n",
       "      <td>IMPROPER BACKING</td>\n",
       "      <td>NOT OBSCURED</td>\n",
       "      <td>NORMAL</td>\n",
       "    </tr>\n",
       "    <tr>\n",
       "      <th>63700</th>\n",
       "      <td>O754385</td>\n",
       "      <td>DRIVER</td>\n",
       "      <td>b447747b75012261346e71cead9a4fdab835b2defcb439...</td>\n",
       "      <td>716612.0</td>\n",
       "      <td>2019-10-06 11:30:00</td>\n",
       "      <td>CHICAGO</td>\n",
       "      <td>IL</td>\n",
       "      <td>60707</td>\n",
       "      <td>0.0</td>\n",
       "      <td>NaN</td>\n",
       "      <td>IL</td>\n",
       "      <td>D</td>\n",
       "      <td>NO INDICATION OF INJURY</td>\n",
       "      <td>OTHER</td>\n",
       "      <td>NOT OBSCURED</td>\n",
       "      <td>NORMAL</td>\n",
       "    </tr>\n",
       "    <tr>\n",
       "      <th>64073</th>\n",
       "      <td>O771683</td>\n",
       "      <td>DRIVER</td>\n",
       "      <td>b447747b75012261346e71cead9a4fdab835b2defcb439...</td>\n",
       "      <td>732966.0</td>\n",
       "      <td>2019-10-06 11:30:00</td>\n",
       "      <td>CHICAGO</td>\n",
       "      <td>IL</td>\n",
       "      <td>60707</td>\n",
       "      <td>0.0</td>\n",
       "      <td>NaN</td>\n",
       "      <td>IL</td>\n",
       "      <td>D</td>\n",
       "      <td>NO INDICATION OF INJURY</td>\n",
       "      <td>OTHER</td>\n",
       "      <td>NOT OBSCURED</td>\n",
       "      <td>NORMAL</td>\n",
       "    </tr>\n",
       "    <tr>\n",
       "      <th>898601</th>\n",
       "      <td>O771682</td>\n",
       "      <td>DRIVER</td>\n",
       "      <td>b447747b75012261346e71cead9a4fdab835b2defcb439...</td>\n",
       "      <td>732965.0</td>\n",
       "      <td>2019-10-06 11:30:00</td>\n",
       "      <td>CHICAGO</td>\n",
       "      <td>IL</td>\n",
       "      <td>60707</td>\n",
       "      <td>1.0</td>\n",
       "      <td>64.0</td>\n",
       "      <td>IL</td>\n",
       "      <td>D</td>\n",
       "      <td>NO INDICATION OF INJURY</td>\n",
       "      <td>IMPROPER BACKING</td>\n",
       "      <td>NOT OBSCURED</td>\n",
       "      <td>NORMAL</td>\n",
       "    </tr>\n",
       "  </tbody>\n",
       "</table>\n",
       "</div>"
      ],
      "text/plain": [
       "       PERSON_ID PERSON_TYPE  \\\n",
       "63699    O754384      DRIVER   \n",
       "63700    O754385      DRIVER   \n",
       "64073    O771683      DRIVER   \n",
       "898601   O771682      DRIVER   \n",
       "\n",
       "                                          CRASH_RECORD_ID  VEHICLE_ID  \\\n",
       "63699   b447747b75012261346e71cead9a4fdab835b2defcb439...    716609.0   \n",
       "63700   b447747b75012261346e71cead9a4fdab835b2defcb439...    716612.0   \n",
       "64073   b447747b75012261346e71cead9a4fdab835b2defcb439...    732966.0   \n",
       "898601  b447747b75012261346e71cead9a4fdab835b2defcb439...    732965.0   \n",
       "\n",
       "                 CRASH_DATE     CITY STATE ZIPCODE  SEX   AGE  \\\n",
       "63699   2019-10-06 11:30:00  UNKNOWN    XX     NaN  1.0   NaN   \n",
       "63700   2019-10-06 11:30:00  CHICAGO    IL   60707  0.0   NaN   \n",
       "64073   2019-10-06 11:30:00  CHICAGO    IL   60707  0.0   NaN   \n",
       "898601  2019-10-06 11:30:00  CHICAGO    IL   60707  1.0  64.0   \n",
       "\n",
       "       DRIVERS_LICENSE_STATE DRIVERS_LICENSE_CLASS    INJURY_CLASSIFICATION  \\\n",
       "63699                     XX                   NaN  NO INDICATION OF INJURY   \n",
       "63700                     IL                     D  NO INDICATION OF INJURY   \n",
       "64073                     IL                     D  NO INDICATION OF INJURY   \n",
       "898601                    IL                     D  NO INDICATION OF INJURY   \n",
       "\n",
       "           DRIVER_ACTION DRIVER_VISION PHYSICAL_CONDITION  \n",
       "63699   IMPROPER BACKING  NOT OBSCURED             NORMAL  \n",
       "63700              OTHER  NOT OBSCURED             NORMAL  \n",
       "64073              OTHER  NOT OBSCURED             NORMAL  \n",
       "898601  IMPROPER BACKING  NOT OBSCURED             NORMAL  "
      ]
     },
     "execution_count": 230,
     "metadata": {},
     "output_type": "execute_result"
    }
   ],
   "source": [
    "people_subset[people_subset['CRASH_RECORD_ID'] == first]"
   ]
  },
  {
   "cell_type": "code",
   "execution_count": 231,
   "metadata": {},
   "outputs": [],
   "source": [
    "# drop these inconsisten entries both from people and crashes\n",
    "people = people[~people['CRASH_RECORD_ID'].isin(inconsistent_crash_ids)]\n",
    "\n",
    "crashes = crashes[~crashes['CRASH_RECORD_ID'].isin(inconsistent_crash_ids)]\n",
    "\n",
    "# save to csv\n",
    "people.to_csv('dataset/people_2017.csv', index=False)\n",
    "crashes.to_csv('dataset/crashes_severity_2017.csv', index=False)"
   ]
  }
 ],
 "metadata": {
  "kernelspec": {
   "display_name": ".venv",
   "language": "python",
   "name": "python3"
  },
  "language_info": {
   "codemirror_mode": {
    "name": "ipython",
    "version": 3
   },
   "file_extension": ".py",
   "mimetype": "text/x-python",
   "name": "python",
   "nbconvert_exporter": "python",
   "pygments_lexer": "ipython3",
   "version": "3.10.8"
  }
 },
 "nbformat": 4,
 "nbformat_minor": 2
}
