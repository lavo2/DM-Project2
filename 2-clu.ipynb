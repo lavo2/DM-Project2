{
 "cells": [
  {
   "cell_type": "code",
   "execution_count": 7,
   "metadata": {},
   "outputs": [
    {
     "name": "stdout",
     "output_type": "stream",
     "text": [
      "<itertools.combinations object at 0x000002EBB7A3D9E0>\n"
     ]
    },
    {
     "data": {
      "text/plain": [
       "10"
      ]
     },
     "execution_count": 7,
     "metadata": {},
     "output_type": "execute_result"
    }
   ],
   "source": [
    "from itertools import combinations\n",
    "from sklearn.cluster import KMeans\n",
    "from sklearn.metrics import silhouette_score\n",
    "from sklearn.preprocessing import StandardScaler\n",
    "import pandas as pd\n",
    "from tqdm import tqdm\n",
    "from concurrent.futures import ThreadPoolExecutor\n",
    "\n",
    "df = pd.read_csv('dataset/incident_profile_95.csv')\n",
    "\n",
    "selected_features = ['avg_age', 'avg_weather_severity', 'fatality_rate', 'severe_injury_rate', \n",
    "                     'damage_cost_LB', 'speeding_influence',\n",
    "           'weekend_crash_rate','road_defect_crash_rate','night_crash_rate','avg_responsibility_score']\n",
    "\n",
    "print(combinations(selected_features, 4))\n",
    "len(list(combinations(selected_features, 4)))\n",
    "len(list(combinations(selected_features, 5)))\n",
    "len(list(combinations(selected_features, 6)))\n",
    "len(list(combinations(selected_features, 7)))\n",
    "len(list(combinations(selected_features, 8)))\n",
    "len(list(combinations(selected_features, 9)))"
   ]
  }
 ],
 "metadata": {
  "kernelspec": {
   "display_name": ".venv",
   "language": "python",
   "name": "python3"
  },
  "language_info": {
   "codemirror_mode": {
    "name": "ipython",
    "version": 3
   },
   "file_extension": ".py",
   "mimetype": "text/x-python",
   "name": "python",
   "nbconvert_exporter": "python",
   "pygments_lexer": "ipython3",
   "version": "3.12.6"
  }
 },
 "nbformat": 4,
 "nbformat_minor": 2
}
